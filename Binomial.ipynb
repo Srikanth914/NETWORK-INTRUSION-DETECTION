{
 "cells": [
  {
   "cell_type": "markdown",
   "metadata": {},
   "source": [
    "# Network Intrusion Detection System"
   ]
  },
  {
   "cell_type": "markdown",
   "metadata": {},
   "source": [
    "#### Detection System: Network Intrusion Detection System - CLASSIFICATION MODEL\n",
    "\n",
    "**OBJECTIVE:** To build network intrusion detection system to detect anamolies and attacks in the network. There are two problems.  \n",
    "1. Binomial Classification: Activity is normal or attack \n",
    "2. Multinomial classification: Activity is normal or DOS or PROBE or R2L or U2R \n",
    "\n",
    "##### Bank client data:\n",
    "- age (numeric)\n",
    "- job: type of job (categorical: 'admin.', 'blue-collar', 'entrepreneur', 'housemaid', 'management', 'retired', 'self-employed', 'services', 'student', 'technician', 'unemployed', 'unknown')\n",
    "- marital: marital status (categorical: 'divorced', 'married', 'single', 'unknown'; note: 'divorced' means divorced or widowed)\n",
    "- education (categorical: 'basic.4y', 'basic.6y', 'basic.9y', 'high.school', 'illiterate', 'professional.course', 'university.degree', 'unknown')\n",
    "- default: has credit in default? (categorical: 'no', 'yes', 'unknown')\n",
    "- housing: has housing loan? (categorical: 'no', 'yes', 'unknown')\n",
    "- loan: has personal loan? (categorical: 'no', 'yes', 'unknown')\n",
    "\n",
    "##### Related with the last contact of the current campaign:\n",
    "- contact: contact communication type (categorical: 'cellular', 'telephone')\n",
    "- month: last contact month of year (categorical: 'jan', 'feb', 'mar', ., 'nov', 'dec')\n",
    "- day_of_week: last contact day of the week (categorical: 'mon', 'tue', 'wed', 'thu', 'fri')\n",
    "- duration: last contact duration, in seconds (numeric). Important note: this attribute highly affects the output target (e.g., if duration=0 then y='no'). Yet, the duration is not known before a call is performed. Also, after the end of the call y is obviously known. Thus, this input should only be included for benchmark purposes and should be discarded if the intention is to have a realistic predictive model.\n",
    "\n",
    "##### other attributes:\n",
    "- campaign: number of contacts performed during this campaign and for this client (numeric, includes last contact)\n",
    "- pdays: number of days that passed by after the client was last contacted from a previous campaign (numeric; 999 means client was not previously contacted)\n",
    "- previous: number of contacts performed before this campaign and for this client (numeric)\n",
    "- poutcome: outcome of the previous marketing campaign (categorical: 'failure','nonexistent','success')\n",
    "\n",
    "##### social and economic context attributes\n",
    "- emp.var.rate: employment variation rate - quarterly indicator (numeric)\n",
    "- cons.price.idx: consumer price index - monthly indicator (numeric)     \n",
    "- cons.conf.idx: consumer confidence index - monthly indicator (numeric)     \n",
    "- euribor3m: euribor 3 month rate - daily indicator (numeric)\n",
    "- nr.employed: number of employees - quarterly indicator (numeric)\n",
    "\n",
    "\n",
    "##### Output variable (desired target):\n",
    "- y - has the client subscribed a term deposit? (binary: \"yes\",\"no\")\n",
    "\n",
    "Missing Attribute Values: There are several missing values in some categorical attributes, all coded with the \"unknown\" label. These missing values can be treated as a possible class label or using deletion or imputation techniques.\n",
    "\n",
    "https://archive.ics.uci.edu/ml/datasets/Bank+Marketing"
   ]
  },
  {
   "cell_type": "code",
   "execution_count": 12,
   "metadata": {},
   "outputs": [
    {
     "name": "stderr",
     "output_type": "stream",
     "text": [
      "C:\\ProgramData\\Anaconda3\\lib\\site-packages\\sklearn\\externals\\joblib\\__init__.py:15: DeprecationWarning: sklearn.externals.joblib is deprecated in 0.21 and will be removed in 0.23. Please import this functionality directly from joblib, which can be installed with: pip install joblib. If this warning is raised when loading pickled models, you may need to re-serialize those models with scikit-learn 0.21+.\n",
      "  warnings.warn(msg, category=DeprecationWarning)\n"
     ]
    },
    {
     "data": {
      "text/plain": [
       "<Figure size 432x216 with 0 Axes>"
      ]
     },
     "metadata": {},
     "output_type": "display_data"
    }
   ],
   "source": [
    "#### Packages related to general operating system & warnings\n",
    "import os \n",
    "import warnings\n",
    "warnings.filterwarnings('ignore')\n",
    "\n",
    "#Packages related to data importing, manipulation, exploratory data analysis, data understanding\n",
    "import numpy as np\n",
    "import pandas as pd\n",
    "from pandas import Series, DataFrame\n",
    "import pandas_profiling\n",
    "import scipy.stats as stats\n",
    "\n",
    "#Packages related to data visualizaiton\n",
    "import seaborn as sns\n",
    "import matplotlib.pyplot as plt\n",
    "%matplotlib inline\n",
    "\n",
    "#Setting plot sizes and type of plot\n",
    "plt.rc(\"font\", size=14)\n",
    "plt.rcParams['axes.grid'] = True\n",
    "plt.figure(figsize=(6,3))\n",
    "plt.gray()\n",
    "\n",
    "from matplotlib.backends.backend_pdf import PdfPages\n",
    "\n",
    "#Modules related to split the data & gridsearch\n",
    "from sklearn.model_selection import train_test_split, GridSearchCV\n",
    "\n",
    "#Module related to calculation of metrics\n",
    "from sklearn import metrics\n",
    "\n",
    "#Module related to VIF \n",
    "from statsmodels.stats.outliers_influence import variance_inflation_factor\n",
    "\n",
    "#Modules related to preprocessing (Imputation of missings, standardiszation, new features creation, converting categorical to numerical)\n",
    "from sklearn.impute import MissingIndicator, SimpleImputer\n",
    "from sklearn.preprocessing import Imputer, PolynomialFeatures, KBinsDiscretizer, FunctionTransformer\n",
    "from sklearn.preprocessing import StandardScaler, MinMaxScaler, MaxAbsScaler\n",
    "from sklearn.preprocessing import LabelEncoder, OneHotEncoder, LabelBinarizer, OrdinalEncoder\n",
    "\n",
    "#Moudles related to feature selection\n",
    "from sklearn.feature_selection import RFE, RFECV, SelectKBest, chi2, SelectPercentile, f_classif, mutual_info_classif, f_regression, VarianceThreshold, SelectFromModel, mutual_info_classif, mutual_info_regression, SelectFpr, SelectFdr, SelectFwe\n",
    "\n",
    "\n",
    "#Modules related to pipe line creation for faster processing\n",
    "from sklearn.pipeline import Pipeline\n",
    "from sklearn.pipeline import FeatureUnion\n",
    "#from sklearn.features.transformers import DataFrameSelector\n",
    "\n",
    "#Modules related to saving python objects permanantly\n",
    "from sklearn.externals import joblib\n",
    "\n",
    "#Dumping model into current directory: joblib.dump(model_xg,\"my_model.pkl\") \n",
    "#Loading model: my_model_loaded=joblib.load(\"my_model.pkl\")\n",
    "\n",
    "#Modules related key techniques of supervised learning \n",
    "import statsmodels.formula.api as smf\n",
    "from sklearn.metrics import classification_report\n",
    "from sklearn.linear_model import LogisticRegression, LinearRegression, ElasticNet, Lasso, Ridge\n",
    "from sklearn.neighbors import KNeighborsClassifier, KNeighborsRegressor\n",
    "from sklearn.tree import DecisionTreeClassifier, DecisionTreeRegressor, export_graphviz, export\n",
    "from sklearn.ensemble import BaggingClassifier, BaggingRegressor,RandomForestClassifier,RandomForestRegressor\n",
    "from sklearn.ensemble import GradientBoostingClassifier,GradientBoostingRegressor, AdaBoostClassifier, AdaBoostRegressor \n",
    "from xgboost import XGBClassifier, XGBRegressor\n",
    "from sklearn.naive_bayes import BernoulliNB, MultinomialNB, GaussianNB\n",
    "from sklearn.svm import LinearSVC, LinearSVR, SVC, SVR\n",
    "from sklearn.neural_network import MLPClassifier, MLPRegressor"
   ]
  },
  {
   "cell_type": "code",
   "execution_count": 14,
   "metadata": {},
   "outputs": [],
   "source": [
    "test_data = pd.read_table('Test.txt',sep=\",\")"
   ]
  },
  {
   "cell_type": "code",
   "execution_count": 15,
   "metadata": {},
   "outputs": [
    {
     "data": {
      "text/html": [
       "<div>\n",
       "<style scoped>\n",
       "    .dataframe tbody tr th:only-of-type {\n",
       "        vertical-align: middle;\n",
       "    }\n",
       "\n",
       "    .dataframe tbody tr th {\n",
       "        vertical-align: top;\n",
       "    }\n",
       "\n",
       "    .dataframe thead th {\n",
       "        text-align: right;\n",
       "    }\n",
       "</style>\n",
       "<table border=\"1\" class=\"dataframe\">\n",
       "  <thead>\n",
       "    <tr style=\"text-align: right;\">\n",
       "      <th></th>\n",
       "      <th>0</th>\n",
       "      <th>tcp</th>\n",
       "      <th>private</th>\n",
       "      <th>REJ</th>\n",
       "      <th>0.1</th>\n",
       "      <th>0.2</th>\n",
       "      <th>0.3</th>\n",
       "      <th>0.4</th>\n",
       "      <th>0.5</th>\n",
       "      <th>0.6</th>\n",
       "      <th>...</th>\n",
       "      <th>0.04.1</th>\n",
       "      <th>0.06.1</th>\n",
       "      <th>0.00.3</th>\n",
       "      <th>0.00.4</th>\n",
       "      <th>0.00.5</th>\n",
       "      <th>0.00.6</th>\n",
       "      <th>1.00.2</th>\n",
       "      <th>1.00.3</th>\n",
       "      <th>neptune</th>\n",
       "      <th>21</th>\n",
       "    </tr>\n",
       "  </thead>\n",
       "  <tbody>\n",
       "    <tr>\n",
       "      <td>0</td>\n",
       "      <td>0</td>\n",
       "      <td>tcp</td>\n",
       "      <td>private</td>\n",
       "      <td>REJ</td>\n",
       "      <td>0</td>\n",
       "      <td>0</td>\n",
       "      <td>0</td>\n",
       "      <td>0</td>\n",
       "      <td>0</td>\n",
       "      <td>0</td>\n",
       "      <td>...</td>\n",
       "      <td>0.00</td>\n",
       "      <td>0.06</td>\n",
       "      <td>0.00</td>\n",
       "      <td>0.00</td>\n",
       "      <td>0.0</td>\n",
       "      <td>0.0</td>\n",
       "      <td>1.0</td>\n",
       "      <td>1.0</td>\n",
       "      <td>neptune</td>\n",
       "      <td>21</td>\n",
       "    </tr>\n",
       "    <tr>\n",
       "      <td>1</td>\n",
       "      <td>2</td>\n",
       "      <td>tcp</td>\n",
       "      <td>ftp_data</td>\n",
       "      <td>SF</td>\n",
       "      <td>12983</td>\n",
       "      <td>0</td>\n",
       "      <td>0</td>\n",
       "      <td>0</td>\n",
       "      <td>0</td>\n",
       "      <td>0</td>\n",
       "      <td>...</td>\n",
       "      <td>0.61</td>\n",
       "      <td>0.04</td>\n",
       "      <td>0.61</td>\n",
       "      <td>0.02</td>\n",
       "      <td>0.0</td>\n",
       "      <td>0.0</td>\n",
       "      <td>0.0</td>\n",
       "      <td>0.0</td>\n",
       "      <td>normal</td>\n",
       "      <td>21</td>\n",
       "    </tr>\n",
       "  </tbody>\n",
       "</table>\n",
       "<p>2 rows × 43 columns</p>\n",
       "</div>"
      ],
      "text/plain": [
       "   0  tcp   private  REJ    0.1  0.2  0.3  0.4  0.5  0.6  ...  0.04.1  0.06.1  \\\n",
       "0  0  tcp   private  REJ      0    0    0    0    0    0  ...    0.00    0.06   \n",
       "1  2  tcp  ftp_data   SF  12983    0    0    0    0    0  ...    0.61    0.04   \n",
       "\n",
       "   0.00.3  0.00.4  0.00.5  0.00.6  1.00.2  1.00.3  neptune  21  \n",
       "0    0.00    0.00     0.0     0.0     1.0     1.0  neptune  21  \n",
       "1    0.61    0.02     0.0     0.0     0.0     0.0   normal  21  \n",
       "\n",
       "[2 rows x 43 columns]"
      ]
     },
     "execution_count": 15,
     "metadata": {},
     "output_type": "execute_result"
    }
   ],
   "source": [
    "test_data.head(2)"
   ]
  },
  {
   "cell_type": "code",
   "execution_count": 16,
   "metadata": {},
   "outputs": [],
   "source": [
    "train_data= pd.read_table('Train.txt',sep=\",\")"
   ]
  },
  {
   "cell_type": "code",
   "execution_count": 17,
   "metadata": {},
   "outputs": [
    {
     "data": {
      "text/html": [
       "<div>\n",
       "<style scoped>\n",
       "    .dataframe tbody tr th:only-of-type {\n",
       "        vertical-align: middle;\n",
       "    }\n",
       "\n",
       "    .dataframe tbody tr th {\n",
       "        vertical-align: top;\n",
       "    }\n",
       "\n",
       "    .dataframe thead th {\n",
       "        text-align: right;\n",
       "    }\n",
       "</style>\n",
       "<table border=\"1\" class=\"dataframe\">\n",
       "  <thead>\n",
       "    <tr style=\"text-align: right;\">\n",
       "      <th></th>\n",
       "      <th>0</th>\n",
       "      <th>tcp</th>\n",
       "      <th>ftp_data</th>\n",
       "      <th>SF</th>\n",
       "      <th>491</th>\n",
       "      <th>0.1</th>\n",
       "      <th>0.2</th>\n",
       "      <th>0.3</th>\n",
       "      <th>0.4</th>\n",
       "      <th>0.5</th>\n",
       "      <th>...</th>\n",
       "      <th>0.17.1</th>\n",
       "      <th>0.03</th>\n",
       "      <th>0.17.2</th>\n",
       "      <th>0.00.6</th>\n",
       "      <th>0.00.7</th>\n",
       "      <th>0.00.8</th>\n",
       "      <th>0.05</th>\n",
       "      <th>0.00.9</th>\n",
       "      <th>normal</th>\n",
       "      <th>20</th>\n",
       "    </tr>\n",
       "  </thead>\n",
       "  <tbody>\n",
       "    <tr>\n",
       "      <td>0</td>\n",
       "      <td>0</td>\n",
       "      <td>udp</td>\n",
       "      <td>other</td>\n",
       "      <td>SF</td>\n",
       "      <td>146</td>\n",
       "      <td>0</td>\n",
       "      <td>0</td>\n",
       "      <td>0</td>\n",
       "      <td>0</td>\n",
       "      <td>0</td>\n",
       "      <td>...</td>\n",
       "      <td>0.0</td>\n",
       "      <td>0.60</td>\n",
       "      <td>0.88</td>\n",
       "      <td>0.0</td>\n",
       "      <td>0.0</td>\n",
       "      <td>0.0</td>\n",
       "      <td>0.0</td>\n",
       "      <td>0.0</td>\n",
       "      <td>normal</td>\n",
       "      <td>15</td>\n",
       "    </tr>\n",
       "    <tr>\n",
       "      <td>1</td>\n",
       "      <td>0</td>\n",
       "      <td>tcp</td>\n",
       "      <td>private</td>\n",
       "      <td>S0</td>\n",
       "      <td>0</td>\n",
       "      <td>0</td>\n",
       "      <td>0</td>\n",
       "      <td>0</td>\n",
       "      <td>0</td>\n",
       "      <td>0</td>\n",
       "      <td>...</td>\n",
       "      <td>0.1</td>\n",
       "      <td>0.05</td>\n",
       "      <td>0.00</td>\n",
       "      <td>0.0</td>\n",
       "      <td>1.0</td>\n",
       "      <td>1.0</td>\n",
       "      <td>0.0</td>\n",
       "      <td>0.0</td>\n",
       "      <td>neptune</td>\n",
       "      <td>19</td>\n",
       "    </tr>\n",
       "  </tbody>\n",
       "</table>\n",
       "<p>2 rows × 43 columns</p>\n",
       "</div>"
      ],
      "text/plain": [
       "   0  tcp ftp_data  SF  491  0.1  0.2  0.3  0.4  0.5  ...  0.17.1  0.03  \\\n",
       "0  0  udp    other  SF  146    0    0    0    0    0  ...     0.0  0.60   \n",
       "1  0  tcp  private  S0    0    0    0    0    0    0  ...     0.1  0.05   \n",
       "\n",
       "   0.17.2  0.00.6  0.00.7  0.00.8  0.05  0.00.9   normal  20  \n",
       "0    0.88     0.0     0.0     0.0   0.0     0.0   normal  15  \n",
       "1    0.00     0.0     1.0     1.0   0.0     0.0  neptune  19  \n",
       "\n",
       "[2 rows x 43 columns]"
      ]
     },
     "execution_count": 17,
     "metadata": {},
     "output_type": "execute_result"
    }
   ],
   "source": [
    "train_data.head(2)"
   ]
  },
  {
   "cell_type": "code",
   "execution_count": 18,
   "metadata": {},
   "outputs": [],
   "source": [
    "test_data.columns=[\"duration\",\"protocol_type\",\"service\",\"flag\",\"src_bytes\",\"dst_bytes\",\"land\", \"wrong_fragment\",\"urgent\",\"hot\",\"num_failed_logins\"\n",
    " ,\"logged_in\", \"num_compromised\",\"root_shell\",\"su_attempted\",\"num_root\",\"num_file_creations\", \"num_shells\",\"num_access_files\",\n",
    " \"num_outbound_cmds\",\"is_host_login\", \"is_guest_login\",\"count\",\"srv_count\",\"serror_rate\",\"srv_serror_rate\", \"rerror_rate\",\n",
    " \"srv_rerror_rate\",\"same_srv_rate\", \"diff_srv_rate\",\"srv_diff_host_rate\",\"dst_host_count\",\"dst_host_srv_count\",\n",
    " \"dst_host_same_srv_rate\", \"dst_host_diff_srv_rate\",\"dst_host_same_src_port_rate\", \"dst_host_srv_diff_host_rate\",\n",
    " \"dst_host_serror_rate\",\"dst_host_srv_serror_rate\", \"dst_host_rerror_rate\",\"dst_host_srv_rerror_rate\",\"attack\", \"last_flag\"]"
   ]
  },
  {
   "cell_type": "code",
   "execution_count": 19,
   "metadata": {},
   "outputs": [
    {
     "data": {
      "text/html": [
       "<div>\n",
       "<style scoped>\n",
       "    .dataframe tbody tr th:only-of-type {\n",
       "        vertical-align: middle;\n",
       "    }\n",
       "\n",
       "    .dataframe tbody tr th {\n",
       "        vertical-align: top;\n",
       "    }\n",
       "\n",
       "    .dataframe thead th {\n",
       "        text-align: right;\n",
       "    }\n",
       "</style>\n",
       "<table border=\"1\" class=\"dataframe\">\n",
       "  <thead>\n",
       "    <tr style=\"text-align: right;\">\n",
       "      <th></th>\n",
       "      <th>duration</th>\n",
       "      <th>protocol_type</th>\n",
       "      <th>service</th>\n",
       "      <th>flag</th>\n",
       "      <th>src_bytes</th>\n",
       "      <th>dst_bytes</th>\n",
       "      <th>land</th>\n",
       "      <th>wrong_fragment</th>\n",
       "      <th>urgent</th>\n",
       "      <th>hot</th>\n",
       "      <th>...</th>\n",
       "      <th>dst_host_same_srv_rate</th>\n",
       "      <th>dst_host_diff_srv_rate</th>\n",
       "      <th>dst_host_same_src_port_rate</th>\n",
       "      <th>dst_host_srv_diff_host_rate</th>\n",
       "      <th>dst_host_serror_rate</th>\n",
       "      <th>dst_host_srv_serror_rate</th>\n",
       "      <th>dst_host_rerror_rate</th>\n",
       "      <th>dst_host_srv_rerror_rate</th>\n",
       "      <th>attack</th>\n",
       "      <th>last_flag</th>\n",
       "    </tr>\n",
       "  </thead>\n",
       "  <tbody>\n",
       "    <tr>\n",
       "      <td>0</td>\n",
       "      <td>0</td>\n",
       "      <td>tcp</td>\n",
       "      <td>private</td>\n",
       "      <td>REJ</td>\n",
       "      <td>0</td>\n",
       "      <td>0</td>\n",
       "      <td>0</td>\n",
       "      <td>0</td>\n",
       "      <td>0</td>\n",
       "      <td>0</td>\n",
       "      <td>...</td>\n",
       "      <td>0.00</td>\n",
       "      <td>0.06</td>\n",
       "      <td>0.00</td>\n",
       "      <td>0.00</td>\n",
       "      <td>0.0</td>\n",
       "      <td>0.0</td>\n",
       "      <td>1.0</td>\n",
       "      <td>1.0</td>\n",
       "      <td>neptune</td>\n",
       "      <td>21</td>\n",
       "    </tr>\n",
       "    <tr>\n",
       "      <td>1</td>\n",
       "      <td>2</td>\n",
       "      <td>tcp</td>\n",
       "      <td>ftp_data</td>\n",
       "      <td>SF</td>\n",
       "      <td>12983</td>\n",
       "      <td>0</td>\n",
       "      <td>0</td>\n",
       "      <td>0</td>\n",
       "      <td>0</td>\n",
       "      <td>0</td>\n",
       "      <td>...</td>\n",
       "      <td>0.61</td>\n",
       "      <td>0.04</td>\n",
       "      <td>0.61</td>\n",
       "      <td>0.02</td>\n",
       "      <td>0.0</td>\n",
       "      <td>0.0</td>\n",
       "      <td>0.0</td>\n",
       "      <td>0.0</td>\n",
       "      <td>normal</td>\n",
       "      <td>21</td>\n",
       "    </tr>\n",
       "  </tbody>\n",
       "</table>\n",
       "<p>2 rows × 43 columns</p>\n",
       "</div>"
      ],
      "text/plain": [
       "   duration protocol_type   service flag  src_bytes  dst_bytes  land  \\\n",
       "0         0           tcp   private  REJ          0          0     0   \n",
       "1         2           tcp  ftp_data   SF      12983          0     0   \n",
       "\n",
       "   wrong_fragment  urgent  hot  ...  dst_host_same_srv_rate  \\\n",
       "0               0       0    0  ...                    0.00   \n",
       "1               0       0    0  ...                    0.61   \n",
       "\n",
       "   dst_host_diff_srv_rate  dst_host_same_src_port_rate  \\\n",
       "0                    0.06                         0.00   \n",
       "1                    0.04                         0.61   \n",
       "\n",
       "   dst_host_srv_diff_host_rate  dst_host_serror_rate  \\\n",
       "0                         0.00                   0.0   \n",
       "1                         0.02                   0.0   \n",
       "\n",
       "   dst_host_srv_serror_rate  dst_host_rerror_rate  dst_host_srv_rerror_rate  \\\n",
       "0                       0.0                   1.0                       1.0   \n",
       "1                       0.0                   0.0                       0.0   \n",
       "\n",
       "    attack  last_flag  \n",
       "0  neptune         21  \n",
       "1   normal         21  \n",
       "\n",
       "[2 rows x 43 columns]"
      ]
     },
     "execution_count": 19,
     "metadata": {},
     "output_type": "execute_result"
    }
   ],
   "source": [
    "test_data.head(2)"
   ]
  },
  {
   "cell_type": "code",
   "execution_count": 20,
   "metadata": {},
   "outputs": [
    {
     "data": {
      "text/plain": [
       "Index(['duration', 'protocol_type', 'service', 'flag', 'src_bytes',\n",
       "       'dst_bytes', 'land', 'wrong_fragment', 'urgent', 'hot',\n",
       "       'num_failed_logins', 'logged_in', 'num_compromised', 'root_shell',\n",
       "       'su_attempted', 'num_root', 'num_file_creations', 'num_shells',\n",
       "       'num_access_files', 'num_outbound_cmds', 'is_host_login',\n",
       "       'is_guest_login', 'count', 'srv_count', 'serror_rate',\n",
       "       'srv_serror_rate', 'rerror_rate', 'srv_rerror_rate', 'same_srv_rate',\n",
       "       'diff_srv_rate', 'srv_diff_host_rate', 'dst_host_count',\n",
       "       'dst_host_srv_count', 'dst_host_same_srv_rate',\n",
       "       'dst_host_diff_srv_rate', 'dst_host_same_src_port_rate',\n",
       "       'dst_host_srv_diff_host_rate', 'dst_host_serror_rate',\n",
       "       'dst_host_srv_serror_rate', 'dst_host_rerror_rate',\n",
       "       'dst_host_srv_rerror_rate', 'attack', 'last_flag'],\n",
       "      dtype='object')"
      ]
     },
     "execution_count": 20,
     "metadata": {},
     "output_type": "execute_result"
    }
   ],
   "source": [
    "test_data.columns"
   ]
  },
  {
   "cell_type": "code",
   "execution_count": 21,
   "metadata": {},
   "outputs": [
    {
     "data": {
      "text/plain": [
       "(22543, 43)"
      ]
     },
     "execution_count": 21,
     "metadata": {},
     "output_type": "execute_result"
    }
   ],
   "source": [
    "test_data.shape"
   ]
  },
  {
   "cell_type": "code",
   "execution_count": 22,
   "metadata": {},
   "outputs": [],
   "source": [
    "train_data.columns=[\"duration\",\"protocol_type\",\"service\",\"flag\",\"src_bytes\",\"dst_bytes\",\"land\", \"wrong_fragment\",\"urgent\",\"hot\",\"num_failed_logins\"\n",
    " ,\"logged_in\", \"num_compromised\",\"root_shell\",\"su_attempted\",\"num_root\",\"num_file_creations\", \"num_shells\",\"num_access_files\",\n",
    " \"num_outbound_cmds\",\"is_host_login\", \"is_guest_login\",\"count\",\"srv_count\",\"serror_rate\",\"srv_serror_rate\", \"rerror_rate\",\n",
    " \"srv_rerror_rate\",\"same_srv_rate\", \"diff_srv_rate\",\"srv_diff_host_rate\",\"dst_host_count\",\"dst_host_srv_count\",\n",
    " \"dst_host_same_srv_rate\", \"dst_host_diff_srv_rate\",\"dst_host_same_src_port_rate\", \"dst_host_srv_diff_host_rate\",\n",
    " \"dst_host_serror_rate\",\"dst_host_srv_serror_rate\", \"dst_host_rerror_rate\",\"dst_host_srv_rerror_rate\",\"attack\", \"last_flag\"]"
   ]
  },
  {
   "cell_type": "code",
   "execution_count": 23,
   "metadata": {},
   "outputs": [
    {
     "data": {
      "text/html": [
       "<div>\n",
       "<style scoped>\n",
       "    .dataframe tbody tr th:only-of-type {\n",
       "        vertical-align: middle;\n",
       "    }\n",
       "\n",
       "    .dataframe tbody tr th {\n",
       "        vertical-align: top;\n",
       "    }\n",
       "\n",
       "    .dataframe thead th {\n",
       "        text-align: right;\n",
       "    }\n",
       "</style>\n",
       "<table border=\"1\" class=\"dataframe\">\n",
       "  <thead>\n",
       "    <tr style=\"text-align: right;\">\n",
       "      <th></th>\n",
       "      <th>duration</th>\n",
       "      <th>protocol_type</th>\n",
       "      <th>service</th>\n",
       "      <th>flag</th>\n",
       "      <th>src_bytes</th>\n",
       "      <th>dst_bytes</th>\n",
       "      <th>land</th>\n",
       "      <th>wrong_fragment</th>\n",
       "      <th>urgent</th>\n",
       "      <th>hot</th>\n",
       "      <th>...</th>\n",
       "      <th>dst_host_same_srv_rate</th>\n",
       "      <th>dst_host_diff_srv_rate</th>\n",
       "      <th>dst_host_same_src_port_rate</th>\n",
       "      <th>dst_host_srv_diff_host_rate</th>\n",
       "      <th>dst_host_serror_rate</th>\n",
       "      <th>dst_host_srv_serror_rate</th>\n",
       "      <th>dst_host_rerror_rate</th>\n",
       "      <th>dst_host_srv_rerror_rate</th>\n",
       "      <th>attack</th>\n",
       "      <th>last_flag</th>\n",
       "    </tr>\n",
       "  </thead>\n",
       "  <tbody>\n",
       "    <tr>\n",
       "      <td>0</td>\n",
       "      <td>0</td>\n",
       "      <td>udp</td>\n",
       "      <td>other</td>\n",
       "      <td>SF</td>\n",
       "      <td>146</td>\n",
       "      <td>0</td>\n",
       "      <td>0</td>\n",
       "      <td>0</td>\n",
       "      <td>0</td>\n",
       "      <td>0</td>\n",
       "      <td>...</td>\n",
       "      <td>0.0</td>\n",
       "      <td>0.60</td>\n",
       "      <td>0.88</td>\n",
       "      <td>0.0</td>\n",
       "      <td>0.0</td>\n",
       "      <td>0.0</td>\n",
       "      <td>0.0</td>\n",
       "      <td>0.0</td>\n",
       "      <td>normal</td>\n",
       "      <td>15</td>\n",
       "    </tr>\n",
       "    <tr>\n",
       "      <td>1</td>\n",
       "      <td>0</td>\n",
       "      <td>tcp</td>\n",
       "      <td>private</td>\n",
       "      <td>S0</td>\n",
       "      <td>0</td>\n",
       "      <td>0</td>\n",
       "      <td>0</td>\n",
       "      <td>0</td>\n",
       "      <td>0</td>\n",
       "      <td>0</td>\n",
       "      <td>...</td>\n",
       "      <td>0.1</td>\n",
       "      <td>0.05</td>\n",
       "      <td>0.00</td>\n",
       "      <td>0.0</td>\n",
       "      <td>1.0</td>\n",
       "      <td>1.0</td>\n",
       "      <td>0.0</td>\n",
       "      <td>0.0</td>\n",
       "      <td>neptune</td>\n",
       "      <td>19</td>\n",
       "    </tr>\n",
       "  </tbody>\n",
       "</table>\n",
       "<p>2 rows × 43 columns</p>\n",
       "</div>"
      ],
      "text/plain": [
       "   duration protocol_type  service flag  src_bytes  dst_bytes  land  \\\n",
       "0         0           udp    other   SF        146          0     0   \n",
       "1         0           tcp  private   S0          0          0     0   \n",
       "\n",
       "   wrong_fragment  urgent  hot  ...  dst_host_same_srv_rate  \\\n",
       "0               0       0    0  ...                     0.0   \n",
       "1               0       0    0  ...                     0.1   \n",
       "\n",
       "   dst_host_diff_srv_rate  dst_host_same_src_port_rate  \\\n",
       "0                    0.60                         0.88   \n",
       "1                    0.05                         0.00   \n",
       "\n",
       "   dst_host_srv_diff_host_rate  dst_host_serror_rate  \\\n",
       "0                          0.0                   0.0   \n",
       "1                          0.0                   1.0   \n",
       "\n",
       "   dst_host_srv_serror_rate  dst_host_rerror_rate  dst_host_srv_rerror_rate  \\\n",
       "0                       0.0                   0.0                       0.0   \n",
       "1                       1.0                   0.0                       0.0   \n",
       "\n",
       "    attack  last_flag  \n",
       "0   normal         15  \n",
       "1  neptune         19  \n",
       "\n",
       "[2 rows x 43 columns]"
      ]
     },
     "execution_count": 23,
     "metadata": {},
     "output_type": "execute_result"
    }
   ],
   "source": [
    "train_data.head(2)"
   ]
  },
  {
   "cell_type": "code",
   "execution_count": 24,
   "metadata": {},
   "outputs": [
    {
     "data": {
      "text/plain": [
       "Index(['duration', 'protocol_type', 'service', 'flag', 'src_bytes',\n",
       "       'dst_bytes', 'land', 'wrong_fragment', 'urgent', 'hot',\n",
       "       'num_failed_logins', 'logged_in', 'num_compromised', 'root_shell',\n",
       "       'su_attempted', 'num_root', 'num_file_creations', 'num_shells',\n",
       "       'num_access_files', 'num_outbound_cmds', 'is_host_login',\n",
       "       'is_guest_login', 'count', 'srv_count', 'serror_rate',\n",
       "       'srv_serror_rate', 'rerror_rate', 'srv_rerror_rate', 'same_srv_rate',\n",
       "       'diff_srv_rate', 'srv_diff_host_rate', 'dst_host_count',\n",
       "       'dst_host_srv_count', 'dst_host_same_srv_rate',\n",
       "       'dst_host_diff_srv_rate', 'dst_host_same_src_port_rate',\n",
       "       'dst_host_srv_diff_host_rate', 'dst_host_serror_rate',\n",
       "       'dst_host_srv_serror_rate', 'dst_host_rerror_rate',\n",
       "       'dst_host_srv_rerror_rate', 'attack', 'last_flag'],\n",
       "      dtype='object')"
      ]
     },
     "execution_count": 24,
     "metadata": {},
     "output_type": "execute_result"
    }
   ],
   "source": [
    "train_data.columns"
   ]
  },
  {
   "cell_type": "code",
   "execution_count": 25,
   "metadata": {},
   "outputs": [
    {
     "data": {
      "text/plain": [
       "(125972, 43)"
      ]
     },
     "execution_count": 25,
     "metadata": {},
     "output_type": "execute_result"
    }
   ],
   "source": [
    "train_data.shape"
   ]
  },
  {
   "cell_type": "code",
   "execution_count": 26,
   "metadata": {},
   "outputs": [
    {
     "data": {
      "text/plain": [
       "normal             67342\n",
       "neptune            41214\n",
       "satan               3633\n",
       "ipsweep             3599\n",
       "portsweep           2931\n",
       "smurf               2646\n",
       "nmap                1493\n",
       "back                 956\n",
       "teardrop             892\n",
       "warezclient          890\n",
       "pod                  201\n",
       "guess_passwd          53\n",
       "buffer_overflow       30\n",
       "warezmaster           20\n",
       "land                  18\n",
       "imap                  11\n",
       "rootkit               10\n",
       "loadmodule             9\n",
       "ftp_write              8\n",
       "multihop               7\n",
       "phf                    4\n",
       "perl                   3\n",
       "spy                    2\n",
       "Name: attack, dtype: int64"
      ]
     },
     "execution_count": 26,
     "metadata": {},
     "output_type": "execute_result"
    }
   ],
   "source": [
    "train_data.attack.value_counts()"
   ]
  },
  {
   "cell_type": "code",
   "execution_count": 27,
   "metadata": {},
   "outputs": [],
   "source": [
    "from numpy import where as IF"
   ]
  },
  {
   "cell_type": "code",
   "execution_count": 28,
   "metadata": {},
   "outputs": [],
   "source": [
    "test_data['y_bino']=IF(test_data.attack =='normal',0,1)"
   ]
  },
  {
   "cell_type": "code",
   "execution_count": 29,
   "metadata": {},
   "outputs": [
    {
     "data": {
      "text/plain": [
       "1    12832\n",
       "0     9711\n",
       "Name: y_bino, dtype: int64"
      ]
     },
     "execution_count": 29,
     "metadata": {},
     "output_type": "execute_result"
    }
   ],
   "source": [
    "test_data.y_bino.value_counts()"
   ]
  },
  {
   "cell_type": "code",
   "execution_count": 30,
   "metadata": {},
   "outputs": [],
   "source": [
    "train_data['y_bino'] = IF((train_data.attack=='normal'),0,1)"
   ]
  },
  {
   "cell_type": "code",
   "execution_count": 31,
   "metadata": {
    "scrolled": true
   },
   "outputs": [
    {
     "data": {
      "text/plain": [
       "0    67342\n",
       "1    58630\n",
       "Name: y_bino, dtype: int64"
      ]
     },
     "execution_count": 31,
     "metadata": {},
     "output_type": "execute_result"
    }
   ],
   "source": [
    "train_data.y_bino.value_counts()"
   ]
  },
  {
   "cell_type": "code",
   "execution_count": 32,
   "metadata": {},
   "outputs": [
    {
     "data": {
      "text/html": [
       "<div>\n",
       "<style scoped>\n",
       "    .dataframe tbody tr th:only-of-type {\n",
       "        vertical-align: middle;\n",
       "    }\n",
       "\n",
       "    .dataframe tbody tr th {\n",
       "        vertical-align: top;\n",
       "    }\n",
       "\n",
       "    .dataframe thead th {\n",
       "        text-align: right;\n",
       "    }\n",
       "</style>\n",
       "<table border=\"1\" class=\"dataframe\">\n",
       "  <thead>\n",
       "    <tr style=\"text-align: right;\">\n",
       "      <th></th>\n",
       "      <th>duration</th>\n",
       "      <th>protocol_type</th>\n",
       "      <th>service</th>\n",
       "      <th>flag</th>\n",
       "      <th>src_bytes</th>\n",
       "      <th>dst_bytes</th>\n",
       "      <th>land</th>\n",
       "      <th>wrong_fragment</th>\n",
       "      <th>urgent</th>\n",
       "      <th>hot</th>\n",
       "      <th>...</th>\n",
       "      <th>dst_host_diff_srv_rate</th>\n",
       "      <th>dst_host_same_src_port_rate</th>\n",
       "      <th>dst_host_srv_diff_host_rate</th>\n",
       "      <th>dst_host_serror_rate</th>\n",
       "      <th>dst_host_srv_serror_rate</th>\n",
       "      <th>dst_host_rerror_rate</th>\n",
       "      <th>dst_host_srv_rerror_rate</th>\n",
       "      <th>attack</th>\n",
       "      <th>last_flag</th>\n",
       "      <th>y_bino</th>\n",
       "    </tr>\n",
       "  </thead>\n",
       "  <tbody>\n",
       "    <tr>\n",
       "      <td>0</td>\n",
       "      <td>0</td>\n",
       "      <td>udp</td>\n",
       "      <td>other</td>\n",
       "      <td>SF</td>\n",
       "      <td>146</td>\n",
       "      <td>0</td>\n",
       "      <td>0</td>\n",
       "      <td>0</td>\n",
       "      <td>0</td>\n",
       "      <td>0</td>\n",
       "      <td>...</td>\n",
       "      <td>0.60</td>\n",
       "      <td>0.88</td>\n",
       "      <td>0.00</td>\n",
       "      <td>0.00</td>\n",
       "      <td>0.00</td>\n",
       "      <td>0.00</td>\n",
       "      <td>0.00</td>\n",
       "      <td>normal</td>\n",
       "      <td>15</td>\n",
       "      <td>0</td>\n",
       "    </tr>\n",
       "    <tr>\n",
       "      <td>1</td>\n",
       "      <td>0</td>\n",
       "      <td>tcp</td>\n",
       "      <td>private</td>\n",
       "      <td>S0</td>\n",
       "      <td>0</td>\n",
       "      <td>0</td>\n",
       "      <td>0</td>\n",
       "      <td>0</td>\n",
       "      <td>0</td>\n",
       "      <td>0</td>\n",
       "      <td>...</td>\n",
       "      <td>0.05</td>\n",
       "      <td>0.00</td>\n",
       "      <td>0.00</td>\n",
       "      <td>1.00</td>\n",
       "      <td>1.00</td>\n",
       "      <td>0.00</td>\n",
       "      <td>0.00</td>\n",
       "      <td>neptune</td>\n",
       "      <td>19</td>\n",
       "      <td>1</td>\n",
       "    </tr>\n",
       "    <tr>\n",
       "      <td>2</td>\n",
       "      <td>0</td>\n",
       "      <td>tcp</td>\n",
       "      <td>http</td>\n",
       "      <td>SF</td>\n",
       "      <td>232</td>\n",
       "      <td>8153</td>\n",
       "      <td>0</td>\n",
       "      <td>0</td>\n",
       "      <td>0</td>\n",
       "      <td>0</td>\n",
       "      <td>...</td>\n",
       "      <td>0.00</td>\n",
       "      <td>0.03</td>\n",
       "      <td>0.04</td>\n",
       "      <td>0.03</td>\n",
       "      <td>0.01</td>\n",
       "      <td>0.00</td>\n",
       "      <td>0.01</td>\n",
       "      <td>normal</td>\n",
       "      <td>21</td>\n",
       "      <td>0</td>\n",
       "    </tr>\n",
       "    <tr>\n",
       "      <td>3</td>\n",
       "      <td>0</td>\n",
       "      <td>tcp</td>\n",
       "      <td>http</td>\n",
       "      <td>SF</td>\n",
       "      <td>199</td>\n",
       "      <td>420</td>\n",
       "      <td>0</td>\n",
       "      <td>0</td>\n",
       "      <td>0</td>\n",
       "      <td>0</td>\n",
       "      <td>...</td>\n",
       "      <td>0.00</td>\n",
       "      <td>0.00</td>\n",
       "      <td>0.00</td>\n",
       "      <td>0.00</td>\n",
       "      <td>0.00</td>\n",
       "      <td>0.00</td>\n",
       "      <td>0.00</td>\n",
       "      <td>normal</td>\n",
       "      <td>21</td>\n",
       "      <td>0</td>\n",
       "    </tr>\n",
       "    <tr>\n",
       "      <td>4</td>\n",
       "      <td>0</td>\n",
       "      <td>tcp</td>\n",
       "      <td>private</td>\n",
       "      <td>REJ</td>\n",
       "      <td>0</td>\n",
       "      <td>0</td>\n",
       "      <td>0</td>\n",
       "      <td>0</td>\n",
       "      <td>0</td>\n",
       "      <td>0</td>\n",
       "      <td>...</td>\n",
       "      <td>0.07</td>\n",
       "      <td>0.00</td>\n",
       "      <td>0.00</td>\n",
       "      <td>0.00</td>\n",
       "      <td>0.00</td>\n",
       "      <td>1.00</td>\n",
       "      <td>1.00</td>\n",
       "      <td>neptune</td>\n",
       "      <td>21</td>\n",
       "      <td>1</td>\n",
       "    </tr>\n",
       "    <tr>\n",
       "      <td>...</td>\n",
       "      <td>...</td>\n",
       "      <td>...</td>\n",
       "      <td>...</td>\n",
       "      <td>...</td>\n",
       "      <td>...</td>\n",
       "      <td>...</td>\n",
       "      <td>...</td>\n",
       "      <td>...</td>\n",
       "      <td>...</td>\n",
       "      <td>...</td>\n",
       "      <td>...</td>\n",
       "      <td>...</td>\n",
       "      <td>...</td>\n",
       "      <td>...</td>\n",
       "      <td>...</td>\n",
       "      <td>...</td>\n",
       "      <td>...</td>\n",
       "      <td>...</td>\n",
       "      <td>...</td>\n",
       "      <td>...</td>\n",
       "      <td>...</td>\n",
       "    </tr>\n",
       "    <tr>\n",
       "      <td>125967</td>\n",
       "      <td>0</td>\n",
       "      <td>tcp</td>\n",
       "      <td>private</td>\n",
       "      <td>S0</td>\n",
       "      <td>0</td>\n",
       "      <td>0</td>\n",
       "      <td>0</td>\n",
       "      <td>0</td>\n",
       "      <td>0</td>\n",
       "      <td>0</td>\n",
       "      <td>...</td>\n",
       "      <td>0.06</td>\n",
       "      <td>0.00</td>\n",
       "      <td>0.00</td>\n",
       "      <td>1.00</td>\n",
       "      <td>1.00</td>\n",
       "      <td>0.00</td>\n",
       "      <td>0.00</td>\n",
       "      <td>neptune</td>\n",
       "      <td>20</td>\n",
       "      <td>1</td>\n",
       "    </tr>\n",
       "    <tr>\n",
       "      <td>125968</td>\n",
       "      <td>8</td>\n",
       "      <td>udp</td>\n",
       "      <td>private</td>\n",
       "      <td>SF</td>\n",
       "      <td>105</td>\n",
       "      <td>145</td>\n",
       "      <td>0</td>\n",
       "      <td>0</td>\n",
       "      <td>0</td>\n",
       "      <td>0</td>\n",
       "      <td>...</td>\n",
       "      <td>0.01</td>\n",
       "      <td>0.01</td>\n",
       "      <td>0.00</td>\n",
       "      <td>0.00</td>\n",
       "      <td>0.00</td>\n",
       "      <td>0.00</td>\n",
       "      <td>0.00</td>\n",
       "      <td>normal</td>\n",
       "      <td>21</td>\n",
       "      <td>0</td>\n",
       "    </tr>\n",
       "    <tr>\n",
       "      <td>125969</td>\n",
       "      <td>0</td>\n",
       "      <td>tcp</td>\n",
       "      <td>smtp</td>\n",
       "      <td>SF</td>\n",
       "      <td>2231</td>\n",
       "      <td>384</td>\n",
       "      <td>0</td>\n",
       "      <td>0</td>\n",
       "      <td>0</td>\n",
       "      <td>0</td>\n",
       "      <td>...</td>\n",
       "      <td>0.06</td>\n",
       "      <td>0.00</td>\n",
       "      <td>0.00</td>\n",
       "      <td>0.72</td>\n",
       "      <td>0.00</td>\n",
       "      <td>0.01</td>\n",
       "      <td>0.00</td>\n",
       "      <td>normal</td>\n",
       "      <td>18</td>\n",
       "      <td>0</td>\n",
       "    </tr>\n",
       "    <tr>\n",
       "      <td>125970</td>\n",
       "      <td>0</td>\n",
       "      <td>tcp</td>\n",
       "      <td>klogin</td>\n",
       "      <td>S0</td>\n",
       "      <td>0</td>\n",
       "      <td>0</td>\n",
       "      <td>0</td>\n",
       "      <td>0</td>\n",
       "      <td>0</td>\n",
       "      <td>0</td>\n",
       "      <td>...</td>\n",
       "      <td>0.05</td>\n",
       "      <td>0.00</td>\n",
       "      <td>0.00</td>\n",
       "      <td>1.00</td>\n",
       "      <td>1.00</td>\n",
       "      <td>0.00</td>\n",
       "      <td>0.00</td>\n",
       "      <td>neptune</td>\n",
       "      <td>20</td>\n",
       "      <td>1</td>\n",
       "    </tr>\n",
       "    <tr>\n",
       "      <td>125971</td>\n",
       "      <td>0</td>\n",
       "      <td>tcp</td>\n",
       "      <td>ftp_data</td>\n",
       "      <td>SF</td>\n",
       "      <td>151</td>\n",
       "      <td>0</td>\n",
       "      <td>0</td>\n",
       "      <td>0</td>\n",
       "      <td>0</td>\n",
       "      <td>0</td>\n",
       "      <td>...</td>\n",
       "      <td>0.03</td>\n",
       "      <td>0.30</td>\n",
       "      <td>0.00</td>\n",
       "      <td>0.00</td>\n",
       "      <td>0.00</td>\n",
       "      <td>0.00</td>\n",
       "      <td>0.00</td>\n",
       "      <td>normal</td>\n",
       "      <td>21</td>\n",
       "      <td>0</td>\n",
       "    </tr>\n",
       "  </tbody>\n",
       "</table>\n",
       "<p>125972 rows × 44 columns</p>\n",
       "</div>"
      ],
      "text/plain": [
       "        duration protocol_type   service flag  src_bytes  dst_bytes  land  \\\n",
       "0              0           udp     other   SF        146          0     0   \n",
       "1              0           tcp   private   S0          0          0     0   \n",
       "2              0           tcp      http   SF        232       8153     0   \n",
       "3              0           tcp      http   SF        199        420     0   \n",
       "4              0           tcp   private  REJ          0          0     0   \n",
       "...          ...           ...       ...  ...        ...        ...   ...   \n",
       "125967         0           tcp   private   S0          0          0     0   \n",
       "125968         8           udp   private   SF        105        145     0   \n",
       "125969         0           tcp      smtp   SF       2231        384     0   \n",
       "125970         0           tcp    klogin   S0          0          0     0   \n",
       "125971         0           tcp  ftp_data   SF        151          0     0   \n",
       "\n",
       "        wrong_fragment  urgent  hot  ...  dst_host_diff_srv_rate  \\\n",
       "0                    0       0    0  ...                    0.60   \n",
       "1                    0       0    0  ...                    0.05   \n",
       "2                    0       0    0  ...                    0.00   \n",
       "3                    0       0    0  ...                    0.00   \n",
       "4                    0       0    0  ...                    0.07   \n",
       "...                ...     ...  ...  ...                     ...   \n",
       "125967               0       0    0  ...                    0.06   \n",
       "125968               0       0    0  ...                    0.01   \n",
       "125969               0       0    0  ...                    0.06   \n",
       "125970               0       0    0  ...                    0.05   \n",
       "125971               0       0    0  ...                    0.03   \n",
       "\n",
       "        dst_host_same_src_port_rate  dst_host_srv_diff_host_rate  \\\n",
       "0                              0.88                         0.00   \n",
       "1                              0.00                         0.00   \n",
       "2                              0.03                         0.04   \n",
       "3                              0.00                         0.00   \n",
       "4                              0.00                         0.00   \n",
       "...                             ...                          ...   \n",
       "125967                         0.00                         0.00   \n",
       "125968                         0.01                         0.00   \n",
       "125969                         0.00                         0.00   \n",
       "125970                         0.00                         0.00   \n",
       "125971                         0.30                         0.00   \n",
       "\n",
       "        dst_host_serror_rate  dst_host_srv_serror_rate  dst_host_rerror_rate  \\\n",
       "0                       0.00                      0.00                  0.00   \n",
       "1                       1.00                      1.00                  0.00   \n",
       "2                       0.03                      0.01                  0.00   \n",
       "3                       0.00                      0.00                  0.00   \n",
       "4                       0.00                      0.00                  1.00   \n",
       "...                      ...                       ...                   ...   \n",
       "125967                  1.00                      1.00                  0.00   \n",
       "125968                  0.00                      0.00                  0.00   \n",
       "125969                  0.72                      0.00                  0.01   \n",
       "125970                  1.00                      1.00                  0.00   \n",
       "125971                  0.00                      0.00                  0.00   \n",
       "\n",
       "        dst_host_srv_rerror_rate   attack  last_flag  y_bino  \n",
       "0                           0.00   normal         15       0  \n",
       "1                           0.00  neptune         19       1  \n",
       "2                           0.01   normal         21       0  \n",
       "3                           0.00   normal         21       0  \n",
       "4                           1.00  neptune         21       1  \n",
       "...                          ...      ...        ...     ...  \n",
       "125967                      0.00  neptune         20       1  \n",
       "125968                      0.00   normal         21       0  \n",
       "125969                      0.00   normal         18       0  \n",
       "125970                      0.00  neptune         20       1  \n",
       "125971                      0.00   normal         21       0  \n",
       "\n",
       "[125972 rows x 44 columns]"
      ]
     },
     "execution_count": 32,
     "metadata": {},
     "output_type": "execute_result"
    }
   ],
   "source": [
    "train_data"
   ]
  },
  {
   "cell_type": "code",
   "execution_count": 33,
   "metadata": {},
   "outputs": [
    {
     "data": {
      "text/plain": [
       "duration                         int64\n",
       "protocol_type                   object\n",
       "service                         object\n",
       "flag                            object\n",
       "src_bytes                        int64\n",
       "dst_bytes                        int64\n",
       "land                             int64\n",
       "wrong_fragment                   int64\n",
       "urgent                           int64\n",
       "hot                              int64\n",
       "num_failed_logins                int64\n",
       "logged_in                        int64\n",
       "num_compromised                  int64\n",
       "root_shell                       int64\n",
       "su_attempted                     int64\n",
       "num_root                         int64\n",
       "num_file_creations               int64\n",
       "num_shells                       int64\n",
       "num_access_files                 int64\n",
       "num_outbound_cmds                int64\n",
       "is_host_login                    int64\n",
       "is_guest_login                   int64\n",
       "count                            int64\n",
       "srv_count                        int64\n",
       "serror_rate                    float64\n",
       "srv_serror_rate                float64\n",
       "rerror_rate                    float64\n",
       "srv_rerror_rate                float64\n",
       "same_srv_rate                  float64\n",
       "diff_srv_rate                  float64\n",
       "srv_diff_host_rate             float64\n",
       "dst_host_count                   int64\n",
       "dst_host_srv_count               int64\n",
       "dst_host_same_srv_rate         float64\n",
       "dst_host_diff_srv_rate         float64\n",
       "dst_host_same_src_port_rate    float64\n",
       "dst_host_srv_diff_host_rate    float64\n",
       "dst_host_serror_rate           float64\n",
       "dst_host_srv_serror_rate       float64\n",
       "dst_host_rerror_rate           float64\n",
       "dst_host_srv_rerror_rate       float64\n",
       "attack                          object\n",
       "last_flag                        int64\n",
       "y_bino                           int32\n",
       "dtype: object"
      ]
     },
     "execution_count": 33,
     "metadata": {},
     "output_type": "execute_result"
    }
   ],
   "source": [
    "train_data.dtypes"
   ]
  },
  {
   "cell_type": "markdown",
   "metadata": {},
   "source": [
    "#### Exploratory Analysis"
   ]
  },
  {
   "cell_type": "markdown",
   "metadata": {},
   "source": [
    "#### identifying relationships (between Y & numerical independent variables by comparing means)"
   ]
  },
  {
   "cell_type": "code",
   "execution_count": 34,
   "metadata": {
    "scrolled": true
   },
   "outputs": [
    {
     "data": {
      "text/plain": [
       "0    67342\n",
       "1    58630\n",
       "Name: y_bino, dtype: int64"
      ]
     },
     "execution_count": 34,
     "metadata": {},
     "output_type": "execute_result"
    }
   ],
   "source": [
    "# Distribution of y\n",
    "train_data.y_bino.value_counts()"
   ]
  },
  {
   "cell_type": "code",
   "execution_count": 35,
   "metadata": {},
   "outputs": [
    {
     "data": {
      "text/plain": [
       "0    0.534579\n",
       "1    0.465421\n",
       "Name: y_bino, dtype: float64"
      ]
     },
     "execution_count": 35,
     "metadata": {},
     "output_type": "execute_result"
    }
   ],
   "source": [
    "# Percentage of types of values in y variable\n",
    "train_data.y_bino.value_counts()/train_data.y_bino.count()"
   ]
  },
  {
   "cell_type": "code",
   "execution_count": 36,
   "metadata": {},
   "outputs": [
    {
     "data": {
      "image/png": "[encoded data removed]",
      "text/plain": [
       "<Figure size 432x288 with 1 Axes>"
      ]
     },
     "metadata": {
      "needs_background": "light"
     },
     "output_type": "display_data"
    }
   ],
   "source": [
    "sns.countplot(x=\"y_bino\", data=train_data)\n",
    "plt.show()\n"
   ]
  },
  {
   "cell_type": "code",
   "execution_count": 37,
   "metadata": {},
   "outputs": [
    {
     "data": {
      "text/html": [
       "<div>\n",
       "<style scoped>\n",
       "    .dataframe tbody tr th:only-of-type {\n",
       "        vertical-align: middle;\n",
       "    }\n",
       "\n",
       "    .dataframe tbody tr th {\n",
       "        vertical-align: top;\n",
       "    }\n",
       "\n",
       "    .dataframe thead th {\n",
       "        text-align: right;\n",
       "    }\n",
       "</style>\n",
       "<table border=\"1\" class=\"dataframe\">\n",
       "  <thead>\n",
       "    <tr style=\"text-align: right;\">\n",
       "      <th></th>\n",
       "      <th>duration</th>\n",
       "      <th>src_bytes</th>\n",
       "      <th>dst_bytes</th>\n",
       "      <th>land</th>\n",
       "      <th>wrong_fragment</th>\n",
       "      <th>urgent</th>\n",
       "      <th>hot</th>\n",
       "      <th>num_failed_logins</th>\n",
       "      <th>logged_in</th>\n",
       "      <th>num_compromised</th>\n",
       "      <th>...</th>\n",
       "      <th>dst_host_srv_count</th>\n",
       "      <th>dst_host_same_srv_rate</th>\n",
       "      <th>dst_host_diff_srv_rate</th>\n",
       "      <th>dst_host_same_src_port_rate</th>\n",
       "      <th>dst_host_srv_diff_host_rate</th>\n",
       "      <th>dst_host_serror_rate</th>\n",
       "      <th>dst_host_srv_serror_rate</th>\n",
       "      <th>dst_host_rerror_rate</th>\n",
       "      <th>dst_host_srv_rerror_rate</th>\n",
       "      <th>last_flag</th>\n",
       "    </tr>\n",
       "    <tr>\n",
       "      <th>y_bino</th>\n",
       "      <th></th>\n",
       "      <th></th>\n",
       "      <th></th>\n",
       "      <th></th>\n",
       "      <th></th>\n",
       "      <th></th>\n",
       "      <th></th>\n",
       "      <th></th>\n",
       "      <th></th>\n",
       "      <th></th>\n",
       "      <th></th>\n",
       "      <th></th>\n",
       "      <th></th>\n",
       "      <th></th>\n",
       "      <th></th>\n",
       "      <th></th>\n",
       "      <th></th>\n",
       "      <th></th>\n",
       "      <th></th>\n",
       "      <th></th>\n",
       "      <th></th>\n",
       "    </tr>\n",
       "  </thead>\n",
       "  <tbody>\n",
       "    <tr>\n",
       "      <td>0</td>\n",
       "      <td>168.589899</td>\n",
       "      <td>13133.467064</td>\n",
       "      <td>4329.749517</td>\n",
       "      <td>0.000104</td>\n",
       "      <td>0.000000</td>\n",
       "      <td>0.000148</td>\n",
       "      <td>0.230658</td>\n",
       "      <td>0.001381</td>\n",
       "      <td>0.710656</td>\n",
       "      <td>0.507083</td>\n",
       "      <td>...</td>\n",
       "      <td>190.288215</td>\n",
       "      <td>0.811885</td>\n",
       "      <td>0.040134</td>\n",
       "      <td>0.121725</td>\n",
       "      <td>0.025996</td>\n",
       "      <td>0.013930</td>\n",
       "      <td>0.006117</td>\n",
       "      <td>0.046589</td>\n",
       "      <td>0.044699</td>\n",
       "      <td>20.315925</td>\n",
       "    </tr>\n",
       "    <tr>\n",
       "      <td>1</td>\n",
       "      <td>423.320689</td>\n",
       "      <td>82820.141327</td>\n",
       "      <td>37524.482159</td>\n",
       "      <td>0.000307</td>\n",
       "      <td>0.048746</td>\n",
       "      <td>0.000068</td>\n",
       "      <td>0.174262</td>\n",
       "      <td>0.001040</td>\n",
       "      <td>0.034027</td>\n",
       "      <td>0.017568</td>\n",
       "      <td>...</td>\n",
       "      <td>29.929081</td>\n",
       "      <td>0.187417</td>\n",
       "      <td>0.132131</td>\n",
       "      <td>0.178993</td>\n",
       "      <td>0.040062</td>\n",
       "      <td>0.595177</td>\n",
       "      <td>0.591329</td>\n",
       "      <td>0.201810</td>\n",
       "      <td>0.207008</td>\n",
       "      <td>18.571550</td>\n",
       "    </tr>\n",
       "  </tbody>\n",
       "</table>\n",
       "<p>2 rows × 39 columns</p>\n",
       "</div>"
      ],
      "text/plain": [
       "          duration     src_bytes     dst_bytes      land  wrong_fragment  \\\n",
       "y_bino                                                                     \n",
       "0       168.589899  13133.467064   4329.749517  0.000104        0.000000   \n",
       "1       423.320689  82820.141327  37524.482159  0.000307        0.048746   \n",
       "\n",
       "          urgent       hot  num_failed_logins  logged_in  num_compromised  \\\n",
       "y_bino                                                                      \n",
       "0       0.000148  0.230658           0.001381   0.710656         0.507083   \n",
       "1       0.000068  0.174262           0.001040   0.034027         0.017568   \n",
       "\n",
       "        ...  dst_host_srv_count  dst_host_same_srv_rate  \\\n",
       "y_bino  ...                                               \n",
       "0       ...          190.288215                0.811885   \n",
       "1       ...           29.929081                0.187417   \n",
       "\n",
       "        dst_host_diff_srv_rate  dst_host_same_src_port_rate  \\\n",
       "y_bino                                                        \n",
       "0                     0.040134                     0.121725   \n",
       "1                     0.132131                     0.178993   \n",
       "\n",
       "        dst_host_srv_diff_host_rate  dst_host_serror_rate  \\\n",
       "y_bino                                                      \n",
       "0                          0.025996              0.013930   \n",
       "1                          0.040062              0.595177   \n",
       "\n",
       "        dst_host_srv_serror_rate  dst_host_rerror_rate  \\\n",
       "y_bino                                                   \n",
       "0                       0.006117              0.046589   \n",
       "1                       0.591329              0.201810   \n",
       "\n",
       "        dst_host_srv_rerror_rate  last_flag  \n",
       "y_bino                                       \n",
       "0                       0.044699  20.315925  \n",
       "1                       0.207008  18.571550  \n",
       "\n",
       "[2 rows x 39 columns]"
      ]
     },
     "execution_count": 37,
     "metadata": {},
     "output_type": "execute_result"
    }
   ],
   "source": [
    "train_data.groupby('y_bino').mean()"
   ]
  },
  {
   "cell_type": "code",
   "execution_count": 38,
   "metadata": {},
   "outputs": [],
   "source": [
    "#Profile Report using pandas profiling \n",
    "#profile_report = pandas_profiling.ProfileReport(train_data)"
   ]
  },
  {
   "cell_type": "code",
   "execution_count": 39,
   "metadata": {},
   "outputs": [],
   "source": [
    "#profile_report.to_file('profile_report.html')"
   ]
  },
  {
   "cell_type": "code",
   "execution_count": 40,
   "metadata": {},
   "outputs": [
    {
     "data": {
      "text/plain": [
       "Index(['duration', 'protocol_type', 'service', 'flag', 'src_bytes',\n",
       "       'dst_bytes', 'land', 'wrong_fragment', 'urgent', 'hot',\n",
       "       'num_failed_logins', 'logged_in', 'num_compromised', 'root_shell',\n",
       "       'su_attempted', 'num_root', 'num_file_creations', 'num_shells',\n",
       "       'num_access_files', 'num_outbound_cmds', 'is_host_login',\n",
       "       'is_guest_login', 'count', 'srv_count', 'serror_rate',\n",
       "       'srv_serror_rate', 'rerror_rate', 'srv_rerror_rate', 'same_srv_rate',\n",
       "       'diff_srv_rate', 'srv_diff_host_rate', 'dst_host_count',\n",
       "       'dst_host_srv_count', 'dst_host_same_srv_rate',\n",
       "       'dst_host_diff_srv_rate', 'dst_host_same_src_port_rate',\n",
       "       'dst_host_srv_diff_host_rate', 'dst_host_serror_rate',\n",
       "       'dst_host_srv_serror_rate', 'dst_host_rerror_rate',\n",
       "       'dst_host_srv_rerror_rate', 'attack', 'last_flag', 'y_bino'],\n",
       "      dtype='object')"
      ]
     },
     "execution_count": 40,
     "metadata": {},
     "output_type": "execute_result"
    }
   ],
   "source": [
    "train_data.columns"
   ]
  },
  {
   "cell_type": "markdown",
   "metadata": {},
   "source": [
    "#### Dropping the variables based on the data audit report (near zero variance, high missing, higly correlated variables, business logic)"
   ]
  },
  {
   "cell_type": "code",
   "execution_count": 41,
   "metadata": {},
   "outputs": [],
   "source": [
    "# Dropping columns due to:\n",
    "    # Having only one value:'num_outbound_cmds'\n",
    "    # High co-relation:'dst_host_srv_serror_rate','dst_host_srv_rerror_rate','dst_host_rerror_rate','num_root'\n",
    "    # 'rerror_rate','serror_rate','srv_rerror_rate','srv_serror_rate'"
   ]
  },
  {
   "cell_type": "code",
   "execution_count": 42,
   "metadata": {},
   "outputs": [],
   "source": [
    "train_data.drop(['num_outbound_cmds', 'dst_host_srv_serror_rate','dst_host_srv_rerror_rate','num_root','rerror_rate','serror_rate','srv_rerror_rate','srv_serror_rate'], axis=1, inplace=True)"
   ]
  },
  {
   "cell_type": "code",
   "execution_count": 43,
   "metadata": {},
   "outputs": [
    {
     "data": {
      "text/plain": [
       "(125972, 36)"
      ]
     },
     "execution_count": 43,
     "metadata": {},
     "output_type": "execute_result"
    }
   ],
   "source": [
    "train_data.shape"
   ]
  },
  {
   "cell_type": "code",
   "execution_count": 44,
   "metadata": {},
   "outputs": [
    {
     "data": {
      "text/html": [
       "<div>\n",
       "<style scoped>\n",
       "    .dataframe tbody tr th:only-of-type {\n",
       "        vertical-align: middle;\n",
       "    }\n",
       "\n",
       "    .dataframe tbody tr th {\n",
       "        vertical-align: top;\n",
       "    }\n",
       "\n",
       "    .dataframe thead th {\n",
       "        text-align: right;\n",
       "    }\n",
       "</style>\n",
       "<table border=\"1\" class=\"dataframe\">\n",
       "  <thead>\n",
       "    <tr style=\"text-align: right;\">\n",
       "      <th></th>\n",
       "      <th>duration</th>\n",
       "      <th>protocol_type</th>\n",
       "      <th>service</th>\n",
       "      <th>flag</th>\n",
       "      <th>src_bytes</th>\n",
       "      <th>dst_bytes</th>\n",
       "      <th>land</th>\n",
       "      <th>wrong_fragment</th>\n",
       "      <th>urgent</th>\n",
       "      <th>hot</th>\n",
       "      <th>...</th>\n",
       "      <th>dst_host_srv_count</th>\n",
       "      <th>dst_host_same_srv_rate</th>\n",
       "      <th>dst_host_diff_srv_rate</th>\n",
       "      <th>dst_host_same_src_port_rate</th>\n",
       "      <th>dst_host_srv_diff_host_rate</th>\n",
       "      <th>dst_host_serror_rate</th>\n",
       "      <th>dst_host_rerror_rate</th>\n",
       "      <th>attack</th>\n",
       "      <th>last_flag</th>\n",
       "      <th>y_bino</th>\n",
       "    </tr>\n",
       "  </thead>\n",
       "  <tbody>\n",
       "    <tr>\n",
       "      <td>0</td>\n",
       "      <td>0</td>\n",
       "      <td>udp</td>\n",
       "      <td>other</td>\n",
       "      <td>SF</td>\n",
       "      <td>146</td>\n",
       "      <td>0</td>\n",
       "      <td>0</td>\n",
       "      <td>0</td>\n",
       "      <td>0</td>\n",
       "      <td>0</td>\n",
       "      <td>...</td>\n",
       "      <td>1</td>\n",
       "      <td>0.0</td>\n",
       "      <td>0.60</td>\n",
       "      <td>0.88</td>\n",
       "      <td>0.0</td>\n",
       "      <td>0.0</td>\n",
       "      <td>0.0</td>\n",
       "      <td>normal</td>\n",
       "      <td>15</td>\n",
       "      <td>0</td>\n",
       "    </tr>\n",
       "    <tr>\n",
       "      <td>1</td>\n",
       "      <td>0</td>\n",
       "      <td>tcp</td>\n",
       "      <td>private</td>\n",
       "      <td>S0</td>\n",
       "      <td>0</td>\n",
       "      <td>0</td>\n",
       "      <td>0</td>\n",
       "      <td>0</td>\n",
       "      <td>0</td>\n",
       "      <td>0</td>\n",
       "      <td>...</td>\n",
       "      <td>26</td>\n",
       "      <td>0.1</td>\n",
       "      <td>0.05</td>\n",
       "      <td>0.00</td>\n",
       "      <td>0.0</td>\n",
       "      <td>1.0</td>\n",
       "      <td>0.0</td>\n",
       "      <td>neptune</td>\n",
       "      <td>19</td>\n",
       "      <td>1</td>\n",
       "    </tr>\n",
       "  </tbody>\n",
       "</table>\n",
       "<p>2 rows × 36 columns</p>\n",
       "</div>"
      ],
      "text/plain": [
       "   duration protocol_type  service flag  src_bytes  dst_bytes  land  \\\n",
       "0         0           udp    other   SF        146          0     0   \n",
       "1         0           tcp  private   S0          0          0     0   \n",
       "\n",
       "   wrong_fragment  urgent  hot  ...  dst_host_srv_count  \\\n",
       "0               0       0    0  ...                   1   \n",
       "1               0       0    0  ...                  26   \n",
       "\n",
       "   dst_host_same_srv_rate  dst_host_diff_srv_rate  \\\n",
       "0                     0.0                    0.60   \n",
       "1                     0.1                    0.05   \n",
       "\n",
       "   dst_host_same_src_port_rate  dst_host_srv_diff_host_rate  \\\n",
       "0                         0.88                          0.0   \n",
       "1                         0.00                          0.0   \n",
       "\n",
       "   dst_host_serror_rate  dst_host_rerror_rate   attack  last_flag  y_bino  \n",
       "0                   0.0                   0.0   normal         15       0  \n",
       "1                   1.0                   0.0  neptune         19       1  \n",
       "\n",
       "[2 rows x 36 columns]"
      ]
     },
     "execution_count": 44,
     "metadata": {},
     "output_type": "execute_result"
    }
   ],
   "source": [
    "train_data.head(2)"
   ]
  },
  {
   "cell_type": "code",
   "execution_count": 45,
   "metadata": {},
   "outputs": [
    {
     "name": "stdout",
     "output_type": "stream",
     "text": [
      "['duration', 'src_bytes', 'dst_bytes', 'land', 'wrong_fragment', 'urgent', 'hot', 'num_failed_logins', 'logged_in', 'num_compromised', 'root_shell', 'su_attempted', 'num_file_creations', 'num_shells', 'num_access_files', 'is_host_login', 'is_guest_login', 'count', 'srv_count', 'same_srv_rate', 'diff_srv_rate', 'srv_diff_host_rate', 'dst_host_count', 'dst_host_srv_count', 'dst_host_same_srv_rate', 'dst_host_diff_srv_rate', 'dst_host_same_src_port_rate', 'dst_host_srv_diff_host_rate', 'dst_host_serror_rate', 'dst_host_rerror_rate', 'last_flag', 'y_bino']\n",
      "['protocol_type', 'service', 'flag', 'attack']\n"
     ]
    }
   ],
   "source": [
    "#Seperating numerical columns & catagorical columns\n",
    "numeric_var_names=[key for key in dict(train_data.dtypes) if dict(train_data.dtypes)[key] in ['float64', 'int64', 'float32', 'int32']]\n",
    "cat_var_names=[key for key in dict(train_data.dtypes) if dict(train_data.dtypes)[key] in ['object']]\n",
    "print(numeric_var_names)\n",
    "print(cat_var_names)"
   ]
  },
  {
   "cell_type": "code",
   "execution_count": 46,
   "metadata": {},
   "outputs": [],
   "source": [
    "train_data_num = train_data[numeric_var_names]\n",
    "train_data_cat = train_data[cat_var_names]"
   ]
  },
  {
   "cell_type": "code",
   "execution_count": 47,
   "metadata": {},
   "outputs": [],
   "source": [
    "# Outlier & Missing treatment\n",
    "def missing_num(x):\n",
    "    x=x.fillna(x.median())\n",
    "    return x\n",
    "def missing_cat(x):\n",
    "    x = x.fillna(x.mode().iloc[0])\n",
    "    return x\n",
    "def outlier_capping(x):\n",
    "    x=x.clip_upper(x.quantile(0.99))\n",
    "    x=x.clip_lower(x.quantile(0.01))\n",
    "    return x"
   ]
  },
  {
   "cell_type": "code",
   "execution_count": 48,
   "metadata": {},
   "outputs": [],
   "source": [
    "train_data_cat=train_data_cat.apply(missing_cat)\n",
    "train_data_num=train_data_num.apply(missing_num)\n",
    "train_data_num=train_data_num.apply(outlier_capping)"
   ]
  },
  {
   "cell_type": "code",
   "execution_count": 49,
   "metadata": {},
   "outputs": [],
   "source": [
    "train_data_cat_new = pd.get_dummies(train_data_cat, drop_first=True)"
   ]
  },
  {
   "cell_type": "code",
   "execution_count": 50,
   "metadata": {},
   "outputs": [],
   "source": [
    "train_data_new=pd.concat([train_data_num,train_data_cat_new],axis=1)"
   ]
  },
  {
   "cell_type": "code",
   "execution_count": 51,
   "metadata": {},
   "outputs": [
    {
     "data": {
      "text/plain": [
       "(125972, 135)"
      ]
     },
     "execution_count": 51,
     "metadata": {},
     "output_type": "execute_result"
    }
   ],
   "source": [
    "train_data_new.shape"
   ]
  },
  {
   "cell_type": "code",
   "execution_count": 52,
   "metadata": {},
   "outputs": [
    {
     "data": {
      "text/plain": [
       "<matplotlib.axes._subplots.AxesSubplot at 0xce95f48>"
      ]
     },
     "execution_count": 52,
     "metadata": {},
     "output_type": "execute_result"
    },
    {
     "data": {
      "image/png": "[encoded data removed]",
      "text/plain": [
       "<Figure size 432x288 with 2 Axes>"
      ]
     },
     "metadata": {
      "needs_background": "light"
     },
     "output_type": "display_data"
    }
   ],
   "source": [
    "# visualize correlation matrix in Seaborn using a heatmap\n",
    "sns.heatmap(train_data_num.corr())"
   ]
  },
  {
   "cell_type": "code",
   "execution_count": 53,
   "metadata": {},
   "outputs": [],
   "source": [
    "#corr_bino = train_data_num.corr()\n",
    "#corr_bino.to_csv('corr_bino.csv')"
   ]
  },
  {
   "cell_type": "markdown",
   "metadata": {},
   "source": [
    "### variable reduction (feature selection/reduction)\n",
    "\n",
    "- Univariate Regression\n",
    "- WOE - Binomial classification\n",
    "- RFE\n",
    "- SelectKBest\n",
    "- VIF\n",
    "- PCA"
   ]
  },
  {
   "cell_type": "markdown",
   "metadata": {},
   "source": [
    "#### Univariate Regression(somersd)"
   ]
  },
  {
   "cell_type": "code",
   "execution_count": 54,
   "metadata": {},
   "outputs": [
    {
     "name": "stdout",
     "output_type": "stream",
     "text": [
      "Optimization terminated successfully.\n",
      "         Current function value: 0.690572\n",
      "         Iterations: 25\n",
      "         Function evaluations: 28\n",
      "         Gradient evaluations: 28\n",
      "Optimization terminated successfully.\n",
      "         Current function value: 0.690705\n",
      "         Iterations: 32\n",
      "         Function evaluations: 33\n",
      "         Gradient evaluations: 33\n",
      "Optimization terminated successfully.\n",
      "         Current function value: 0.690432\n",
      "         Iterations: 27\n",
      "         Function evaluations: 30\n",
      "         Gradient evaluations: 30\n",
      "Optimization terminated successfully.\n",
      "         Current function value: 0.690687\n",
      "         Iterations: 32\n",
      "         Function evaluations: 33\n",
      "         Gradient evaluations: 33\n",
      "Optimization terminated successfully.\n",
      "         Current function value: 0.668422\n",
      "         Iterations: 21\n",
      "         Function evaluations: 22\n",
      "         Gradient evaluations: 22\n",
      "Optimization terminated successfully.\n",
      "         Current function value: 0.690645\n",
      "         Iterations: 28\n",
      "         Function evaluations: 30\n",
      "         Gradient evaluations: 30\n",
      "Optimization terminated successfully.\n",
      "         Current function value: 0.690699\n",
      "         Iterations: 32\n",
      "         Function evaluations: 33\n",
      "         Gradient evaluations: 33\n",
      "Optimization terminated successfully.\n",
      "         Current function value: 0.690711\n",
      "         Iterations: 28\n",
      "         Function evaluations: 29\n",
      "         Gradient evaluations: 29\n",
      "Optimization terminated successfully.\n",
      "         Current function value: 0.341737\n",
      "         Iterations: 19\n",
      "         Function evaluations: 21\n",
      "         Gradient evaluations: 21\n",
      "Optimization terminated successfully.\n",
      "         Current function value: 0.681608\n",
      "         Iterations: 27\n",
      "         Function evaluations: 29\n",
      "         Gradient evaluations: 29\n",
      "Optimization terminated successfully.\n",
      "         Current function value: 0.000006\n",
      "         Iterations: 19\n",
      "         Function evaluations: 20\n",
      "         Gradient evaluations: 20\n",
      "Optimization terminated successfully.\n",
      "         Current function value: 0.690736\n",
      "         Iterations: 32\n",
      "         Function evaluations: 34\n",
      "         Gradient evaluations: 34\n",
      "Optimization terminated successfully.\n",
      "         Current function value: 0.690730\n",
      "         Iterations: 22\n",
      "         Function evaluations: 24\n",
      "         Gradient evaluations: 24\n",
      "Optimization terminated successfully.\n",
      "         Current function value: 0.689532\n",
      "         Iterations: 22\n",
      "         Function evaluations: 25\n",
      "         Gradient evaluations: 25\n",
      "Optimization terminated successfully.\n",
      "         Current function value: 0.672640\n",
      "         Iterations: 30\n",
      "         Function evaluations: 31\n",
      "         Gradient evaluations: 31\n",
      "Optimization terminated successfully.\n",
      "         Current function value: 0.690693\n",
      "         Iterations: 32\n",
      "         Function evaluations: 33\n",
      "         Gradient evaluations: 33\n",
      "Optimization terminated successfully.\n",
      "         Current function value: 0.668204\n",
      "         Iterations: 25\n",
      "         Function evaluations: 26\n",
      "         Gradient evaluations: 26\n",
      "Optimization terminated successfully.\n",
      "         Current function value: 0.674432\n",
      "         Iterations: 22\n",
      "         Function evaluations: 23\n",
      "         Gradient evaluations: 23\n",
      "Optimization terminated successfully.\n",
      "         Current function value: 0.690754\n",
      "         Iterations: 4\n",
      "         Function evaluations: 5\n",
      "         Gradient evaluations: 5\n",
      "Optimization terminated successfully.\n",
      "         Current function value: 0.685309\n",
      "         Iterations: 26\n",
      "         Function evaluations: 28\n",
      "         Gradient evaluations: 28\n",
      "Optimization terminated successfully.\n",
      "         Current function value: 0.685322\n",
      "         Iterations: 26\n",
      "         Function evaluations: 28\n",
      "         Gradient evaluations: 28\n",
      "Optimization terminated successfully.\n",
      "         Current function value: 0.690632\n",
      "         Iterations: 28\n",
      "         Function evaluations: 30\n",
      "         Gradient evaluations: 30\n",
      "Optimization terminated successfully.\n",
      "         Current function value: 0.474709\n",
      "         Iterations: 11\n",
      "         Function evaluations: 15\n",
      "         Gradient evaluations: 15\n",
      "Optimization terminated successfully.\n",
      "         Current function value: 0.666612\n",
      "         Iterations: 16\n",
      "         Function evaluations: 17\n",
      "         Gradient evaluations: 17\n",
      "Optimization terminated successfully.\n",
      "         Current function value: 0.594464\n",
      "         Iterations: 10\n",
      "         Function evaluations: 23\n",
      "         Gradient evaluations: 15\n",
      "Optimization terminated successfully.\n",
      "         Current function value: 0.615407\n",
      "         Iterations: 12\n",
      "         Function evaluations: 15\n",
      "         Gradient evaluations: 15\n",
      "Optimization terminated successfully.\n",
      "         Current function value: 0.656415\n",
      "         Iterations: 16\n",
      "         Function evaluations: 17\n",
      "         Gradient evaluations: 17\n",
      "Optimization terminated successfully.\n",
      "         Current function value: 0.657200\n",
      "         Iterations: 12\n",
      "         Function evaluations: 13\n",
      "         Gradient evaluations: 13\n",
      "Optimization terminated successfully.\n",
      "         Current function value: 0.686484\n",
      "         Iterations: 12\n",
      "         Function evaluations: 13\n",
      "         Gradient evaluations: 13\n",
      "Optimization terminated successfully.\n",
      "         Current function value: 0.421383\n",
      "         Iterations: 12\n",
      "         Function evaluations: 13\n",
      "         Gradient evaluations: 13\n",
      "Optimization terminated successfully.\n",
      "         Current function value: 0.435478\n",
      "         Iterations: 13\n",
      "         Function evaluations: 15\n",
      "         Gradient evaluations: 15\n",
      "Optimization terminated successfully.\n",
      "         Current function value: 0.380610\n",
      "         Iterations: 12\n",
      "         Function evaluations: 16\n",
      "         Gradient evaluations: 16\n",
      "Optimization terminated successfully.\n",
      "         Current function value: 0.689235\n",
      "         Iterations: 14\n",
      "         Function evaluations: 16\n",
      "         Gradient evaluations: 16\n",
      "Warning: Desired error not necessarily achieved due to precision loss.\n",
      "         Current function value: 0.693147\n",
      "         Iterations: 0\n",
      "         Function evaluations: 16\n",
      "         Gradient evaluations: 4\n"
     ]
    },
    {
     "name": "stderr",
     "output_type": "stream",
     "text": [
      "C:\\ProgramData\\Anaconda3\\lib\\site-packages\\statsmodels\\base\\model.py:512: ConvergenceWarning: Maximum Likelihood optimization failed to converge. Check mle_retvals\n",
      "  \"Check mle_retvals\", ConvergenceWarning)\n"
     ]
    },
    {
     "name": "stdout",
     "output_type": "stream",
     "text": [
      "Optimization terminated successfully.\n",
      "         Current function value: 0.673100\n",
      "         Iterations: 13\n",
      "         Function evaluations: 14\n",
      "         Gradient evaluations: 14\n",
      "Optimization terminated successfully.\n",
      "         Current function value: 0.686489\n",
      "         Iterations: 15\n",
      "         Function evaluations: 17\n",
      "         Gradient evaluations: 17\n",
      "Optimization terminated successfully.\n",
      "         Current function value: 0.690128\n",
      "         Iterations: 23\n",
      "         Function evaluations: 27\n",
      "         Gradient evaluations: 27\n",
      "Optimization terminated successfully.\n",
      "         Current function value: 0.680424\n",
      "         Iterations: 18\n",
      "         Function evaluations: 19\n",
      "         Gradient evaluations: 19\n",
      "Optimization terminated successfully.\n",
      "         Current function value: 0.433832\n",
      "         Iterations: 14\n",
      "         Function evaluations: 16\n",
      "         Gradient evaluations: 16\n",
      "Optimization terminated successfully.\n",
      "         Current function value: 0.689106\n",
      "         Iterations: 18\n",
      "         Function evaluations: 21\n",
      "         Gradient evaluations: 21\n",
      "Optimization terminated successfully.\n",
      "         Current function value: 0.690350\n",
      "         Iterations: 14\n",
      "         Function evaluations: 18\n",
      "         Gradient evaluations: 18\n",
      "Optimization terminated successfully.\n",
      "         Current function value: 0.690616\n",
      "         Iterations: 19\n",
      "         Function evaluations: 22\n",
      "         Gradient evaluations: 22\n",
      "Optimization terminated successfully.\n",
      "         Current function value: 0.366055\n",
      "         Iterations: 13\n",
      "         Function evaluations: 14\n",
      "         Gradient evaluations: 14\n",
      "Optimization terminated successfully.\n",
      "         Current function value: 0.689202\n",
      "         Iterations: 19\n",
      "         Function evaluations: 22\n",
      "         Gradient evaluations: 22\n",
      "Optimization terminated successfully.\n",
      "         Current function value: 0.690732\n",
      "         Iterations: 8\n",
      "         Function evaluations: 10\n",
      "         Gradient evaluations: 10\n",
      "Optimization terminated successfully.\n",
      "         Current function value: 0.690754\n",
      "         Iterations: 4\n",
      "         Function evaluations: 5\n",
      "         Gradient evaluations: 5\n"
     ]
    },
    {
     "name": "stderr",
     "output_type": "stream",
     "text": [
      "C:\\ProgramData\\Anaconda3\\lib\\site-packages\\statsmodels\\base\\model.py:492: HessianInversionWarning: Inverting hessian failed, no bse or cov_params available\n",
      "  'available', HessianInversionWarning)\n"
     ]
    },
    {
     "name": "stdout",
     "output_type": "stream",
     "text": [
      "Optimization terminated successfully.\n",
      "         Current function value: 0.690754\n",
      "         Iterations: 4\n",
      "         Function evaluations: 5\n",
      "         Gradient evaluations: 5\n"
     ]
    },
    {
     "name": "stderr",
     "output_type": "stream",
     "text": [
      "C:\\ProgramData\\Anaconda3\\lib\\site-packages\\statsmodels\\base\\model.py:492: HessianInversionWarning: Inverting hessian failed, no bse or cov_params available\n",
      "  'available', HessianInversionWarning)\n"
     ]
    },
    {
     "name": "stdout",
     "output_type": "stream",
     "text": [
      "Optimization terminated successfully.\n",
      "         Current function value: 0.690754\n",
      "         Iterations: 4\n",
      "         Function evaluations: 5\n",
      "         Gradient evaluations: 5\n"
     ]
    },
    {
     "name": "stderr",
     "output_type": "stream",
     "text": [
      "C:\\ProgramData\\Anaconda3\\lib\\site-packages\\statsmodels\\base\\model.py:492: HessianInversionWarning: Inverting hessian failed, no bse or cov_params available\n",
      "  'available', HessianInversionWarning)\n"
     ]
    },
    {
     "name": "stdout",
     "output_type": "stream",
     "text": [
      "Optimization terminated successfully.\n",
      "         Current function value: 0.593763\n",
      "         Iterations: 9\n",
      "         Function evaluations: 15\n",
      "         Gradient evaluations: 15\n",
      "Optimization terminated successfully.\n",
      "         Current function value: 0.410193\n",
      "         Iterations: 13\n",
      "         Function evaluations: 14\n",
      "         Gradient evaluations: 14\n",
      "Optimization terminated successfully.\n",
      "         Current function value: 0.690754\n",
      "         Iterations: 4\n",
      "         Function evaluations: 5\n",
      "         Gradient evaluations: 5\n"
     ]
    },
    {
     "name": "stderr",
     "output_type": "stream",
     "text": [
      "C:\\ProgramData\\Anaconda3\\lib\\site-packages\\statsmodels\\base\\model.py:492: HessianInversionWarning: Inverting hessian failed, no bse or cov_params available\n",
      "  'available', HessianInversionWarning)\n"
     ]
    },
    {
     "name": "stdout",
     "output_type": "stream",
     "text": [
      "Optimization terminated successfully.\n",
      "         Current function value: 0.689483\n",
      "         Iterations: 14\n",
      "         Function evaluations: 16\n",
      "         Gradient evaluations: 16\n",
      "Optimization terminated successfully.\n",
      "         Current function value: 0.690754\n",
      "         Iterations: 4\n",
      "         Function evaluations: 5\n",
      "         Gradient evaluations: 5\n"
     ]
    },
    {
     "name": "stderr",
     "output_type": "stream",
     "text": [
      "C:\\ProgramData\\Anaconda3\\lib\\site-packages\\statsmodels\\base\\model.py:492: HessianInversionWarning: Inverting hessian failed, no bse or cov_params available\n",
      "  'available', HessianInversionWarning)\n"
     ]
    },
    {
     "name": "stdout",
     "output_type": "stream",
     "text": [
      "Optimization terminated successfully.\n",
      "         Current function value: 0.690754\n",
      "         Iterations: 4\n",
      "         Function evaluations: 5\n",
      "         Gradient evaluations: 5\n"
     ]
    },
    {
     "name": "stderr",
     "output_type": "stream",
     "text": [
      "C:\\ProgramData\\Anaconda3\\lib\\site-packages\\statsmodels\\base\\model.py:492: HessianInversionWarning: Inverting hessian failed, no bse or cov_params available\n",
      "  'available', HessianInversionWarning)\n"
     ]
    },
    {
     "name": "stdout",
     "output_type": "stream",
     "text": [
      "Optimization terminated successfully.\n",
      "         Current function value: 0.690754\n",
      "         Iterations: 4\n",
      "         Function evaluations: 5\n",
      "         Gradient evaluations: 5\n"
     ]
    },
    {
     "name": "stderr",
     "output_type": "stream",
     "text": [
      "C:\\ProgramData\\Anaconda3\\lib\\site-packages\\statsmodels\\base\\model.py:492: HessianInversionWarning: Inverting hessian failed, no bse or cov_params available\n",
      "  'available', HessianInversionWarning)\n"
     ]
    },
    {
     "name": "stdout",
     "output_type": "stream",
     "text": [
      "Optimization terminated successfully.\n",
      "         Current function value: 0.689334\n",
      "         Iterations: 8\n",
      "         Function evaluations: 10\n",
      "         Gradient evaluations: 10\n",
      "Optimization terminated successfully.\n",
      "         Current function value: 0.664988\n",
      "         Iterations: 12\n",
      "         Function evaluations: 13\n",
      "         Gradient evaluations: 13\n",
      "Optimization terminated successfully.\n",
      "         Current function value: 0.690754\n",
      "         Iterations: 4\n",
      "         Function evaluations: 5\n",
      "         Gradient evaluations: 5\n"
     ]
    },
    {
     "name": "stderr",
     "output_type": "stream",
     "text": [
      "C:\\ProgramData\\Anaconda3\\lib\\site-packages\\statsmodels\\base\\model.py:492: HessianInversionWarning: Inverting hessian failed, no bse or cov_params available\n",
      "  'available', HessianInversionWarning)\n"
     ]
    },
    {
     "name": "stdout",
     "output_type": "stream",
     "text": [
      "Optimization terminated successfully.\n",
      "         Current function value: 0.358366\n",
      "         Iterations: 13\n",
      "         Function evaluations: 14\n",
      "         Gradient evaluations: 14\n",
      "Optimization terminated successfully.\n",
      "         Current function value: 0.690549\n",
      "         Iterations: 18\n",
      "         Function evaluations: 21\n",
      "         Gradient evaluations: 21\n",
      "Optimization terminated successfully.\n",
      "         Current function value: 0.685493\n",
      "         Iterations: 26\n",
      "         Function evaluations: 28\n",
      "         Gradient evaluations: 28\n",
      "Optimization terminated successfully.\n",
      "         Current function value: 0.690754\n",
      "         Iterations: 4\n",
      "         Function evaluations: 5\n",
      "         Gradient evaluations: 5\n",
      "Optimization terminated successfully.\n",
      "         Current function value: 0.689445\n",
      "         Iterations: 13\n",
      "         Function evaluations: 16\n",
      "         Gradient evaluations: 16\n",
      "Optimization terminated successfully.\n",
      "         Current function value: 0.686425\n",
      "         Iterations: 22\n",
      "         Function evaluations: 24\n",
      "         Gradient evaluations: 24\n",
      "Optimization terminated successfully.\n",
      "         Current function value: 0.686278\n",
      "         Iterations: 22\n",
      "         Function evaluations: 24\n",
      "         Gradient evaluations: 24\n",
      "Optimization terminated successfully.\n",
      "         Current function value: 0.687435\n",
      "         Iterations: 19\n",
      "         Function evaluations: 22\n",
      "         Gradient evaluations: 22\n",
      "Optimization terminated successfully.\n",
      "         Current function value: 0.687324\n",
      "         Iterations: 23\n",
      "         Function evaluations: 26\n",
      "         Gradient evaluations: 26\n",
      "Optimization terminated successfully.\n",
      "         Current function value: 0.687581\n",
      "         Iterations: 23\n",
      "         Function evaluations: 26\n",
      "         Gradient evaluations: 26\n",
      "Optimization terminated successfully.\n",
      "         Current function value: 0.687477\n",
      "         Iterations: 23\n",
      "         Function evaluations: 26\n",
      "         Gradient evaluations: 26\n",
      "Optimization terminated successfully.\n",
      "         Current function value: 0.688440\n",
      "         Iterations: 15\n",
      "         Function evaluations: 18\n",
      "         Gradient evaluations: 18\n",
      "Optimization terminated successfully.\n",
      "         Current function value: 0.643951\n",
      "         Iterations: 20\n",
      "         Function evaluations: 21\n",
      "         Gradient evaluations: 21\n",
      "Optimization terminated successfully.\n",
      "         Current function value: 0.688112\n",
      "         Iterations: 27\n",
      "         Function evaluations: 30\n",
      "         Gradient evaluations: 30\n",
      "Optimization terminated successfully.\n",
      "         Current function value: 0.675445\n",
      "         Iterations: 16\n",
      "         Function evaluations: 17\n",
      "         Gradient evaluations: 17\n",
      "Optimization terminated successfully.\n",
      "         Current function value: 0.677667\n",
      "         Iterations: 17\n",
      "         Function evaluations: 18\n",
      "         Gradient evaluations: 18\n",
      "Optimization terminated successfully.\n",
      "         Current function value: 0.687809\n",
      "         Iterations: 15\n",
      "         Function evaluations: 18\n",
      "         Gradient evaluations: 18\n",
      "Optimization terminated successfully.\n",
      "         Current function value: 0.687868\n",
      "         Iterations: 23\n",
      "         Function evaluations: 26\n",
      "         Gradient evaluations: 26\n",
      "Optimization terminated successfully.\n",
      "         Current function value: 0.689271\n",
      "         Iterations: 13\n",
      "         Function evaluations: 15\n",
      "         Gradient evaluations: 15\n",
      "Optimization terminated successfully.\n",
      "         Current function value: 0.690750\n",
      "         Iterations: 11\n",
      "         Function evaluations: 13\n",
      "         Gradient evaluations: 13\n",
      "Optimization terminated successfully.\n",
      "         Current function value: 0.686305\n",
      "         Iterations: 14\n",
      "         Function evaluations: 15\n",
      "         Gradient evaluations: 15\n",
      "Optimization terminated successfully.\n",
      "         Current function value: 0.687600\n",
      "         Iterations: 19\n",
      "         Function evaluations: 22\n",
      "         Gradient evaluations: 22\n",
      "Optimization terminated successfully.\n",
      "         Current function value: 0.690754\n",
      "         Iterations: 4\n",
      "         Function evaluations: 5\n",
      "         Gradient evaluations: 5\n",
      "Optimization terminated successfully.\n",
      "         Current function value: 0.687953\n",
      "         Iterations: 23\n",
      "         Function evaluations: 26\n",
      "         Gradient evaluations: 26\n",
      "Optimization terminated successfully.\n",
      "         Current function value: 0.506475\n",
      "         Iterations: 13\n",
      "         Function evaluations: 14\n",
      "         Gradient evaluations: 14\n",
      "Optimization terminated successfully.\n",
      "         Current function value: 0.690754\n",
      "         Iterations: 4\n",
      "         Function evaluations: 5\n",
      "         Gradient evaluations: 5\n",
      "Optimization terminated successfully.\n",
      "         Current function value: 0.687526\n",
      "         Iterations: 23\n",
      "         Function evaluations: 26\n",
      "         Gradient evaluations: 26\n",
      "Optimization terminated successfully.\n",
      "         Current function value: 0.690754\n",
      "         Iterations: 4\n",
      "         Function evaluations: 5\n",
      "         Gradient evaluations: 5\n",
      "Optimization terminated successfully.\n",
      "         Current function value: 0.686966\n",
      "         Iterations: 19\n",
      "         Function evaluations: 21\n",
      "         Gradient evaluations: 21\n",
      "Optimization terminated successfully.\n",
      "         Current function value: 0.686566\n",
      "         Iterations: 26\n",
      "         Function evaluations: 28\n",
      "         Gradient evaluations: 28\n",
      "Optimization terminated successfully.\n",
      "         Current function value: 0.688118\n",
      "         Iterations: 27\n",
      "         Function evaluations: 30\n",
      "         Gradient evaluations: 30\n",
      "Optimization terminated successfully.\n",
      "         Current function value: 0.688935\n",
      "         Iterations: 25\n",
      "         Function evaluations: 28\n",
      "         Gradient evaluations: 28\n",
      "Optimization terminated successfully.\n",
      "         Current function value: 0.688259\n",
      "         Iterations: 24\n",
      "         Function evaluations: 27\n",
      "         Gradient evaluations: 27\n",
      "Optimization terminated successfully.\n",
      "         Current function value: 0.687862\n",
      "         Iterations: 23\n",
      "         Function evaluations: 26\n",
      "         Gradient evaluations: 26\n",
      "Optimization terminated successfully.\n",
      "         Current function value: 0.688143\n",
      "         Iterations: 24\n",
      "         Function evaluations: 27\n",
      "         Gradient evaluations: 27\n",
      "Optimization terminated successfully.\n",
      "         Current function value: 0.688082\n",
      "         Iterations: 27\n",
      "         Function evaluations: 30\n",
      "         Gradient evaluations: 30\n",
      "Optimization terminated successfully.\n",
      "         Current function value: 0.688008\n",
      "         Iterations: 23\n",
      "         Function evaluations: 26\n",
      "         Gradient evaluations: 26\n",
      "Optimization terminated successfully.\n",
      "         Current function value: 0.688289\n",
      "         Iterations: 24\n",
      "         Function evaluations: 27\n",
      "         Gradient evaluations: 27\n",
      "Optimization terminated successfully.\n",
      "         Current function value: 0.688643\n",
      "         Iterations: 20\n",
      "         Function evaluations: 23\n",
      "         Gradient evaluations: 23\n",
      "Optimization terminated successfully.\n",
      "         Current function value: 0.688552\n",
      "         Iterations: 20\n",
      "         Function evaluations: 23\n",
      "         Gradient evaluations: 23\n",
      "Optimization terminated successfully.\n",
      "         Current function value: 0.688564\n",
      "         Iterations: 20\n",
      "         Function evaluations: 23\n",
      "         Gradient evaluations: 23\n",
      "Optimization terminated successfully.\n",
      "         Current function value: 0.686915\n",
      "         Iterations: 26\n",
      "         Function evaluations: 28\n",
      "         Gradient evaluations: 28\n",
      "Optimization terminated successfully.\n",
      "         Current function value: 0.688954\n",
      "         Iterations: 25\n",
      "         Function evaluations: 28\n",
      "         Gradient evaluations: 28\n",
      "Optimization terminated successfully.\n",
      "         Current function value: 0.689918\n",
      "         Iterations: 19\n",
      "         Function evaluations: 23\n",
      "         Gradient evaluations: 23\n",
      "Optimization terminated successfully.\n",
      "         Current function value: 0.690467\n",
      "         Iterations: 11\n",
      "         Function evaluations: 13\n",
      "         Gradient evaluations: 13\n",
      "Optimization terminated successfully.\n",
      "         Current function value: 0.690724\n",
      "         Iterations: 29\n",
      "         Function evaluations: 30\n",
      "         Gradient evaluations: 30\n",
      "Optimization terminated successfully.\n",
      "         Current function value: 0.690280\n",
      "         Iterations: 23\n",
      "         Function evaluations: 27\n",
      "         Gradient evaluations: 27\n",
      "Optimization terminated successfully.\n",
      "         Current function value: 0.690627\n",
      "         Iterations: 13\n",
      "         Function evaluations: 16\n",
      "         Gradient evaluations: 16\n"
     ]
    },
    {
     "name": "stdout",
     "output_type": "stream",
     "text": [
      "Optimization terminated successfully.\n",
      "         Current function value: 0.690336\n",
      "         Iterations: 16\n",
      "         Function evaluations: 20\n",
      "         Gradient evaluations: 20\n",
      "Optimization terminated successfully.\n",
      "         Current function value: 0.573118\n",
      "         Iterations: 11\n",
      "         Function evaluations: 13\n",
      "         Gradient evaluations: 13\n",
      "Optimization terminated successfully.\n",
      "         Current function value: 0.690714\n",
      "         Iterations: 32\n",
      "         Function evaluations: 33\n",
      "         Gradient evaluations: 33\n",
      "Optimization terminated successfully.\n",
      "         Current function value: 0.690280\n",
      "         Iterations: 23\n",
      "         Function evaluations: 27\n",
      "         Gradient evaluations: 27\n",
      "Optimization terminated successfully.\n",
      "         Current function value: 0.690231\n",
      "         Iterations: 23\n",
      "         Function evaluations: 27\n",
      "         Gradient evaluations: 27\n",
      "Optimization terminated successfully.\n",
      "         Current function value: 0.690483\n",
      "         Iterations: 15\n",
      "         Function evaluations: 19\n",
      "         Gradient evaluations: 19\n",
      "Optimization terminated successfully.\n",
      "         Current function value: 0.662312\n",
      "         Iterations: 15\n",
      "         Function evaluations: 16\n",
      "         Gradient evaluations: 16\n",
      "Optimization terminated successfully.\n",
      "         Current function value: 0.689264\n",
      "         Iterations: 26\n",
      "         Function evaluations: 29\n",
      "         Gradient evaluations: 29\n",
      "Optimization terminated successfully.\n",
      "         Current function value: 0.689071\n",
      "         Iterations: 18\n",
      "         Function evaluations: 21\n",
      "         Gradient evaluations: 21\n",
      "Optimization terminated successfully.\n",
      "         Current function value: 0.688435\n",
      "         Iterations: 24\n",
      "         Function evaluations: 27\n",
      "         Gradient evaluations: 27\n",
      "Optimization terminated successfully.\n",
      "         Current function value: 0.687441\n",
      "         Iterations: 19\n",
      "         Function evaluations: 22\n",
      "         Gradient evaluations: 22\n",
      "Optimization terminated successfully.\n",
      "         Current function value: 0.687850\n",
      "         Iterations: 23\n",
      "         Function evaluations: 26\n",
      "         Gradient evaluations: 26\n",
      "Optimization terminated successfully.\n",
      "         Current function value: 0.689951\n",
      "         Iterations: 13\n",
      "         Function evaluations: 15\n",
      "         Gradient evaluations: 15\n",
      "Optimization terminated successfully.\n",
      "         Current function value: 0.690739\n",
      "         Iterations: 28\n",
      "         Function evaluations: 30\n",
      "         Gradient evaluations: 30\n",
      "Optimization terminated successfully.\n",
      "         Current function value: 0.690754\n",
      "         Iterations: 4\n",
      "         Function evaluations: 5\n",
      "         Gradient evaluations: 5\n",
      "Optimization terminated successfully.\n",
      "         Current function value: 0.688723\n",
      "         Iterations: 13\n",
      "         Function evaluations: 16\n",
      "         Gradient evaluations: 16\n",
      "Optimization terminated successfully.\n",
      "         Current function value: 0.690704\n",
      "         Iterations: 32\n",
      "         Function evaluations: 33\n",
      "         Gradient evaluations: 33\n",
      "Optimization terminated successfully.\n",
      "         Current function value: 0.687898\n",
      "         Iterations: 15\n",
      "         Function evaluations: 18\n",
      "         Gradient evaluations: 18\n",
      "Optimization terminated successfully.\n",
      "         Current function value: 0.685997\n",
      "         Iterations: 22\n",
      "         Function evaluations: 24\n",
      "         Gradient evaluations: 24\n",
      "Optimization terminated successfully.\n",
      "         Current function value: 0.686553\n",
      "         Iterations: 26\n",
      "         Function evaluations: 28\n",
      "         Gradient evaluations: 28\n",
      "Optimization terminated successfully.\n",
      "         Current function value: 0.686994\n",
      "         Iterations: 30\n",
      "         Function evaluations: 32\n",
      "         Gradient evaluations: 32\n",
      "Optimization terminated successfully.\n",
      "         Current function value: 0.686529\n",
      "         Iterations: 26\n",
      "         Function evaluations: 28\n",
      "         Gradient evaluations: 28\n",
      "Warning: Desired error not necessarily achieved due to precision loss.\n",
      "         Current function value: 0.693147\n",
      "         Iterations: 0\n",
      "         Function evaluations: 16\n",
      "         Gradient evaluations: 4\n",
      "Optimization terminated successfully.\n",
      "         Current function value: 0.690752\n",
      "         Iterations: 6\n",
      "         Function evaluations: 9\n",
      "         Gradient evaluations: 9\n"
     ]
    },
    {
     "name": "stderr",
     "output_type": "stream",
     "text": [
      "C:\\ProgramData\\Anaconda3\\lib\\site-packages\\statsmodels\\base\\model.py:512: ConvergenceWarning: Maximum Likelihood optimization failed to converge. Check mle_retvals\n",
      "  \"Check mle_retvals\", ConvergenceWarning)\n"
     ]
    },
    {
     "name": "stdout",
     "output_type": "stream",
     "text": [
      "Optimization terminated successfully.\n",
      "         Current function value: 0.683325\n",
      "         Iterations: 13\n",
      "         Function evaluations: 14\n",
      "         Gradient evaluations: 14\n",
      "Optimization terminated successfully.\n",
      "         Current function value: 0.690754\n",
      "         Iterations: 4\n",
      "         Function evaluations: 5\n",
      "         Gradient evaluations: 5\n"
     ]
    },
    {
     "name": "stderr",
     "output_type": "stream",
     "text": [
      "C:\\ProgramData\\Anaconda3\\lib\\site-packages\\statsmodels\\base\\model.py:492: HessianInversionWarning: Inverting hessian failed, no bse or cov_params available\n",
      "  'available', HessianInversionWarning)\n",
      "C:\\ProgramData\\Anaconda3\\lib\\site-packages\\statsmodels\\base\\model.py:492: HessianInversionWarning: Inverting hessian failed, no bse or cov_params available\n",
      "  'available', HessianInversionWarning)\n"
     ]
    },
    {
     "name": "stdout",
     "output_type": "stream",
     "text": [
      "Optimization terminated successfully.\n",
      "         Current function value: 0.690754\n",
      "         Iterations: 4\n",
      "         Function evaluations: 5\n",
      "         Gradient evaluations: 5\n",
      "Optimization terminated successfully.\n",
      "         Current function value: 0.690754\n",
      "         Iterations: 4\n",
      "         Function evaluations: 5\n",
      "         Gradient evaluations: 5\n"
     ]
    },
    {
     "name": "stderr",
     "output_type": "stream",
     "text": [
      "C:\\ProgramData\\Anaconda3\\lib\\site-packages\\statsmodels\\base\\model.py:492: HessianInversionWarning: Inverting hessian failed, no bse or cov_params available\n",
      "  'available', HessianInversionWarning)\n"
     ]
    },
    {
     "data": {
      "text/html": [
       "<div>\n",
       "<style scoped>\n",
       "    .dataframe tbody tr th:only-of-type {\n",
       "        vertical-align: middle;\n",
       "    }\n",
       "\n",
       "    .dataframe tbody tr th {\n",
       "        vertical-align: top;\n",
       "    }\n",
       "\n",
       "    .dataframe thead th {\n",
       "        text-align: right;\n",
       "    }\n",
       "</style>\n",
       "<table border=\"1\" class=\"dataframe\">\n",
       "  <thead>\n",
       "    <tr style=\"text-align: right;\">\n",
       "      <th></th>\n",
       "      <th>VariableName</th>\n",
       "      <th>SomersD</th>\n",
       "    </tr>\n",
       "  </thead>\n",
       "  <tbody>\n",
       "    <tr>\n",
       "      <td>0</td>\n",
       "      <td>attack_buffer_overflow</td>\n",
       "      <td>0.000511683</td>\n",
       "    </tr>\n",
       "    <tr>\n",
       "      <td>0</td>\n",
       "      <td>attack_ftp_write</td>\n",
       "      <td>0.000136449</td>\n",
       "    </tr>\n",
       "    <tr>\n",
       "      <td>0</td>\n",
       "      <td>attack_guess_passwd</td>\n",
       "      <td>0.000903974</td>\n",
       "    </tr>\n",
       "    <tr>\n",
       "      <td>0</td>\n",
       "      <td>attack_imap</td>\n",
       "      <td>0.000187617</td>\n",
       "    </tr>\n",
       "    <tr>\n",
       "      <td>0</td>\n",
       "      <td>attack_ipsweep</td>\n",
       "      <td>0.061385</td>\n",
       "    </tr>\n",
       "    <tr>\n",
       "      <td>...</td>\n",
       "      <td>...</td>\n",
       "      <td>...</td>\n",
       "    </tr>\n",
       "    <tr>\n",
       "      <td>0</td>\n",
       "      <td>srv_count</td>\n",
       "      <td>-0.117776</td>\n",
       "    </tr>\n",
       "    <tr>\n",
       "      <td>0</td>\n",
       "      <td>srv_diff_host_rate</td>\n",
       "      <td>0.273193</td>\n",
       "    </tr>\n",
       "    <tr>\n",
       "      <td>0</td>\n",
       "      <td>su_attempted</td>\n",
       "      <td>0</td>\n",
       "    </tr>\n",
       "    <tr>\n",
       "      <td>0</td>\n",
       "      <td>urgent</td>\n",
       "      <td>0</td>\n",
       "    </tr>\n",
       "    <tr>\n",
       "      <td>0</td>\n",
       "      <td>wrong_fragment</td>\n",
       "      <td>0</td>\n",
       "    </tr>\n",
       "  </tbody>\n",
       "</table>\n",
       "<p>134 rows × 2 columns</p>\n",
       "</div>"
      ],
      "text/plain": [
       "              VariableName      SomersD\n",
       "0   attack_buffer_overflow  0.000511683\n",
       "0         attack_ftp_write  0.000136449\n",
       "0      attack_guess_passwd  0.000903974\n",
       "0              attack_imap  0.000187617\n",
       "0           attack_ipsweep     0.061385\n",
       "..                     ...          ...\n",
       "0                srv_count    -0.117776\n",
       "0       srv_diff_host_rate     0.273193\n",
       "0             su_attempted            0\n",
       "0                   urgent            0\n",
       "0           wrong_fragment            0\n",
       "\n",
       "[134 rows x 2 columns]"
      ]
     },
     "execution_count": 54,
     "metadata": {},
     "output_type": "execute_result"
    }
   ],
   "source": [
    "somersd_df = pd.DataFrame()\n",
    "for num_variable in train_data_new.columns.difference(['y_bino']):\n",
    "    logreg = smf.logit(formula = str('y_bino ~ ')+str(num_variable), data=train_data_new)\n",
    "    result = logreg.fit(method='bfgs')\n",
    "    #summ = result.summary()\n",
    "    y_bino_score = pd.DataFrame(result.predict())\n",
    "    y_bino_score.columns = ['Score']\n",
    "    somers_d = 2*metrics.roc_auc_score(train_data_new['y_bino'],y_bino_score) - 1\n",
    "    temp = pd.DataFrame([num_variable,somers_d]).T\n",
    "    temp.columns = ['VariableName', 'SomersD']\n",
    "    somersd_df = pd.concat([somersd_df, temp], axis=0)\n",
    "\n",
    "somersd_df"
   ]
  },
  {
   "cell_type": "code",
   "execution_count": 55,
   "metadata": {},
   "outputs": [],
   "source": [
    "imp_vars_SD = somersd_df.sort_values('SomersD', ascending=False).head(15)"
   ]
  },
  {
   "cell_type": "code",
   "execution_count": 56,
   "metadata": {},
   "outputs": [
    {
     "data": {
      "text/html": [
       "<div>\n",
       "<style scoped>\n",
       "    .dataframe tbody tr th:only-of-type {\n",
       "        vertical-align: middle;\n",
       "    }\n",
       "\n",
       "    .dataframe tbody tr th {\n",
       "        vertical-align: top;\n",
       "    }\n",
       "\n",
       "    .dataframe thead th {\n",
       "        text-align: right;\n",
       "    }\n",
       "</style>\n",
       "<table border=\"1\" class=\"dataframe\">\n",
       "  <thead>\n",
       "    <tr style=\"text-align: right;\">\n",
       "      <th></th>\n",
       "      <th>VariableName</th>\n",
       "      <th>SomersD</th>\n",
       "    </tr>\n",
       "  </thead>\n",
       "  <tbody>\n",
       "    <tr>\n",
       "      <td>0</td>\n",
       "      <td>attack_normal</td>\n",
       "      <td>1</td>\n",
       "    </tr>\n",
       "    <tr>\n",
       "      <td>0</td>\n",
       "      <td>dst_bytes</td>\n",
       "      <td>0.799057</td>\n",
       "    </tr>\n",
       "    <tr>\n",
       "      <td>0</td>\n",
       "      <td>dst_host_srv_count</td>\n",
       "      <td>0.784964</td>\n",
       "    </tr>\n",
       "    <tr>\n",
       "      <td>0</td>\n",
       "      <td>same_srv_rate</td>\n",
       "      <td>0.747816</td>\n",
       "    </tr>\n",
       "    <tr>\n",
       "      <td>0</td>\n",
       "      <td>flag_SF</td>\n",
       "      <td>0.744312</td>\n",
       "    </tr>\n",
       "    <tr>\n",
       "      <td>0</td>\n",
       "      <td>dst_host_same_srv_rate</td>\n",
       "      <td>0.730698</td>\n",
       "    </tr>\n",
       "    <tr>\n",
       "      <td>0</td>\n",
       "      <td>attack_neptune</td>\n",
       "      <td>0.702951</td>\n",
       "    </tr>\n",
       "    <tr>\n",
       "      <td>0</td>\n",
       "      <td>diff_srv_rate</td>\n",
       "      <td>0.689471</td>\n",
       "    </tr>\n",
       "    <tr>\n",
       "      <td>0</td>\n",
       "      <td>logged_in</td>\n",
       "      <td>0.676629</td>\n",
       "    </tr>\n",
       "    <tr>\n",
       "      <td>0</td>\n",
       "      <td>dst_host_diff_srv_rate</td>\n",
       "      <td>0.653356</td>\n",
       "    </tr>\n",
       "    <tr>\n",
       "      <td>0</td>\n",
       "      <td>count</td>\n",
       "      <td>0.641607</td>\n",
       "    </tr>\n",
       "    <tr>\n",
       "      <td>0</td>\n",
       "      <td>dst_host_serror_rate</td>\n",
       "      <td>0.622378</td>\n",
       "    </tr>\n",
       "    <tr>\n",
       "      <td>0</td>\n",
       "      <td>flag_S0</td>\n",
       "      <td>0.583128</td>\n",
       "    </tr>\n",
       "    <tr>\n",
       "      <td>0</td>\n",
       "      <td>service_http</td>\n",
       "      <td>0.52597</td>\n",
       "    </tr>\n",
       "    <tr>\n",
       "      <td>0</td>\n",
       "      <td>last_flag</td>\n",
       "      <td>0.525789</td>\n",
       "    </tr>\n",
       "  </tbody>\n",
       "</table>\n",
       "</div>"
      ],
      "text/plain": [
       "             VariableName   SomersD\n",
       "0           attack_normal         1\n",
       "0               dst_bytes  0.799057\n",
       "0      dst_host_srv_count  0.784964\n",
       "0           same_srv_rate  0.747816\n",
       "0                 flag_SF  0.744312\n",
       "0  dst_host_same_srv_rate  0.730698\n",
       "0          attack_neptune  0.702951\n",
       "0           diff_srv_rate  0.689471\n",
       "0               logged_in  0.676629\n",
       "0  dst_host_diff_srv_rate  0.653356\n",
       "0                   count  0.641607\n",
       "0    dst_host_serror_rate  0.622378\n",
       "0                 flag_S0  0.583128\n",
       "0            service_http   0.52597\n",
       "0               last_flag  0.525789"
      ]
     },
     "execution_count": 56,
     "metadata": {},
     "output_type": "execute_result"
    }
   ],
   "source": [
    "imp_vars_SD"
   ]
  },
  {
   "cell_type": "code",
   "execution_count": 57,
   "metadata": {},
   "outputs": [],
   "source": [
    "imp_vars_somerceD = list(imp_vars_SD.VariableName.values)"
   ]
  },
  {
   "cell_type": "code",
   "execution_count": 58,
   "metadata": {},
   "outputs": [
    {
     "data": {
      "text/plain": [
       "['attack_normal',\n",
       " 'dst_bytes',\n",
       " 'dst_host_srv_count',\n",
       " 'same_srv_rate',\n",
       " 'flag_SF',\n",
       " 'dst_host_same_srv_rate',\n",
       " 'attack_neptune',\n",
       " 'diff_srv_rate',\n",
       " 'logged_in',\n",
       " 'dst_host_diff_srv_rate',\n",
       " 'count',\n",
       " 'dst_host_serror_rate',\n",
       " 'flag_S0',\n",
       " 'service_http',\n",
       " 'last_flag']"
      ]
     },
     "execution_count": 58,
     "metadata": {},
     "output_type": "execute_result"
    }
   ],
   "source": [
    "imp_vars_somerceD"
   ]
  },
  {
   "cell_type": "markdown",
   "metadata": {},
   "source": [
    "#### RFE"
   ]
  },
  {
   "cell_type": "code",
   "execution_count": 59,
   "metadata": {},
   "outputs": [],
   "source": [
    "X = train_data_new[train_data_new.columns.difference(['y_bino'])]\n",
    "classifier = RandomForestClassifier()\n",
    "rfe = RFE(classifier, 15)\n",
    "rfe = rfe.fit(X, train_data_new[['y_bino']] )"
   ]
  },
  {
   "cell_type": "code",
   "execution_count": 60,
   "metadata": {},
   "outputs": [],
   "source": [
    "imp_vars_RFE = list(X.columns[rfe.support_])"
   ]
  },
  {
   "cell_type": "code",
   "execution_count": 61,
   "metadata": {},
   "outputs": [
    {
     "data": {
      "text/plain": [
       "['attack_normal',\n",
       " 'count',\n",
       " 'dst_bytes',\n",
       " 'dst_host_count',\n",
       " 'dst_host_diff_srv_rate',\n",
       " 'dst_host_same_src_port_rate',\n",
       " 'dst_host_serror_rate',\n",
       " 'dst_host_srv_count',\n",
       " 'flag_SF',\n",
       " 'last_flag',\n",
       " 'logged_in',\n",
       " 'protocol_type_tcp',\n",
       " 'same_srv_rate',\n",
       " 'src_bytes',\n",
       " 'srv_count']"
      ]
     },
     "execution_count": 61,
     "metadata": {},
     "output_type": "execute_result"
    }
   ],
   "source": [
    "imp_vars_RFE"
   ]
  },
  {
   "cell_type": "markdown",
   "metadata": {},
   "source": [
    "#### Select KBEST"
   ]
  },
  {
   "cell_type": "code",
   "execution_count": 62,
   "metadata": {},
   "outputs": [],
   "source": [
    "X = train_data_new[train_data_new.columns.difference(['y_bino'])]\n",
    "SKB = SelectKBest(f_classif, k=15).fit(X, train_data_new[['y_bino']] )"
   ]
  },
  {
   "cell_type": "code",
   "execution_count": 63,
   "metadata": {},
   "outputs": [],
   "source": [
    "SKB.get_support()\n",
    "imp_vars_SKB = list(X.columns[SKB.get_support()])"
   ]
  },
  {
   "cell_type": "code",
   "execution_count": 64,
   "metadata": {},
   "outputs": [
    {
     "data": {
      "text/plain": [
       "['attack_neptune',\n",
       " 'attack_normal',\n",
       " 'count',\n",
       " 'dst_bytes',\n",
       " 'dst_host_count',\n",
       " 'dst_host_same_srv_rate',\n",
       " 'dst_host_serror_rate',\n",
       " 'dst_host_srv_count',\n",
       " 'flag_S0',\n",
       " 'flag_SF',\n",
       " 'last_flag',\n",
       " 'logged_in',\n",
       " 'same_srv_rate',\n",
       " 'service_http',\n",
       " 'service_private']"
      ]
     },
     "execution_count": 64,
     "metadata": {},
     "output_type": "execute_result"
    }
   ],
   "source": [
    "imp_vars_SKB"
   ]
  },
  {
   "cell_type": "markdown",
   "metadata": {},
   "source": [
    "#### Using WOE (Weight of Evidence)\n",
    "- Identify important variables using WOE or log(odds) comparing with y\n",
    "- Variable Transformation: (i) Bucketing if the variables are not having linear relationship with log(odds)"
   ]
  },
  {
   "cell_type": "raw",
   "metadata": {},
   "source": [
    "bp = PdfPages('WOE Plots.pdf')\n",
    "\n",
    "for num_variable in train_data_new.columns.difference(['y_bino']):\n",
    "    binned = pd.cut(train_data_new[num_variable], bins=10, labels=list(range(1,11)))\n",
    "    #binned = binned.dropna()\n",
    "    odds = train_data_new.groupby_bino(binned)['y_bino'].sum() / (train_data_new.groupby_bino(binned)['y_bino'].count()-train_data_new.groupby_bino(binned)['y_bino'].sum())\n",
    "    log_odds = np.log(odds)\n",
    "    fig,axes = plt.subplots(figsize=(10,4))\n",
    "    sns.barplot(x=log_odds.index,y_bino=log_odds)\n",
    "    plt.y_binolabel('Log Odds Ratio')\n",
    "    plt.title(str('Logit Plot for identify_binoing if the bucketing is required or not for variable ') + str(num_variable))\n",
    "    bp.savefig(fig)\n",
    "\n",
    "bp.close()"
   ]
  },
  {
   "cell_type": "code",
   "execution_count": 65,
   "metadata": {},
   "outputs": [],
   "source": [
    "def calculate_woe_iv(dataset, feature, target):\n",
    "    lst = []\n",
    "    for i in range(dataset[feature].nunique()):\n",
    "        val = list(dataset[feature].unique())[i]\n",
    "        lst.append({\n",
    "            'Value': val,\n",
    "            'All': dataset[dataset[feature] == val].count()[feature],\n",
    "            'Good': dataset[(dataset[feature] == val) & (dataset[target] == 0)].count()[feature],\n",
    "            'Bad': dataset[(dataset[feature] == val) & (dataset[target] == 1)].count()[feature]\n",
    "        })\n",
    "        \n",
    "    dset = pd.DataFrame(lst)\n",
    "    dset['Distr_Good'] = dset['Good'] / dset['Good'].sum()\n",
    "    dset['Distr_Bad'] = dset['Bad'] / dset['Bad'].sum()\n",
    "    dset['WoE'] = np.log(dset['Distr_Good'] / dset['Distr_Bad'])\n",
    "    dset = dset.replace({'WoE': {np.inf: 0, -np.inf: 0}})\n",
    "    dset['IV'] = (dset['Distr_Good'] - dset['Distr_Bad']) * dset['WoE']\n",
    "    iv = dset['IV'].sum()\n",
    "    \n",
    "    dset = dset.sort_values(by='WoE')\n",
    "    \n",
    "    return dset, iv"
   ]
  },
  {
   "cell_type": "code",
   "execution_count": 66,
   "metadata": {},
   "outputs": [
    {
     "name": "stdout",
     "output_type": "stream",
     "text": [
      "WoE and IV for column: duration\n",
      "       Value   All  Good  Bad  Distr_Good  Distr_Bad       WoE        IV\n",
      "253  5057.00     5     1    4    0.000015   0.000068 -1.524832  0.000081\n",
      "171  5044.00     5     1    4    0.000015   0.000068 -1.524832  0.000081\n",
      "674    61.00     3     1    2    0.000015   0.000034 -0.831685  0.000016\n",
      "187  5041.00     3     1    2    0.000015   0.000034 -0.831685  0.000016\n",
      "8    9590.58  1260   422  838    0.006267   0.014293 -0.824550  0.006618\n",
      "..       ...   ...   ...  ...         ...        ...       ...       ...\n",
      "67     32.00    38    37    1    0.000549   0.000017  3.472380  0.001849\n",
      "32     27.00   197   193    4    0.002866   0.000068  3.737858  0.010458\n",
      "10     26.00    57    56    1    0.000832   0.000017  3.886814  0.003166\n",
      "49     29.00    70    69    1    0.001025   0.000017  4.095569  0.004127\n",
      "24     28.00   181   180    1    0.002673   0.000017  5.054419  0.013424\n",
      "\n",
      "[1767 rows x 8 columns]\n",
      "IV score: 0.14\n",
      "\n",
      "\n",
      "WoE and IV for column: src_bytes\n",
      "     Value   All  Good   Bad  Distr_Good  Distr_Bad       WoE        IV\n",
      "63    1032  2001     2  1999    0.000030   0.034095 -7.045793  0.240018\n",
      "55       1  2432     8  2424    0.000119   0.041344 -5.852270  0.241261\n",
      "24      28   895     3   892    0.000045   0.015214 -5.833391  0.088490\n",
      "7       18   555     3   552    0.000045   0.009415 -5.353473  0.050164\n",
      "89    1480   200     2   198    0.000030   0.003377 -4.733657  0.015845\n",
      "..     ...   ...   ...   ...         ...        ...       ...       ...\n",
      "65     294   248   247     1    0.003668   0.000017  5.370851  0.019608\n",
      "54     237   287   286     1    0.004247   0.000017  5.517454  0.023338\n",
      "91     226   315   314     1    0.004663   0.000017  5.610855  0.026066\n",
      "152    230   332   331     1    0.004915   0.000017  5.663581  0.027741\n",
      "28      44  2334  2329     5    0.034585   0.000085  6.005219  0.207176\n",
      "\n",
      "[3223 rows x 8 columns]\n",
      "IV score: 3.36\n",
      "\n",
      "\n",
      "WoE and IV for column: dst_bytes\n",
      "     Value  All  Good  Bad  Distr_Good  Distr_Bad       WoE        IV\n",
      "150   8314  888     1  887    0.000015   0.015129 -6.926383  0.104685\n",
      "195   2451  108     2  106    0.000030   0.001808 -4.108830  0.007307\n",
      "363   2449   96     5   91    0.000074   0.001552 -3.039959  0.004493\n",
      "661   2447   40     3   37    0.000045   0.000631 -2.650843  0.001555\n",
      "752   2453   17     2   15    0.000030   0.000256 -2.153441  0.000487\n",
      "..     ...  ...   ...  ...         ...        ...       ...       ...\n",
      "644     75  232   231    1    0.003430   0.000017  5.303880  0.018103\n",
      "281    132  239   238    1    0.003534   0.000017  5.333733  0.018759\n",
      "16      43  253   252    1    0.003742   0.000017  5.390891  0.020081\n",
      "36      44  511   509    2    0.007558   0.000034  5.400763  0.040637\n",
      "182    131  265   264    1    0.003920   0.000017  5.437412  0.021223\n",
      "\n",
      "[8405 rows x 8 columns]\n",
      "IV score: 1.88\n",
      "\n",
      "\n",
      "WoE and IV for column: land\n",
      "   Value     All   Good    Bad  Distr_Good  Distr_Bad  WoE   IV\n",
      "0      0  125972  67342  58630         1.0        1.0  0.0  0.0\n",
      "IV score: 0.00\n",
      "\n",
      "\n",
      "WoE and IV for column: wrong_fragment\n",
      "   Value     All   Good    Bad  Distr_Good  Distr_Bad  WoE   IV\n",
      "0      0  125972  67342  58630         1.0        1.0  0.0  0.0\n",
      "IV score: 0.00\n",
      "\n",
      "\n",
      "WoE and IV for column: urgent\n",
      "   Value     All   Good    Bad  Distr_Good  Distr_Bad  WoE   IV\n",
      "0      0  125972  67342  58630         1.0        1.0  0.0  0.0\n",
      "IV score: 0.00\n",
      "\n",
      "\n",
      "WoE and IV for column: hot\n",
      "   Value     All   Good    Bad  Distr_Good  Distr_Bad       WoE        IV\n",
      "2      2    1037    132    905    0.001960   0.015436 -2.063671  0.027809\n",
      "0      0  123301  66086  57215    0.981349   0.975866  0.005603  0.000031\n",
      "3      1     369    224    145    0.003326   0.002473  0.296375  0.000253\n",
      "1      3    1265    900    365    0.013365   0.006225  0.763960  0.005454\n",
      "IV score: 0.03\n",
      "\n",
      "\n",
      "WoE and IV for column: num_failed_logins\n",
      "   Value     All   Good    Bad  Distr_Good  Distr_Bad  WoE   IV\n",
      "0      0  125972  67342  58630         1.0        1.0  0.0  0.0\n",
      "IV score: 0.00\n",
      "\n",
      "\n",
      "WoE and IV for column: logged_in\n",
      "   Value    All   Good    Bad  Distr_Good  Distr_Bad       WoE       IV\n",
      "0      0  76120  19485  56635    0.289344   0.965973 -1.205520  0.81569\n",
      "1      1  49852  47857   1995    0.710656   0.034027  3.039036  2.05630\n",
      "IV score: 2.87\n",
      "\n",
      "\n",
      "WoE and IV for column: num_compromised\n",
      "   Value     All   Good    Bad  Distr_Good  Distr_Bad       WoE        IV\n",
      "1      1    1286    372    914    0.005524   0.015589 -1.037474  0.010442\n",
      "0      0  124686  66970  57716    0.994476   0.984411  0.010173  0.000102\n",
      "IV score: 0.01\n",
      "\n",
      "\n",
      "WoE and IV for column: root_shell\n",
      "   Value     All   Good    Bad  Distr_Good  Distr_Bad  WoE   IV\n",
      "0      0  125972  67342  58630         1.0        1.0  0.0  0.0\n",
      "IV score: 0.00\n",
      "\n",
      "\n",
      "WoE and IV for column: su_attempted\n",
      "   Value     All   Good    Bad  Distr_Good  Distr_Bad  WoE   IV\n",
      "0      0  125972  67342  58630         1.0        1.0  0.0  0.0\n",
      "IV score: 0.00\n",
      "\n",
      "\n",
      "WoE and IV for column: num_file_creations\n",
      "   Value     All   Good    Bad  Distr_Good  Distr_Bad  WoE   IV\n",
      "0      0  125972  67342  58630         1.0        1.0  0.0  0.0\n",
      "IV score: 0.00\n",
      "\n",
      "\n",
      "WoE and IV for column: num_shells\n",
      "   Value     All   Good    Bad  Distr_Good  Distr_Bad  WoE   IV\n",
      "0      0  125972  67342  58630         1.0        1.0  0.0  0.0\n",
      "IV score: 0.00\n",
      "\n",
      "\n",
      "WoE and IV for column: num_access_files\n",
      "   Value     All   Good    Bad  Distr_Good  Distr_Bad  WoE   IV\n",
      "0      0  125972  67342  58630         1.0        1.0  0.0  0.0\n",
      "IV score: 0.00\n",
      "\n",
      "\n",
      "WoE and IV for column: is_host_login\n",
      "   Value     All   Good    Bad  Distr_Good  Distr_Bad  WoE   IV\n",
      "0      0  125972  67342  58630         1.0        1.0  0.0  0.0\n",
      "IV score: 0.00\n",
      "\n",
      "\n",
      "WoE and IV for column: is_guest_login\n",
      "   Value     All   Good    Bad  Distr_Good  Distr_Bad  WoE   IV\n",
      "0      0  125972  67342  58630         1.0        1.0  0.0  0.0\n",
      "IV score: 0.00\n",
      "\n",
      "\n",
      "WoE and IV for column: count\n",
      "     Value   All  Good   Bad  Distr_Good  Distr_Bad       WoE        IV\n",
      "273    510   307     1   306    0.000015   0.005219 -5.862123  0.030508\n",
      "86     511  1437    12  1425    0.000178   0.024305 -4.915558  0.118597\n",
      "274    296   207     8   199    0.000119   0.003394 -3.352401  0.010980\n",
      "82     102   294    12   282    0.000178   0.004810 -3.295538  0.015264\n",
      "187    297   193     8   185    0.000119   0.003155 -3.279452  0.009958\n",
      "..     ...   ...   ...   ...         ...        ...       ...       ...\n",
      "37      10  1610  1472   138    0.021859   0.002354  2.228586  0.043468\n",
      "17       9  1712  1577   135    0.023418   0.002303  2.319467  0.048976\n",
      "67       6  2413  2239   174    0.033248   0.002968  2.416192  0.073163\n",
      "15       8  1902  1772   130    0.026313   0.002217  2.473792  0.059609\n",
      "68       7  2325  2190   135    0.032521   0.002303  2.647844  0.080013\n",
      "\n",
      "[511 rows x 8 columns]\n",
      "IV score: 2.59\n",
      "\n",
      "\n",
      "WoE and IV for column: srv_count\n",
      "     Value   All  Good   Bad  Distr_Good  Distr_Bad       WoE        IV\n",
      "44     492  1262    14  1248    0.000208   0.021286 -4.628778  0.097566\n",
      "119    446    17     1    16    0.000015   0.000273 -2.911126  0.000751\n",
      "295    480    17     1    16    0.000015   0.000273 -2.911126  0.000751\n",
      "184    482    17     1    16    0.000015   0.000273 -2.911126  0.000751\n",
      "270    449    16     1    15    0.000015   0.000256 -2.846588  0.000686\n",
      "..     ...   ...   ...   ...         ...        ...       ...       ...\n",
      "95     152   101    99     2    0.001470   0.000034  3.763435  0.005404\n",
      "102    154   105   103     2    0.001530   0.000034  3.803044  0.005687\n",
      "110    156   112   110     2    0.001633   0.000034  3.868796  0.006188\n",
      "140    155   113   111     2    0.001648   0.000034  3.877845  0.006260\n",
      "61     157   105   104     1    0.001544   0.000017  4.505853  0.006882\n",
      "\n",
      "[492 rows x 8 columns]\n",
      "IV score: 0.63\n",
      "\n",
      "\n",
      "WoE and IV for column: same_srv_rate\n",
      "    Value    All   Good    Bad  Distr_Good  Distr_Bad       WoE        IV\n",
      "12   0.03   3503      7   3496    0.000104   0.059628 -6.352002  0.378098\n",
      "34   0.13   1214      4   1210    0.000059   0.020638 -5.850619  0.120397\n",
      "7    0.02   3616     14   3602    0.000208   0.061436 -5.688725  0.348311\n",
      "51   0.26    217      1    216    0.000015   0.003684 -5.513816  0.020232\n",
      "3    0.16    579      4    575    0.000059   0.009807 -5.106613  0.049779\n",
      "..    ...    ...    ...    ...         ...        ...       ...       ...\n",
      "25   0.33    596    364    232    0.005405   0.003957  0.311879  0.000452\n",
      "14   0.50   1674   1100    574    0.016335   0.009790  0.511898  0.003350\n",
      "20   0.67    208    147     61    0.002183   0.001040  0.741021  0.000847\n",
      "2    1.00  76811  63372  13439    0.941047   0.229217  1.412324  1.005334\n",
      "22   0.99    759    721     38    0.010707   0.000648  2.804515  0.028209\n",
      "\n",
      "[101 rows x 8 columns]\n",
      "IV score: 4.29\n",
      "\n",
      "\n",
      "WoE and IV for column: diff_srv_rate\n"
     ]
    },
    {
     "name": "stdout",
     "output_type": "stream",
     "text": [
      "    Value    All   Good    Bad  Distr_Good  Distr_Bad       WoE        IV\n",
      "3    0.06  18998     48  18950    0.000713   0.323213 -6.116896  1.972703\n",
      "1    0.07   9515     37   9478    0.000549   0.161658 -5.684348  0.915796\n",
      "4    0.05   6887     37   6850    0.000549   0.116834 -5.359624  0.623244\n",
      "6    0.08   1883     29   1854    0.000431   0.031622 -4.296343  0.134009\n",
      "38   0.16     98      2     96    0.000030   0.001637 -4.009739  0.006446\n",
      "..    ...    ...    ...    ...         ...        ...       ...       ...\n",
      "10   0.02    264    212     52    0.003148   0.000887  1.266805  0.002864\n",
      "2    0.00  76216  62772  13444    0.932137   0.229302  1.402439  0.985683\n",
      "9    0.67    456    376     80    0.005583   0.001364  1.409025  0.005945\n",
      "25   0.60    268    238     30    0.003534   0.000512  1.932536  0.005841\n",
      "12   0.01   1013    987     26    0.014657   0.000443  3.498036  0.049718\n",
      "\n",
      "[95 rows x 8 columns]\n",
      "IV score: 4.92\n",
      "\n",
      "\n",
      "WoE and IV for column: srv_diff_host_rate\n",
      "    Value    All   Good    Bad  Distr_Good  Distr_Bad       WoE        IV\n",
      "56   0.37      3      1      2    0.000015   0.000034 -0.831685  0.000016\n",
      "0    0.00  97573  43018  54555    0.638799   0.930496 -0.376128  0.109716\n",
      "31   0.88      1      1      0    0.000015   0.000000  0.000000  0.000000\n",
      "35   0.55      2      2      0    0.000030   0.000000  0.000000  0.000000\n",
      "36   0.04    187    187      0    0.002777   0.000000  0.000000  0.000000\n",
      "39   0.31     75     75      0    0.001114   0.000000  0.000000  0.000000\n",
      "43   0.83      7      7      0    0.000104   0.000000  0.000000  0.000000\n",
      "44   0.24     85     85      0    0.001262   0.000000  0.000000  0.000000\n",
      "45   0.80     60     60      0    0.000891   0.000000  0.000000  0.000000\n",
      "46   0.45     14     14      0    0.000208   0.000000  0.000000  0.000000\n",
      "47   0.44     53     53      0    0.000787   0.000000  0.000000  0.000000\n",
      "49   0.32      8      8      0    0.000119   0.000000  0.000000  0.000000\n",
      "50   0.42     11     11      0    0.000163   0.000000  0.000000  0.000000\n",
      "51   0.26     17     17      0    0.000252   0.000000  0.000000  0.000000\n",
      "52   0.62      7      7      0    0.000104   0.000000  0.000000  0.000000\n",
      "53   0.35      8      8      0    0.000119   0.000000  0.000000  0.000000\n",
      "54   0.71      9      9      0    0.000134   0.000000  0.000000  0.000000\n",
      "55   0.47      3      3      0    0.000045   0.000000  0.000000  0.000000\n",
      "57   0.54      2      2      0    0.000030   0.000000  0.000000  0.000000\n",
      "58   0.46      2      2      0    0.000030   0.000000  0.000000  0.000000\n",
      "28   0.56     12     12      0    0.000178   0.000000  0.000000  0.000000\n",
      "59   0.41      1      1      0    0.000015   0.000000  0.000000  0.000000\n",
      "10   0.03    218    218      0    0.003237   0.000000  0.000000  0.000000\n",
      "18   0.02    771    771      0    0.011449   0.000000  0.000000  0.000000\n",
      "9    0.05    325    325      0    0.004826   0.000000  0.000000  0.000000\n",
      "21   0.57     33     33      0    0.000490   0.000000  0.000000  0.000000\n",
      "7    0.01   2865   2865      0    0.042544   0.000000  0.000000  0.000000\n",
      "6    1.00   8143   4589   3554    0.068145   0.060617  0.117051  0.000881\n",
      "48   0.28     28     24      4    0.000356   0.000068  1.653222  0.000476\n",
      "16   0.67    975    870    105    0.012919   0.001791  1.975995  0.021989\n",
      "19   0.50    982    877    105    0.013023   0.001791  1.984009  0.022285\n",
      "15   0.40    620    578     42    0.008583   0.000716  2.483367  0.019536\n",
      "2    0.43    178    167     11    0.002480   0.000188  2.581561  0.005918\n",
      "38   0.60    178    169      9    0.002510   0.000154  2.794137  0.006583\n",
      "14   0.33    790    754     36    0.011197   0.000614  2.903336  0.030725\n",
      "24   0.75    235    225     10    0.003341   0.000171  2.974978  0.009432\n",
      "13   0.10    721    697     24    0.010350   0.000409  3.230194  0.032111\n",
      "41   0.36     71     69      2    0.001025   0.000034  3.402422  0.003370\n",
      "17   0.29    587    571     16    0.008479   0.000273  3.436263  0.028199\n",
      "29   0.16    193    188      5    0.002792   0.000085  3.488466  0.009441\n",
      "12   0.11    732    714     18    0.010603   0.000307  3.541974  0.036467\n",
      "42   0.38    166    162      4    0.002406   0.000068  3.562764  0.008328\n",
      "5    0.18    581    568     13    0.008435   0.000222  3.638634  0.029883\n",
      "22   0.06    520    510     10    0.007573   0.000171  3.793288  0.028081\n",
      "8    0.14    673    661     12    0.009816   0.000205  3.870310  0.037197\n",
      "20   0.17    617    606     11    0.008999   0.000188  3.870447  0.034103\n",
      "32   0.15    623    612     11    0.009088   0.000188  3.880299  0.034536\n",
      "33   0.12    904    890     14    0.013216   0.000239  4.013627  0.052086\n",
      "30   0.25    724    713     11    0.010588   0.000188  4.033049  0.041944\n",
      "4    0.20    584    576      8    0.008553   0.000136  4.138129  0.034830\n",
      "25   0.07    519    512      7    0.007603   0.000119  4.153877  0.031086\n",
      "3    0.22    524    517      7    0.007677   0.000119  4.163595  0.031468\n",
      "23   0.13    461    455      6    0.006757   0.000102  4.190000  0.027881\n",
      "34   0.23    165    163      2    0.002420   0.000034  4.262065  0.010171\n",
      "37   0.30    170    168      2    0.002495   0.000034  4.292279  0.010562\n",
      "11   0.21    218    216      2    0.003208   0.000034  4.543594  0.014419\n",
      "40   0.19    246    244      2    0.003623   0.000034  4.665483  0.016745\n",
      "27   0.08    653    648      5    0.009623   0.000085  4.725915  0.045072\n",
      "1    0.09    618    614      4    0.009118   0.000068  4.895163  0.044298\n",
      "26   0.27    221    220      1    0.003267   0.000017  5.255090  0.017078\n",
      "IV score: 0.89\n",
      "\n",
      "\n",
      "WoE and IV for column: dst_host_count\n",
      "     Value    All   Good    Bad  Distr_Good  Distr_Bad       WoE        IV\n",
      "0      255  74099  25833  48266    0.383609   0.823230 -0.763612  0.335700\n",
      "5        1   3122   1116   2006    0.016572   0.034215 -0.724929  0.012790\n",
      "3        2   2733    979   1754    0.014538   0.029916 -0.721660  0.011098\n",
      "14       4   1198    754    444    0.011197   0.007573  0.391030  0.001417\n",
      "38       3   1280    847    433    0.012578   0.007385  0.532425  0.002765\n",
      "..     ...    ...    ...    ...         ...        ...       ...       ...\n",
      "26      24    340    319     21    0.004737   0.000358  2.582131  0.011307\n",
      "21      21    382    359     23    0.005331   0.000392  2.609291  0.012887\n",
      "153     22    371    349     22    0.005183   0.000375  2.625492  0.012621\n",
      "159     20    397    375     22    0.005569   0.000375  2.697346  0.014008\n",
      "126     19    386    365     21    0.005420   0.000358  2.716837  0.013752\n",
      "\n",
      "[255 rows x 8 columns]\n",
      "IV score: 1.25\n",
      "\n",
      "\n",
      "WoE and IV for column: dst_host_srv_count\n",
      "    Value    All   Good   Bad  Distr_Good  Distr_Bad       WoE        IV\n",
      "3      19   2190    132  2058    0.001960   0.035101 -2.885226  0.095620\n",
      "10     20   2300    142  2158    0.002109   0.036807 -2.859648  0.099225\n",
      "58     18   1989    141  1848    0.002094   0.031520 -2.711637  0.079792\n",
      "12     16   1834    150  1684    0.002227   0.028722 -2.556830  0.067743\n",
      "13     17   1862    164  1698    0.002435   0.028961 -2.475878  0.065675\n",
      "..    ...    ...    ...   ...         ...        ...       ...       ...\n",
      "17    250    302    290    12    0.004306   0.000205  3.046437  0.012496\n",
      "2     255  35993  34789  1204    0.516602   0.020536  3.225114  1.599870\n",
      "98    251    402    393     9    0.005836   0.000154  3.638047  0.020673\n",
      "59    253    472    465     7    0.006905   0.000119  4.057590  0.027533\n",
      "42    254   2238   2225    13    0.033040   0.000222  5.004025  0.164225\n",
      "\n",
      "[255 rows x 8 columns]\n",
      "IV score: 3.49\n",
      "\n",
      "\n",
      "WoE and IV for column: dst_host_same_srv_rate\n",
      "    Value   All  Good   Bad  Distr_Good  Distr_Bad       WoE        IV\n",
      "3    0.07  5672   286  5386    0.004247   0.091864 -3.074104  0.269345\n",
      "4    0.04  5208   357  4851    0.005301   0.082739 -2.747742  0.212779\n",
      "7    0.05  4951   358  4593    0.005316   0.078339 -2.690293  0.196452\n",
      "20   0.08  2816   206  2610    0.003059   0.044516 -2.677767  0.111013\n",
      "5    0.06  3444   253  3191    0.003757   0.054426 -2.673238  0.135451\n",
      "..    ...   ...   ...   ...         ...        ...       ...       ...\n",
      "57   0.95   580   562    18    0.008345   0.000307  3.302592  0.026548\n",
      "16   0.96   675   657    18    0.009756   0.000307  3.458775  0.032683\n",
      "67   0.97   478   466    12    0.006920   0.000205  3.520741  0.023643\n",
      "10   0.98   821   808    13    0.011998   0.000222  3.991075  0.047002\n",
      "22   0.99   688   684     4    0.010157   0.000068  5.003126  0.050476\n",
      "\n",
      "[101 rows x 8 columns]\n",
      "IV score: 2.96\n",
      "\n",
      "\n",
      "WoE and IV for column: dst_host_diff_srv_rate\n"
     ]
    },
    {
     "name": "stdout",
     "output_type": "stream",
     "text": [
      "    Value    All   Good    Bad  Distr_Good  Distr_Bad       WoE        IV\n",
      "22   1.00   2139     52   2087    0.000772   0.035596 -3.830777  0.133403\n",
      "71   0.94     45      2     43    0.000030   0.000733 -3.206591  0.002257\n",
      "3    0.07  16570    845  15725    0.012548   0.268207 -3.062208  0.782883\n",
      "98   0.98     35      2     33    0.000030   0.000563 -2.941898  0.001568\n",
      "75   0.97     86      5     81    0.000074   0.001382 -2.923549  0.003822\n",
      "..    ...    ...    ...    ...         ...        ...       ...       ...\n",
      "89   0.86     75     53     22    0.000787   0.000375  0.740712  0.000305\n",
      "5    0.85    108     78     30    0.001158   0.000512  0.816974  0.000528\n",
      "18   0.03   3562   2986    576    0.044341   0.009824  1.507045  0.052018\n",
      "2    0.00  46989  40084   6905    0.595230   0.117772  1.620194  0.773574\n",
      "8    0.01   9295   8514    781    0.126429   0.013321  2.250354  0.254534\n",
      "\n",
      "[101 rows x 8 columns]\n",
      "IV score: 2.78\n",
      "\n",
      "\n",
      "WoE and IV for column: dst_host_same_src_port_rate\n",
      "    Value    All   Good    Bad  Distr_Good  Distr_Bad       WoE        IV\n",
      "4    1.00  10307   2529   7778    0.037555   0.132662 -1.262013  0.120027\n",
      "77   0.66     57     17     40    0.000252   0.000682 -0.994204  0.000427\n",
      "71   0.65     79     25     54    0.000371   0.000921 -0.908646  0.000500\n",
      "47   0.63     65     22     43    0.000327   0.000733 -0.808695  0.000329\n",
      "1    0.00  63023  22433  40590    0.333120   0.692308 -0.731526  0.262755\n",
      "..    ...    ...    ...    ...         ...        ...       ...       ...\n",
      "9    0.05   1664   1499    165    0.022260   0.002814  2.068070  0.040214\n",
      "2    0.03   3278   2953    325    0.043851   0.005543  2.068214  0.079228\n",
      "12   0.04   2096   1898    198    0.028184   0.003377  2.121751  0.052635\n",
      "35   0.08   1086    986    100    0.014642   0.001706  2.149949  0.027812\n",
      "24   0.50   1077    984     93    0.014612   0.001586  2.220489  0.028924\n",
      "\n",
      "[101 rows x 8 columns]\n",
      "IV score: 1.17\n",
      "\n",
      "\n",
      "WoE and IV for column: dst_host_srv_diff_host_rate\n",
      "    Value    All   Good    Bad  Distr_Good  Distr_Bad       WoE        IV\n",
      "7    0.51    622      2    620    0.000030   0.010575 -5.875110  0.061954\n",
      "22   0.50   1550     83   1467    0.001233   0.025021 -3.010672  0.071620\n",
      "10   0.26    328     30    298    0.000445   0.005083 -2.434434  0.011289\n",
      "20   0.25    951    120    831    0.001782   0.014174 -2.073676  0.025696\n",
      "5    0.52   1330    228   1102    0.003386   0.018796 -1.714074  0.026414\n",
      "39   0.27    119     46     73    0.000683   0.001245 -0.600356  0.000337\n",
      "0    0.00  86903  33754  53149    0.501233   0.906515 -0.592538  0.240146\n",
      "50   0.49      4      4      0    0.000059   0.000000  0.000000  0.000000\n",
      "46   0.37      8      8      0    0.000119   0.000000  0.000000  0.000000\n",
      "45   0.48      4      4      0    0.000059   0.000000  0.000000  0.000000\n",
      "43   0.34     11     11      0    0.000163   0.000000  0.000000  0.000000\n",
      "42   0.32     11     11      0    0.000163   0.000000  0.000000  0.000000\n",
      "40   0.35     10     10      0    0.000148   0.000000  0.000000  0.000000\n",
      "32   0.39      6      6      0    0.000089   0.000000  0.000000  0.000000\n",
      "51   0.47      5      5      0    0.000074   0.000000  0.000000  0.000000\n",
      "52   0.41      4      4      0    0.000059   0.000000  0.000000  0.000000\n",
      "36   0.28     38     25     13    0.000371   0.000222  0.515389  0.000077\n",
      "44   0.44      9      6      3    0.000089   0.000051  0.554610  0.000021\n",
      "26   0.12    238    175     63    0.002599   0.001075  0.883114  0.001346\n",
      "30   0.43     19     14      5    0.000208   0.000085  0.891082  0.000109\n",
      "41   0.29    122     91     31    0.001351   0.000529  0.938335  0.000772\n",
      "6    0.14    236    179     57    0.002658   0.000972  1.005797  0.001696\n",
      "25   0.13    243    186     57    0.002762   0.000972  1.044158  0.001869\n",
      "18   0.33    107     84     23    0.001247   0.000392  1.156785  0.000989\n",
      "35   0.31     33     26      7    0.000386   0.000119  1.173649  0.000313\n",
      "28   0.38     19     15      4    0.000223   0.000068  1.183218  0.000183\n",
      "34   0.30     38     30      8    0.000445   0.000136  1.183218  0.000366\n",
      "49   0.42      5      4      1    0.000059   0.000017  1.247757  0.000053\n",
      "48   0.36      5      4      1    0.000059   0.000017  1.247757  0.000053\n",
      "47   0.46      5      4      1    0.000059   0.000017  1.247757  0.000053\n",
      "13   0.15    247    198     49    0.002940   0.000836  1.257909  0.002647\n",
      "19   0.11    283    232     51    0.003445   0.000870  1.376374  0.003544\n",
      "31   0.17    210    174     36    0.002584   0.000614  1.436999  0.002831\n",
      "38   0.40    102     85     17    0.001262   0.000290  1.470900  0.001430\n",
      "33   0.16    226    192     34    0.002851   0.000580  1.592597  0.003617\n",
      "37   0.45      7      6      1    0.000089   0.000017  1.653222  0.000119\n",
      "14   0.10    238    206     32    0.003059   0.000546  1.723603  0.004332\n",
      "17   0.19    144    125     19    0.001856   0.000324  1.745337  0.002674\n",
      "29   0.22    177    156     21    0.002317   0.000358  1.866796  0.003656\n",
      "9    0.18    204    181     23    0.002688   0.000392  1.924465  0.004418\n",
      "3    0.20    211    188     23    0.002792   0.000392  1.962410  0.004709\n",
      "11   0.09    414    384     30    0.005702   0.000512  2.410908  0.012514\n",
      "23   0.24     76     71      5    0.001054   0.000085  2.514704  0.002437\n",
      "27   0.23     63     59      4    0.000876   0.000068  2.552705  0.002062\n",
      "15   0.21    146    137      9    0.002034   0.000154  2.584219  0.004861\n",
      "24   0.08    488    459     29    0.006816   0.000495  2.623217  0.016582\n",
      "16   0.07   1036    995     41    0.014775   0.000699  3.050633  0.042941\n",
      "21   0.06   1330   1296     34    0.019245   0.000580  3.502140  0.065368\n",
      "1    0.04   4518   4410    108    0.065487   0.001842  3.570961  0.227272\n",
      "12   0.05   3048   2993     55    0.044445   0.000938  3.858161  0.167856\n",
      "2    0.03   4723   4661     62    0.069214   0.001057  4.181313  0.284983\n",
      "8    0.01   7146   7063     83    0.104883   0.001416  4.305247  0.445450\n",
      "4    0.02   7952   7902     50    0.117341   0.000853  4.924311  0.573626\n",
      "IV score: 2.33\n",
      "\n",
      "\n",
      "WoE and IV for column: dst_host_serror_rate\n",
      "    Value    All  Good    Bad  Distr_Good  Distr_Bad       WoE        IV\n",
      "1    1.00  33562    65  33497    0.000965   0.571329 -6.383361  3.640836\n",
      "3    0.99    304    11    293    0.000163   0.004997 -3.420815  0.016537\n",
      "19   0.16    200     8    192    0.000119   0.003275 -3.316591  0.010467\n",
      "8    0.09    419    39    380    0.000579   0.006481 -2.415147  0.014255\n",
      "13   0.98    169    16    153    0.000238   0.002610 -2.396387  0.005684\n",
      "..    ...    ...   ...    ...         ...        ...       ...       ...\n",
      "41   0.68     16    14      2    0.000208   0.000034  1.807373  0.000314\n",
      "71   0.69     18    16      2    0.000238   0.000034  1.940904  0.000395\n",
      "76   0.64     19    17      2    0.000252   0.000034  2.001529  0.000437\n",
      "34   0.63     15    14      1    0.000208   0.000017  2.500520  0.000477\n",
      "43   0.66     15    14      1    0.000208   0.000017  2.500520  0.000477\n",
      "\n",
      "[101 rows x 8 columns]\n",
      "IV score: 4.35\n",
      "\n",
      "\n",
      "WoE and IV for column: dst_host_rerror_rate\n",
      "     Value   All  Good  Bad  Distr_Good  Distr_Bad       WoE        IV\n",
      "49    0.63    81     7   74    0.000104   0.001262 -2.496693  0.002892\n",
      "33    0.91   267    24  243    0.000356   0.004145 -2.453545  0.009295\n",
      "15    0.89   244    25  219    0.000371   0.003735 -2.308734  0.007767\n",
      "100   0.48    55     6   49    0.000089   0.000836 -2.238598  0.001671\n",
      "61    0.96   168    19  149    0.000282   0.002541 -2.198045  0.004966\n",
      "..     ...   ...   ...  ...         ...        ...       ...       ...\n",
      "2     0.02  1222   809  413    0.012013   0.007044  0.533814  0.002653\n",
      "47    0.09   104    72   32    0.001069   0.000546  0.672393  0.000352\n",
      "11    0.01  1800  1308  492    0.019423   0.008392  0.839238  0.009258\n",
      "6     0.08   147   111   36    0.001648   0.000614  0.987474  0.001021\n",
      "37    0.03   497   377  120    0.005598   0.002047  1.006216  0.003574\n",
      "\n",
      "[101 rows x 8 columns]\n",
      "IV score: 0.32\n",
      "\n",
      "\n",
      "WoE and IV for column: last_flag\n",
      "    Value    All   Good    Bad  Distr_Good  Distr_Bad       WoE        IV\n",
      "0      15   3990    230   3760    0.003415   0.064131 -2.932633  0.178057\n",
      "9      11   1815    220   1595    0.003267   0.027205 -2.119539  0.050737\n",
      "6      16   2393    307   2086    0.004559   0.035579 -2.054693  0.063737\n",
      "7      12    729    121    608    0.001797   0.010370 -1.752922  0.015028\n",
      "1      19  10284   1773   8511    0.026328   0.145165 -1.707224  0.202880\n",
      "10     13    451    111    340    0.001648   0.005799 -1.257953  0.005221\n",
      "3      18  20667   7076  13591    0.105076   0.231810 -0.791237  0.100277\n",
      "4      20  19338   6885  12453    0.102239   0.212400 -0.731154  0.080544\n",
      "5      17   3074   1133   1941    0.016825   0.033106 -0.676872  0.011020\n",
      "8      14    674    322    352    0.004782   0.006004 -0.227617  0.000278\n",
      "2      21  62557  49164  13393    0.730064   0.228433  1.161892  0.582842\n",
      "IV score: 1.29\n",
      "\n",
      "\n",
      "WoE and IV for column: protocol_type_tcp\n"
     ]
    },
    {
     "name": "stdout",
     "output_type": "stream",
     "text": [
      "   Value     All   Good    Bad  Distr_Good  Distr_Bad       WoE        IV\n",
      "1      1  102688  53599  49089    0.795922   0.837268 -0.050642  0.002094\n",
      "0      0   23284  13743   9541    0.204078   0.162732  0.226394  0.009360\n",
      "IV score: 0.01\n",
      "\n",
      "\n",
      "WoE and IV for column: protocol_type_udp\n",
      "   Value     All   Good    Bad  Distr_Good  Distr_Bad       WoE        IV\n",
      "1      0  110979  54908  56071     0.81536   0.956353 -0.159497  0.022488\n",
      "0      1   14993  12434   2559     0.18464   0.043647  1.442280  0.203351\n",
      "IV score: 0.23\n",
      "\n",
      "\n",
      "WoE and IV for column: service_X11\n",
      "   Value     All   Good    Bad  Distr_Good  Distr_Bad       WoE            IV\n",
      "0      0  125899  67275  58624    0.999005   0.999898 -0.000893  7.971449e-07\n",
      "1      1      73     67      6    0.000995   0.000102  2.274396  2.030091e-03\n",
      "IV score: 0.00\n",
      "\n",
      "\n",
      "WoE and IV for column: service_Z39_50\n",
      "   Value     All   Good    Bad  Distr_Good  Distr_Bad       WoE        IV\n",
      "1      1     862      0    862         0.0   0.014702  0.000000 -0.000000\n",
      "0      0  125110  67342  57768         1.0   0.985298  0.014812  0.000218\n",
      "IV score: 0.00\n",
      "\n",
      "\n",
      "WoE and IV for column: service_aol\n",
      "   Value     All   Good    Bad  Distr_Good  Distr_Bad       WoE            IV\n",
      "1      1       2      0      2         0.0   0.000034  0.000000 -0.000000e+00\n",
      "0      0  125970  67342  58628         1.0   0.999966  0.000034  1.163664e-09\n",
      "IV score: 0.00\n",
      "\n",
      "\n",
      "WoE and IV for column: service_auth\n",
      "   Value     All   Good    Bad  Distr_Good  Distr_Bad       WoE        IV\n",
      "1      1     955    236    719    0.003504   0.012263 -1.252567  0.010971\n",
      "0      0  125017  67106  57911    0.996496   0.987737  0.008829  0.000077\n",
      "IV score: 0.01\n",
      "\n",
      "\n",
      "WoE and IV for column: service_bgp\n",
      "   Value     All   Good    Bad  Distr_Good  Distr_Bad       WoE        IV\n",
      "1      1     710      0    710         0.0    0.01211  0.000000 -0.000000\n",
      "0      0  125262  67342  57920         1.0    0.98789  0.012184  0.000148\n",
      "IV score: 0.00\n",
      "\n",
      "\n",
      "WoE and IV for column: service_courier\n",
      "   Value     All   Good    Bad  Distr_Good  Distr_Bad       WoE        IV\n",
      "1      1     734      0    734         0.0   0.012519  0.000000 -0.000000\n",
      "0      0  125238  67342  57896         1.0   0.987481  0.012598  0.000158\n",
      "IV score: 0.00\n",
      "\n",
      "\n",
      "WoE and IV for column: service_csnet_ns\n",
      "   Value     All   Good    Bad  Distr_Good  Distr_Bad       WoE        IV\n",
      "1      1     545      0    545         0.0   0.009296  0.000000 -0.000000\n",
      "0      0  125427  67342  58085         1.0   0.990704  0.009339  0.000087\n",
      "IV score: 0.00\n",
      "\n",
      "\n",
      "WoE and IV for column: service_ctf\n",
      "   Value     All   Good    Bad  Distr_Good  Distr_Bad       WoE        IV\n",
      "1      1     563      0    563         0.0   0.009603  0.000000 -0.000000\n",
      "0      0  125409  67342  58067         1.0   0.990397  0.009649  0.000093\n",
      "IV score: 0.00\n",
      "\n",
      "\n",
      "WoE and IV for column: service_daytime\n",
      "   Value     All   Good    Bad  Distr_Good  Distr_Bad       WoE        IV\n",
      "1      1     521      0    521         0.0   0.008886  0.000000 -0.000000\n",
      "0      0  125451  67342  58109         1.0   0.991114  0.008926  0.000079\n",
      "IV score: 0.00\n",
      "\n",
      "\n",
      "WoE and IV for column: service_discard\n",
      "   Value     All   Good    Bad  Distr_Good  Distr_Bad       WoE        IV\n",
      "1      1     538      0    538         0.0   0.009176  0.000000 -0.000000\n",
      "0      0  125434  67342  58092         1.0   0.990824  0.009219  0.000085\n",
      "IV score: 0.00\n",
      "\n",
      "\n",
      "WoE and IV for column: service_domain\n",
      "   Value     All   Good    Bad  Distr_Good  Distr_Bad       WoE        IV\n",
      "1      1     569     38    531    0.000564   0.009057 -2.775713  0.023573\n",
      "0      0  125403  67304  58099    0.999436   0.990943  0.008534  0.000072\n",
      "IV score: 0.02\n",
      "\n",
      "\n",
      "WoE and IV for column: service_domain_u\n",
      "   Value     All   Good    Bad  Distr_Good  Distr_Bad       WoE        IV\n",
      "0      0  116929  58308  58621    0.865849   0.999846 -0.143891  0.019281\n",
      "1      1    9043   9034      9    0.134151   0.000154  6.772988  0.907564\n",
      "IV score: 0.93\n",
      "\n",
      "\n",
      "WoE and IV for column: service_echo\n",
      "   Value     All   Good    Bad  Distr_Good  Distr_Bad      WoE        IV\n",
      "1      1     434      0    434         0.0   0.007402  0.00000 -0.000000\n",
      "0      0  125538  67342  58196         1.0   0.992598  0.00743  0.000055\n",
      "IV score: 0.00\n",
      "\n",
      "\n",
      "WoE and IV for column: service_eco_i\n",
      "   Value     All   Good    Bad  Distr_Good  Distr_Bad       WoE        IV\n",
      "1      1    4586    497   4089     0.00738   0.069742 -2.246003  0.140066\n",
      "0      0  121386  66845  54541     0.99262   0.930258  0.064886  0.004046\n",
      "IV score: 0.14\n",
      "\n",
      "\n",
      "WoE and IV for column: service_ecr_i\n",
      "   Value     All   Good    Bad  Distr_Good  Distr_Bad       WoE        IV\n",
      "1      1    3077    190   2887    0.002821   0.049241 -2.859487  0.132736\n",
      "0      0  122895  67152  55743    0.997179   0.950759  0.047669  0.002213\n",
      "IV score: 0.13\n",
      "\n",
      "\n",
      "WoE and IV for column: service_efs\n",
      "   Value     All   Good    Bad  Distr_Good  Distr_Bad       WoE        IV\n",
      "1      1     485      0    485         0.0   0.008272  0.000000 -0.000000\n",
      "0      0  125487  67342  58145         1.0   0.991728  0.008307  0.000069\n",
      "IV score: 0.00\n",
      "\n",
      "\n",
      "WoE and IV for column: service_exec\n",
      "   Value     All   Good    Bad  Distr_Good  Distr_Bad       WoE        IV\n",
      "1      1     474      0    474         0.0   0.008085  0.000000 -0.000000\n",
      "0      0  125498  67342  58156         1.0   0.991915  0.008117  0.000066\n",
      "IV score: 0.00\n",
      "\n",
      "\n",
      "WoE and IV for column: service_finger\n",
      "   Value     All   Good    Bad  Distr_Good  Distr_Bad       WoE        IV\n",
      "1      1    1767    545   1222    0.008093   0.020843 -0.945996  0.012061\n",
      "0      0  124205  66797  57408    0.991907   0.979157  0.012937  0.000165\n",
      "IV score: 0.01\n",
      "\n",
      "\n",
      "WoE and IV for column: service_ftp\n",
      "   Value     All   Good    Bad  Distr_Good  Distr_Bad       WoE            IV\n",
      "1      1    1754    918    836    0.013632   0.014259 -0.044969  2.819559e-05\n",
      "0      0  124218  66424  57794    0.986368   0.985741  0.000636  3.986928e-07\n",
      "IV score: 0.00\n",
      "\n",
      "\n",
      "WoE and IV for column: service_ftp_data\n",
      "   Value     All   Good    Bad  Distr_Good  Distr_Bad       WoE        IV\n",
      "0      0  119113  62359  56754    0.926005   0.968003 -0.044356  0.001863\n",
      "1      1    6859   4983   1876    0.073995   0.031997  0.838353  0.035209\n",
      "IV score: 0.04\n",
      "\n",
      "\n",
      "WoE and IV for column: service_gopher\n",
      "   Value     All   Good    Bad  Distr_Good  Distr_Bad       WoE        IV\n",
      "1      1     518      0    518         0.0   0.008835  0.000000 -0.000000\n",
      "0      0  125454  67342  58112         1.0   0.991165  0.008874  0.000078\n",
      "IV score: 0.00\n",
      "\n",
      "\n",
      "WoE and IV for column: service_harvest\n",
      "   Value     All   Good    Bad  Distr_Good  Distr_Bad       WoE            IV\n",
      "1      1       2      0      2         0.0   0.000034  0.000000 -0.000000e+00\n",
      "0      0  125970  67342  58628         1.0   0.999966  0.000034  1.163664e-09\n",
      "IV score: 0.00\n",
      "\n",
      "\n",
      "WoE and IV for column: service_hostnames\n",
      "   Value     All   Good    Bad  Distr_Good  Distr_Bad       WoE        IV\n",
      "1      1     460      0    460         0.0   0.007846  0.000000 -0.000000\n",
      "0      0  125512  67342  58170         1.0   0.992154  0.007877  0.000062\n",
      "IV score: 0.00\n",
      "\n",
      "\n",
      "WoE and IV for column: service_http\n",
      "   Value    All   Good    Bad  Distr_Good  Distr_Bad       WoE        IV\n",
      "0      0  85634  29293  56341    0.434989   0.960959 -0.792612  0.416890\n",
      "1      1  40338  38049   2289    0.565011   0.039041  2.672222  1.405509\n",
      "IV score: 1.82\n",
      "\n",
      "\n",
      "WoE and IV for column: service_http_2784\n",
      "   Value     All   Good    Bad  Distr_Good  Distr_Bad       WoE            IV\n",
      "1      1       1      0      1         0.0   0.000017  0.000000 -0.000000e+00\n",
      "0      0  125971  67342  58629         1.0   0.999983  0.000017  2.909135e-10\n",
      "IV score: 0.00\n",
      "\n",
      "\n",
      "WoE and IV for column: service_http_443\n",
      "   Value     All   Good    Bad  Distr_Good  Distr_Bad       WoE        IV\n",
      "1      1     530      0    530         0.0    0.00904  0.000000 -0.000000\n",
      "0      0  125442  67342  58100         1.0    0.99096  0.009081  0.000082\n",
      "IV score: 0.00\n",
      "\n",
      "\n",
      "WoE and IV for column: service_http_8001\n",
      "   Value     All   Good    Bad  Distr_Good  Distr_Bad       WoE            IV\n",
      "1      1       2      0      2         0.0   0.000034  0.000000 -0.000000e+00\n",
      "0      0  125970  67342  58628         1.0   0.999966  0.000034  1.163664e-09\n",
      "IV score: 0.00\n",
      "\n",
      "\n",
      "WoE and IV for column: service_imap4\n",
      "   Value     All   Good    Bad  Distr_Good  Distr_Bad       WoE        IV\n",
      "1      1     647      3    644    0.000045   0.010984 -5.507624  0.060251\n",
      "0      0  125325  67339  57986    0.999955   0.989016  0.011000  0.000120\n",
      "IV score: 0.06\n",
      "\n",
      "\n",
      "WoE and IV for column: service_iso_tsap\n"
     ]
    },
    {
     "name": "stdout",
     "output_type": "stream",
     "text": [
      "   Value     All   Good    Bad  Distr_Good  Distr_Bad       WoE        IV\n",
      "1      1     687      0    687         0.0   0.011718  0.000000 -0.000000\n",
      "0      0  125285  67342  57943         1.0   0.988282  0.011787  0.000138\n",
      "IV score: 0.00\n",
      "\n",
      "\n",
      "WoE and IV for column: service_klogin\n",
      "   Value     All   Good    Bad  Distr_Good  Distr_Bad       WoE        IV\n",
      "1      1     433      0    433         0.0   0.007385  0.000000 -0.000000\n",
      "0      0  125539  67342  58197         1.0   0.992615  0.007413  0.000055\n",
      "IV score: 0.00\n",
      "\n",
      "\n",
      "WoE and IV for column: service_kshell\n",
      "   Value     All   Good    Bad  Distr_Good  Distr_Bad       WoE        IV\n",
      "1      1     299      0    299         0.0     0.0051  0.000000 -0.000000\n",
      "0      0  125673  67342  58331         1.0     0.9949  0.005113  0.000026\n",
      "IV score: 0.00\n",
      "\n",
      "\n",
      "WoE and IV for column: service_ldap\n",
      "   Value     All   Good    Bad  Distr_Good  Distr_Bad       WoE        IV\n",
      "1      1     410      0    410         0.0   0.006993  0.000000 -0.000000\n",
      "0      0  125562  67342  58220         1.0   0.993007  0.007018  0.000049\n",
      "IV score: 0.00\n",
      "\n",
      "\n",
      "WoE and IV for column: service_link\n",
      "   Value     All   Good    Bad  Distr_Good  Distr_Bad       WoE        IV\n",
      "1      1     475      0    475         0.0   0.008102  0.000000 -0.000000\n",
      "0      0  125497  67342  58155         1.0   0.991898  0.008135  0.000066\n",
      "IV score: 0.00\n",
      "\n",
      "\n",
      "WoE and IV for column: service_login\n",
      "   Value     All   Good    Bad  Distr_Good  Distr_Bad       WoE        IV\n",
      "1      1     429      0    429         0.0   0.007317  0.000000 -0.000000\n",
      "0      0  125543  67342  58201         1.0   0.992683  0.007344  0.000054\n",
      "IV score: 0.00\n",
      "\n",
      "\n",
      "WoE and IV for column: service_mtp\n",
      "   Value     All   Good    Bad  Distr_Good  Distr_Bad       WoE        IV\n",
      "1      1     439      0    439         0.0   0.007488  0.000000 -0.000000\n",
      "0      0  125533  67342  58191         1.0   0.992512  0.007516  0.000056\n",
      "IV score: 0.00\n",
      "\n",
      "\n",
      "WoE and IV for column: service_name\n",
      "   Value     All   Good    Bad  Distr_Good  Distr_Bad       WoE        IV\n",
      "1      1     451      0    451         0.0   0.007692  0.000000 -0.000000\n",
      "0      0  125521  67342  58179         1.0   0.992308  0.007722  0.000059\n",
      "IV score: 0.00\n",
      "\n",
      "\n",
      "WoE and IV for column: service_netbios_dgm\n",
      "   Value     All   Good    Bad  Distr_Good  Distr_Bad       WoE        IV\n",
      "1      1     405      0    405         0.0   0.006908  0.000000 -0.000000\n",
      "0      0  125567  67342  58225         1.0   0.993092  0.006932  0.000048\n",
      "IV score: 0.00\n",
      "\n",
      "\n",
      "WoE and IV for column: service_netbios_ns\n",
      "   Value     All   Good    Bad  Distr_Good  Distr_Bad       WoE        IV\n",
      "1      1     347      0    347         0.0   0.005918  0.000000 -0.000000\n",
      "0      0  125625  67342  58283         1.0   0.994082  0.005936  0.000035\n",
      "IV score: 0.00\n",
      "\n",
      "\n",
      "WoE and IV for column: service_netbios_ssn\n",
      "   Value     All   Good    Bad  Distr_Good  Distr_Bad       WoE        IV\n",
      "1      1     362      0    362         0.0   0.006174  0.000000 -0.000000\n",
      "0      0  125610  67342  58268         1.0   0.993826  0.006193  0.000038\n",
      "IV score: 0.00\n",
      "\n",
      "\n",
      "WoE and IV for column: service_netstat\n",
      "   Value     All   Good    Bad  Distr_Good  Distr_Bad       WoE        IV\n",
      "1      1     360      0    360         0.0    0.00614  0.000000 -0.000000\n",
      "0      0  125612  67342  58270         1.0    0.99386  0.006159  0.000038\n",
      "IV score: 0.00\n",
      "\n",
      "\n",
      "WoE and IV for column: service_nnsp\n",
      "   Value     All   Good    Bad  Distr_Good  Distr_Bad       WoE        IV\n",
      "1      1     630      0    630         0.0   0.010745  0.000000 -0.000000\n",
      "0      0  125342  67342  58000         1.0   0.989255  0.010804  0.000116\n",
      "IV score: 0.00\n",
      "\n",
      "\n",
      "WoE and IV for column: service_nntp\n",
      "   Value     All   Good    Bad  Distr_Good  Distr_Bad       WoE        IV\n",
      "1      1     296      0    296         0.0   0.005049  0.000000 -0.000000\n",
      "0      0  125676  67342  58334         1.0   0.994951  0.005061  0.000026\n",
      "IV score: 0.00\n",
      "\n",
      "\n",
      "WoE and IV for column: service_ntp_u\n",
      "   Value     All   Good    Bad  Distr_Good  Distr_Bad       WoE        IV\n",
      "0      0  125804  67174  58630    0.997505        1.0 -0.002498  0.000006\n",
      "1      1     168    168      0    0.002495        0.0  0.000000  0.000000\n",
      "IV score: 0.00\n",
      "\n",
      "\n",
      "WoE and IV for column: service_other\n",
      "   Value     All   Good    Bad  Distr_Good  Distr_Bad       WoE        IV\n",
      "1      0  121613  64738  56875    0.961332   0.970067 -0.009045  0.000079\n",
      "0      1    4359   2604   1755    0.038668   0.029933  0.256042  0.002236\n",
      "IV score: 0.00\n",
      "\n",
      "\n",
      "WoE and IV for column: service_pm_dump\n",
      "   Value     All   Good    Bad  Distr_Good  Distr_Bad       WoE            IV\n",
      "1      1       5      0      5         0.0   0.000085  0.000000 -0.000000e+00\n",
      "0      0  125967  67342  58625         1.0   0.999915  0.000085  7.273086e-09\n",
      "IV score: 0.00\n",
      "\n",
      "\n",
      "WoE and IV for column: service_pop_2\n",
      "   Value     All   Good    Bad  Distr_Good  Distr_Bad       WoE        IV\n",
      "1      1      78      0     78         0.0    0.00133  0.000000 -0.000000\n",
      "0      0  125894  67342  58552         1.0    0.99867  0.001331  0.000002\n",
      "IV score: 0.00\n",
      "\n",
      "\n",
      "WoE and IV for column: service_pop_3\n",
      "   Value     All   Good    Bad  Distr_Good  Distr_Bad       WoE        IV\n",
      "0      0  125708  67156  58552    0.997238    0.99867 -0.001435  0.000002\n",
      "1      1     264    186     78    0.002762    0.00133  0.730500  0.001046\n",
      "IV score: 0.00\n",
      "\n",
      "\n",
      "WoE and IV for column: service_printer\n",
      "   Value     All   Good    Bad  Distr_Good  Distr_Bad       WoE        IV\n",
      "1      1      69      0     69         0.0   0.001177  0.000000 -0.000000\n",
      "0      0  125903  67342  58561         1.0   0.998823  0.001178  0.000001\n",
      "IV score: 0.00\n",
      "\n",
      "\n",
      "WoE and IV for column: service_private\n",
      "   Value     All   Good    Bad  Distr_Good  Distr_Bad       WoE        IV\n",
      "1      1   21853    982  20871    0.014582   0.355978 -3.195062  1.090781\n",
      "0      0  104119  66360  37759    0.985418   0.644022  0.425333  0.145207\n",
      "IV score: 1.24\n",
      "\n",
      "\n",
      "WoE and IV for column: service_red_i\n",
      "   Value     All   Good    Bad  Distr_Good  Distr_Bad       WoE            IV\n",
      "0      0  125964  67334  58630    0.999881        1.0 -0.000119  1.411347e-08\n",
      "1      1       8      8      0    0.000119        0.0  0.000000  0.000000e+00\n",
      "IV score: 0.00\n",
      "\n",
      "\n",
      "WoE and IV for column: service_remote_job\n",
      "   Value     All   Good    Bad  Distr_Good  Distr_Bad       WoE        IV\n",
      "1      1      78      0     78         0.0    0.00133  0.000000 -0.000000\n",
      "0      0  125894  67342  58552         1.0    0.99867  0.001331  0.000002\n",
      "IV score: 0.00\n",
      "\n",
      "\n",
      "WoE and IV for column: service_rje\n",
      "   Value     All   Good    Bad  Distr_Good  Distr_Bad       WoE        IV\n",
      "1      1      86      0     86         0.0   0.001467  0.000000 -0.000000\n",
      "0      0  125886  67342  58544         1.0   0.998533  0.001468  0.000002\n",
      "IV score: 0.00\n",
      "\n",
      "\n",
      "WoE and IV for column: service_shell\n",
      "   Value     All   Good    Bad  Distr_Good  Distr_Bad       WoE            IV\n",
      "1      1      65      4     61    0.000059    0.00104 -2.863117  2.808789e-03\n",
      "0      0  125907  67338  58569    0.999941    0.99896  0.000982  9.629391e-07\n",
      "IV score: 0.00\n",
      "\n",
      "\n",
      "WoE and IV for column: service_smtp\n",
      "   Value     All   Good    Bad  Distr_Good  Distr_Bad       WoE        IV\n",
      "0      0  118659  60313  58346    0.895622   0.995156 -0.105381  0.010489\n",
      "1      1    7313   7029    284    0.104378   0.004844  3.070288  0.305597\n",
      "IV score: 0.32\n",
      "\n",
      "\n",
      "WoE and IV for column: service_sql_net\n",
      "   Value     All   Good    Bad  Distr_Good  Distr_Bad       WoE        IV\n",
      "1      1     245      0    245         0.0   0.004179  0.000000 -0.000000\n",
      "0      0  125727  67342  58385         1.0   0.995821  0.004188  0.000017\n",
      "IV score: 0.00\n",
      "\n",
      "\n",
      "WoE and IV for column: service_ssh\n",
      "   Value     All   Good    Bad  Distr_Good  Distr_Bad       WoE        IV\n",
      "1      1     311      5    306    0.000074   0.005219 -4.252685  0.021880\n",
      "0      0  125661  67337  58324    0.999926   0.994781  0.005159  0.000027\n",
      "IV score: 0.02\n",
      "\n",
      "\n",
      "WoE and IV for column: service_sunrpc\n",
      "   Value     All   Good    Bad  Distr_Good  Distr_Bad      WoE        IV\n",
      "1      1     381      0    381         0.0   0.006498  0.00000 -0.000000\n",
      "0      0  125591  67342  58249         1.0   0.993502  0.00652  0.000042\n",
      "IV score: 0.00\n",
      "\n",
      "\n",
      "WoE and IV for column: service_supdup\n",
      "   Value     All   Good    Bad  Distr_Good  Distr_Bad       WoE        IV\n",
      "1      1     544      0    544         0.0   0.009279  0.000000 -0.000000\n",
      "0      0  125428  67342  58086         1.0   0.990721  0.009322  0.000086\n",
      "IV score: 0.00\n",
      "\n",
      "\n",
      "WoE and IV for column: service_systat\n"
     ]
    },
    {
     "name": "stdout",
     "output_type": "stream",
     "text": [
      "   Value     All   Good    Bad  Distr_Good  Distr_Bad       WoE        IV\n",
      "1      1     477      0    477         0.0   0.008136  0.000000 -0.000000\n",
      "0      0  125495  67342  58153         1.0   0.991864  0.008169  0.000066\n",
      "IV score: 0.00\n",
      "\n",
      "\n",
      "WoE and IV for column: service_telnet\n",
      "   Value     All   Good    Bad  Distr_Good  Distr_Bad       WoE        IV\n",
      "1      1    2353    917   1436    0.013617   0.024493 -0.587047  0.006384\n",
      "0      0  123619  66425  57194    0.986383   0.975507  0.011087  0.000121\n",
      "IV score: 0.01\n",
      "\n",
      "\n",
      "WoE and IV for column: service_tftp_u\n",
      "   Value     All   Good    Bad  Distr_Good  Distr_Bad       WoE            IV\n",
      "0      0  125969  67339  58630    0.999955        1.0 -0.000045  1.984633e-09\n",
      "1      1       3      3      0    0.000045        0.0  0.000000  0.000000e+00\n",
      "IV score: 0.00\n",
      "\n",
      "\n",
      "WoE and IV for column: service_tim_i\n",
      "   Value     All   Good    Bad  Distr_Good  Distr_Bad       WoE            IV\n",
      "0      0  125964  67337  58627    0.999926   0.999949 -0.000023  5.326979e-10\n",
      "1      1       8      5      3    0.000074   0.000051  0.372288  8.592231e-06\n",
      "IV score: 0.00\n",
      "\n",
      "\n",
      "WoE and IV for column: service_time\n",
      "   Value     All   Good    Bad  Distr_Good  Distr_Bad       WoE        IV\n",
      "1      1     654     76    578    0.001129   0.009858 -2.167378  0.018921\n",
      "0      0  125318  67266  58052    0.998871   0.990142  0.008778  0.000077\n",
      "IV score: 0.02\n",
      "\n",
      "\n",
      "WoE and IV for column: service_urh_i\n",
      "   Value     All   Good    Bad  Distr_Good  Distr_Bad       WoE            IV\n",
      "0      0  125962  67332  58630    0.999852        1.0 -0.000149  2.205262e-08\n",
      "1      1      10     10      0    0.000148        0.0  0.000000  0.000000e+00\n",
      "IV score: 0.00\n",
      "\n",
      "\n",
      "WoE and IV for column: service_urp_i\n",
      "   Value     All   Good    Bad  Distr_Good  Distr_Bad       WoE        IV\n",
      "0      0  125370  66743  58627    0.991105   0.999949 -0.008884  0.000079\n",
      "1      1     602    599      3    0.008895   0.000051  5.158112  0.045617\n",
      "IV score: 0.05\n",
      "\n",
      "\n",
      "WoE and IV for column: service_uucp\n",
      "   Value     All   Good    Bad  Distr_Good  Distr_Bad       WoE        IV\n",
      "1      1     780      0    780         0.0   0.013304  0.000000 -0.000000\n",
      "0      0  125192  67342  57850         1.0   0.986696  0.013393  0.000178\n",
      "IV score: 0.00\n",
      "\n",
      "\n",
      "WoE and IV for column: service_uucp_path\n",
      "   Value     All   Good    Bad  Distr_Good  Distr_Bad       WoE        IV\n",
      "1      1     689      0    689         0.0   0.011752  0.000000 -0.000000\n",
      "0      0  125283  67342  57941         1.0   0.988248  0.011821  0.000139\n",
      "IV score: 0.00\n",
      "\n",
      "\n",
      "WoE and IV for column: service_vmnet\n",
      "   Value     All   Good    Bad  Distr_Good  Distr_Bad       WoE        IV\n",
      "1      1     617      0    617         0.0   0.010524  0.000000 -0.000000\n",
      "0      0  125355  67342  58013         1.0   0.989476  0.010579  0.000111\n",
      "IV score: 0.00\n",
      "\n",
      "\n",
      "WoE and IV for column: service_whois\n",
      "   Value     All   Good    Bad  Distr_Good  Distr_Bad      WoE        IV\n",
      "1      1     693      0    693         0.0    0.01182  0.00000 -0.000000\n",
      "0      0  125279  67342  57937         1.0    0.98818  0.01189  0.000141\n",
      "IV score: 0.00\n",
      "\n",
      "\n",
      "WoE and IV for column: flag_REJ\n",
      "   Value     All   Good    Bad  Distr_Good  Distr_Bad       WoE        IV\n",
      "1      1   11233   2693   8540     0.03999   0.145659 -1.292643  0.136593\n",
      "0      0  114739  64649  50090     0.96001   0.854341  0.116614  0.012322\n",
      "IV score: 0.15\n",
      "\n",
      "\n",
      "WoE and IV for column: flag_RSTO\n",
      "   Value     All   Good    Bad  Distr_Good  Distr_Bad       WoE        IV\n",
      "1      1    1562    219   1343    0.003252   0.022906 -1.952127  0.038368\n",
      "0      0  124410  67123  57287    0.996748   0.977094  0.019915  0.000391\n",
      "IV score: 0.04\n",
      "\n",
      "\n",
      "WoE and IV for column: flag_RSTOS0\n",
      "   Value     All   Good    Bad  Distr_Good  Distr_Bad       WoE        IV\n",
      "1      1     103      0    103         0.0   0.001757  0.000000 -0.000000\n",
      "0      0  125869  67342  58527         1.0   0.998243  0.001758  0.000003\n",
      "IV score: 0.00\n",
      "\n",
      "\n",
      "WoE and IV for column: flag_RSTR\n",
      "   Value     All   Good    Bad  Distr_Good  Distr_Bad       WoE        IV\n",
      "1      1    2421    146   2275    0.002168   0.038803 -2.884666  0.105679\n",
      "0      0  123551  67196  56355    0.997832   0.961197  0.037405  0.001370\n",
      "IV score: 0.11\n",
      "\n",
      "\n",
      "WoE and IV for column: flag_S0\n",
      "   Value    All   Good    Bad  Distr_Good  Distr_Bad       WoE        IV\n",
      "1      1  34851    354  34497    0.005257   0.588385 -4.717868  2.751121\n",
      "0      0  91121  66988  24133    0.994743   0.411615  0.882396  0.514550\n",
      "IV score: 3.27\n",
      "\n",
      "\n",
      "WoE and IV for column: flag_S1\n",
      "   Value     All   Good    Bad  Distr_Good  Distr_Bad       WoE        IV\n",
      "0      0  125607  66981  58626    0.994639   0.999932 -0.005307  0.000028\n",
      "1      1     365    361      4    0.005361   0.000068  4.364046  0.023097\n",
      "IV score: 0.02\n",
      "\n",
      "\n",
      "WoE and IV for column: flag_S2\n",
      "   Value     All   Good    Bad  Distr_Good  Distr_Bad       WoE        IV\n",
      "0      0  125845  67223  58622    0.998233   0.999864 -0.001632  0.000003\n",
      "1      1     127    119      8    0.001767   0.000136  2.561144  0.004176\n",
      "IV score: 0.00\n",
      "\n",
      "\n",
      "WoE and IV for column: flag_S3\n",
      "   Value     All   Good    Bad  Distr_Good  Distr_Bad       WoE            IV\n",
      "0      0  125923  67297  58626    0.999332   0.999932 -0.000600  3.601403e-07\n",
      "1      1      49     45      4    0.000668   0.000068  2.281831  1.369113e-03\n",
      "IV score: 0.00\n",
      "\n",
      "\n",
      "WoE and IV for column: flag_SF\n",
      "   Value    All   Good    Bad  Distr_Good  Distr_Bad       WoE        IV\n",
      "1      0  51028   3950  47078    0.058656   0.802968 -2.616628  1.947587\n",
      "0      1  74944  63392  11552    0.941344   0.197032  1.563941  1.164060\n",
      "IV score: 3.11\n",
      "\n",
      "\n",
      "WoE and IV for column: flag_SH\n",
      "   Value     All   Good    Bad  Distr_Good  Distr_Bad       WoE        IV\n",
      "1      1     271      2    269     0.00003   0.004588 -5.040102  0.022975\n",
      "0      0  125701  67340  58361     0.99997   0.995412  0.004569  0.000021\n",
      "IV score: 0.02\n",
      "\n",
      "\n",
      "WoE and IV for column: attack_buffer_overflow\n",
      "   Value     All   Good    Bad  Distr_Good  Distr_Bad       WoE            IV\n",
      "1      1      30      0     30         0.0   0.000512  0.000000 -0.000000e+00\n",
      "0      0  125942  67342  58600         1.0   0.999488  0.000512  2.618869e-07\n",
      "IV score: 0.00\n",
      "\n",
      "\n",
      "WoE and IV for column: attack_ftp_write\n",
      "   Value     All   Good    Bad  Distr_Good  Distr_Bad       WoE            IV\n",
      "1      1       8      0      8         0.0   0.000136  0.000000 -0.000000e+00\n",
      "0      0  125964  67342  58622         1.0   0.999864  0.000136  1.861958e-08\n",
      "IV score: 0.00\n",
      "\n",
      "\n",
      "WoE and IV for column: attack_guess_passwd\n",
      "   Value     All   Good    Bad  Distr_Good  Distr_Bad       WoE            IV\n",
      "1      1      53      0     53         0.0   0.000904  0.000000 -0.000000e+00\n",
      "0      0  125919  67342  58577         1.0   0.999096  0.000904  8.175387e-07\n",
      "IV score: 0.00\n",
      "\n",
      "\n",
      "WoE and IV for column: attack_imap\n",
      "   Value     All   Good    Bad  Distr_Good  Distr_Bad       WoE            IV\n",
      "1      1      11      0     11         0.0   0.000188  0.000000 -0.000000e+00\n",
      "0      0  125961  67342  58619         1.0   0.999812  0.000188  3.520354e-08\n",
      "IV score: 0.00\n",
      "\n",
      "\n",
      "WoE and IV for column: attack_ipsweep\n",
      "   Value     All   Good    Bad  Distr_Good  Distr_Bad      WoE        IV\n",
      "1      1    3599      0   3599         0.0   0.061385  0.00000 -0.000000\n",
      "0      0  122373  67342  55031         1.0   0.938615  0.06335  0.003889\n",
      "IV score: 0.00\n",
      "\n",
      "\n",
      "WoE and IV for column: attack_land\n",
      "   Value     All   Good    Bad  Distr_Good  Distr_Bad       WoE            IV\n",
      "1      1      18      0     18         0.0   0.000307  0.000000 -0.000000e+00\n",
      "0      0  125954  67342  58612         1.0   0.999693  0.000307  9.426965e-08\n",
      "IV score: 0.00\n",
      "\n",
      "\n",
      "WoE and IV for column: attack_loadmodule\n",
      "   Value     All   Good    Bad  Distr_Good  Distr_Bad       WoE            IV\n",
      "1      1       9      0      9         0.0   0.000154  0.000000 -0.000000e+00\n",
      "0      0  125963  67342  58621         1.0   0.999846  0.000154  2.356560e-08\n",
      "IV score: 0.00\n",
      "\n",
      "\n",
      "WoE and IV for column: attack_multihop\n",
      "   Value     All   Good    Bad  Distr_Good  Distr_Bad       WoE            IV\n",
      "1      1       7      0      7         0.0   0.000119  0.000000 -0.000000e+00\n",
      "0      0  125965  67342  58623         1.0   0.999881  0.000119  1.425549e-08\n",
      "IV score: 0.00\n",
      "\n",
      "\n",
      "WoE and IV for column: attack_neptune\n",
      "   Value    All   Good    Bad  Distr_Good  Distr_Bad       WoE        IV\n",
      "1      1  41214      0  41214         0.0   0.702951  0.000000 -0.000000\n",
      "0      0  84758  67342  17416         1.0   0.297049  1.213857  0.853282\n",
      "IV score: 0.85\n",
      "\n",
      "\n",
      "WoE and IV for column: attack_nmap\n"
     ]
    },
    {
     "name": "stdout",
     "output_type": "stream",
     "text": [
      "   Value     All   Good    Bad  Distr_Good  Distr_Bad       WoE        IV\n",
      "1      1    1493      0   1493         0.0   0.025465  0.000000 -0.000000\n",
      "0      0  124479  67342  57137         1.0   0.974535  0.025795  0.000657\n",
      "IV score: 0.00\n",
      "\n",
      "\n",
      "WoE and IV for column: attack_normal\n",
      "   Value    All   Good    Bad  Distr_Good  Distr_Bad  WoE   IV\n",
      "0      1  67342  67342      0         1.0        0.0  0.0  0.0\n",
      "1      0  58630      0  58630         0.0        1.0  0.0 -0.0\n",
      "IV score: 0.00\n",
      "\n",
      "\n",
      "WoE and IV for column: attack_perl\n",
      "   Value     All   Good    Bad  Distr_Good  Distr_Bad       WoE            IV\n",
      "1      1       3      0      3         0.0   0.000051  0.000000 -0.000000e+00\n",
      "0      0  125969  67342  58627         1.0   0.999949  0.000051  2.618266e-09\n",
      "IV score: 0.00\n",
      "\n",
      "\n",
      "WoE and IV for column: attack_phf\n",
      "   Value     All   Good    Bad  Distr_Good  Distr_Bad       WoE            IV\n",
      "1      1       4      0      4         0.0   0.000068  0.000000 -0.000000e+00\n",
      "0      0  125968  67342  58626         1.0   0.999932  0.000068  4.654736e-09\n",
      "IV score: 0.00\n",
      "\n",
      "\n",
      "WoE and IV for column: attack_pod\n",
      "   Value     All   Good    Bad  Distr_Good  Distr_Bad       WoE        IV\n",
      "1      1     201      0    201         0.0   0.003428  0.000000 -0.000000\n",
      "0      0  125771  67342  58429         1.0   0.996572  0.003434  0.000012\n",
      "IV score: 0.00\n",
      "\n",
      "\n",
      "WoE and IV for column: attack_portsweep\n",
      "   Value     All   Good    Bad  Distr_Good  Distr_Bad       WoE        IV\n",
      "1      1    2931      0   2931         0.0   0.049991  0.000000 -0.000000\n",
      "0      0  123041  67342  55699         1.0   0.950009  0.051284  0.002564\n",
      "IV score: 0.00\n",
      "\n",
      "\n",
      "WoE and IV for column: attack_rootkit\n",
      "   Value     All   Good    Bad  Distr_Good  Distr_Bad       WoE            IV\n",
      "1      1      10      0     10         0.0   0.000171  0.000000 -0.000000e+00\n",
      "0      0  125962  67342  58620         1.0   0.999829  0.000171  2.909359e-08\n",
      "IV score: 0.00\n",
      "\n",
      "\n",
      "WoE and IV for column: attack_satan\n",
      "   Value     All   Good    Bad  Distr_Good  Distr_Bad       WoE        IV\n",
      "1      1    3633      0   3633         0.0   0.061965  0.000000 -0.000000\n",
      "0      0  122339  67342  54997         1.0   0.938035  0.063968  0.003964\n",
      "IV score: 0.00\n",
      "\n",
      "\n",
      "WoE and IV for column: attack_smurf\n",
      "   Value     All   Good    Bad  Distr_Good  Distr_Bad       WoE        IV\n",
      "1      1    2646      0   2646         0.0    0.04513  0.000000 -0.000000\n",
      "0      0  123326  67342  55984         1.0    0.95487  0.046181  0.002084\n",
      "IV score: 0.00\n",
      "\n",
      "\n",
      "WoE and IV for column: attack_spy\n",
      "   Value     All   Good    Bad  Distr_Good  Distr_Bad       WoE            IV\n",
      "1      1       2      0      2         0.0   0.000034  0.000000 -0.000000e+00\n",
      "0      0  125970  67342  58628         1.0   0.999966  0.000034  1.163664e-09\n",
      "IV score: 0.00\n",
      "\n",
      "\n",
      "WoE and IV for column: attack_teardrop\n",
      "   Value     All   Good    Bad  Distr_Good  Distr_Bad       WoE        IV\n",
      "1      1     892      0    892         0.0   0.015214  0.000000 -0.000000\n",
      "0      0  125080  67342  57738         1.0   0.984786  0.015331  0.000233\n",
      "IV score: 0.00\n",
      "\n",
      "\n",
      "WoE and IV for column: attack_warezclient\n",
      "   Value     All   Good    Bad  Distr_Good  Distr_Bad       WoE        IV\n",
      "1      1     890      0    890         0.0    0.01518  0.000000 -0.000000\n",
      "0      0  125082  67342  57740         1.0    0.98482  0.015296  0.000232\n",
      "IV score: 0.00\n",
      "\n",
      "\n",
      "WoE and IV for column: attack_warezmaster\n",
      "   Value     All   Good    Bad  Distr_Good  Distr_Bad       WoE            IV\n",
      "1      1      20      0     20         0.0   0.000341  0.000000 -0.000000e+00\n",
      "0      0  125952  67342  58610         1.0   0.999659  0.000341  1.163843e-07\n",
      "IV score: 0.00\n",
      "\n",
      "\n"
     ]
    }
   ],
   "source": [
    "for col in train_data_new.columns:\n",
    "    if col == 'y_bino': continue\n",
    "    else:\n",
    "        print('WoE and IV for column: {}'.format(col))\n",
    "        df, iv = calculate_woe_iv(train_data_new, col, 'y_bino')\n",
    "        print(df)\n",
    "        print('IV score: {:.2f}'.format(iv))\n",
    "        print('\\n')"
   ]
  },
  {
   "cell_type": "markdown",
   "metadata": {},
   "source": [
    " you can select the variables based on the information value and below criteria\n",
    " \n",
    " - IV: <0.02, Predictive Power: Useless for prediction\n",
    " - IV: 0.02 - 0.1, Predictive Power: Weak predictor\n",
    " - IV: 0.1 - 0.2, Predictive Power: Medium predictor\n",
    " - IV: 0.3 - 0.5, Predictive Power: Storng predictor\n",
    " - IV: > 0.5, Predictive Power: Suspecious predictor or too good predictor"
   ]
  },
  {
   "cell_type": "code",
   "execution_count": 67,
   "metadata": {},
   "outputs": [],
   "source": [
    "#Final List (from Univariate, RFE, SelectKbest)"
   ]
  },
  {
   "cell_type": "code",
   "execution_count": 68,
   "metadata": {},
   "outputs": [],
   "source": [
    "# one method  to adding df\n",
    "Final_list1 = list(set(imp_vars_SKB + imp_vars_RFE + imp_vars_somerceD))"
   ]
  },
  {
   "cell_type": "code",
   "execution_count": 69,
   "metadata": {},
   "outputs": [
    {
     "data": {
      "text/plain": [
       "['last_flag',\n",
       " 'service_http',\n",
       " 'flag_SF',\n",
       " 'attack_neptune',\n",
       " 'dst_host_srv_count',\n",
       " 'service_private',\n",
       " 'count',\n",
       " 'diff_srv_rate',\n",
       " 'protocol_type_tcp',\n",
       " 'dst_host_same_src_port_rate',\n",
       " 'flag_S0',\n",
       " 'same_srv_rate',\n",
       " 'srv_count',\n",
       " 'dst_host_count',\n",
       " 'dst_host_same_srv_rate',\n",
       " 'dst_bytes',\n",
       " 'logged_in',\n",
       " 'src_bytes',\n",
       " 'attack_normal',\n",
       " 'dst_host_diff_srv_rate',\n",
       " 'dst_host_serror_rate']"
      ]
     },
     "execution_count": 69,
     "metadata": {},
     "output_type": "execute_result"
    }
   ],
   "source": [
    "Final_list1"
   ]
  },
  {
   "cell_type": "code",
   "execution_count": 70,
   "metadata": {},
   "outputs": [
    {
     "data": {
      "text/plain": [
       "21"
      ]
     },
     "execution_count": 70,
     "metadata": {},
     "output_type": "execute_result"
    }
   ],
   "source": [
    "len(Final_list1)"
   ]
  },
  {
   "cell_type": "code",
   "execution_count": 71,
   "metadata": {},
   "outputs": [],
   "source": [
    "X_new1 = X[Final_list1]\n",
    "y =train_data_new[['y_bino']]"
   ]
  },
  {
   "cell_type": "code",
   "execution_count": 72,
   "metadata": {},
   "outputs": [
    {
     "data": {
      "text/plain": [
       "(125972, 21)"
      ]
     },
     "execution_count": 72,
     "metadata": {},
     "output_type": "execute_result"
    }
   ],
   "source": [
    "X_new1.shape"
   ]
  },
  {
   "cell_type": "code",
   "execution_count": 73,
   "metadata": {},
   "outputs": [
    {
     "data": {
      "text/plain": [
       "range(0, 21)"
      ]
     },
     "execution_count": 73,
     "metadata": {},
     "output_type": "execute_result"
    }
   ],
   "source": [
    "range(X_new1.shape[1])"
   ]
  },
  {
   "cell_type": "code",
   "execution_count": null,
   "metadata": {},
   "outputs": [],
   "source": []
  },
  {
   "cell_type": "markdown",
   "metadata": {},
   "source": [
    "#### VIF Variance Inflation Factor"
   ]
  },
  {
   "cell_type": "code",
   "execution_count": 74,
   "metadata": {
    "scrolled": true
   },
   "outputs": [],
   "source": [
    "vif = pd.DataFrame()\n",
    "vif[\"VIF Factor\"] = [variance_inflation_factor(X_new1.values, i) for i in range(X_new1.shape[1])]\n",
    "vif[\"features\"] = X_new1.columns"
   ]
  },
  {
   "cell_type": "code",
   "execution_count": 75,
   "metadata": {},
   "outputs": [
    {
     "data": {
      "text/html": [
       "<div>\n",
       "<style scoped>\n",
       "    .dataframe tbody tr th:only-of-type {\n",
       "        vertical-align: middle;\n",
       "    }\n",
       "\n",
       "    .dataframe tbody tr th {\n",
       "        vertical-align: top;\n",
       "    }\n",
       "\n",
       "    .dataframe thead th {\n",
       "        text-align: right;\n",
       "    }\n",
       "</style>\n",
       "<table border=\"1\" class=\"dataframe\">\n",
       "  <thead>\n",
       "    <tr style=\"text-align: right;\">\n",
       "      <th></th>\n",
       "      <th>VIF Factor</th>\n",
       "      <th>features</th>\n",
       "    </tr>\n",
       "  </thead>\n",
       "  <tbody>\n",
       "    <tr>\n",
       "      <td>0</td>\n",
       "      <td>127.968902</td>\n",
       "      <td>last_flag</td>\n",
       "    </tr>\n",
       "    <tr>\n",
       "      <td>11</td>\n",
       "      <td>42.964401</td>\n",
       "      <td>same_srv_rate</td>\n",
       "    </tr>\n",
       "    <tr>\n",
       "      <td>8</td>\n",
       "      <td>39.234987</td>\n",
       "      <td>protocol_type_tcp</td>\n",
       "    </tr>\n",
       "    <tr>\n",
       "      <td>10</td>\n",
       "      <td>33.265752</td>\n",
       "      <td>flag_S0</td>\n",
       "    </tr>\n",
       "    <tr>\n",
       "      <td>20</td>\n",
       "      <td>32.021611</td>\n",
       "      <td>dst_host_serror_rate</td>\n",
       "    </tr>\n",
       "    <tr>\n",
       "      <td>3</td>\n",
       "      <td>29.032078</td>\n",
       "      <td>attack_neptune</td>\n",
       "    </tr>\n",
       "    <tr>\n",
       "      <td>2</td>\n",
       "      <td>27.539746</td>\n",
       "      <td>flag_SF</td>\n",
       "    </tr>\n",
       "    <tr>\n",
       "      <td>14</td>\n",
       "      <td>26.353442</td>\n",
       "      <td>dst_host_same_srv_rate</td>\n",
       "    </tr>\n",
       "    <tr>\n",
       "      <td>4</td>\n",
       "      <td>19.710831</td>\n",
       "      <td>dst_host_srv_count</td>\n",
       "    </tr>\n",
       "    <tr>\n",
       "      <td>16</td>\n",
       "      <td>16.039778</td>\n",
       "      <td>logged_in</td>\n",
       "    </tr>\n",
       "    <tr>\n",
       "      <td>18</td>\n",
       "      <td>15.028035</td>\n",
       "      <td>attack_normal</td>\n",
       "    </tr>\n",
       "    <tr>\n",
       "      <td>13</td>\n",
       "      <td>8.567020</td>\n",
       "      <td>dst_host_count</td>\n",
       "    </tr>\n",
       "    <tr>\n",
       "      <td>6</td>\n",
       "      <td>7.877539</td>\n",
       "      <td>count</td>\n",
       "    </tr>\n",
       "    <tr>\n",
       "      <td>1</td>\n",
       "      <td>5.966220</td>\n",
       "      <td>service_http</td>\n",
       "    </tr>\n",
       "    <tr>\n",
       "      <td>12</td>\n",
       "      <td>4.495321</td>\n",
       "      <td>srv_count</td>\n",
       "    </tr>\n",
       "    <tr>\n",
       "      <td>19</td>\n",
       "      <td>3.148991</td>\n",
       "      <td>dst_host_diff_srv_rate</td>\n",
       "    </tr>\n",
       "    <tr>\n",
       "      <td>9</td>\n",
       "      <td>2.741468</td>\n",
       "      <td>dst_host_same_src_port_rate</td>\n",
       "    </tr>\n",
       "    <tr>\n",
       "      <td>7</td>\n",
       "      <td>2.627516</td>\n",
       "      <td>diff_srv_rate</td>\n",
       "    </tr>\n",
       "    <tr>\n",
       "      <td>5</td>\n",
       "      <td>1.831709</td>\n",
       "      <td>service_private</td>\n",
       "    </tr>\n",
       "    <tr>\n",
       "      <td>15</td>\n",
       "      <td>1.443470</td>\n",
       "      <td>dst_bytes</td>\n",
       "    </tr>\n",
       "    <tr>\n",
       "      <td>17</td>\n",
       "      <td>1.194054</td>\n",
       "      <td>src_bytes</td>\n",
       "    </tr>\n",
       "  </tbody>\n",
       "</table>\n",
       "</div>"
      ],
      "text/plain": [
       "    VIF Factor                     features\n",
       "0   127.968902                    last_flag\n",
       "11   42.964401                same_srv_rate\n",
       "8    39.234987            protocol_type_tcp\n",
       "10   33.265752                      flag_S0\n",
       "20   32.021611         dst_host_serror_rate\n",
       "3    29.032078               attack_neptune\n",
       "2    27.539746                      flag_SF\n",
       "14   26.353442       dst_host_same_srv_rate\n",
       "4    19.710831           dst_host_srv_count\n",
       "16   16.039778                    logged_in\n",
       "18   15.028035                attack_normal\n",
       "13    8.567020               dst_host_count\n",
       "6     7.877539                        count\n",
       "1     5.966220                 service_http\n",
       "12    4.495321                    srv_count\n",
       "19    3.148991       dst_host_diff_srv_rate\n",
       "9     2.741468  dst_host_same_src_port_rate\n",
       "7     2.627516                diff_srv_rate\n",
       "5     1.831709              service_private\n",
       "15    1.443470                    dst_bytes\n",
       "17    1.194054                    src_bytes"
      ]
     },
     "execution_count": 75,
     "metadata": {},
     "output_type": "execute_result"
    }
   ],
   "source": [
    "vif.sort_values(by=\"VIF Factor\",ascending=False)"
   ]
  },
  {
   "cell_type": "code",
   "execution_count": 76,
   "metadata": {},
   "outputs": [],
   "source": [
    "# dropped this columns becoz of VIF\n",
    "X_new = X[X_new1.columns.difference(['last_flag', 'flag_S0', 'attack_neptune', 'same_srv_rate'])]\n",
    "y =train_data_new[['y_bino']]"
   ]
  },
  {
   "cell_type": "code",
   "execution_count": 77,
   "metadata": {},
   "outputs": [
    {
     "data": {
      "text/plain": [
       "(125972, 17)"
      ]
     },
     "execution_count": 77,
     "metadata": {},
     "output_type": "execute_result"
    }
   ],
   "source": [
    "X_new.shape"
   ]
  },
  {
   "cell_type": "code",
   "execution_count": 78,
   "metadata": {},
   "outputs": [
    {
     "data": {
      "text/plain": [
       "range(0, 17)"
      ]
     },
     "execution_count": 78,
     "metadata": {},
     "output_type": "execute_result"
    }
   ],
   "source": [
    "range(X_new.shape[1])"
   ]
  },
  {
   "cell_type": "markdown",
   "metadata": {},
   "source": [
    "### Splitting the data into train & test "
   ]
  },
  {
   "cell_type": "code",
   "execution_count": 79,
   "metadata": {},
   "outputs": [],
   "source": [
    "target = train_data_new[['y_bino']]\n",
    "features = X_new"
   ]
  },
  {
   "cell_type": "code",
   "execution_count": 80,
   "metadata": {},
   "outputs": [],
   "source": [
    "data_final1 = pd.concat([features,target], axis=1)"
   ]
  },
  {
   "cell_type": "code",
   "execution_count": 81,
   "metadata": {},
   "outputs": [],
   "source": [
    "#split the data into train & test (70%:30%)\n",
    "train, test = train_test_split(data_final1, test_size = 0.3, random_state=123 )"
   ]
  },
  {
   "cell_type": "code",
   "execution_count": 82,
   "metadata": {},
   "outputs": [
    {
     "data": {
      "text/plain": [
       "(88180, 18)"
      ]
     },
     "execution_count": 82,
     "metadata": {},
     "output_type": "execute_result"
    }
   ],
   "source": [
    "train.shape"
   ]
  },
  {
   "cell_type": "code",
   "execution_count": 83,
   "metadata": {},
   "outputs": [
    {
     "data": {
      "text/plain": [
       "(37792, 18)"
      ]
     },
     "execution_count": 83,
     "metadata": {},
     "output_type": "execute_result"
    }
   ],
   "source": [
    "test.shape"
   ]
  },
  {
   "cell_type": "markdown",
   "metadata": {},
   "source": [
    "### Logistic Regression Using Stats Models (Traiditional Approach)"
   ]
  },
  {
   "cell_type": "code",
   "execution_count": 84,
   "metadata": {},
   "outputs": [],
   "source": [
    "# Dropping this columns becoz P value more than 0.05\n",
    "#+last_flag+attack_neptune+same_srv_rate+diff_srv_rate+dst_host_diff_srv_rate+service_http+[+flag_S0]+dst_host_srv_diff_host_rate"
   ]
  },
  {
   "cell_type": "markdown",
   "metadata": {},
   "source": [
    "#### Logistic Regression Using Stats Models (Traiditional Approach)"
   ]
  },
  {
   "cell_type": "code",
   "execution_count": 86,
   "metadata": {
    "scrolled": false
   },
   "outputs": [
    {
     "name": "stdout",
     "output_type": "stream",
     "text": [
      "Warning: Maximum number of iterations has been exceeded.\n",
      "         Current function value: 0.014713\n",
      "         Iterations: 35\n",
      "         Function evaluations: 54\n",
      "         Gradient evaluations: 45\n"
     ]
    },
    {
     "name": "stderr",
     "output_type": "stream",
     "text": [
      "C:\\ProgramData\\Anaconda3\\lib\\site-packages\\statsmodels\\base\\model.py:512: ConvergenceWarning: Maximum Likelihood optimization failed to converge. Check mle_retvals\n",
      "  \"Check mle_retvals\", ConvergenceWarning)\n"
     ]
    }
   ],
   "source": [
    "logit_model = smf.logit(formula='y_bino~dst_host_serror_rate+srv_count+flag_SF+logged_in+service_private+attack_normal+dst_host_count+dst_host_same_srv_rate+dst_bytes+dst_host_serror_rate+src_bytes+dst_host_same_src_port_rate+dst_host_srv_count+count',data=train)\n",
    "result = logit_model.fit(method='bfgs')"
   ]
  },
  {
   "cell_type": "code",
   "execution_count": 87,
   "metadata": {
    "scrolled": true
   },
   "outputs": [
    {
     "name": "stdout",
     "output_type": "stream",
     "text": [
      "                                Results: Logit\n",
      "===============================================================================\n",
      "Model:                   Logit                 Pseudo R-squared:      0.979    \n",
      "Dependent Variable:      y_bino                AIC:                   2622.7771\n",
      "Date:                    2020-02-03 22:16      BIC:                   2754.1970\n",
      "No. Observations:        88180                 Log-Likelihood:        -1297.4  \n",
      "Df Model:                13                    LL-Null:               -60896.  \n",
      "Df Residuals:            88166                 LLR p-value:           0.0000   \n",
      "Converged:               0.0000                Scale:                 1.0000   \n",
      "-------------------------------------------------------------------------------\n",
      "                             Coef.   Std.Err.    z     P>|z|   [0.025   0.975] \n",
      "-------------------------------------------------------------------------------\n",
      "Intercept                     3.0921   0.4242   7.2885 0.0000   2.2606   3.9236\n",
      "dst_host_serror_rate          3.4274   0.5478   6.2570 0.0000   2.3538   4.5011\n",
      "srv_count                    -0.1233   0.0084 -14.5969 0.0000  -0.1398  -0.1067\n",
      "flag_SF                      -1.8674   0.3505  -5.3272 0.0000  -2.5544  -1.1804\n",
      "logged_in                    -3.4719   0.3343 -10.3843 0.0000  -4.1272  -2.8166\n",
      "service_private               3.4413   0.4243   8.1114 0.0000   2.6098   4.2728\n",
      "attack_normal               -13.1163   0.4230 -31.0082 0.0000 -13.9454 -12.2873\n",
      "dst_host_count                0.0126   0.0013   9.6592 0.0000   0.0100   0.0152\n",
      "dst_host_same_srv_rate        2.4779   0.3742   6.6219 0.0000   1.7445   3.2113\n",
      "dst_bytes                    -0.0002   0.0000  -5.3708 0.0000  -0.0003  -0.0001\n",
      "src_bytes                     0.0001   0.0000  10.7269 0.0000   0.0001   0.0001\n",
      "dst_host_same_src_port_rate   5.1504   0.3373  15.2682 0.0000   4.4893   5.8116\n",
      "dst_host_srv_count           -0.0059   0.0012  -4.7821 0.0000  -0.0083  -0.0035\n",
      "count                         0.1268   0.0083  15.3207 0.0000   0.1105   0.1430\n",
      "===============================================================================\n",
      "\n"
     ]
    }
   ],
   "source": [
    "print(result.summary2())"
   ]
  },
  {
   "cell_type": "markdown",
   "metadata": {},
   "source": [
    "### Accuracy Metrics"
   ]
  },
  {
   "cell_type": "code",
   "execution_count": 88,
   "metadata": {
    "scrolled": true
   },
   "outputs": [
    {
     "name": "stdout",
     "output_type": "stream",
     "text": [
      "The Gini Index for the model built on the Train Data is :  0.9993925540714479\n",
      "The Gini Index for the model built on the Test Data is :  0.9993545848791172\n",
      "The AUC for the model built on the Train Data is :  0.999696277035724\n",
      "The AUC for the model built on the Test Data is :  0.9996772924395586\n"
     ]
    }
   ],
   "source": [
    "train_gini = 2*metrics.roc_auc_score(train['y_bino'], result.predict(train)) - 1\n",
    "print(\"The Gini Index for the model built on the Train Data is : \", train_gini)\n",
    "\n",
    "test_gini = 2*metrics.roc_auc_score(test['y_bino'], result.predict(test)) - 1\n",
    "print(\"The Gini Index for the model built on the Test Data is : \", test_gini)\n",
    "\n",
    "train_auc = metrics.roc_auc_score(train['y_bino'], result.predict(train))\n",
    "test_auc = metrics.roc_auc_score(test['y_bino'], result.predict(test))\n",
    "\n",
    "print(\"The AUC for the model built on the Train Data is : \", train_auc)\n",
    "print(\"The AUC for the model built on the Test Data is : \", test_auc)\n",
    "                                 "
   ]
  },
  {
   "cell_type": "code",
   "execution_count": 89,
   "metadata": {},
   "outputs": [
    {
     "data": {
      "text/html": [
       "<div>\n",
       "<style scoped>\n",
       "    .dataframe tbody tr th:only-of-type {\n",
       "        vertical-align: middle;\n",
       "    }\n",
       "\n",
       "    .dataframe tbody tr th {\n",
       "        vertical-align: top;\n",
       "    }\n",
       "\n",
       "    .dataframe thead th {\n",
       "        text-align: right;\n",
       "    }\n",
       "</style>\n",
       "<table border=\"1\" class=\"dataframe\">\n",
       "  <thead>\n",
       "    <tr style=\"text-align: right;\">\n",
       "      <th></th>\n",
       "      <th>actual</th>\n",
       "      <th>prob</th>\n",
       "    </tr>\n",
       "  </thead>\n",
       "  <tbody>\n",
       "    <tr>\n",
       "      <td>110848</td>\n",
       "      <td>1</td>\n",
       "      <td>1.000000</td>\n",
       "    </tr>\n",
       "    <tr>\n",
       "      <td>4591</td>\n",
       "      <td>0</td>\n",
       "      <td>0.000032</td>\n",
       "    </tr>\n",
       "    <tr>\n",
       "      <td>89586</td>\n",
       "      <td>0</td>\n",
       "      <td>0.014709</td>\n",
       "    </tr>\n",
       "    <tr>\n",
       "      <td>55086</td>\n",
       "      <td>0</td>\n",
       "      <td>0.000008</td>\n",
       "    </tr>\n",
       "    <tr>\n",
       "      <td>52860</td>\n",
       "      <td>1</td>\n",
       "      <td>0.999977</td>\n",
       "    </tr>\n",
       "  </tbody>\n",
       "</table>\n",
       "</div>"
      ],
      "text/plain": [
       "        actual      prob\n",
       "110848       1  1.000000\n",
       "4591         0  0.000032\n",
       "89586        0  0.014709\n",
       "55086        0  0.000008\n",
       "52860        1  0.999977"
      ]
     },
     "execution_count": 89,
     "metadata": {},
     "output_type": "execute_result"
    }
   ],
   "source": [
    "## Intuition behind ROC curve - predicted probability as a tool for separating the '1's and '0's\n",
    "train_predicted_prob = pd.DataFrame(result.predict(train))\n",
    "train_predicted_prob.columns = ['prob']\n",
    "train_actual = train['y_bino']\n",
    "# making a DataFrame with actual and prob columns\n",
    "train_predict = pd.concat([train_actual, train_predicted_prob], axis=1)\n",
    "train_predict.columns = ['actual','prob']\n",
    "train_predict.head()"
   ]
  },
  {
   "cell_type": "code",
   "execution_count": 90,
   "metadata": {},
   "outputs": [
    {
     "data": {
      "text/html": [
       "<div>\n",
       "<style scoped>\n",
       "    .dataframe tbody tr th:only-of-type {\n",
       "        vertical-align: middle;\n",
       "    }\n",
       "\n",
       "    .dataframe tbody tr th {\n",
       "        vertical-align: top;\n",
       "    }\n",
       "\n",
       "    .dataframe thead th {\n",
       "        text-align: right;\n",
       "    }\n",
       "</style>\n",
       "<table border=\"1\" class=\"dataframe\">\n",
       "  <thead>\n",
       "    <tr style=\"text-align: right;\">\n",
       "      <th></th>\n",
       "      <th>actual</th>\n",
       "      <th>prob</th>\n",
       "    </tr>\n",
       "  </thead>\n",
       "  <tbody>\n",
       "    <tr>\n",
       "      <td>85247</td>\n",
       "      <td>0</td>\n",
       "      <td>5.290168e-06</td>\n",
       "    </tr>\n",
       "    <tr>\n",
       "      <td>121264</td>\n",
       "      <td>1</td>\n",
       "      <td>1.000000e+00</td>\n",
       "    </tr>\n",
       "    <tr>\n",
       "      <td>99208</td>\n",
       "      <td>1</td>\n",
       "      <td>9.999779e-01</td>\n",
       "    </tr>\n",
       "    <tr>\n",
       "      <td>8177</td>\n",
       "      <td>1</td>\n",
       "      <td>9.999896e-01</td>\n",
       "    </tr>\n",
       "    <tr>\n",
       "      <td>86592</td>\n",
       "      <td>0</td>\n",
       "      <td>4.709066e-07</td>\n",
       "    </tr>\n",
       "  </tbody>\n",
       "</table>\n",
       "</div>"
      ],
      "text/plain": [
       "        actual          prob\n",
       "85247        0  5.290168e-06\n",
       "121264       1  1.000000e+00\n",
       "99208        1  9.999779e-01\n",
       "8177         1  9.999896e-01\n",
       "86592        0  4.709066e-07"
      ]
     },
     "execution_count": 90,
     "metadata": {},
     "output_type": "execute_result"
    }
   ],
   "source": [
    "## Intuition behind ROC curve - predicted probability as a tool for separating the '1's and '0's\n",
    "test_predicted_prob = pd.DataFrame(result.predict(test))\n",
    "test_predicted_prob.columns = ['prob']\n",
    "test_actual = test['y_bino']\n",
    "# making a DataFrame with actual and prob columns\n",
    "test_predict = pd.concat([test_actual, test_predicted_prob], axis=1)\n",
    "test_predict.columns = ['actual','prob']\n",
    "test_predict.head()"
   ]
  },
  {
   "cell_type": "code",
   "execution_count": 91,
   "metadata": {},
   "outputs": [],
   "source": [
    "## Intuition behind ROC curve - confusion matrix for each different cut-off shows trade off in sensitivity and specificity\n",
    "roc_like_df = pd.DataFrame()\n",
    "train_temp = train_predict.copy()\n",
    "\n",
    "for cut_off in np.linspace(0,1,50):\n",
    "    train_temp['cut_off'] = cut_off\n",
    "    train_temp['predicted'] = train_temp['prob'].apply(lambda x: 0.0 if x < cut_off else 1.0)\n",
    "    train_temp['tp'] = train_temp.apply(lambda x: 1.0 if x['actual']==1.0 and x['predicted']==1 else 0.0, axis=1)\n",
    "    train_temp['fp'] = train_temp.apply(lambda x: 1.0 if x['actual']==0.0 and x['predicted']==1 else 0.0, axis=1)\n",
    "    train_temp['tn'] = train_temp.apply(lambda x: 1.0 if x['actual']==0.0 and x['predicted']==0 else 0.0, axis=1)\n",
    "    train_temp['fn'] = train_temp.apply(lambda x: 1.0 if x['actual']==1.0 and x['predicted']==0 else 0.0, axis=1)\n",
    "    sensitivity = train_temp['tp'].sum() / (train_temp['tp'].sum() + train_temp['fn'].sum())\n",
    "    specificity = train_temp['tn'].sum() / (train_temp['tn'].sum() + train_temp['fp'].sum())\n",
    "    accuracy = (train_temp['tp'].sum()  + train_temp['tn'].sum() ) / (train_temp['tp'].sum() + train_temp['fn'].sum() + train_temp['tn'].sum() + train_temp['fp'].sum())\n",
    "    roc_like_table = pd.DataFrame([cut_off, sensitivity, specificity, accuracy]).T\n",
    "    roc_like_table.columns = ['cutoff', 'sensitivity', 'specificity', 'accuracy']\n",
    "    roc_like_df = pd.concat([roc_like_df, roc_like_table], axis=0)\n"
   ]
  },
  {
   "cell_type": "code",
   "execution_count": 92,
   "metadata": {
    "scrolled": true
   },
   "outputs": [
    {
     "data": {
      "text/html": [
       "<div>\n",
       "<style scoped>\n",
       "    .dataframe tbody tr th:only-of-type {\n",
       "        vertical-align: middle;\n",
       "    }\n",
       "\n",
       "    .dataframe tbody tr th {\n",
       "        vertical-align: top;\n",
       "    }\n",
       "\n",
       "    .dataframe thead th {\n",
       "        text-align: right;\n",
       "    }\n",
       "</style>\n",
       "<table border=\"1\" class=\"dataframe\">\n",
       "  <thead>\n",
       "    <tr style=\"text-align: right;\">\n",
       "      <th></th>\n",
       "      <th>cutoff</th>\n",
       "      <th>sensitivity</th>\n",
       "      <th>specificity</th>\n",
       "      <th>accuracy</th>\n",
       "    </tr>\n",
       "  </thead>\n",
       "  <tbody>\n",
       "    <tr>\n",
       "      <td>0</td>\n",
       "      <td>0.000000</td>\n",
       "      <td>1.000000</td>\n",
       "      <td>0.000000</td>\n",
       "      <td>0.464266</td>\n",
       "    </tr>\n",
       "    <tr>\n",
       "      <td>0</td>\n",
       "      <td>0.020408</td>\n",
       "      <td>0.999878</td>\n",
       "      <td>0.965496</td>\n",
       "      <td>0.981458</td>\n",
       "    </tr>\n",
       "    <tr>\n",
       "      <td>0</td>\n",
       "      <td>0.040816</td>\n",
       "      <td>0.999829</td>\n",
       "      <td>0.987151</td>\n",
       "      <td>0.993037</td>\n",
       "    </tr>\n",
       "    <tr>\n",
       "      <td>0</td>\n",
       "      <td>0.061224</td>\n",
       "      <td>0.999829</td>\n",
       "      <td>0.991787</td>\n",
       "      <td>0.995521</td>\n",
       "    </tr>\n",
       "    <tr>\n",
       "      <td>0</td>\n",
       "      <td>0.081633</td>\n",
       "      <td>0.999829</td>\n",
       "      <td>0.993819</td>\n",
       "      <td>0.996609</td>\n",
       "    </tr>\n",
       "  </tbody>\n",
       "</table>\n",
       "</div>"
      ],
      "text/plain": [
       "     cutoff  sensitivity  specificity  accuracy\n",
       "0  0.000000     1.000000     0.000000  0.464266\n",
       "0  0.020408     0.999878     0.965496  0.981458\n",
       "0  0.040816     0.999829     0.987151  0.993037\n",
       "0  0.061224     0.999829     0.991787  0.995521\n",
       "0  0.081633     0.999829     0.993819  0.996609"
      ]
     },
     "execution_count": 92,
     "metadata": {},
     "output_type": "execute_result"
    }
   ],
   "source": [
    "roc_like_df.head()"
   ]
  },
  {
   "cell_type": "code",
   "execution_count": 93,
   "metadata": {},
   "outputs": [],
   "source": [
    "## Finding ideal cut-off for checking if this remains same in OOS validation\n",
    "roc_like_df['total'] = roc_like_df['sensitivity'] + roc_like_df['specificity']"
   ]
  },
  {
   "cell_type": "code",
   "execution_count": 94,
   "metadata": {},
   "outputs": [
    {
     "data": {
      "text/html": [
       "<div>\n",
       "<style scoped>\n",
       "    .dataframe tbody tr th:only-of-type {\n",
       "        vertical-align: middle;\n",
       "    }\n",
       "\n",
       "    .dataframe tbody tr th {\n",
       "        vertical-align: top;\n",
       "    }\n",
       "\n",
       "    .dataframe thead th {\n",
       "        text-align: right;\n",
       "    }\n",
       "</style>\n",
       "<table border=\"1\" class=\"dataframe\">\n",
       "  <thead>\n",
       "    <tr style=\"text-align: right;\">\n",
       "      <th></th>\n",
       "      <th>cutoff</th>\n",
       "      <th>sensitivity</th>\n",
       "      <th>specificity</th>\n",
       "      <th>accuracy</th>\n",
       "      <th>total</th>\n",
       "    </tr>\n",
       "  </thead>\n",
       "  <tbody>\n",
       "    <tr>\n",
       "      <td>0</td>\n",
       "      <td>0.000000</td>\n",
       "      <td>1.000000</td>\n",
       "      <td>0.000000</td>\n",
       "      <td>0.464266</td>\n",
       "      <td>1.000000</td>\n",
       "    </tr>\n",
       "    <tr>\n",
       "      <td>0</td>\n",
       "      <td>0.020408</td>\n",
       "      <td>0.999878</td>\n",
       "      <td>0.965496</td>\n",
       "      <td>0.981458</td>\n",
       "      <td>1.965374</td>\n",
       "    </tr>\n",
       "    <tr>\n",
       "      <td>0</td>\n",
       "      <td>0.040816</td>\n",
       "      <td>0.999829</td>\n",
       "      <td>0.987151</td>\n",
       "      <td>0.993037</td>\n",
       "      <td>1.986980</td>\n",
       "    </tr>\n",
       "    <tr>\n",
       "      <td>0</td>\n",
       "      <td>0.061224</td>\n",
       "      <td>0.999829</td>\n",
       "      <td>0.991787</td>\n",
       "      <td>0.995521</td>\n",
       "      <td>1.991616</td>\n",
       "    </tr>\n",
       "    <tr>\n",
       "      <td>0</td>\n",
       "      <td>0.081633</td>\n",
       "      <td>0.999829</td>\n",
       "      <td>0.993819</td>\n",
       "      <td>0.996609</td>\n",
       "      <td>1.993648</td>\n",
       "    </tr>\n",
       "  </tbody>\n",
       "</table>\n",
       "</div>"
      ],
      "text/plain": [
       "     cutoff  sensitivity  specificity  accuracy     total\n",
       "0  0.000000     1.000000     0.000000  0.464266  1.000000\n",
       "0  0.020408     0.999878     0.965496  0.981458  1.965374\n",
       "0  0.040816     0.999829     0.987151  0.993037  1.986980\n",
       "0  0.061224     0.999829     0.991787  0.995521  1.991616\n",
       "0  0.081633     0.999829     0.993819  0.996609  1.993648"
      ]
     },
     "execution_count": 94,
     "metadata": {},
     "output_type": "execute_result"
    }
   ],
   "source": [
    "roc_like_df.head()"
   ]
  },
  {
   "cell_type": "code",
   "execution_count": 95,
   "metadata": {},
   "outputs": [
    {
     "data": {
      "text/html": [
       "<div>\n",
       "<style scoped>\n",
       "    .dataframe tbody tr th:only-of-type {\n",
       "        vertical-align: middle;\n",
       "    }\n",
       "\n",
       "    .dataframe tbody tr th {\n",
       "        vertical-align: top;\n",
       "    }\n",
       "\n",
       "    .dataframe thead th {\n",
       "        text-align: right;\n",
       "    }\n",
       "</style>\n",
       "<table border=\"1\" class=\"dataframe\">\n",
       "  <thead>\n",
       "    <tr style=\"text-align: right;\">\n",
       "      <th></th>\n",
       "      <th>cutoff</th>\n",
       "      <th>sensitivity</th>\n",
       "      <th>specificity</th>\n",
       "      <th>accuracy</th>\n",
       "      <th>total</th>\n",
       "    </tr>\n",
       "  </thead>\n",
       "  <tbody>\n",
       "    <tr>\n",
       "      <td>0</td>\n",
       "      <td>0.306122</td>\n",
       "      <td>0.999365</td>\n",
       "      <td>0.998561</td>\n",
       "      <td>0.998934</td>\n",
       "      <td>1.997925</td>\n",
       "    </tr>\n",
       "  </tbody>\n",
       "</table>\n",
       "</div>"
      ],
      "text/plain": [
       "     cutoff  sensitivity  specificity  accuracy     total\n",
       "0  0.306122     0.999365     0.998561  0.998934  1.997925"
      ]
     },
     "execution_count": 95,
     "metadata": {},
     "output_type": "execute_result"
    }
   ],
   "source": [
    "#Cut-off based on highest sum(sensitivity+specicity)   - common way of identifying cut-off\n",
    "roc_like_df[roc_like_df['total']==roc_like_df['total'].max()]"
   ]
  },
  {
   "cell_type": "code",
   "execution_count": 96,
   "metadata": {},
   "outputs": [
    {
     "data": {
      "text/plain": [
       "0.46426627353141303"
      ]
     },
     "execution_count": 96,
     "metadata": {},
     "output_type": "execute_result"
    }
   ],
   "source": [
    "train.y_bino.mean()"
   ]
  },
  {
   "cell_type": "code",
   "execution_count": 97,
   "metadata": {},
   "outputs": [],
   "source": [
    "#Best Cut-off = 0.32"
   ]
  },
  {
   "cell_type": "code",
   "execution_count": 98,
   "metadata": {},
   "outputs": [],
   "source": [
    "#Choosen Best Cut-off is 0.32 based on highest (sensitivity+specicity)\n",
    "\n",
    "test_predict['predicted'] = test_predict['prob'].apply(lambda x: 1 if x > 0.32 else 0)\n",
    "train_predict['predicted'] = train_predict['prob'].apply(lambda x: 1 if x > 0.32 else 0)"
   ]
  },
  {
   "cell_type": "code",
   "execution_count": 99,
   "metadata": {},
   "outputs": [
    {
     "data": {
      "text/html": [
       "<div>\n",
       "<style scoped>\n",
       "    .dataframe tbody tr th:only-of-type {\n",
       "        vertical-align: middle;\n",
       "    }\n",
       "\n",
       "    .dataframe tbody tr th {\n",
       "        vertical-align: top;\n",
       "    }\n",
       "\n",
       "    .dataframe thead th {\n",
       "        text-align: right;\n",
       "    }\n",
       "</style>\n",
       "<table border=\"1\" class=\"dataframe\">\n",
       "  <thead>\n",
       "    <tr style=\"text-align: right;\">\n",
       "      <th></th>\n",
       "      <th>actual</th>\n",
       "      <th>prob</th>\n",
       "      <th>predicted</th>\n",
       "    </tr>\n",
       "  </thead>\n",
       "  <tbody>\n",
       "    <tr>\n",
       "      <td>110848</td>\n",
       "      <td>1</td>\n",
       "      <td>1.000000</td>\n",
       "      <td>1</td>\n",
       "    </tr>\n",
       "    <tr>\n",
       "      <td>4591</td>\n",
       "      <td>0</td>\n",
       "      <td>0.000032</td>\n",
       "      <td>0</td>\n",
       "    </tr>\n",
       "    <tr>\n",
       "      <td>89586</td>\n",
       "      <td>0</td>\n",
       "      <td>0.014709</td>\n",
       "      <td>0</td>\n",
       "    </tr>\n",
       "    <tr>\n",
       "      <td>55086</td>\n",
       "      <td>0</td>\n",
       "      <td>0.000008</td>\n",
       "      <td>0</td>\n",
       "    </tr>\n",
       "    <tr>\n",
       "      <td>52860</td>\n",
       "      <td>1</td>\n",
       "      <td>0.999977</td>\n",
       "      <td>1</td>\n",
       "    </tr>\n",
       "  </tbody>\n",
       "</table>\n",
       "</div>"
      ],
      "text/plain": [
       "        actual      prob  predicted\n",
       "110848       1  1.000000          1\n",
       "4591         0  0.000032          0\n",
       "89586        0  0.014709          0\n",
       "55086        0  0.000008          0\n",
       "52860        1  0.999977          1"
      ]
     },
     "execution_count": 99,
     "metadata": {},
     "output_type": "execute_result"
    }
   ],
   "source": [
    "train_predict.head()"
   ]
  },
  {
   "cell_type": "code",
   "execution_count": 100,
   "metadata": {},
   "outputs": [
    {
     "name": "stdout",
     "output_type": "stream",
     "text": [
      "The overall accuracy score for the Train Data is :  0.99889997731912\n",
      "The overall accuracy score for the Test Data  is :  0.99854466553768\n"
     ]
    }
   ],
   "source": [
    "print(\"The overall accuracy score for the Train Data is : \", metrics.accuracy_score(train_predict.actual, train_predict.predicted))\n",
    "print(\"The overall accuracy score for the Test Data  is : \", metrics.accuracy_score(test_predict.actual, test_predict.predicted))"
   ]
  },
  {
   "cell_type": "code",
   "execution_count": 101,
   "metadata": {},
   "outputs": [
    {
     "name": "stdout",
     "output_type": "stream",
     "text": [
      "              precision    recall  f1-score   support\n",
      "\n",
      "           0       1.00      1.00      1.00     47241\n",
      "           1       1.00      1.00      1.00     40939\n",
      "\n",
      "    accuracy                           1.00     88180\n",
      "   macro avg       1.00      1.00      1.00     88180\n",
      "weighted avg       1.00      1.00      1.00     88180\n",
      "\n"
     ]
    }
   ],
   "source": [
    "print(metrics.classification_report(train_predict.actual, train_predict.predicted))"
   ]
  },
  {
   "cell_type": "code",
   "execution_count": 102,
   "metadata": {},
   "outputs": [
    {
     "name": "stdout",
     "output_type": "stream",
     "text": [
      "              precision    recall  f1-score   support\n",
      "\n",
      "           0       1.00      1.00      1.00     20101\n",
      "           1       1.00      1.00      1.00     17691\n",
      "\n",
      "    accuracy                           1.00     37792\n",
      "   macro avg       1.00      1.00      1.00     37792\n",
      "weighted avg       1.00      1.00      1.00     37792\n",
      "\n"
     ]
    }
   ],
   "source": [
    "print(metrics.classification_report(test_predict.actual, test_predict.predicted))"
   ]
  },
  {
   "cell_type": "markdown",
   "metadata": {},
   "source": [
    "### Logistic Regression using sklearn"
   ]
  },
  {
   "cell_type": "code",
   "execution_count": 103,
   "metadata": {},
   "outputs": [],
   "source": [
    "import pickle"
   ]
  },
  {
   "cell_type": "code",
   "execution_count": 104,
   "metadata": {},
   "outputs": [],
   "source": [
    "with open('logit_model.pkl', 'wb') as f:\n",
    "    pickle.dump(logit_model, f)"
   ]
  },
  {
   "cell_type": "code",
   "execution_count": 105,
   "metadata": {},
   "outputs": [],
   "source": [
    "train_X, test_X, train_y, test_y = train_test_split(features,target, test_size=0.3, random_state=123)"
   ]
  },
  {
   "cell_type": "code",
   "execution_count": 106,
   "metadata": {},
   "outputs": [],
   "source": [
    "#Build the model\n",
    "model = LogisticRegression()\n",
    "model = model.fit(train_X, train_y)"
   ]
  },
  {
   "cell_type": "code",
   "execution_count": 107,
   "metadata": {},
   "outputs": [],
   "source": [
    "train_X['pred_prob'] = pd.DataFrame(model.predict_proba(train_X), index=train_X.index)[1]"
   ]
  },
  {
   "cell_type": "code",
   "execution_count": 108,
   "metadata": {},
   "outputs": [],
   "source": [
    "test_X['pred_prob'] = pd.DataFrame(model.predict_proba(test_X),index=test_X.index)[1]"
   ]
  },
  {
   "cell_type": "code",
   "execution_count": 109,
   "metadata": {},
   "outputs": [],
   "source": [
    "train = pd.concat([train_X, train_y], axis=1)"
   ]
  },
  {
   "cell_type": "code",
   "execution_count": 110,
   "metadata": {},
   "outputs": [],
   "source": [
    "test = pd.concat([test_X, test_y], axis=1)"
   ]
  },
  {
   "cell_type": "code",
   "execution_count": 111,
   "metadata": {},
   "outputs": [],
   "source": [
    "# From decile analysis & as per KS value\n",
    "train['pred'] = np.where(train.pred_prob>0.32, 1,0)\n",
    "test['pred'] = np.where(test.pred_prob>0.32, 1,0)"
   ]
  },
  {
   "cell_type": "code",
   "execution_count": 112,
   "metadata": {
    "scrolled": true
   },
   "outputs": [
    {
     "data": {
      "text/plain": [
       "(88180, 20)"
      ]
     },
     "execution_count": 112,
     "metadata": {},
     "output_type": "execute_result"
    }
   ],
   "source": [
    "train.shape"
   ]
  },
  {
   "cell_type": "code",
   "execution_count": 113,
   "metadata": {},
   "outputs": [
    {
     "data": {
      "text/plain": [
       "(37792, 20)"
      ]
     },
     "execution_count": 113,
     "metadata": {},
     "output_type": "execute_result"
    }
   ],
   "source": [
    "test.shape"
   ]
  },
  {
   "cell_type": "code",
   "execution_count": 114,
   "metadata": {},
   "outputs": [
    {
     "name": "stdout",
     "output_type": "stream",
     "text": [
      "[[47219    22]\n",
      " [    0 40939]]\n"
     ]
    }
   ],
   "source": [
    "from sklearn.metrics import confusion_matrix\n",
    "confusion_matrix = confusion_matrix(train.y_bino, train.pred)\n",
    "print(confusion_matrix)"
   ]
  },
  {
   "cell_type": "code",
   "execution_count": 115,
   "metadata": {},
   "outputs": [
    {
     "name": "stdout",
     "output_type": "stream",
     "text": [
      "              precision    recall  f1-score   support\n",
      "\n",
      "           0       1.00      1.00      1.00     47241\n",
      "           1       1.00      1.00      1.00     40939\n",
      "\n",
      "    accuracy                           1.00     88180\n",
      "   macro avg       1.00      1.00      1.00     88180\n",
      "weighted avg       1.00      1.00      1.00     88180\n",
      "\n"
     ]
    }
   ],
   "source": [
    "print(metrics.classification_report(train.y_bino, train.pred))"
   ]
  },
  {
   "cell_type": "code",
   "execution_count": 116,
   "metadata": {},
   "outputs": [
    {
     "name": "stdout",
     "output_type": "stream",
     "text": [
      "              precision    recall  f1-score   support\n",
      "\n",
      "           0       1.00      1.00      1.00     20101\n",
      "           1       1.00      1.00      1.00     17691\n",
      "\n",
      "    accuracy                           1.00     37792\n",
      "   macro avg       1.00      1.00      1.00     37792\n",
      "weighted avg       1.00      1.00      1.00     37792\n",
      "\n"
     ]
    }
   ],
   "source": [
    "print(metrics.classification_report(test.y_bino, test.pred))"
   ]
  },
  {
   "cell_type": "markdown",
   "metadata": {},
   "source": [
    "#### Performing logistic Regression using K-Fold validation manually"
   ]
  },
  {
   "cell_type": "code",
   "execution_count": 117,
   "metadata": {},
   "outputs": [
    {
     "name": "stdout",
     "output_type": "stream",
     "text": [
      "10-fold cross validation average accuracy: 1.000\n"
     ]
    }
   ],
   "source": [
    "from sklearn.model_selection import cross_val_score, KFold\n",
    "kfold = KFold(n_splits=10, random_state=7)\n",
    "modelCV = LogisticRegression()\n",
    "scoring = 'accuracy'\n",
    "results = cross_val_score(modelCV, train_X, train_y, cv=kfold, scoring=scoring)\n",
    "print(\"10-fold cross validation average accuracy: %.3f\" % (results.mean()))"
   ]
  },
  {
   "cell_type": "code",
   "execution_count": 118,
   "metadata": {},
   "outputs": [
    {
     "data": {
      "text/plain": [
       "array([0.99977319, 1.        , 1.        , 0.99977319, 0.9998866 ,\n",
       "       0.99977319, 1.        , 0.99954638, 0.9998866 , 0.9998866 ])"
      ]
     },
     "execution_count": 118,
     "metadata": {},
     "output_type": "execute_result"
    }
   ],
   "source": [
    "results"
   ]
  },
  {
   "cell_type": "markdown",
   "metadata": {},
   "source": [
    "### Decision Tree Classifier"
   ]
  },
  {
   "cell_type": "code",
   "execution_count": 119,
   "metadata": {},
   "outputs": [
    {
     "data": {
      "text/plain": [
       "DecisionTreeClassifier(class_weight=None, criterion='gini', max_depth=5,\n",
       "                       max_features=None, max_leaf_nodes=10,\n",
       "                       min_impurity_decrease=0.0, min_impurity_split=None,\n",
       "                       min_samples_leaf=1, min_samples_split=2,\n",
       "                       min_weight_fraction_leaf=0.0, presort=False,\n",
       "                       random_state=None, splitter='best')"
      ]
     },
     "execution_count": 119,
     "metadata": {},
     "output_type": "execute_result"
    }
   ],
   "source": [
    "\n",
    "#Decision Tree Classifier\n",
    "dt_model = DecisionTreeClassifier(max_depth=5, max_leaf_nodes=10)\n",
    "dt_model.fit(train_X, train_y)"
   ]
  },
  {
   "cell_type": "code",
   "execution_count": 120,
   "metadata": {},
   "outputs": [
    {
     "data": {
      "text/plain": [
       "1.0"
      ]
     },
     "execution_count": 120,
     "metadata": {},
     "output_type": "execute_result"
    }
   ],
   "source": [
    "2*metrics.roc_auc_score(train_y, pd.DataFrame(dt_model.predict_proba(train_X))[1])-1"
   ]
  },
  {
   "cell_type": "code",
   "execution_count": 121,
   "metadata": {},
   "outputs": [
    {
     "data": {
      "text/plain": [
       "1.0"
      ]
     },
     "execution_count": 121,
     "metadata": {},
     "output_type": "execute_result"
    }
   ],
   "source": [
    "2*metrics.roc_auc_score(test_y, pd.DataFrame(dt_model.predict_proba(test_X))[1])-1"
   ]
  },
  {
   "cell_type": "code",
   "execution_count": 122,
   "metadata": {},
   "outputs": [],
   "source": [
    "train_pred = np.where(pd.DataFrame(dt_model.predict_proba(train_X))[1]>0.10, 1, 0)\n",
    "test_pred = np.where(pd.DataFrame(dt_model.predict_proba(test_X))[1]>0.10, 1, 0)"
   ]
  },
  {
   "cell_type": "code",
   "execution_count": 123,
   "metadata": {},
   "outputs": [
    {
     "name": "stdout",
     "output_type": "stream",
     "text": [
      "              precision    recall  f1-score   support\n",
      "\n",
      "           0       1.00      1.00      1.00     47241\n",
      "           1       1.00      1.00      1.00     40939\n",
      "\n",
      "    accuracy                           1.00     88180\n",
      "   macro avg       1.00      1.00      1.00     88180\n",
      "weighted avg       1.00      1.00      1.00     88180\n",
      "\n"
     ]
    }
   ],
   "source": [
    "print(metrics.classification_report(train_y, train_pred))"
   ]
  },
  {
   "cell_type": "code",
   "execution_count": 124,
   "metadata": {},
   "outputs": [
    {
     "name": "stdout",
     "output_type": "stream",
     "text": [
      "              precision    recall  f1-score   support\n",
      "\n",
      "           0       1.00      1.00      1.00     20101\n",
      "           1       1.00      1.00      1.00     17691\n",
      "\n",
      "    accuracy                           1.00     37792\n",
      "   macro avg       1.00      1.00      1.00     37792\n",
      "weighted avg       1.00      1.00      1.00     37792\n",
      "\n"
     ]
    }
   ],
   "source": [
    "print(metrics.classification_report(test_y, test_pred))"
   ]
  },
  {
   "cell_type": "code",
   "execution_count": 125,
   "metadata": {
    "scrolled": true
   },
   "outputs": [
    {
     "data": {
      "text/plain": [
       "Index(['attack_normal', 'count', 'diff_srv_rate', 'dst_bytes',\n",
       "       'dst_host_count', 'dst_host_diff_srv_rate',\n",
       "       'dst_host_same_src_port_rate', 'dst_host_same_srv_rate',\n",
       "       'dst_host_serror_rate', 'dst_host_srv_count', 'flag_SF', 'logged_in',\n",
       "       'protocol_type_tcp', 'service_http', 'service_private', 'src_bytes',\n",
       "       'srv_count', 'pred_prob'],\n",
       "      dtype='object')"
      ]
     },
     "execution_count": 125,
     "metadata": {},
     "output_type": "execute_result"
    }
   ],
   "source": [
    "train_X.columns"
   ]
  },
  {
   "cell_type": "code",
   "execution_count": 126,
   "metadata": {},
   "outputs": [
    {
     "data": {
      "text/plain": [
       "array([1., 0., 0., 0., 0., 0., 0., 0., 0., 0., 0., 0., 0., 0., 0., 0., 0.,\n",
       "       0.])"
      ]
     },
     "execution_count": 126,
     "metadata": {},
     "output_type": "execute_result"
    }
   ],
   "source": [
    "#Decision tree is also used for to see importance features \n",
    "dt_model.feature_importances_"
   ]
  },
  {
   "cell_type": "code",
   "execution_count": 127,
   "metadata": {},
   "outputs": [],
   "source": [
    "feature_improtance = pd.concat([pd.Series(train_X.columns), pd.Series(dt_model.feature_importances_)], axis=1)"
   ]
  },
  {
   "cell_type": "code",
   "execution_count": 128,
   "metadata": {},
   "outputs": [],
   "source": [
    "feature_improtance.columns = ['feature', 'importance']"
   ]
  },
  {
   "cell_type": "code",
   "execution_count": 129,
   "metadata": {},
   "outputs": [
    {
     "data": {
      "text/html": [
       "<div>\n",
       "<style scoped>\n",
       "    .dataframe tbody tr th:only-of-type {\n",
       "        vertical-align: middle;\n",
       "    }\n",
       "\n",
       "    .dataframe tbody tr th {\n",
       "        vertical-align: top;\n",
       "    }\n",
       "\n",
       "    .dataframe thead th {\n",
       "        text-align: right;\n",
       "    }\n",
       "</style>\n",
       "<table border=\"1\" class=\"dataframe\">\n",
       "  <thead>\n",
       "    <tr style=\"text-align: right;\">\n",
       "      <th></th>\n",
       "      <th>feature</th>\n",
       "      <th>importance</th>\n",
       "    </tr>\n",
       "  </thead>\n",
       "  <tbody>\n",
       "    <tr>\n",
       "      <td>0</td>\n",
       "      <td>attack_normal</td>\n",
       "      <td>1.0</td>\n",
       "    </tr>\n",
       "    <tr>\n",
       "      <td>1</td>\n",
       "      <td>count</td>\n",
       "      <td>0.0</td>\n",
       "    </tr>\n",
       "    <tr>\n",
       "      <td>16</td>\n",
       "      <td>srv_count</td>\n",
       "      <td>0.0</td>\n",
       "    </tr>\n",
       "    <tr>\n",
       "      <td>15</td>\n",
       "      <td>src_bytes</td>\n",
       "      <td>0.0</td>\n",
       "    </tr>\n",
       "    <tr>\n",
       "      <td>14</td>\n",
       "      <td>service_private</td>\n",
       "      <td>0.0</td>\n",
       "    </tr>\n",
       "    <tr>\n",
       "      <td>13</td>\n",
       "      <td>service_http</td>\n",
       "      <td>0.0</td>\n",
       "    </tr>\n",
       "    <tr>\n",
       "      <td>12</td>\n",
       "      <td>protocol_type_tcp</td>\n",
       "      <td>0.0</td>\n",
       "    </tr>\n",
       "    <tr>\n",
       "      <td>11</td>\n",
       "      <td>logged_in</td>\n",
       "      <td>0.0</td>\n",
       "    </tr>\n",
       "    <tr>\n",
       "      <td>10</td>\n",
       "      <td>flag_SF</td>\n",
       "      <td>0.0</td>\n",
       "    </tr>\n",
       "    <tr>\n",
       "      <td>9</td>\n",
       "      <td>dst_host_srv_count</td>\n",
       "      <td>0.0</td>\n",
       "    </tr>\n",
       "    <tr>\n",
       "      <td>8</td>\n",
       "      <td>dst_host_serror_rate</td>\n",
       "      <td>0.0</td>\n",
       "    </tr>\n",
       "    <tr>\n",
       "      <td>7</td>\n",
       "      <td>dst_host_same_srv_rate</td>\n",
       "      <td>0.0</td>\n",
       "    </tr>\n",
       "    <tr>\n",
       "      <td>6</td>\n",
       "      <td>dst_host_same_src_port_rate</td>\n",
       "      <td>0.0</td>\n",
       "    </tr>\n",
       "    <tr>\n",
       "      <td>5</td>\n",
       "      <td>dst_host_diff_srv_rate</td>\n",
       "      <td>0.0</td>\n",
       "    </tr>\n",
       "    <tr>\n",
       "      <td>4</td>\n",
       "      <td>dst_host_count</td>\n",
       "      <td>0.0</td>\n",
       "    </tr>\n",
       "    <tr>\n",
       "      <td>3</td>\n",
       "      <td>dst_bytes</td>\n",
       "      <td>0.0</td>\n",
       "    </tr>\n",
       "    <tr>\n",
       "      <td>2</td>\n",
       "      <td>diff_srv_rate</td>\n",
       "      <td>0.0</td>\n",
       "    </tr>\n",
       "    <tr>\n",
       "      <td>17</td>\n",
       "      <td>pred_prob</td>\n",
       "      <td>0.0</td>\n",
       "    </tr>\n",
       "  </tbody>\n",
       "</table>\n",
       "</div>"
      ],
      "text/plain": [
       "                        feature  importance\n",
       "0                 attack_normal         1.0\n",
       "1                         count         0.0\n",
       "16                    srv_count         0.0\n",
       "15                    src_bytes         0.0\n",
       "14              service_private         0.0\n",
       "13                 service_http         0.0\n",
       "12            protocol_type_tcp         0.0\n",
       "11                    logged_in         0.0\n",
       "10                      flag_SF         0.0\n",
       "9            dst_host_srv_count         0.0\n",
       "8          dst_host_serror_rate         0.0\n",
       "7        dst_host_same_srv_rate         0.0\n",
       "6   dst_host_same_src_port_rate         0.0\n",
       "5        dst_host_diff_srv_rate         0.0\n",
       "4                dst_host_count         0.0\n",
       "3                     dst_bytes         0.0\n",
       "2                 diff_srv_rate         0.0\n",
       "17                    pred_prob         0.0"
      ]
     },
     "execution_count": 129,
     "metadata": {},
     "output_type": "execute_result"
    }
   ],
   "source": [
    "feature_improtance.sort_values(by='importance', ascending=False)"
   ]
  },
  {
   "cell_type": "code",
   "execution_count": 130,
   "metadata": {},
   "outputs": [
    {
     "data": {
      "text/plain": [
       "GridSearchCV(cv=10, error_score='raise-deprecating',\n",
       "             estimator=DecisionTreeClassifier(class_weight=None,\n",
       "                                              criterion='gini', max_depth=None,\n",
       "                                              max_features=None,\n",
       "                                              max_leaf_nodes=None,\n",
       "                                              min_impurity_decrease=0.0,\n",
       "                                              min_impurity_split=None,\n",
       "                                              min_samples_leaf=1,\n",
       "                                              min_samples_split=2,\n",
       "                                              min_weight_fraction_leaf=0.0,\n",
       "                                              presort=False, random_state=None,\n",
       "                                              splitter='best'),\n",
       "             iid='warn', n_jobs=None,\n",
       "             param_grid={'max_depth': [3, 4, 5, 6],\n",
       "                         'max_leaf_nodes': [5, 6, 7, 8, 9, 10]},\n",
       "             pre_dispatch='2*n_jobs', refit=True, return_train_score=False,\n",
       "             scoring='f1_weighted', verbose=0)"
      ]
     },
     "execution_count": 130,
     "metadata": {},
     "output_type": "execute_result"
    }
   ],
   "source": [
    "#Using Hyperparameters\n",
    "param_grid = {'max_depth': [3,4,5,6], 'max_leaf_nodes': [5,6,7,8,9,10]}\n",
    "\n",
    "dt_GCV_model = GridSearchCV(DecisionTreeClassifier(), param_grid, cv=10, scoring='f1_weighted')\n",
    "dt_GCV_model.fit(train_X, train_y)"
   ]
  },
  {
   "cell_type": "code",
   "execution_count": 131,
   "metadata": {},
   "outputs": [
    {
     "data": {
      "text/plain": [
       "{'max_depth': 3, 'max_leaf_nodes': 5}"
      ]
     },
     "execution_count": 131,
     "metadata": {},
     "output_type": "execute_result"
    }
   ],
   "source": [
    "dt_GCV_model.best_params_"
   ]
  },
  {
   "cell_type": "code",
   "execution_count": 132,
   "metadata": {},
   "outputs": [
    {
     "data": {
      "text/plain": [
       "1.0"
      ]
     },
     "execution_count": 132,
     "metadata": {},
     "output_type": "execute_result"
    }
   ],
   "source": [
    "dt_GCV_model.best_score_"
   ]
  },
  {
   "cell_type": "markdown",
   "metadata": {},
   "source": [
    "### Random Forest"
   ]
  },
  {
   "cell_type": "code",
   "execution_count": 133,
   "metadata": {},
   "outputs": [
    {
     "data": {
      "text/plain": [
       "RandomForestClassifier(bootstrap=True, class_weight=None, criterion='gini',\n",
       "                       max_depth=None, max_features=6, max_leaf_nodes=None,\n",
       "                       min_impurity_decrease=0.0, min_impurity_split=None,\n",
       "                       min_samples_leaf=1, min_samples_split=2,\n",
       "                       min_weight_fraction_leaf=0.0, n_estimators=100,\n",
       "                       n_jobs=-1, oob_score=True, random_state=None, verbose=0,\n",
       "                       warm_start=False)"
      ]
     },
     "execution_count": 133,
     "metadata": {},
     "output_type": "execute_result"
    }
   ],
   "source": [
    "from sklearn.ensemble import RandomForestClassifier\n",
    "\n",
    "radm_clf = RandomForestClassifier(oob_score=True,n_estimators=100 , max_features=6, n_jobs=-1)\n",
    "radm_clf.fit( train_X, train_y )"
   ]
  },
  {
   "cell_type": "markdown",
   "metadata": {},
   "source": [
    "### Feature importance from the Random Forest Model"
   ]
  },
  {
   "cell_type": "code",
   "execution_count": 135,
   "metadata": {},
   "outputs": [],
   "source": [
    "radm_clf.feature_importances_\n",
    "\n",
    "indices = np.argsort(radm_clf.feature_importances_)[::-1]"
   ]
  },
  {
   "cell_type": "code",
   "execution_count": 136,
   "metadata": {},
   "outputs": [],
   "source": [
    "import seaborn as sn"
   ]
  },
  {
   "cell_type": "code",
   "execution_count": 137,
   "metadata": {},
   "outputs": [
    {
     "data": {
      "text/plain": [
       "<matplotlib.axes._subplots.AxesSubplot at 0xeac5908>"
      ]
     },
     "execution_count": 137,
     "metadata": {},
     "output_type": "execute_result"
    },
    {
     "data": {
      "image/png": "[encoded data removed]",
      "text/plain": [
       "<Figure size 432x288 with 1 Axes>"
      ]
     },
     "metadata": {
      "needs_background": "light"
     },
     "output_type": "display_data"
    }
   ],
   "source": [
    "indices = np.argsort(radm_clf.feature_importances_)[::-1]\n",
    "feature_rank = pd.DataFrame( columns = ['rank', 'feature', 'importance'] )\n",
    "for f in range(train_X.shape[1]):\n",
    "  feature_rank.loc[f] = [f+1,\n",
    "                         train_X.columns[indices[f]],\n",
    "                         radm_clf.feature_importances_[indices[f]]]\n",
    "sn.barplot( y = 'feature', x = 'importance', data = feature_rank )"
   ]
  },
  {
   "cell_type": "markdown",
   "metadata": {},
   "source": [
    "### Tuning parameters"
   ]
  },
  {
   "cell_type": "code",
   "execution_count": 138,
   "metadata": {},
   "outputs": [],
   "source": [
    "pargrid_ada = {'n_estimators': [50, 60, 70, 80, 90],\n",
    "                'max_features': [5,6,7,8,9,10,11]}\n",
    "gscv_Rf = GridSearchCV(estimator=RandomForestClassifier(), \n",
    "                        param_grid=pargrid_ada, \n",
    "                        cv=5,\n",
    "                        verbose=True, n_jobs=-1)"
   ]
  },
  {
   "cell_type": "code",
   "execution_count": 139,
   "metadata": {},
   "outputs": [
    {
     "name": "stdout",
     "output_type": "stream",
     "text": [
      "Fitting 5 folds for each of 35 candidates, totalling 175 fits\n"
     ]
    },
    {
     "name": "stderr",
     "output_type": "stream",
     "text": [
      "[Parallel(n_jobs=-1)]: Using backend LokyBackend with 4 concurrent workers.\n",
      "[Parallel(n_jobs=-1)]: Done  42 tasks      | elapsed:  1.2min\n",
      "[Parallel(n_jobs=-1)]: Done 175 out of 175 | elapsed:  4.8min finished\n"
     ]
    },
    {
     "data": {
      "text/plain": [
       "1.0"
      ]
     },
     "execution_count": 139,
     "metadata": {},
     "output_type": "execute_result"
    }
   ],
   "source": [
    "gscv_results = gscv_Rf.fit(train_X, train_y)\n",
    "gscv_results.best_score_"
   ]
  },
  {
   "cell_type": "code",
   "execution_count": 140,
   "metadata": {},
   "outputs": [
    {
     "data": {
      "text/plain": [
       "{'max_features': 5, 'n_estimators': 50}"
      ]
     },
     "execution_count": 140,
     "metadata": {},
     "output_type": "execute_result"
    }
   ],
   "source": [
    "gscv_results.best_params_"
   ]
  },
  {
   "cell_type": "code",
   "execution_count": 141,
   "metadata": {},
   "outputs": [
    {
     "data": {
      "text/plain": [
       "array([1, 0, 0, ..., 0, 0, 1])"
      ]
     },
     "execution_count": 141,
     "metadata": {},
     "output_type": "execute_result"
    }
   ],
   "source": [
    "gscv_results.predict(train_X)"
   ]
  },
  {
   "cell_type": "code",
   "execution_count": 142,
   "metadata": {},
   "outputs": [],
   "source": [
    "import pickle"
   ]
  },
  {
   "cell_type": "code",
   "execution_count": 143,
   "metadata": {},
   "outputs": [],
   "source": [
    "# now you can save it to a file\n",
    "with open('RF_Model.pkl', 'wb') as f:\n",
    "    pickle.dump(gscv_results, f)"
   ]
  },
  {
   "cell_type": "markdown",
   "metadata": {},
   "source": [
    "### Boosting"
   ]
  },
  {
   "cell_type": "markdown",
   "metadata": {},
   "source": [
    "#### Ada Boosting"
   ]
  },
  {
   "cell_type": "code",
   "execution_count": 180,
   "metadata": {},
   "outputs": [],
   "source": [
    "pargrid_ada = {'n_estimators': [100, 200, 400, 600, 800],\n",
    "               'learning_rate': [10 ** x for x in range(-3, 3)]}"
   ]
  },
  {
   "cell_type": "code",
   "execution_count": 181,
   "metadata": {},
   "outputs": [],
   "source": [
    "gscv_ada = GridSearchCV(estimator=AdaBoostClassifier(), \n",
    "                        param_grid=pargrid_ada, \n",
    "                        cv=5,\n",
    "                        verbose=True, n_jobs=-1)"
   ]
  },
  {
   "cell_type": "code",
   "execution_count": 182,
   "metadata": {},
   "outputs": [
    {
     "name": "stdout",
     "output_type": "stream",
     "text": [
      "Fitting 5 folds for each of 30 candidates, totalling 150 fits\n"
     ]
    },
    {
     "name": "stderr",
     "output_type": "stream",
     "text": [
      "[Parallel(n_jobs=-1)]: Using backend LokyBackend with 4 concurrent workers.\n",
      "[Parallel(n_jobs=-1)]: Done  42 tasks      | elapsed:   12.0s\n",
      "[Parallel(n_jobs=-1)]: Done 150 out of 150 | elapsed:   22.3s finished\n"
     ]
    },
    {
     "data": {
      "text/plain": [
       "GridSearchCV(cv=5, error_score='raise-deprecating',\n",
       "             estimator=AdaBoostClassifier(algorithm='SAMME.R',\n",
       "                                          base_estimator=None,\n",
       "                                          learning_rate=1.0, n_estimators=50,\n",
       "                                          random_state=None),\n",
       "             iid='warn', n_jobs=-1,\n",
       "             param_grid={'learning_rate': [0.001, 0.01, 0.1, 1, 10, 100],\n",
       "                         'n_estimators': [100, 200, 400, 600, 800]},\n",
       "             pre_dispatch='2*n_jobs', refit=True, return_train_score=False,\n",
       "             scoring=None, verbose=True)"
      ]
     },
     "execution_count": 182,
     "metadata": {},
     "output_type": "execute_result"
    }
   ],
   "source": [
    "gscv_ada.fit(train_X, train_y)"
   ]
  },
  {
   "cell_type": "code",
   "execution_count": 183,
   "metadata": {},
   "outputs": [
    {
     "data": {
      "text/plain": [
       "{'learning_rate': 0.001, 'n_estimators': 100}"
      ]
     },
     "execution_count": 183,
     "metadata": {},
     "output_type": "execute_result"
    }
   ],
   "source": [
    "gscv_ada.best_params_"
   ]
  },
  {
   "cell_type": "code",
   "execution_count": 184,
   "metadata": {},
   "outputs": [],
   "source": [
    "clf_ada = gscv_ada.best_estimator_"
   ]
  },
  {
   "cell_type": "code",
   "execution_count": 185,
   "metadata": {},
   "outputs": [
    {
     "data": {
      "text/plain": [
       "1.0"
      ]
     },
     "execution_count": 185,
     "metadata": {},
     "output_type": "execute_result"
    }
   ],
   "source": [
    "gscv_ada.best_score_"
   ]
  },
  {
   "cell_type": "code",
   "execution_count": 186,
   "metadata": {},
   "outputs": [
    {
     "data": {
      "text/plain": [
       "AdaBoostClassifier(algorithm='SAMME.R', base_estimator=None, learning_rate=0.1,\n",
       "                   n_estimators=800, random_state=None)"
      ]
     },
     "execution_count": 186,
     "metadata": {},
     "output_type": "execute_result"
    }
   ],
   "source": [
    "ad=AdaBoostClassifier(learning_rate = 0.1, n_estimators=800)\n",
    "ad.fit(train_X, train_y )"
   ]
  },
  {
   "cell_type": "code",
   "execution_count": 187,
   "metadata": {},
   "outputs": [
    {
     "name": "stdout",
     "output_type": "stream",
     "text": [
      "min     1.0\n",
      "mean    1.0\n",
      "max     1.0\n",
      "dtype: float64\n"
     ]
    }
   ],
   "source": [
    "print(pd.Series(cross_val_score(clf_ada, train_X, train_y, cv=10)).describe()[['min', 'mean', 'max']])"
   ]
  },
  {
   "cell_type": "markdown",
   "metadata": {},
   "source": [
    "### XGBOOST"
   ]
  },
  {
   "cell_type": "markdown",
   "metadata": {},
   "source": [
    "##### Important Tuning Parameters for XGBOOST: \n",
    "- learning_rate - Boosting Learning rate.\n",
    "- criterion - measure for quality of a split\n",
    "- max_depth - The maximum depth of the tree.\n",
    "- max_leaf_nodes - Number of features to consider when looking for the best split\n",
    "- min_samples_leaf - The minimum number of samples required to be a leaf node. This may have effect of smoothing the model.\n",
    "- min_sample_split - The minimum number of samples required to split an internal node.\n",
    "- n_estimators - The number of trees in the forest\n",
    "- max_features - Number of features to consider when looking for the best split\n",
    "- gamma - Minimum loss reduction required to make a further partition on a leaf node of the tree.\n",
    "- subsample - Denotes the fraction of observations to be randomly samples for each tree.\n",
    "- colsample_bytree - It is the subsample ratio of columns when constructing each tree. Subsampling occurs once for every tree constructed.\n",
    "- reg_alpa - L1 regularization term on weights. Increasing this value will make model more conservative. \n",
    "- reg_lambda - L2 regularization term on weights. Increasing this value will make model more conservative.\n",
    "- scale_pos_weight - Control the balance of positive and negative weights, useful for unbalanced classes. A typical value to consider: sum(negative instances) / sum(positive instances)."
   ]
  },
  {
   "cell_type": "code",
   "execution_count": 144,
   "metadata": {},
   "outputs": [],
   "source": [
    "from xgboost import XGBClassifier"
   ]
  },
  {
   "cell_type": "code",
   "execution_count": 145,
   "metadata": {},
   "outputs": [],
   "source": [
    "XGBClassifier?"
   ]
  },
  {
   "cell_type": "code",
   "execution_count": 146,
   "metadata": {},
   "outputs": [],
   "source": [
    "#All Columns\n",
    "xgb_estimator = XGBClassifier(n_estimators=200,\n",
    "                         random_state = 42,\n",
    "                        n_jobs=-1,\n",
    "                        verbose=1)\n"
   ]
  },
  {
   "cell_type": "code",
   "execution_count": 157,
   "metadata": {},
   "outputs": [],
   "source": [
    "train_X = train_X[train_X.columns.difference(['pred_prob'])]"
   ]
  },
  {
   "cell_type": "code",
   "execution_count": 147,
   "metadata": {},
   "outputs": [],
   "source": [
    "test_X = test_X[test_X.columns.difference(['pred_prob'])]"
   ]
  },
  {
   "cell_type": "code",
   "execution_count": 148,
   "metadata": {},
   "outputs": [
    {
     "data": {
      "text/plain": [
       "XGBClassifier(base_score=0.5, booster='gbtree', colsample_bylevel=1,\n",
       "              colsample_bynode=1, colsample_bytree=1, gamma=0,\n",
       "              learning_rate=0.1, max_delta_step=0, max_depth=3,\n",
       "              min_child_weight=1, missing=None, n_estimators=200, n_jobs=-1,\n",
       "              nthread=None, objective='binary:logistic', random_state=42,\n",
       "              reg_alpha=0, reg_lambda=1, scale_pos_weight=1, seed=None,\n",
       "              silent=None, subsample=1, verbose=1, verbosity=1)"
      ]
     },
     "execution_count": 148,
     "metadata": {},
     "output_type": "execute_result"
    }
   ],
   "source": [
    "xgb_estimator.fit(train_X, train_y)"
   ]
  },
  {
   "cell_type": "code",
   "execution_count": 149,
   "metadata": {},
   "outputs": [
    {
     "data": {
      "text/plain": [
       "array([1, 0, 0, ..., 0, 0, 1])"
      ]
     },
     "execution_count": 149,
     "metadata": {},
     "output_type": "execute_result"
    }
   ],
   "source": [
    "xgb_estimator.predict(train_X)"
   ]
  },
  {
   "cell_type": "code",
   "execution_count": 150,
   "metadata": {},
   "outputs": [
    {
     "data": {
      "text/plain": [
       "1.0"
      ]
     },
     "execution_count": 150,
     "metadata": {},
     "output_type": "execute_result"
    }
   ],
   "source": [
    "metrics.roc_auc_score(train_y,pd.DataFrame(xgb_estimator.predict_proba(train_X))[1])"
   ]
  },
  {
   "cell_type": "code",
   "execution_count": 153,
   "metadata": {},
   "outputs": [
    {
     "data": {
      "text/plain": [
       "XGBClassifier(base_score=0.5, booster='gbtree', colsample_bylevel=1,\n",
       "              colsample_bynode=1, colsample_bytree=1, gamma=0,\n",
       "              learning_rate=0.1, max_delta_step=0, max_depth=3,\n",
       "              min_child_weight=1, missing=None, n_estimators=200, n_jobs=-1,\n",
       "              nthread=None, objective='binary:logistic', random_state=42,\n",
       "              reg_alpha=0, reg_lambda=1, scale_pos_weight=1, seed=None,\n",
       "              silent=None, subsample=1, verbose=1, verbosity=1)"
      ]
     },
     "execution_count": 153,
     "metadata": {},
     "output_type": "execute_result"
    }
   ],
   "source": [
    "xgb_estimator.fit(test_X, test_y)"
   ]
  },
  {
   "cell_type": "code",
   "execution_count": 154,
   "metadata": {},
   "outputs": [
    {
     "data": {
      "text/plain": [
       "array([0, 1, 1, ..., 1, 1, 1])"
      ]
     },
     "execution_count": 154,
     "metadata": {},
     "output_type": "execute_result"
    }
   ],
   "source": [
    "xgb_estimator.predict(test_X)"
   ]
  },
  {
   "cell_type": "code",
   "execution_count": 155,
   "metadata": {
    "scrolled": true
   },
   "outputs": [
    {
     "data": {
      "text/plain": [
       "1.0"
      ]
     },
     "execution_count": 155,
     "metadata": {},
     "output_type": "execute_result"
    }
   ],
   "source": [
    "metrics.roc_auc_score(test_y,pd.DataFrame(xgb_estimator.predict_proba(test_X))[1])"
   ]
  },
  {
   "cell_type": "code",
   "execution_count": 158,
   "metadata": {},
   "outputs": [
    {
     "name": "stdout",
     "output_type": "stream",
     "text": [
      "              precision    recall  f1-score   support\n",
      "\n",
      "           0       1.00      1.00      1.00     47241\n",
      "           1       1.00      1.00      1.00     40939\n",
      "\n",
      "    accuracy                           1.00     88180\n",
      "   macro avg       1.00      1.00      1.00     88180\n",
      "weighted avg       1.00      1.00      1.00     88180\n",
      "\n",
      "              precision    recall  f1-score   support\n",
      "\n",
      "           0       1.00      1.00      1.00     20101\n",
      "           1       1.00      1.00      1.00     17691\n",
      "\n",
      "    accuracy                           1.00     37792\n",
      "   macro avg       1.00      1.00      1.00     37792\n",
      "weighted avg       1.00      1.00      1.00     37792\n",
      "\n"
     ]
    }
   ],
   "source": [
    "print(metrics.classification_report(train_y, xgb_estimator.predict(train_X)))\n",
    "\n",
    "print(metrics.classification_report(test_y, xgb_estimator.predict(test_X)))"
   ]
  },
  {
   "cell_type": "code",
   "execution_count": 159,
   "metadata": {},
   "outputs": [],
   "source": [
    "# with all tuning parameters"
   ]
  },
  {
   "cell_type": "code",
   "execution_count": 160,
   "metadata": {},
   "outputs": [],
   "source": [
    "xgb_estimator = XGBClassifier( learning_rate=0.01,\n",
    "                               n_estimators=1000,\n",
    "                               max_depth=5,\n",
    "                               min_child_weight=1,\n",
    "                               gamma=1,\n",
    "                               subsample=0.8,\n",
    "                               colsample_bytree=0.8,\n",
    "                               n_jobs=-1,\n",
    "                               reg_alpa=1,\n",
    "                               scale_pos_weight=1,\n",
    "                               random_state=42,\n",
    "                               verbose=1)"
   ]
  },
  {
   "cell_type": "code",
   "execution_count": 161,
   "metadata": {},
   "outputs": [
    {
     "data": {
      "text/plain": [
       "XGBClassifier(base_score=0.5, booster='gbtree', colsample_bylevel=1,\n",
       "              colsample_bynode=1, colsample_bytree=0.8, gamma=1,\n",
       "              learning_rate=0.01, max_delta_step=0, max_depth=5,\n",
       "              min_child_weight=1, missing=None, n_estimators=1000, n_jobs=-1,\n",
       "              nthread=None, objective='binary:logistic', random_state=42,\n",
       "              reg_alpa=1, reg_alpha=0, reg_lambda=1, scale_pos_weight=1,\n",
       "              seed=None, silent=None, subsample=0.8, verbose=1, verbosity=1)"
      ]
     },
     "execution_count": 161,
     "metadata": {},
     "output_type": "execute_result"
    }
   ],
   "source": [
    "xgb_estimator.fit(train_X, train_y)"
   ]
  },
  {
   "cell_type": "code",
   "execution_count": 162,
   "metadata": {},
   "outputs": [
    {
     "name": "stdout",
     "output_type": "stream",
     "text": [
      "1.0\n",
      "0.9999999999999998\n"
     ]
    }
   ],
   "source": [
    "print(metrics.roc_auc_score(train_y,pd.DataFrame(xgb_estimator.predict_proba(train_X))[1]))\n",
    "\n",
    "print(metrics.roc_auc_score(test_y,pd.DataFrame(xgb_estimator.predict_proba(test_X))[1]))"
   ]
  },
  {
   "cell_type": "code",
   "execution_count": 163,
   "metadata": {},
   "outputs": [
    {
     "name": "stdout",
     "output_type": "stream",
     "text": [
      "              precision    recall  f1-score   support\n",
      "\n",
      "           0       1.00      1.00      1.00     47241\n",
      "           1       1.00      1.00      1.00     40939\n",
      "\n",
      "    accuracy                           1.00     88180\n",
      "   macro avg       1.00      1.00      1.00     88180\n",
      "weighted avg       1.00      1.00      1.00     88180\n",
      "\n",
      "              precision    recall  f1-score   support\n",
      "\n",
      "           0       1.00      1.00      1.00     20101\n",
      "           1       1.00      1.00      1.00     17691\n",
      "\n",
      "    accuracy                           1.00     37792\n",
      "   macro avg       1.00      1.00      1.00     37792\n",
      "weighted avg       1.00      1.00      1.00     37792\n",
      "\n"
     ]
    }
   ],
   "source": [
    "print(metrics.classification_report(train_y, xgb_estimator.predict(train_X)))\n",
    "\n",
    "print(metrics.classification_report(test_y, xgb_estimator.predict(test_X)))"
   ]
  },
  {
   "cell_type": "markdown",
   "metadata": {},
   "source": [
    "#### Naive Bayes"
   ]
  },
  {
   "cell_type": "code",
   "execution_count": 164,
   "metadata": {},
   "outputs": [
    {
     "data": {
      "text/plain": [
       "GaussianNB(priors=None, var_smoothing=1e-09)"
      ]
     },
     "execution_count": 164,
     "metadata": {},
     "output_type": "execute_result"
    }
   ],
   "source": [
    "nb_clf = GaussianNB()\n",
    "nb_clf.fit(train_X, train_y)"
   ]
  },
  {
   "cell_type": "code",
   "execution_count": 165,
   "metadata": {},
   "outputs": [
    {
     "data": {
      "text/plain": [
       "array([[19897,   204],\n",
       "       [  365, 17326]], dtype=int64)"
      ]
     },
     "execution_count": 165,
     "metadata": {},
     "output_type": "execute_result"
    }
   ],
   "source": [
    "metrics.confusion_matrix( test_y,nb_clf.predict( test_X) )"
   ]
  },
  {
   "cell_type": "code",
   "execution_count": 166,
   "metadata": {},
   "outputs": [
    {
     "data": {
      "text/plain": [
       "0.9849439034716342"
      ]
     },
     "execution_count": 166,
     "metadata": {},
     "output_type": "execute_result"
    }
   ],
   "source": [
    "metrics.accuracy_score( test_y, nb_clf.predict( test_X ) )"
   ]
  },
  {
   "cell_type": "markdown",
   "metadata": {},
   "source": [
    "## Artificial Neural Networks (ANN) using sklearn"
   ]
  },
  {
   "cell_type": "markdown",
   "metadata": {},
   "source": [
    "##### Important Tuning Parameters for ANN using SKLearn: \n",
    "- hidden_layer_size - The number of neurons in the hidden layer.\n",
    "- learning_rate - option to use different learning rate for weight updates.\n",
    "- max_iter - maximum number of iterations. This will decide  when to stop the solver, either the solver converges or this maximum number of iterations.\n",
    "- momentum - momentum for gradient descent update. This will try to avoid trap the local minimum.\n",
    "- solver - The option to choose different algorithm for weight optimization.\n",
    "- batch_size - size of minibatches for stochastic optimizer. This is the option that will decide how much samples will be used in online learning\n",
    "- alpha - This parameter controls the regularization which help avoiding Overfitting.\n",
    "- activation - This is to define different activation functions."
   ]
  },
  {
   "cell_type": "code",
   "execution_count": 167,
   "metadata": {},
   "outputs": [
    {
     "data": {
      "text/plain": [
       "StandardScaler(copy=True, with_mean=True, with_std=True)"
      ]
     },
     "execution_count": 167,
     "metadata": {},
     "output_type": "execute_result"
    }
   ],
   "source": [
    "from sklearn.preprocessing import StandardScaler\n",
    "scaler = StandardScaler()\n",
    "# Fit only to the training data\n",
    "scaler.fit(train_X)"
   ]
  },
  {
   "cell_type": "code",
   "execution_count": 168,
   "metadata": {},
   "outputs": [],
   "source": [
    "# Now apply the transformations to the data:\n",
    "train_X = scaler.transform(train_X)\n",
    "test_X = scaler.transform(test_X)"
   ]
  },
  {
   "cell_type": "code",
   "execution_count": 169,
   "metadata": {},
   "outputs": [],
   "source": [
    "from sklearn.neural_network import MLPClassifier"
   ]
  },
  {
   "cell_type": "code",
   "execution_count": 170,
   "metadata": {},
   "outputs": [],
   "source": [
    "mlp = MLPClassifier(hidden_layer_sizes=(30,30,30))"
   ]
  },
  {
   "cell_type": "code",
   "execution_count": 171,
   "metadata": {},
   "outputs": [
    {
     "data": {
      "text/plain": [
       "MLPClassifier(activation='relu', alpha=0.0001, batch_size='auto', beta_1=0.9,\n",
       "              beta_2=0.999, early_stopping=False, epsilon=1e-08,\n",
       "              hidden_layer_sizes=(30, 30, 30), learning_rate='constant',\n",
       "              learning_rate_init=0.001, max_iter=200, momentum=0.9,\n",
       "              n_iter_no_change=10, nesterovs_momentum=True, power_t=0.5,\n",
       "              random_state=None, shuffle=True, solver='adam', tol=0.0001,\n",
       "              validation_fraction=0.1, verbose=False, warm_start=False)"
      ]
     },
     "execution_count": 171,
     "metadata": {},
     "output_type": "execute_result"
    }
   ],
   "source": [
    "mlp.fit(train_X,train_y)"
   ]
  },
  {
   "cell_type": "code",
   "execution_count": 172,
   "metadata": {},
   "outputs": [],
   "source": [
    "predictions = mlp.predict(test_X)"
   ]
  },
  {
   "cell_type": "code",
   "execution_count": 173,
   "metadata": {},
   "outputs": [
    {
     "data": {
      "text/plain": [
       "(37792, 17)"
      ]
     },
     "execution_count": 173,
     "metadata": {},
     "output_type": "execute_result"
    }
   ],
   "source": [
    "test_X.shape"
   ]
  },
  {
   "cell_type": "code",
   "execution_count": 174,
   "metadata": {},
   "outputs": [
    {
     "name": "stdout",
     "output_type": "stream",
     "text": [
      "[[20101     0]\n",
      " [    0 17691]]\n"
     ]
    }
   ],
   "source": [
    "from sklearn.metrics import classification_report,confusion_matrix\n",
    "print(confusion_matrix(test_y,predictions))"
   ]
  },
  {
   "cell_type": "code",
   "execution_count": 175,
   "metadata": {},
   "outputs": [
    {
     "name": "stdout",
     "output_type": "stream",
     "text": [
      "              precision    recall  f1-score   support\n",
      "\n",
      "           0       1.00      1.00      1.00     20101\n",
      "           1       1.00      1.00      1.00     17691\n",
      "\n",
      "    accuracy                           1.00     37792\n",
      "   macro avg       1.00      1.00      1.00     37792\n",
      "weighted avg       1.00      1.00      1.00     37792\n",
      "\n"
     ]
    }
   ],
   "source": [
    "print(classification_report(test_y,predictions))"
   ]
  },
  {
   "cell_type": "code",
   "execution_count": 176,
   "metadata": {},
   "outputs": [
    {
     "data": {
      "text/plain": [
       "[array([[ 2.50970598e-01, -3.26783111e-01, -2.77809274e-01,\n",
       "          9.83318224e-04,  2.97728615e-01, -3.21238503e-01,\n",
       "          2.49986174e-01, -6.11975776e-02, -4.93932028e-01,\n",
       "         -2.77656566e-01, -2.81997883e-01,  4.13724410e-01,\n",
       "         -2.95746363e-01,  4.98627051e-01,  4.91156359e-01,\n",
       "         -6.20784823e-02, -3.38927759e-01,  1.84357096e-01,\n",
       "         -5.00467738e-01,  5.25543867e-01,  1.80402411e-01,\n",
       "          2.08663258e-01,  4.36448596e-01, -1.11337404e-01,\n",
       "          5.90126559e-01, -2.76730641e-01,  2.75690305e-01,\n",
       "         -7.58030069e-02,  7.32034803e-02, -2.49669837e-01],\n",
       "        [-2.61244554e-01, -2.17639185e-01,  7.26122546e-02,\n",
       "         -2.82817715e-01, -1.99587989e-01,  1.59231856e-01,\n",
       "          1.39689118e-01,  3.17238104e-01, -2.67478014e-01,\n",
       "         -4.15216235e-02, -4.05283296e-01,  1.17988128e-01,\n",
       "         -3.21503409e-01, -1.34435709e-02, -1.57878136e-01,\n",
       "         -3.81061431e-01,  2.97665238e-01, -3.05452847e-01,\n",
       "         -3.20750768e-02, -1.47053230e-01, -3.04031362e-01,\n",
       "         -3.82973680e-01,  1.80546707e-01,  3.20049227e-01,\n",
       "         -8.62465764e-02, -2.70559855e-01, -1.27579608e-01,\n",
       "         -2.22655878e-01, -2.98074802e-01,  1.23589131e-01],\n",
       "        [ 1.48128842e-01, -2.02549654e-01, -1.62814934e-02,\n",
       "          1.09400246e-02,  4.82530335e-02, -5.02026912e-02,\n",
       "         -7.80141518e-02, -3.00958666e-01,  3.55312900e-01,\n",
       "         -3.54757271e-02,  3.12234242e-01,  5.33555055e-02,\n",
       "         -2.38956299e-02,  8.07454879e-02, -3.04805201e-02,\n",
       "          7.09481417e-02, -1.19243316e-02, -1.89228051e-01,\n",
       "         -2.53449157e-01, -1.01889821e-01,  2.60381648e-01,\n",
       "          9.01211419e-02,  9.54854794e-02,  3.48601197e-01,\n",
       "          7.56137853e-02, -1.50593315e-01, -2.53252772e-01,\n",
       "         -1.13772131e-01, -1.37752201e-01,  2.36890542e-03],\n",
       "        [ 9.70068368e-02,  3.19251568e-01, -3.13433075e-01,\n",
       "         -3.37274587e-01, -3.10079080e-01, -1.78513380e-01,\n",
       "         -2.66732463e-01, -1.42565365e-01, -2.83906440e-02,\n",
       "         -1.45902341e-02,  4.84901799e-02,  1.63116673e-01,\n",
       "         -8.35243946e-02, -2.74259122e-02, -7.56836913e-02,\n",
       "          1.60855060e-01,  2.87130758e-01, -2.30710412e-01,\n",
       "          1.38616973e-01,  2.28509035e-01,  1.40189946e-01,\n",
       "         -1.55073420e-01, -4.19883655e-01, -1.99839567e-02,\n",
       "          4.94329885e-02, -1.15867264e-01,  8.49436055e-02,\n",
       "         -3.46244991e-01,  3.65801821e-02,  1.80019435e-01],\n",
       "        [ 1.04789705e-01,  1.72010686e-01,  3.84494590e-01,\n",
       "         -1.27563372e-01,  1.29567676e-01, -4.78960608e-02,\n",
       "         -1.66939571e-01, -2.77673163e-01, -1.28047338e-01,\n",
       "          2.56509340e-01,  2.47934065e-02, -1.14147904e-01,\n",
       "         -2.45309148e-01,  1.54507671e-01,  8.58801781e-02,\n",
       "         -6.23049936e-02,  3.54931430e-01, -3.09389493e-01,\n",
       "         -1.40258210e-01, -1.84736191e-01, -3.02114324e-01,\n",
       "          3.66828704e-01, -2.96806508e-01, -1.36278617e-01,\n",
       "         -2.86196007e-01, -2.48233225e-01,  3.19195569e-03,\n",
       "         -1.49265347e-01,  3.01634207e-01,  1.25630446e-02],\n",
       "        [-1.78979887e-03,  6.93736703e-02,  2.47313648e-01,\n",
       "         -8.60779347e-02,  1.88806052e-01, -3.46949458e-01,\n",
       "          8.32350756e-02, -2.07621750e-01, -4.67238250e-03,\n",
       "         -8.22613512e-02, -3.24578859e-01, -4.02306914e-01,\n",
       "         -1.95933847e-01,  1.77887529e-01,  2.86008630e-01,\n",
       "         -1.69880471e-01, -1.78537742e-01, -8.80044614e-02,\n",
       "          1.90498895e-01, -1.85170848e-01, -3.60377479e-01,\n",
       "          1.88459310e-01, -1.26961030e-01,  1.25376514e-01,\n",
       "         -1.11619090e-01, -7.60629740e-02, -1.20989526e-01,\n",
       "          2.51335745e-01, -3.23561890e-01, -1.96950795e-01],\n",
       "        [ 1.03543534e-02,  1.95236943e-01, -4.24164058e-02,\n",
       "         -2.14859208e-01, -1.38742235e-01,  1.01666060e-01,\n",
       "          2.98774055e-01, -9.49059967e-02, -3.58784981e-02,\n",
       "          1.91044485e-01,  3.24507010e-01, -1.06265992e-01,\n",
       "          1.20059175e-02, -4.49709313e-02,  1.17876323e-01,\n",
       "         -3.85354397e-01, -2.96218874e-01,  3.54567249e-01,\n",
       "          3.04276371e-01, -2.32836660e-01, -2.72733165e-01,\n",
       "          2.30283850e-01, -3.25341652e-01, -2.72790430e-01,\n",
       "          2.14967400e-01, -2.47712238e-01, -1.76453987e-01,\n",
       "          1.14388558e-01, -3.16820848e-01,  1.80467881e-01],\n",
       "        [-2.63177870e-01,  3.45752496e-01, -5.58886426e-02,\n",
       "         -2.70410893e-01, -7.64935838e-03, -1.04671047e-01,\n",
       "          1.26526846e-01, -8.08394379e-02, -6.70638343e-02,\n",
       "          7.48354156e-02, -2.66454080e-01, -1.47361159e-01,\n",
       "         -2.64883919e-01,  2.46126443e-04,  5.36934154e-02,\n",
       "         -2.27416541e-01, -2.40783741e-01,  3.25423483e-01,\n",
       "         -8.35838693e-02,  1.11945394e-01,  3.50126144e-01,\n",
       "          3.41576635e-01,  3.97470416e-01, -2.35189134e-01,\n",
       "         -3.30012742e-01,  2.53062652e-01,  2.08574401e-01,\n",
       "          1.61373510e-02, -2.44592954e-01, -6.01646234e-02],\n",
       "        [ 3.19377325e-01,  4.15700334e-02, -6.56174885e-02,\n",
       "         -7.16796106e-02,  3.52489256e-01,  3.69372277e-01,\n",
       "          3.64932102e-01,  3.18841915e-01,  1.62170547e-01,\n",
       "          6.02195592e-02, -2.96137982e-01,  1.39175010e-01,\n",
       "         -4.14701723e-01,  8.91916249e-03,  1.78252323e-01,\n",
       "         -8.97781331e-02,  3.27801275e-01, -7.57008333e-03,\n",
       "         -2.01638686e-01, -7.49766896e-02,  1.70163935e-01,\n",
       "         -3.37361984e-01, -1.11177103e-01, -8.05672592e-02,\n",
       "          8.60658206e-02, -1.69916725e-01,  2.70858910e-02,\n",
       "          1.99510462e-01,  1.42404567e-01, -3.08105349e-01],\n",
       "        [-2.47932975e-02,  1.55264654e-01, -9.68563740e-02,\n",
       "          1.38397490e-01, -3.76656476e-01, -3.53772543e-01,\n",
       "         -2.76290930e-01, -4.81920832e-02, -2.44357004e-01,\n",
       "         -3.53480628e-01, -1.53567453e-01,  1.75430112e-01,\n",
       "          3.85225696e-01, -2.85118194e-02, -1.80552609e-01,\n",
       "          3.98713195e-01,  5.82999069e-02, -2.76438270e-01,\n",
       "          4.54750779e-02, -1.12222272e-01,  2.71148234e-01,\n",
       "          2.21055286e-01,  1.65345437e-02, -2.73536737e-01,\n",
       "         -1.06696614e-01, -2.09212583e-01,  1.81342219e-01,\n",
       "          3.96216077e-03, -1.10456748e-01,  2.79530587e-01],\n",
       "        [-1.79775202e-01,  2.41054543e-01, -3.15613572e-02,\n",
       "         -7.35260976e-02, -3.04084982e-01, -4.51623037e-03,\n",
       "         -2.00972955e-01, -2.53906687e-01,  1.30437895e-01,\n",
       "         -2.96345188e-01,  4.39154538e-01,  2.90885646e-01,\n",
       "          3.23021693e-01,  3.49890286e-01,  2.80414024e-02,\n",
       "          2.95867008e-01,  2.34303517e-01, -4.02839054e-02,\n",
       "         -2.65497235e-01,  1.48843132e-01,  2.21786835e-01,\n",
       "         -3.61613687e-02,  6.93218883e-02, -1.79950285e-01,\n",
       "          1.11285748e-01,  1.07927064e-01,  2.58635061e-01,\n",
       "         -2.89640735e-01,  2.86715191e-01,  6.63673958e-02],\n",
       "        [ 1.75345783e-01, -1.87823303e-01, -1.65461346e-01,\n",
       "          3.19357737e-01,  2.30819434e-01,  5.12282839e-02,\n",
       "          2.21773610e-01, -5.85224322e-02,  3.50623630e-02,\n",
       "         -3.47959703e-01,  5.87812699e-03, -1.41976595e-01,\n",
       "          2.73959920e-01,  9.05086344e-02, -1.64588520e-01,\n",
       "         -1.05668987e-01,  5.22568366e-03, -2.10437128e-01,\n",
       "          2.37215383e-01,  4.03160821e-02, -2.68592546e-01,\n",
       "         -4.40517242e-02, -7.72439680e-02,  2.55047552e-01,\n",
       "          1.44840700e-01, -4.05288039e-02, -8.60756371e-02,\n",
       "         -2.54347100e-01,  1.58329044e-01,  7.92525605e-02],\n",
       "        [-2.97568319e-01, -3.53126415e-01,  2.90620203e-01,\n",
       "          1.00289778e-01, -2.09441325e-01, -2.80645331e-01,\n",
       "          2.48377388e-01, -1.65823477e-01,  1.56079813e-01,\n",
       "         -6.77144918e-02,  1.96365438e-01,  1.07815957e-01,\n",
       "         -4.23331231e-02,  1.66688663e-02,  1.19031188e-01,\n",
       "          1.15301043e-02, -1.78670960e-02,  5.86849825e-02,\n",
       "         -3.01834236e-01, -1.46282234e-01,  1.66987614e-01,\n",
       "          1.16765919e-01, -6.73862890e-03, -5.58040741e-02,\n",
       "         -1.07682470e-01,  8.32488899e-02, -9.88632746e-02,\n",
       "         -1.04861336e-01, -1.22573152e-01, -1.43922903e-01],\n",
       "        [ 1.89257070e-01, -7.30723323e-03, -1.20844460e-01,\n",
       "         -1.64839619e-01,  1.50753472e-01, -2.30835445e-01,\n",
       "         -3.60301821e-02,  8.03747734e-02,  9.10192543e-04,\n",
       "          1.41734645e-01,  1.59625466e-01, -2.59164455e-02,\n",
       "          2.88564788e-01, -2.55319413e-01,  2.17914766e-01,\n",
       "         -2.86104601e-01, -1.62456692e-01,  2.09214739e-01,\n",
       "         -2.87391126e-01, -2.19985709e-01, -2.86382902e-01,\n",
       "         -1.35990944e-01, -8.50312056e-02,  3.73151185e-01,\n",
       "         -3.10441736e-01,  4.94940059e-02,  1.66538515e-01,\n",
       "         -1.88167984e-01,  1.79125443e-01, -2.13961312e-01],\n",
       "        [ 2.13423557e-01, -4.11033864e-01,  8.27698879e-02,\n",
       "          2.56642984e-02, -2.68635351e-01, -3.12442772e-01,\n",
       "          9.64594839e-02,  3.20950915e-01,  1.72737758e-01,\n",
       "          1.95162459e-01,  2.56304516e-01, -4.62140737e-01,\n",
       "          2.47654147e-01, -2.94277617e-01, -3.01548759e-01,\n",
       "         -2.84640605e-01, -8.17773090e-02, -7.06626975e-02,\n",
       "         -2.92889731e-01, -1.38195894e-01, -1.39753970e-01,\n",
       "         -2.45285464e-02, -6.78930671e-02, -2.11466863e-01,\n",
       "         -7.91063561e-02, -4.99852095e-02,  9.75085931e-02,\n",
       "          1.32253592e-01,  1.71134004e-01, -6.40210602e-02],\n",
       "        [-7.23022861e-03,  1.19931018e-01, -2.90240870e-01,\n",
       "          7.19465756e-02, -3.93984058e-01,  3.98108008e-01,\n",
       "         -3.85427724e-01, -6.93744720e-04, -2.71577987e-01,\n",
       "         -2.30788483e-02, -2.79083042e-01,  2.80918816e-02,\n",
       "          4.93738975e-02, -2.28486378e-01,  4.13964367e-03,\n",
       "          4.37110869e-02,  4.21208863e-02, -2.56375612e-01,\n",
       "         -2.45129292e-01,  2.17798129e-01,  3.14606873e-02,\n",
       "          2.24801411e-01,  7.55800743e-02,  2.25418699e-01,\n",
       "          1.37598992e-01,  1.04456158e-01, -1.66246952e-01,\n",
       "          2.18944829e-01, -1.49023336e-01, -2.42844341e-01],\n",
       "        [ 1.12945732e-01,  1.29084543e-01,  1.53637846e-02,\n",
       "          2.10086073e-01, -2.89162089e-02,  1.42550332e-01,\n",
       "          2.15404786e-01, -1.96404551e-01, -7.05849564e-02,\n",
       "          3.12752544e-02,  3.53406338e-01, -3.85362570e-02,\n",
       "          3.38985235e-01,  3.08663859e-01,  2.38623430e-02,\n",
       "          2.59541059e-01, -4.70495055e-02, -2.95402555e-01,\n",
       "          1.88697770e-01,  7.79569716e-02,  2.42199985e-01,\n",
       "          3.16594744e-02,  2.06374988e-01, -1.08623658e-01,\n",
       "          2.11024268e-02, -1.41042413e-01, -3.36357547e-01,\n",
       "         -2.53395823e-01,  1.76516030e-01, -1.51192516e-01]]),\n",
       " array([[-1.28602644e-01, -2.99872455e-01,  1.53986338e-01,\n",
       "         -1.10893980e-01,  3.56109323e-01, -2.14200470e-01,\n",
       "         -2.28509381e-01,  2.99177404e-02, -1.46437859e-01,\n",
       "         -1.48002024e-01, -1.07740329e-01,  1.02850003e-01,\n",
       "         -1.96839852e-01, -1.52340331e-01, -1.74676874e-02,\n",
       "         -2.58364621e-01,  3.58309222e-02,  1.81633877e-01,\n",
       "         -2.36379732e-01, -1.42212462e-01, -4.18332739e-02,\n",
       "         -2.20325001e-01,  9.91426304e-02,  2.07323636e-02,\n",
       "         -1.32888520e-01, -1.71149251e-01,  2.14641587e-02,\n",
       "         -5.16615581e-02, -2.94111107e-01,  1.14937979e-01],\n",
       "        [ 2.38539004e-01,  4.43904849e-02, -6.29822242e-02,\n",
       "          1.01430357e-01,  2.05967842e-01, -2.24126310e-01,\n",
       "          1.25941065e-01, -2.78869293e-02, -2.48042454e-02,\n",
       "          1.73798400e-01,  2.07576173e-01, -2.45877653e-01,\n",
       "          2.00371453e-01, -3.59113988e-01, -5.80164359e-02,\n",
       "          7.85844546e-02, -1.79175448e-02, -1.59674560e-01,\n",
       "         -4.74084545e-02, -1.30159016e-01,  6.88079334e-02,\n",
       "         -1.39894315e-01, -1.91868709e-02, -2.28018746e-01,\n",
       "          7.61222820e-02,  2.05712744e-02, -8.78716676e-02,\n",
       "          8.49597826e-02,  3.46510375e-01,  3.44432477e-01],\n",
       "        [-4.79856739e-02,  1.81717952e-01,  1.47283477e-01,\n",
       "         -2.19047927e-01, -7.46148150e-02, -1.24808889e-01,\n",
       "          1.52600939e-01, -1.49788400e-01,  2.24509531e-01,\n",
       "         -2.93797014e-01,  1.49855312e-01,  2.33973692e-01,\n",
       "         -1.90754549e-01,  2.93294519e-02, -1.85866849e-01,\n",
       "          3.43541575e-01,  2.25933597e-01, -1.55591527e-02,\n",
       "          2.30025306e-01,  4.66312319e-02,  1.38046091e-01,\n",
       "         -2.92832813e-01,  2.69272587e-02,  3.20032720e-01,\n",
       "          1.51745815e-01, -9.97556555e-02, -1.44818789e-01,\n",
       "          1.74417450e-01,  2.64654664e-01,  1.40360068e-01],\n",
       "        [ 1.56407056e-01, -2.12710256e-01,  4.01759352e-02,\n",
       "          3.04748832e-01, -1.00039503e-02, -2.80679367e-01,\n",
       "         -1.39676103e-01, -2.30416833e-02, -1.01801819e-01,\n",
       "          1.77819541e-01,  1.11271595e-01, -2.33111517e-01,\n",
       "         -1.18198989e-01,  1.33389396e-01,  2.32014166e-01,\n",
       "         -6.62288294e-02, -1.08991995e-01, -2.53579439e-01,\n",
       "          1.65294137e-01,  3.21099006e-01,  1.51265951e-01,\n",
       "         -5.46716645e-02,  1.71953763e-01, -7.66336410e-02,\n",
       "         -5.90648950e-03,  1.41930781e-01,  9.54618335e-02,\n",
       "          5.34014760e-02,  3.50371234e-01, -2.27021251e-01],\n",
       "        [ 1.13486186e-01,  2.04321888e-01,  2.33203576e-01,\n",
       "         -1.27193364e-01, -1.32325456e-01,  4.30307304e-02,\n",
       "          1.87698696e-01,  8.60962700e-02, -8.56012558e-02,\n",
       "         -2.32063528e-01,  3.84592824e-01,  2.68226401e-01,\n",
       "          1.26049203e-01, -1.91286692e-01,  2.65743193e-01,\n",
       "          1.51201796e-01, -1.96764758e-01, -2.70527188e-01,\n",
       "          8.19312991e-02,  3.72060015e-01, -1.53653618e-01,\n",
       "         -3.06355077e-01,  9.97247903e-02,  2.36840759e-01,\n",
       "         -4.59866765e-02, -8.84966466e-02,  3.18440980e-01,\n",
       "          2.65875534e-01,  4.04642399e-04,  2.17109807e-01],\n",
       "        [-6.99018053e-02,  3.49599771e-01,  2.42419404e-01,\n",
       "         -4.86290480e-03, -1.16841481e-01,  1.66493450e-01,\n",
       "          4.02708331e-01, -2.79846101e-01,  1.74933366e-01,\n",
       "         -1.95670026e-01, -2.88269256e-01, -1.65082798e-01,\n",
       "         -1.87701314e-01, -9.32275538e-02,  2.31554166e-01,\n",
       "          1.53057559e-01,  3.41848558e-01,  2.56778136e-01,\n",
       "          2.92328767e-01, -2.76143598e-01, -2.24961423e-02,\n",
       "         -5.05931480e-02,  1.18659067e-01, -7.81511455e-02,\n",
       "         -4.84385491e-02, -5.09902790e-02, -6.22497033e-02,\n",
       "          1.91991158e-01,  1.03610999e-01,  2.23050008e-01],\n",
       "        [ 2.00825003e-01,  2.17501398e-01,  2.16723374e-01,\n",
       "         -1.56812945e-01,  2.34151616e-01, -1.28680540e-01,\n",
       "          1.88654523e-01,  1.80303935e-01,  1.24252839e-01,\n",
       "         -2.43024091e-02,  2.77202930e-02,  2.25731015e-01,\n",
       "         -4.79043568e-02, -1.57509386e-01, -2.13717950e-03,\n",
       "          2.52972471e-01,  1.47976761e-01, -8.21580366e-02,\n",
       "          1.29653764e-01,  3.68818012e-02, -2.92012492e-02,\n",
       "         -4.48686739e-02,  1.90631377e-01, -3.56994394e-03,\n",
       "         -1.09104225e-01, -2.19770677e-01, -1.57735865e-01,\n",
       "          4.39243080e-02, -5.81332746e-02, -2.58286714e-01],\n",
       "        [ 1.01924658e-01, -1.45318930e-01,  2.31851904e-01,\n",
       "          1.81490459e-01,  2.61277167e-01,  2.57769097e-01,\n",
       "          2.48341456e-01,  2.05591103e-01, -7.67148748e-02,\n",
       "          2.45001935e-01,  2.02071370e-01, -1.18987711e-01,\n",
       "          3.44330226e-02, -2.08256030e-01, -1.68345969e-01,\n",
       "          1.02379372e-01,  2.06497028e-01,  2.68960940e-01,\n",
       "          2.35071113e-01, -1.77524501e-01, -1.13414392e-01,\n",
       "          1.56439064e-01,  4.03041128e-02,  3.02819539e-01,\n",
       "          1.79747441e-01, -2.43730466e-01,  1.10311110e-01,\n",
       "         -1.85518504e-01,  8.76044038e-02, -2.97420585e-02],\n",
       "        [-2.24665781e-01, -1.46272758e-01,  1.22037230e-01,\n",
       "         -9.97485339e-02,  1.16521530e-01,  2.99611311e-01,\n",
       "         -8.53399169e-02, -1.04187142e-01,  2.62884411e-02,\n",
       "          1.21606604e-01, -1.31948448e-01,  7.40518171e-02,\n",
       "         -7.62566185e-02, -3.38842728e-01, -2.39478201e-01,\n",
       "          1.56130479e-01,  1.96600809e-01,  1.74386417e-01,\n",
       "          3.06223627e-01, -3.89170623e-02,  1.51548675e-01,\n",
       "          2.52830859e-01,  3.74036121e-01,  8.66338953e-02,\n",
       "          2.39268303e-01,  8.09667468e-02, -2.78385085e-01,\n",
       "         -3.68921183e-02,  3.99958077e-01, -3.79981581e-02],\n",
       "        [-1.22507024e-01,  2.71667337e-01, -7.61679191e-02,\n",
       "          1.36647798e-01, -2.41464898e-01,  1.19093843e-01,\n",
       "          3.89374786e-01, -6.62908964e-02,  2.61161116e-01,\n",
       "         -4.08601818e-02,  1.32163568e-01,  2.05569671e-01,\n",
       "         -2.08520306e-02,  8.35384803e-02,  8.56137966e-02,\n",
       "          2.40800547e-02,  1.81269759e-01, -2.88699910e-01,\n",
       "          3.63148360e-01, -2.87539141e-01,  1.80070350e-01,\n",
       "          1.52332087e-01,  2.75395019e-01, -5.20275043e-02,\n",
       "          1.96023698e-01,  2.58690648e-01,  1.60763795e-01,\n",
       "          1.62348129e-01,  1.86346681e-01,  1.02974715e-01],\n",
       "        [-2.15945778e-01, -1.94416877e-01, -2.61583483e-01,\n",
       "         -2.56731891e-01,  2.48698700e-01,  1.08959235e-01,\n",
       "          2.51291137e-01,  9.50459438e-02,  2.96533172e-01,\n",
       "         -2.73548849e-01,  1.76148363e-01, -1.05666255e-01,\n",
       "          5.57042219e-02, -2.09960748e-01, -1.46674863e-01,\n",
       "          2.58996084e-01, -3.84924373e-02, -2.85266884e-01,\n",
       "          1.76989700e-01,  1.87148604e-01, -1.50117974e-01,\n",
       "          2.11624551e-01,  7.06968077e-02,  2.29725202e-02,\n",
       "         -2.08543668e-01,  1.93263376e-01,  3.18594964e-01,\n",
       "          4.32502237e-01, -5.79936808e-02,  2.48195796e-01],\n",
       "        [ 3.73230147e-01,  5.23124095e-03,  3.00580893e-02,\n",
       "          1.83828849e-01,  3.03930149e-01,  1.62472481e-02,\n",
       "         -3.40743741e-01,  1.36135575e-01, -2.21082468e-01,\n",
       "         -1.08754273e-01,  1.76138518e-01, -2.63332982e-01,\n",
       "          1.89591151e-01,  3.90784908e-01,  3.36699205e-01,\n",
       "          1.36171375e-01,  9.27917737e-02,  1.30979087e-01,\n",
       "          6.87776109e-02,  8.01477389e-04,  4.18356927e-02,\n",
       "         -6.96908006e-02,  7.70312505e-02,  6.34658114e-02,\n",
       "         -7.63930242e-02,  1.23308662e-01,  6.38950993e-02,\n",
       "          2.92339739e-02, -1.15869573e-01, -2.76938287e-01],\n",
       "        [ 3.21219255e-01, -2.13733054e-01,  2.88438561e-01,\n",
       "         -1.59445123e-01, -3.32057480e-02, -2.74310857e-01,\n",
       "         -7.06463873e-02, -2.40911688e-02,  2.49924449e-02,\n",
       "          1.01102783e-01,  3.65375207e-01,  1.83607757e-01,\n",
       "         -5.21902172e-02,  2.02608707e-01,  2.55174769e-02,\n",
       "          1.02805981e-01,  3.20677203e-01, -8.16239515e-02,\n",
       "          2.10919172e-01,  9.61396739e-02,  1.64254817e-01,\n",
       "         -1.41773405e-01,  1.77647694e-01,  9.75936416e-02,\n",
       "          3.92569325e-01, -4.46765654e-02, -4.91978356e-02,\n",
       "          3.31161994e-01,  1.27529200e-01,  1.38749231e-01],\n",
       "        [-1.30646647e-02, -2.04970141e-01,  3.02224926e-01,\n",
       "          3.83678029e-01,  3.30465487e-02, -1.87013713e-02,\n",
       "         -2.51261914e-01,  1.22332311e-01, -2.35325033e-01,\n",
       "         -2.58729260e-01,  5.77864426e-02, -1.36315844e-01,\n",
       "          4.22620647e-02,  3.01634600e-01,  4.20646229e-01,\n",
       "         -1.61451123e-02, -2.38121736e-01, -7.70696001e-02,\n",
       "         -2.63286756e-01,  2.93729886e-01, -6.97648946e-02,\n",
       "          3.59468242e-01,  1.63161131e-02,  3.97385000e-01,\n",
       "          1.00659861e-01, -1.26936897e-01,  2.20529385e-01,\n",
       "         -3.08791412e-01, -1.73340955e-01, -2.35807456e-02],\n",
       "        [ 3.00136820e-01,  1.25035365e-01, -1.45350437e-01,\n",
       "          2.63523638e-01,  2.29800716e-01,  1.09680465e-01,\n",
       "         -1.32983031e-01,  4.64619622e-01,  7.64019434e-02,\n",
       "         -4.09212048e-02,  1.65291974e-01,  4.17198095e-02,\n",
       "          3.43454958e-01,  1.66664516e-01,  4.66642833e-02,\n",
       "         -3.71122019e-02,  1.11725925e-02,  7.23253189e-02,\n",
       "         -2.69594400e-01,  2.27290447e-01,  1.34601482e-01,\n",
       "          3.36748365e-02, -1.69770610e-01, -1.50743014e-01,\n",
       "          1.50598968e-01,  8.41987889e-02,  1.73369704e-01,\n",
       "         -3.35332807e-01, -7.67975704e-02, -1.03282381e-01],\n",
       "        [-1.57670714e-01, -1.95044353e-01,  1.45174453e-01,\n",
       "         -1.34611167e-01, -4.22626079e-02, -6.58853678e-04,\n",
       "          1.39492323e-01,  1.42080679e-01,  1.99597090e-01,\n",
       "          6.63818475e-02, -1.41349659e-01, -1.98975089e-02,\n",
       "         -6.69115331e-02,  2.00878818e-01,  3.54309271e-01,\n",
       "         -1.45846465e-01,  6.74866307e-02,  5.35490837e-02,\n",
       "         -8.27682488e-02,  2.80600325e-01,  1.76906075e-01,\n",
       "          4.28230611e-02,  1.53143854e-02,  1.98839557e-01,\n",
       "          3.27986036e-01, -1.20698171e-01,  1.83735606e-01,\n",
       "         -7.86150378e-02,  2.10365605e-01, -1.27426296e-01],\n",
       "        [ 1.10632702e-01,  3.49519424e-01,  8.70091060e-02,\n",
       "         -4.38142696e-03,  5.59607813e-02, -1.72679101e-01,\n",
       "          4.15123915e-02, -1.90095715e-01, -6.74554679e-02,\n",
       "          9.64377738e-02, -3.15146881e-02,  2.10108872e-01,\n",
       "          1.96501166e-01,  1.73277335e-01, -1.77951035e-01,\n",
       "          1.73207490e-01,  1.63559210e-01, -1.71617450e-01,\n",
       "         -1.81044032e-02, -1.18431020e-01,  1.64817531e-01,\n",
       "          1.61279673e-01,  2.77422579e-01, -1.71713648e-01,\n",
       "          2.42676955e-01,  2.47471634e-01, -3.35584539e-02,\n",
       "          3.80911471e-01,  2.84349843e-01,  1.40226451e-01],\n",
       "        [ 3.06562155e-01, -1.90967635e-01, -1.07492628e-01,\n",
       "         -2.24632904e-01, -8.11107951e-02, -2.63778719e-01,\n",
       "          2.32956171e-02,  3.08147091e-01,  4.52214803e-02,\n",
       "          2.62985676e-01,  7.81484596e-02, -3.11324487e-01,\n",
       "         -3.08287569e-02,  1.39934838e-01,  5.48740844e-02,\n",
       "         -1.30649332e-01, -1.56491487e-01,  1.47110431e-01,\n",
       "          1.94135358e-01,  3.60235811e-01, -1.75074232e-02,\n",
       "         -2.23092834e-01,  4.62464300e-02,  1.02893353e-02,\n",
       "          2.75334254e-02,  5.33260834e-02,  6.24364323e-02,\n",
       "          1.38882347e-01,  2.61348821e-02, -5.50270164e-02],\n",
       "        [ 2.49094366e-01,  2.21282594e-01, -1.25322806e-01,\n",
       "         -2.57041010e-02, -1.23496077e-01, -5.79868366e-02,\n",
       "         -4.59367044e-02, -8.49612045e-02,  3.75446976e-01,\n",
       "         -2.77451833e-01, -2.39616132e-01, -1.69607345e-02,\n",
       "          7.22556654e-02,  1.33170110e-01,  1.14959324e-01,\n",
       "          1.19803597e-01,  3.88679501e-01, -1.62080606e-01,\n",
       "          9.10713541e-02, -5.02878052e-02,  2.10662996e-01,\n",
       "         -2.11920214e-01, -8.19807104e-02,  1.42779544e-01,\n",
       "         -3.62093618e-02,  1.54221877e-01, -2.58864550e-01,\n",
       "          3.30697372e-01,  1.57449534e-01,  3.24756683e-01],\n",
       "        [ 2.42390100e-01,  2.18070773e-01, -1.08842347e-01,\n",
       "         -7.76194944e-02, -1.28740332e-02, -1.27577109e-01,\n",
       "         -3.04697250e-01,  4.31960681e-01,  2.44099216e-01,\n",
       "          1.55560380e-01, -1.40880539e-01,  2.66344738e-01,\n",
       "         -1.03381317e-01,  8.26256246e-02, -1.13979378e-01,\n",
       "         -1.51911221e-01, -2.45645397e-01, -2.60060470e-01,\n",
       "         -1.53035818e-01,  2.29464190e-01, -2.26218043e-01,\n",
       "          2.03315209e-01, -8.49730747e-02,  1.68113712e-01,\n",
       "          3.18108039e-01, -1.71156284e-01,  1.44365103e-01,\n",
       "          3.10386004e-02, -3.78565600e-01,  3.68204676e-02],\n",
       "        [-1.86849457e-01,  2.18425347e-01,  3.45159943e-01,\n",
       "          8.26754263e-02,  2.44343711e-01, -2.20351770e-01,\n",
       "          1.69188740e-01, -1.49841817e-01, -2.64419485e-01,\n",
       "         -2.66716343e-01, -2.45996170e-02, -2.78672886e-01,\n",
       "          3.26964803e-01, -1.32223177e-01, -4.94750455e-02,\n",
       "         -1.01642082e-01, -2.14313341e-01, -5.36397112e-02,\n",
       "          2.01626285e-01, -1.44497286e-01,  6.67398720e-02,\n",
       "          2.24334486e-01, -1.81331422e-03,  2.97508179e-01,\n",
       "         -1.29251774e-01, -1.52944413e-01,  2.95869683e-01,\n",
       "         -2.13326218e-01,  1.10709766e-01,  2.18792319e-01],\n",
       "        [ 3.19742349e-01,  6.37156929e-02,  1.43220172e-01,\n",
       "          1.20631258e-01,  2.28611243e-02, -3.06524288e-01,\n",
       "         -2.71454398e-01, -6.15835703e-02,  5.33422413e-02,\n",
       "         -4.70875270e-02, -6.71529210e-03, -2.42667602e-02,\n",
       "         -5.87808798e-02,  3.16449995e-01,  4.35014480e-02,\n",
       "         -9.88779296e-02, -9.71452842e-03,  7.63532386e-03,\n",
       "          2.52222236e-01,  3.25568093e-01,  8.22655995e-02,\n",
       "          7.97367121e-02, -4.40123196e-02,  2.93331471e-01,\n",
       "          3.14230337e-01,  6.03762297e-02,  8.26884907e-02,\n",
       "         -2.55309642e-01, -1.24662893e-02, -2.19487204e-01],\n",
       "        [-1.67464739e-01,  7.53045351e-02,  1.76255503e-01,\n",
       "         -1.45282551e-02,  3.43984831e-01,  1.63769092e-01,\n",
       "         -1.82132747e-01,  4.77044821e-01, -1.88712665e-01,\n",
       "          9.53669126e-02,  1.95286491e-01, -1.28411913e-01,\n",
       "          6.24850444e-02,  2.63623980e-01, -1.55122720e-01,\n",
       "          1.22411651e-01, -3.00681629e-01,  1.96209601e-01,\n",
       "         -2.02847925e-01, -1.63162313e-02, -6.90722089e-02,\n",
       "          4.66437202e-02, -7.44560715e-02,  2.37449031e-02,\n",
       "         -2.15613105e-01, -1.51773579e-01,  1.98833365e-01,\n",
       "         -3.15805839e-02, -2.67933453e-01, -2.83331688e-01],\n",
       "        [ 1.18922468e-01,  2.73157177e-01, -3.52736978e-01,\n",
       "          3.59111672e-02,  3.20331763e-01,  8.19887827e-02,\n",
       "          3.97648763e-01,  2.83215019e-01,  3.52739232e-01,\n",
       "         -6.12438394e-02, -1.26502608e-01,  1.59211462e-01,\n",
       "          2.25025290e-01,  1.30723795e-01, -9.24551056e-02,\n",
       "         -1.16466289e-01, -8.77320478e-02,  1.67597195e-02,\n",
       "         -1.80272195e-01,  5.82097657e-02,  1.50896316e-01,\n",
       "         -5.83625280e-02,  4.85064048e-02, -9.37530163e-02,\n",
       "          2.52525271e-01, -2.54453649e-01, -3.76321121e-02,\n",
       "          2.08574079e-01,  3.99039840e-02,  2.83539860e-01],\n",
       "        [ 2.18290705e-01, -3.70196603e-01,  2.04438254e-02,\n",
       "          1.46651114e-01, -6.24325777e-02,  4.79195613e-02,\n",
       "         -2.28684078e-01,  4.91559382e-01, -3.71909679e-01,\n",
       "          2.34353685e-01,  1.78680266e-01, -2.48673671e-01,\n",
       "         -1.69919400e-02, -2.83040864e-02,  2.10392965e-01,\n",
       "         -1.19168040e-01, -9.58729147e-02,  1.46716996e-02,\n",
       "         -6.58646889e-03,  1.00678898e-01, -2.08774741e-01,\n",
       "         -1.48828151e-02, -1.16190509e-01, -9.07414670e-04,\n",
       "         -1.05085026e-01, -1.82968487e-01,  3.76290711e-01,\n",
       "         -1.53594186e-01, -1.16666111e-01, -2.38100169e-02],\n",
       "        [ 2.29801873e-01,  9.56716223e-02,  4.08578203e-02,\n",
       "          1.34814061e-01,  8.60868830e-02, -1.70394658e-01,\n",
       "          2.56217860e-01, -1.62322016e-01,  3.27788968e-01,\n",
       "          6.88668013e-02,  2.02458629e-01,  2.29281585e-01,\n",
       "         -2.11885258e-02,  1.98132537e-02,  7.04903794e-02,\n",
       "          1.87771077e-01, -6.36161601e-02, -2.06414642e-01,\n",
       "          1.78995549e-01,  2.07597708e-01,  3.17736410e-01,\n",
       "         -3.03034441e-03, -1.52853475e-01,  2.08260682e-01,\n",
       "         -2.71804273e-02, -1.59329502e-01, -2.72826025e-01,\n",
       "          9.45837839e-02,  5.25542887e-01,  4.87930099e-01],\n",
       "        [ 1.84184163e-01, -2.35444220e-01, -1.98513506e-03,\n",
       "          2.42880312e-01, -7.20935087e-02,  2.58908571e-01,\n",
       "         -6.82838452e-02, -4.27554084e-02, -2.73137813e-01,\n",
       "          1.90695777e-01, -7.81403825e-02,  1.21527103e-01,\n",
       "          1.90059771e-01,  3.90722054e-01,  2.23612873e-01,\n",
       "          3.15023902e-02, -5.08787805e-02, -2.28525122e-02,\n",
       "         -6.43030776e-02,  2.71944001e-01, -2.00790420e-01,\n",
       "         -1.18184313e-01,  1.72795750e-02,  2.59857394e-01,\n",
       "          1.37496289e-01,  5.24116131e-02,  1.50162600e-01,\n",
       "         -2.15870452e-01, -2.22473118e-01, -2.19863537e-01],\n",
       "        [ 1.81450856e-01, -1.71355233e-01,  9.94528696e-02,\n",
       "          1.67322468e-01,  4.49897520e-02,  3.20587740e-01,\n",
       "         -1.72622726e-01, -1.12439707e-01,  1.90698737e-01,\n",
       "          2.42354023e-01, -2.84813798e-01,  3.51658520e-01,\n",
       "         -1.55235033e-01,  2.16374507e-01,  7.53691783e-02,\n",
       "         -1.10664923e-01,  3.60085396e-01, -6.75532557e-02,\n",
       "          1.23231390e-01,  1.83649256e-01,  1.22289968e-02,\n",
       "          2.73210214e-01,  9.36639633e-02,  2.48934680e-01,\n",
       "         -1.00757847e-01, -2.24852949e-01,  1.46633833e-01,\n",
       "          3.68489560e-01, -1.35466547e-04,  1.33068464e-01],\n",
       "        [-2.11594763e-01, -2.63409795e-01,  1.93503115e-01,\n",
       "          1.65323698e-02,  5.90604219e-03, -2.47474428e-01,\n",
       "          2.50346420e-01,  2.95847113e-01, -1.51707900e-01,\n",
       "         -3.23282446e-03,  1.13918686e-01, -1.61838553e-02,\n",
       "          2.20336225e-01,  2.07741302e-01,  1.67011014e-01,\n",
       "          1.71111825e-01, -1.95198336e-01, -6.66162631e-02,\n",
       "         -1.64701678e-01,  3.86034609e-01,  1.56922889e-01,\n",
       "         -1.78484494e-01,  2.47153143e-01,  2.57095008e-01,\n",
       "         -5.50469710e-03, -2.04079329e-01, -1.83638763e-01,\n",
       "          3.14843523e-01,  1.08069807e-01,  7.16370221e-02],\n",
       "        [ 2.84186000e-01,  6.80538851e-02, -1.35007194e-01,\n",
       "          3.05899663e-01, -1.63427885e-01,  2.33212001e-01,\n",
       "          1.42284054e-01, -2.45723949e-01,  2.44073746e-01,\n",
       "         -2.28523592e-01, -1.34026908e-01,  1.69371477e-01,\n",
       "         -1.19737837e-01, -7.93701235e-02,  1.25396484e-01,\n",
       "          2.70862157e-01,  2.21286736e-01, -5.06268601e-02,\n",
       "         -1.82147862e-01,  7.94210281e-02,  2.27091585e-01,\n",
       "         -1.75273382e-01, -1.82612686e-01,  2.57420543e-02,\n",
       "          1.51380174e-01, -3.22216217e-01,  4.75832919e-02,\n",
       "          1.50140032e-01, -4.62693948e-02,  1.66026035e-01]]),\n",
       " array([[-1.34031456e-01, -2.15959944e-01,  2.27061923e-01,\n",
       "         -2.87992517e-01,  6.52055049e-02, -6.62093207e-02,\n",
       "          1.65478682e-01,  7.87908129e-02,  1.10204462e-01,\n",
       "          2.32944423e-01, -1.15780779e-01,  3.10502348e-01,\n",
       "          7.91073554e-02,  3.40495854e-02,  6.03083974e-02,\n",
       "          2.52530817e-01,  2.64856464e-01, -1.81981855e-01,\n",
       "          2.39165202e-01, -1.67669941e-01, -1.69662616e-01,\n",
       "         -4.08475322e-02,  2.39082806e-01, -2.48739776e-02,\n",
       "          3.51861493e-01,  9.86453283e-02,  1.06516948e-01,\n",
       "          3.00579077e-01,  1.14952351e-01, -1.65176282e-02],\n",
       "        [ 6.73639438e-03,  3.20173823e-01, -2.82531874e-01,\n",
       "         -1.14765158e-01, -2.11413614e-02,  1.53197685e-01,\n",
       "         -9.33695175e-02,  3.65934636e-01,  1.01853473e-01,\n",
       "         -1.29397116e-01, -5.15724552e-02, -1.45519966e-01,\n",
       "          2.09285189e-01, -1.40724141e-01, -1.09621085e-01,\n",
       "         -2.20504801e-01,  1.58588699e-01,  1.06244314e-01,\n",
       "          8.26138006e-03,  9.29975065e-02,  3.33952437e-02,\n",
       "          5.76056650e-02,  3.50737243e-01, -1.31729234e-01,\n",
       "          5.47095396e-02,  2.44099082e-01,  3.21327519e-01,\n",
       "         -2.07131521e-01, -1.62698241e-01,  9.75872492e-04],\n",
       "        [ 9.08605981e-02,  6.26546944e-02,  1.03695036e-01,\n",
       "          1.53743957e-01, -2.27080326e-01,  1.34330070e-01,\n",
       "          1.46523249e-02, -7.60169394e-02, -7.42612527e-02,\n",
       "         -1.02729410e-02, -1.20195377e-01,  3.39191969e-01,\n",
       "         -1.50943070e-01,  2.15644762e-01,  1.01364065e-01,\n",
       "          8.33748904e-02, -2.01694444e-01, -2.49342439e-02,\n",
       "         -9.03797373e-02,  2.67120390e-01, -1.09886421e-01,\n",
       "          8.84166473e-02,  4.21339845e-02,  1.54494378e-01,\n",
       "          1.37462437e-01,  2.97557867e-01,  9.52387048e-02,\n",
       "         -4.32107457e-02, -2.77795481e-02, -2.63192711e-02],\n",
       "        [-1.17599518e-01, -2.68086769e-01,  1.34611770e-01,\n",
       "          7.22526293e-02,  6.75172110e-02,  8.37902000e-02,\n",
       "          3.13886015e-01,  2.62476698e-01,  2.30933647e-02,\n",
       "          3.29518930e-01,  5.25822116e-04,  4.84451680e-02,\n",
       "          1.64285158e-01,  7.35446990e-02, -2.19158014e-01,\n",
       "         -7.62142664e-02, -2.25801080e-01,  1.63303469e-01,\n",
       "         -1.52094559e-01, -1.58814420e-01, -1.16607991e-02,\n",
       "          1.19497694e-01, -7.17047034e-02,  3.05497466e-01,\n",
       "          3.15727236e-01, -3.09598141e-01, -1.73749580e-02,\n",
       "         -1.70536937e-01, -2.62773321e-01,  2.84428901e-17],\n",
       "        [ 9.69799964e-02,  2.10923387e-01, -3.54967709e-02,\n",
       "         -3.34080045e-01,  1.13401493e-01, -1.80383605e-01,\n",
       "          1.48094235e-01,  3.69862678e-02,  2.52058874e-01,\n",
       "          2.20349645e-01,  4.19107259e-02,  2.93310950e-01,\n",
       "         -2.18523388e-02,  2.60750870e-01,  1.72906205e-01,\n",
       "          7.73027617e-02,  2.83761560e-01, -1.81836119e-01,\n",
       "         -2.10812734e-01, -8.91782006e-02,  3.00104356e-01,\n",
       "          1.44520436e-01, -1.88360069e-01,  1.37432698e-01,\n",
       "          4.56580038e-01,  2.50741617e-01,  1.25117576e-01,\n",
       "         -2.76862493e-01, -1.18636873e-01,  5.51410539e-02],\n",
       "        [ 1.04624134e-01,  2.42544236e-01, -6.87268801e-02,\n",
       "          5.40643107e-02,  5.77414157e-02, -1.64795029e-01,\n",
       "          7.72460543e-02,  3.08761104e-01,  3.77803662e-01,\n",
       "         -8.81769825e-02, -3.01698485e-02,  2.96189644e-02,\n",
       "         -2.30265998e-02, -2.96915873e-01,  3.31732952e-01,\n",
       "         -3.12024496e-01, -1.89977553e-01, -1.64383329e-01,\n",
       "         -2.83237444e-01,  2.36612200e-01,  7.98076955e-03,\n",
       "         -1.59457778e-02,  3.32617089e-01, -2.32095582e-01,\n",
       "         -7.45080631e-02,  8.13796230e-02,  4.96676040e-02,\n",
       "          7.31693779e-02,  3.52455485e-01,  7.00279208e-06],\n",
       "        [ 4.47998494e-02,  7.00813270e-02, -2.58381230e-01,\n",
       "          1.01010604e-01, -1.17671520e-01, -2.23401236e-01,\n",
       "         -2.54249770e-01,  9.66749848e-02,  4.57392216e-01,\n",
       "         -2.76066528e-01, -1.65693316e-01, -1.57369494e-01,\n",
       "         -8.56441813e-03, -1.29337637e-02, -5.56754410e-02,\n",
       "          1.41462291e-01, -8.06154047e-02, -3.23949959e-02,\n",
       "         -2.30963759e-01,  2.37473269e-01,  2.09864140e-01,\n",
       "         -1.46471711e-01,  2.97673641e-03, -5.37585208e-02,\n",
       "         -1.36395595e-01,  2.86880266e-01, -1.14998420e-01,\n",
       "          2.31128445e-01,  1.29242520e-01,  3.65771683e-06],\n",
       "        [ 1.10902107e-04, -9.90073566e-02,  4.75599877e-01,\n",
       "          1.09643003e-01, -1.25271360e-01, -1.55446068e-01,\n",
       "          3.65587429e-01, -2.06033264e-01, -5.68687593e-02,\n",
       "          2.26415664e-02, -3.31452088e-02,  1.13771100e-01,\n",
       "          1.66178857e-01,  4.14141311e-01, -3.77057255e-01,\n",
       "         -7.33022000e-02, -3.13250428e-01, -5.30031144e-01,\n",
       "         -1.42926336e-01, -2.55898397e-01,  8.37974040e-02,\n",
       "          1.22050782e-01,  1.27616012e-01,  1.48555277e-01,\n",
       "          5.55538720e-01, -4.32912940e-01, -1.84595183e-01,\n",
       "          3.69633367e-02, -1.97098417e-01,  2.34116052e-05],\n",
       "        [-7.60495655e-03, -1.68280748e-01, -2.13545933e-01,\n",
       "         -1.34430363e-01,  6.77233106e-02,  1.13657584e-01,\n",
       "         -2.70883969e-01, -1.64869174e-01, -2.17429735e-02,\n",
       "         -1.06810880e-01, -2.58706010e-05, -2.13068158e-01,\n",
       "          3.26473812e-01, -2.98662928e-01,  2.79472221e-01,\n",
       "          1.50122278e-01,  3.06292157e-01,  8.94903870e-02,\n",
       "         -6.72135900e-02,  3.03302338e-01,  1.60602453e-02,\n",
       "         -1.27251656e-01,  3.56281602e-01, -1.27982128e-01,\n",
       "         -2.80022628e-01,  3.10201669e-01,  1.49332761e-01,\n",
       "         -7.36168502e-02,  5.07741851e-02,  6.09364276e-07],\n",
       "        [-1.55603303e-01, -2.34852381e-01,  2.06250344e-01,\n",
       "          2.59975597e-01,  7.70735682e-02, -1.64032739e-01,\n",
       "          2.67316158e-01, -1.47495135e-01, -3.00074130e-01,\n",
       "          2.96917757e-01,  1.29340985e-01, -2.33340688e-01,\n",
       "          1.09773184e-01, -1.76570619e-01, -1.25425220e-01,\n",
       "         -2.43810088e-01, -2.70471262e-02,  2.51254380e-01,\n",
       "         -1.87062153e-01,  1.93949594e-01,  1.70032104e-01,\n",
       "          2.66061902e-02,  1.92961843e-01,  2.97071395e-01,\n",
       "          3.43773515e-02, -3.25277330e-01, -8.93172480e-02,\n",
       "         -1.80986818e-01,  1.63446728e-01,  5.85002997e-10],\n",
       "        [ 3.11854212e-02, -1.96654757e-01, -9.84795732e-02,\n",
       "         -9.33523444e-02, -8.90203626e-02, -2.88878611e-01,\n",
       "          2.98398578e-01, -1.65068465e-01,  2.22925671e-01,\n",
       "          3.45506986e-01,  6.69279241e-02,  2.81210655e-01,\n",
       "          1.02119597e-02, -2.77975572e-01,  1.39034496e-02,\n",
       "          2.79472294e-01,  1.37497525e-01,  1.39838335e-01,\n",
       "         -8.37256838e-02, -5.27625286e-02,  2.82261602e-01,\n",
       "          3.16656939e-01, -2.62460033e-01,  5.95292643e-02,\n",
       "          3.81909557e-01, -1.04006907e-01, -2.24874707e-01,\n",
       "          1.99777805e-01,  2.28033237e-01,  2.21198588e-05],\n",
       "        [ 1.75798309e-01,  2.35326129e-01, -2.21204130e-01,\n",
       "         -1.27811995e-02,  7.07058926e-02, -5.89083986e-02,\n",
       "         -8.15744367e-02,  1.83886002e-01, -3.51365528e-02,\n",
       "          9.06650543e-02,  4.98149749e-04,  1.63634435e-01,\n",
       "          1.73264168e-01, -1.62349380e-01,  2.64593862e-01,\n",
       "         -5.08451059e-02,  1.25774511e-01, -1.50457431e-01,\n",
       "          1.11549256e-01,  2.88059523e-01,  1.89621862e-01,\n",
       "         -2.63748941e-01, -1.19697198e-01, -1.53090103e-01,\n",
       "          3.61118557e-03,  2.96936601e-01,  1.01468553e-01,\n",
       "         -1.12959703e-01,  1.62250035e-01,  1.07802592e-03],\n",
       "        [-7.73549037e-02,  3.25726879e-01, -7.39542330e-02,\n",
       "          2.44663362e-01, -3.00580147e-02, -2.76815497e-01,\n",
       "          8.54622878e-03,  2.18477738e-02, -1.30774693e-01,\n",
       "          9.91896086e-02,  1.48285102e-01,  2.27458181e-01,\n",
       "         -4.74197597e-02,  5.40411159e-02, -2.18714778e-01,\n",
       "         -1.45233524e-01,  1.04793067e-01,  2.12898780e-01,\n",
       "          9.93366563e-02,  3.32611573e-02,  9.94780348e-02,\n",
       "          1.67135626e-01, -1.94372537e-01,  1.59823644e-01,\n",
       "          2.11859896e-01, -2.57652077e-01, -6.75521975e-02,\n",
       "          1.11598716e-01, -2.96281371e-01, -3.62058061e-02],\n",
       "        [ 5.36940453e-02, -1.38578132e-01,  1.27534393e-01,\n",
       "          1.51824564e-01, -4.12955614e-02, -2.49620541e-01,\n",
       "         -7.91588052e-02,  3.11869577e-02, -2.46626987e-01,\n",
       "          2.66776372e-01, -1.72618429e-01,  2.99295727e-01,\n",
       "         -1.60987174e-01,  1.39266813e-02, -2.29667146e-01,\n",
       "          2.23719806e-01,  1.08904692e-01,  2.25764691e-02,\n",
       "          9.21339897e-02, -1.15779915e-01, -2.26018281e-01,\n",
       "          2.93213189e-02,  1.57662872e-01,  1.75883778e-01,\n",
       "          5.24986937e-01, -3.17382330e-02, -2.95042202e-01,\n",
       "         -1.14607608e-01, -1.21696527e-01,  2.44521571e-02],\n",
       "        [ 3.91522123e-02,  2.00029726e-01,  2.00286996e-02,\n",
       "         -2.16242736e-01, -4.89251683e-02, -2.73473817e-01,\n",
       "         -1.69413033e-01, -3.26637335e-01, -1.84236321e-01,\n",
       "          2.39347234e-01, -9.51815052e-02,  3.37085416e-01,\n",
       "         -1.58668829e-01,  1.06456824e-01, -3.27783277e-03,\n",
       "          2.11322154e-01, -1.10751253e-02,  2.21753123e-01,\n",
       "          1.81705911e-01,  1.06242964e-02,  6.98381073e-02,\n",
       "          3.12958577e-01, -3.28857957e-02,  1.47979393e-01,\n",
       "          3.71999438e-01, -2.98032269e-01,  2.76156034e-02,\n",
       "          1.10195809e-01,  6.24452026e-02,  9.28811851e-08],\n",
       "        [-2.13216865e-01, -9.26726619e-02,  1.70289216e-01,\n",
       "          8.21066027e-02,  5.45360877e-02, -2.28503378e-01,\n",
       "          2.34268388e-01,  2.62354923e-01,  4.19513780e-01,\n",
       "         -1.58136741e-01,  1.56710494e-03,  1.40294538e-01,\n",
       "          3.68854934e-01,  7.98910583e-02,  3.67035754e-01,\n",
       "          2.57563510e-01,  1.41327354e-01,  3.67295732e-01,\n",
       "          9.53462215e-02,  9.07960925e-02, -4.26421152e-02,\n",
       "          1.00241507e-01, -2.07689232e-01, -1.21080193e-01,\n",
       "         -8.22841336e-03,  2.04758661e-01,  2.57397398e-01,\n",
       "          1.41312221e-01,  3.23997316e-01,  6.61520754e-07],\n",
       "        [ 2.23200361e-01,  3.15788676e-01,  1.72171777e-01,\n",
       "          1.93510831e-01, -1.72280308e-01,  2.39903480e-01,\n",
       "         -1.45095137e-01,  1.84608654e-01, -5.97070614e-03,\n",
       "         -6.99490281e-02, -1.15477763e-02, -3.49971344e-01,\n",
       "          3.25791437e-01,  2.06028019e-01, -8.84016528e-02,\n",
       "         -3.41932419e-01,  1.03698070e-01,  3.67376343e-01,\n",
       "         -6.56521388e-02,  1.04970769e-01,  2.33650710e-01,\n",
       "         -2.62265418e-01, -5.22405950e-02,  1.14059683e-02,\n",
       "         -1.05388196e-01,  2.36000812e-01,  2.45010596e-01,\n",
       "          4.15444787e-01,  2.31613257e-01,  3.56424650e-05],\n",
       "        [ 6.02590356e-02, -1.83242869e-01, -1.70881032e-01,\n",
       "          2.13018038e-01, -7.57567680e-02, -2.81353983e-01,\n",
       "         -2.20934825e-01,  2.48544947e-01, -2.90184143e-01,\n",
       "         -5.67614331e-02,  5.79496662e-02,  1.06211527e-01,\n",
       "         -6.82360448e-02, -3.04218155e-02,  8.75882798e-02,\n",
       "         -2.45932563e-01,  1.11861191e-01, -2.23028436e-01,\n",
       "          1.67767134e-01,  3.10975257e-01,  1.10850197e-01,\n",
       "         -1.82770438e-03, -2.50690360e-01, -1.94724761e-01,\n",
       "          4.91830827e-02,  1.22623925e-01, -1.56091761e-01,\n",
       "         -3.75707900e-02, -1.28879975e-01, -6.77059156e-08],\n",
       "        [-2.62568822e-01,  2.15221531e-01, -2.00918079e-01,\n",
       "          2.21455849e-01,  1.28596645e-02,  7.46704042e-02,\n",
       "         -2.52019034e-02,  3.27302773e-01,  4.75323105e-01,\n",
       "         -7.13155120e-02, -1.57459515e-01, -2.82483211e-01,\n",
       "          7.13096085e-02,  1.53461830e-01,  4.00357925e-01,\n",
       "         -4.54650545e-02,  1.68641922e-01,  6.48436702e-02,\n",
       "          1.33293738e-01, -2.75964870e-03,  2.47966950e-01,\n",
       "          2.63009672e-01,  2.82144482e-01, -7.42504435e-03,\n",
       "         -1.93284868e-01,  1.51940461e-01,  3.57596631e-01,\n",
       "          9.18054940e-02,  1.30693750e-01, -3.37626857e-03],\n",
       "        [-7.24094698e-02,  1.24981541e-01,  2.88519495e-01,\n",
       "         -2.14742142e-01,  2.41787729e-01, -2.68809751e-01,\n",
       "          2.26721846e-01,  2.27918652e-01, -2.52251026e-01,\n",
       "         -1.50973384e-02, -2.03359861e-01,  3.66982404e-01,\n",
       "         -1.57259261e-02,  3.86271949e-01, -6.45916413e-02,\n",
       "          9.24636858e-02,  9.33236085e-02, -3.52521151e-03,\n",
       "          2.32765764e-01,  1.79679636e-01, -7.23219303e-02,\n",
       "         -8.75561646e-03, -2.00620859e-01,  3.01596617e-01,\n",
       "          2.66764652e-01,  1.45225914e-01,  2.60170498e-02,\n",
       "         -1.05558954e-01, -3.09449557e-01, -1.22658870e-02],\n",
       "        [-8.11944994e-03,  3.41886337e-01, -1.41533193e-01,\n",
       "          1.32507528e-01,  2.82704380e-01,  2.20898192e-01,\n",
       "          8.63364333e-02, -5.58245056e-02,  1.70003543e-01,\n",
       "         -1.76706408e-01,  5.64580657e-02, -1.96916171e-01,\n",
       "          3.30404433e-01,  4.12316857e-02, -1.99888376e-02,\n",
       "         -1.32385085e-01,  3.78267467e-01,  1.32115217e-01,\n",
       "          1.92560604e-01,  1.23974989e-01,  1.77599716e-01,\n",
       "         -2.68186715e-01,  1.92304365e-01,  8.60678235e-02,\n",
       "         -2.37834880e-01,  3.15536655e-01,  1.45617881e-02,\n",
       "          4.48903077e-01, -1.00231882e-01,  1.49389553e-05],\n",
       "        [ 1.31119061e-01, -1.63061649e-01,  4.34754760e-02,\n",
       "          2.51202224e-01, -1.25603487e-01, -2.52268356e-01,\n",
       "         -5.03739369e-02,  1.47104502e-01, -1.37899437e-01,\n",
       "         -1.26486287e-01, -5.49911835e-02,  2.26923286e-01,\n",
       "         -9.16627952e-02,  2.60055256e-01, -2.22315188e-01,\n",
       "          2.17653621e-01, -7.35523808e-02, -8.12772295e-02,\n",
       "         -2.31668760e-01,  3.16822918e-01, -3.60541841e-03,\n",
       "         -1.27886091e-01,  1.70992078e-01,  1.17612264e-01,\n",
       "          1.38084054e-01,  1.53829407e-01, -9.68604683e-02,\n",
       "          9.30304368e-02, -1.98458814e-01, -1.79223608e-03],\n",
       "        [-1.69580539e-01,  7.33909988e-03, -1.67682734e-01,\n",
       "          8.16310513e-02, -2.20090335e-01, -2.71933735e-01,\n",
       "         -2.49462967e-01,  9.12511824e-02, -6.70404121e-02,\n",
       "          1.45836682e-01, -1.64539382e-01, -2.30597601e-01,\n",
       "          1.21898702e-01, -3.84721762e-02,  1.26665669e-01,\n",
       "         -2.01908889e-01,  2.02350844e-01, -5.63932483e-02,\n",
       "         -2.41503311e-01,  1.23255869e-01,  2.15921242e-01,\n",
       "          2.25276858e-01, -4.63215957e-02,  7.50133631e-02,\n",
       "         -6.81191948e-02, -2.51268568e-02,  1.01785441e-01,\n",
       "          4.39507886e-01, -2.19534188e-01,  3.83694569e-02],\n",
       "        [ 1.15174440e-02,  1.13177464e-01,  4.48066785e-02,\n",
       "         -2.64661773e-01, -2.04562003e-01,  4.85742948e-02,\n",
       "          2.68348117e-01,  1.12529497e-01,  3.52127280e-01,\n",
       "          3.33437155e-01,  1.92252374e-01,  3.95081425e-01,\n",
       "          1.38567220e-01,  3.00004639e-01,  3.73399099e-03,\n",
       "          1.23800005e-01, -8.92534770e-02,  1.72859980e-01,\n",
       "          1.28100426e-01, -1.24832952e-01,  3.00172728e-02,\n",
       "          8.55118869e-02,  2.03390640e-01, -1.66724986e-01,\n",
       "          2.79013526e-01,  5.01423026e-02,  1.57431511e-01,\n",
       "         -2.57765266e-02,  2.08651087e-01,  2.14597032e-03],\n",
       "        [ 1.49014781e-01,  1.96364512e-02,  1.61165551e-01,\n",
       "         -3.05568694e-01,  2.66744592e-01,  2.46594264e-01,\n",
       "         -1.03478738e-01, -1.46057882e-01,  8.73397984e-02,\n",
       "         -1.69212742e-01, -1.37261902e-01,  2.22869006e-01,\n",
       "          1.40987179e-01,  1.04039355e-01,  3.02022372e-01,\n",
       "          2.20223128e-01, -1.11197905e-01,  2.18012151e-01,\n",
       "         -1.35626031e-01, -4.08782978e-03,  6.25730470e-02,\n",
       "         -8.43836477e-03,  8.07440561e-02,  1.26907456e-01,\n",
       "         -9.74380851e-02, -1.61082814e-01,  3.13449607e-01,\n",
       "          1.06123185e-01,  2.15399422e-01,  8.32902705e-03],\n",
       "        [-4.43162289e-03, -1.29565584e-01, -7.80483555e-02,\n",
       "          2.33971674e-01, -4.43073787e-02,  1.51915496e-01,\n",
       "         -2.40673315e-01, -2.08042750e-01,  1.44797548e-01,\n",
       "          2.36208233e-01,  8.52308220e-05,  6.82360614e-02,\n",
       "          1.04438670e-01,  1.80934999e-02,  1.16741147e-01,\n",
       "          2.58759800e-01, -1.32507546e-01,  1.77552723e-01,\n",
       "          1.16663049e-01, -4.59629723e-02,  9.09469054e-02,\n",
       "          1.28035282e-02, -1.41300992e-01, -2.76839570e-01,\n",
       "         -6.38791343e-04,  1.16467240e-01, -1.80317012e-02,\n",
       "         -2.05949604e-02, -1.25169526e-01,  2.96591300e-08],\n",
       "        [ 1.01893392e-01, -1.21025244e-01,  9.27680171e-02,\n",
       "         -1.94091025e-01,  1.38843148e-02, -2.72245498e-01,\n",
       "          4.89196946e-02, -3.58886000e-01, -3.55008448e-01,\n",
       "          2.50136523e-01, -4.48540863e-02,  3.81651641e-01,\n",
       "         -3.35431820e-01,  4.11142239e-01, -2.72027405e-02,\n",
       "          3.47858082e-01, -3.01297354e-01,  1.08226255e-01,\n",
       "          6.48599737e-02,  9.41492911e-02, -2.86340545e-01,\n",
       "          4.31724186e-01, -4.93164810e-02,  6.15517237e-02,\n",
       "          5.62821313e-01,  1.77752942e-01, -9.13263714e-02,\n",
       "         -3.10841873e-01, -1.35390167e-01,  4.36677947e-03],\n",
       "        [ 2.52608459e-03,  3.84198253e-01, -5.72883591e-03,\n",
       "          1.14272131e-01, -1.78905054e-01,  9.33342077e-02,\n",
       "          1.73888161e-01, -9.61267255e-03,  1.02745016e-01,\n",
       "         -2.96532647e-01,  2.68004463e-03, -3.42233973e-01,\n",
       "          2.34254552e-01,  5.37496317e-03,  1.83279710e-01,\n",
       "         -2.87128543e-01,  3.79557262e-01, -1.28731002e-01,\n",
       "          1.77143620e-01,  9.17609564e-02, -4.81994583e-02,\n",
       "         -2.62610058e-01,  3.46849024e-01, -1.69352870e-01,\n",
       "         -2.63763307e-01,  2.61121417e-01,  3.89326091e-01,\n",
       "          1.17762911e-01, -7.53068057e-02,  4.37320466e-02],\n",
       "        [-8.64338521e-05,  3.03214110e-01, -3.18375611e-01,\n",
       "         -1.35882612e-01,  1.90547499e-01,  2.17521018e-02,\n",
       "          3.76019827e-03,  1.85914845e-01,  5.39284766e-01,\n",
       "         -3.02216718e-01,  3.00525955e-02, -4.77036634e-01,\n",
       "          2.11590286e-01, -2.64304478e-01,  1.24332809e-01,\n",
       "         -7.42818006e-02,  2.22849347e-01,  5.77943945e-01,\n",
       "          3.47186915e-01,  5.31158535e-01,  4.23216393e-01,\n",
       "         -1.63719301e-01,  5.50027333e-01, -7.21037263e-02,\n",
       "         -4.40668355e-01, -1.69068550e-02,  4.45624574e-01,\n",
       "          7.60503186e-01,  4.68067376e-01,  3.45898350e-05],\n",
       "        [-2.31034415e-02, -1.78976903e-02, -1.02642911e-01,\n",
       "         -2.16127039e-01, -7.98054377e-02, -3.20551375e-01,\n",
       "          3.06937598e-02,  4.10447617e-01,  5.02980398e-01,\n",
       "         -1.21197305e-01,  9.60057182e-02, -2.42281355e-02,\n",
       "          1.62706333e-01, -2.54094065e-01,  1.17070063e-01,\n",
       "         -1.33065021e-01, -7.43444724e-02,  3.16484681e-01,\n",
       "          8.31683471e-04,  3.53659658e-01,  2.66439686e-01,\n",
       "         -6.35892351e-02,  5.99856599e-02, -2.75891711e-01,\n",
       "         -2.48282984e-01,  2.02573587e-01, -2.27419382e-02,\n",
       "          4.28905240e-01,  4.35877091e-01, -1.33551713e-02]]),\n",
       " array([[-0.00131828],\n",
       "        [ 0.47432841],\n",
       "        [-0.31910515],\n",
       "        [-0.1356562 ],\n",
       "        [ 0.12129258],\n",
       "        [-0.34012332],\n",
       "        [-0.50890058],\n",
       "        [ 0.20265192],\n",
       "        [ 0.54077546],\n",
       "        [-0.53059894],\n",
       "        [ 0.18301384],\n",
       "        [-0.39743095],\n",
       "        [ 0.46705365],\n",
       "        [-0.36739506],\n",
       "        [ 0.48792166],\n",
       "        [-0.53117629],\n",
       "        [ 0.22013877],\n",
       "        [ 0.27969941],\n",
       "        [ 0.06104668],\n",
       "        [ 0.19032085],\n",
       "        [ 0.1306728 ],\n",
       "        [-0.64005356],\n",
       "        [ 0.21369373],\n",
       "        [-0.3081312 ],\n",
       "        [-0.79390003],\n",
       "        [ 0.22840983],\n",
       "        [ 0.15722652],\n",
       "        [ 0.35388143],\n",
       "        [ 0.51452347],\n",
       "        [ 0.00777046]])]"
      ]
     },
     "execution_count": 176,
     "metadata": {},
     "output_type": "execute_result"
    }
   ],
   "source": [
    "mlp.coefs_"
   ]
  },
  {
   "cell_type": "code",
   "execution_count": 177,
   "metadata": {},
   "outputs": [
    {
     "data": {
      "text/plain": [
       "4"
      ]
     },
     "execution_count": 177,
     "metadata": {},
     "output_type": "execute_result"
    }
   ],
   "source": [
    "len(mlp.coefs_)"
   ]
  },
  {
   "cell_type": "code",
   "execution_count": 178,
   "metadata": {},
   "outputs": [
    {
     "data": {
      "text/plain": [
       "17"
      ]
     },
     "execution_count": 178,
     "metadata": {},
     "output_type": "execute_result"
    }
   ],
   "source": [
    "len(mlp.coefs_[0])"
   ]
  },
  {
   "cell_type": "code",
   "execution_count": 179,
   "metadata": {
    "scrolled": true
   },
   "outputs": [
    {
     "data": {
      "text/plain": [
       "30"
      ]
     },
     "execution_count": 179,
     "metadata": {},
     "output_type": "execute_result"
    }
   ],
   "source": [
    "len(mlp.intercepts_[0])"
   ]
  },
  {
   "cell_type": "code",
   "execution_count": null,
   "metadata": {},
   "outputs": [],
   "source": []
  },
  {
   "cell_type": "code",
   "execution_count": null,
   "metadata": {},
   "outputs": [],
   "source": []
  }
 ],
 "metadata": {
  "kernelspec": {
   "display_name": "Python 3",
   "language": "python",
   "name": "python3"
  },
  "language_info": {
   "codemirror_mode": {
    "name": "ipython",
    "version": 3
   },
   "file_extension": ".py",
   "mimetype": "text/x-python",
   "name": "python",
   "nbconvert_exporter": "python",
   "pygments_lexer": "ipython3",
   "version": "3.7.4"
  }
 },
 "nbformat": 4,
 "nbformat_minor": 2
}
