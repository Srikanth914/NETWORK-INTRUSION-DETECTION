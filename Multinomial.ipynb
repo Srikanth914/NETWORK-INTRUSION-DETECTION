{
 "cells": [
  {
   "cell_type": "code",
   "execution_count": null,
   "metadata": {},
   "outputs": [],
   "source": []
  },
  {
   "cell_type": "markdown",
   "metadata": {},
   "source": [
    "# Network Intrusion Detection System"
   ]
  },
  {
   "cell_type": "markdown",
   "metadata": {},
   "source": [
    "#### Detection System: Network Intrusion Detection System - CLASSIFICATION MODEL\n",
    "\n",
    "**OBJECTIVE:** To build network intrusion detection system to detect anamolies and attacks in the network. There are two problems.  \n",
    "1. Binomial Classification: Activity is normal or attack \n",
    "2. Multinomial classification: Activity is normal or DOS or PROBE or R2L or U2R \n",
    "\n",
    "##### Bank client data:\n",
    "- age (numeric)\n",
    "- job: type of job (categorical: 'admin.', 'blue-collar', 'entrepreneur', 'housemaid', 'management', 'retired', 'self-employed', 'services', 'student', 'technician', 'unemployed', 'unknown')\n",
    "- marital: marital status (categorical: 'divorced', 'married', 'single', 'unknown'; note: 'divorced' means divorced or widowed)\n",
    "- education (categorical: 'basic.4y', 'basic.6y', 'basic.9y', 'high.school', 'illiterate', 'professional.course', 'university.degree', 'unknown')\n",
    "- default: has credit in default? (categorical: 'no', 'yes', 'unknown')\n",
    "- housing: has housing loan? (categorical: 'no', 'yes', 'unknown')\n",
    "- loan: has personal loan? (categorical: 'no', 'yes', 'unknown')\n",
    "\n",
    "##### Related with the last contact of the current campaign:\n",
    "- contact: contact communication type (categorical: 'cellular', 'telephone')\n",
    "- month: last contact month of year (categorical: 'jan', 'feb', 'mar', ., 'nov', 'dec')\n",
    "- day_of_week: last contact day of the week (categorical: 'mon', 'tue', 'wed', 'thu', 'fri')\n",
    "- duration: last contact duration, in seconds (numeric). Important note: this attribute highly affects the output target (e.g., if duration=0 then y='no'). Yet, the duration is not known before a call is performed. Also, after the end of the call y is obviously known. Thus, this input should only be included for benchmark purposes and should be discarded if the intention is to have a realistic predictive model.\n",
    "\n",
    "##### other attributes:\n",
    "- campaign: number of contacts performed during this campaign and for this client (numeric, includes last contact)\n",
    "- pdays: number of days that passed by after the client was last contacted from a previous campaign (numeric; 999 means client was not previously contacted)\n",
    "- previous: number of contacts performed before this campaign and for this client (numeric)\n",
    "- poutcome: outcome of the previous marketing campaign (categorical: 'failure','nonexistent','success')\n",
    "\n",
    "##### social and economic context attributes\n",
    "- emp.var.rate: employment variation rate - quarterly indicator (numeric)\n",
    "- cons.price.idx: consumer price index - monthly indicator (numeric)     \n",
    "- cons.conf.idx: consumer confidence index - monthly indicator (numeric)     \n",
    "- euribor3m: euribor 3 month rate - daily indicator (numeric)\n",
    "- nr.employed: number of employees - quarterly indicator (numeric)\n",
    "\n",
    "\n",
    "##### Output variable (desired target):\n",
    "- y - has the client subscribed a term deposit? (binary: \"yes\",\"no\")\n",
    "\n",
    "Missing Attribute Values: There are several missing values in some categorical attributes, all coded with the \"unknown\" label. These missing values can be treated as a possible class label or using deletion or imputation techniques.\n",
    "\n",
    "https://archive.ics.uci.edu/ml/datasets/Bank+Marketing"
   ]
  },
  {
   "cell_type": "markdown",
   "metadata": {},
   "source": [
    "## Model Building Steps - Pre-Modeling Stage"
   ]
  },
  {
   "cell_type": "markdown",
   "metadata": {},
   "source": [
    "### Identification of Business Problem & Converting business problem into stats problem\n",
    "    - Diagnostics of data to identify the business problem or test the hypothesis\n",
    "    - Understand the pain points to address\n",
    "    - Regression vs. classification vs. Segmentation vs. Forecasting vs. Optimziaiton vs. Others\n",
    "    - Strategic vs. Operational\n",
    "    - Supervised vs. Unsupervised\n",
    "    - What kind of combination of problems\n",
    "### Understand the data availability\n",
    "    - Define Y & X variables\n",
    "    - Understand sources of data\n",
    "    - Understand Granularity of data availability\n",
    "    - Understand enterprise data model\n",
    "### Identify the right Technique for given problem\n",
    "    - Regression Problem (Available Algorithms)\n",
    "        - Linear Regression (Traditional)\n",
    "        - Lasso/Ridge/Elastic net Regression\n",
    "        - Decision Tree Regressor\n",
    "        - Bagging Regressor\n",
    "        - Random Forest Regressor\n",
    "        - Adaboost Regressor\n",
    "        - GBM Regressor\n",
    "        - XGBoost Regressor\n",
    "        - KNN Regressor\n",
    "        - Support Vector Regressor (Linear SVM, Kernal SVM)\n",
    "        - ANN Regressor\n",
    "    - Classification Problem (Available Algorithms)\n",
    "        - Logistic Regression (Traditional)\n",
    "        - Decision Tree Classifier\n",
    "        - Bagging Classifier\n",
    "        - Random Forest Classifier\n",
    "        - Adaboost Classifier\n",
    "        - GBM Classifier\n",
    "        - XGBoost Classifier\n",
    "        - KNN Classifier\n",
    "        - Support Vector Classifier (Linear SVM, Kernal SVM)\n",
    "        - ANN Classifier\n",
    "    - Segmentation Problems (Available Algorithms)\n",
    "        - Hueristic Approach (Value Based, Life stage, Loyalty, RFM Segmentation)\n",
    "        - Scientific Approach \n",
    "            - Subjective - Kmeans/Kmedians/Hierarchical/DBSCAN\n",
    "            - Objective - Decision Trees\n",
    "    - Forecasting Problems (Available Algorithms)\n",
    "        - Univariate Time Series\n",
    "            - Decomposition\n",
    "            - Averages (MA, WMA)            \n",
    "            - ETS Models (Holt Winters)\n",
    "            - SARIMA (AR/MA/ARMA/ARIMA/SARIMA)\n",
    "        - Multivariate Time Series\n",
    "            - SARIMAX (ARIMAX/SARIMAX)\n",
    "            - Regression\n",
    "### Acquiring Data from available data sources (Internal/External/Paid sources)\n",
    "    - Internal databases\n",
    "    - External databases (Credit Bueruo's, Experian, D&B, Axiom etc.)\n",
    "    - Social Media & Secondary research\n",
    "### Data Audit\n",
    "    - At File Level\n",
    "        - Is the data sample/population?\n",
    "            - If it is sample, do we have population metrics to compare the sample metrics with population metrics\n",
    "            - Size of the sample\n",
    "        - Type of Format (delimiters)\n",
    "        - Missings \n",
    "        - Number of rows\n",
    "        - Number of columns\n",
    "        - File Size\n",
    "        - Headers availability\n",
    "        - Data dictionary availability & understand the tables & keys\n",
    "        - Keys (Unique variables) or which variables making each observation as unique\n",
    "        - How the tables are interelated \n",
    "        - is data encoded? or Masked?\n",
    "     - At Variable Level\n",
    "         - Data types - mismatch\t\n",
    "         - Categorical\tNomial/\tordinal\n",
    "         - Which of the variables date variables? Can we create any Derived variables?\n",
    "         - Does variables need renaming?\t\n",
    "         - Does data have Missing values?\t\n",
    "         - Does data have Outliers?\t\n",
    "         - Does data have Duplicate records\t\n",
    "         - Does Variables with multiple values - do we need to split/extract specific information from the variable?\t\n",
    "         - Does data have Special values - 0's, @, ?, #NA, #N/A, #Error, Currencies, Null values, -inf, inf, 99999\t\n",
    "         - Understand Distribution of data\t\n",
    "                - Percentile distribution\n",
    "                - Histogram/Boxplot for continuous\n",
    "                - Bar chart for categorical\n",
    "         - Understand Relationships (correlations/associations)\t\n",
    "         - Perform detailed Exploratory analysis?\t\n",
    "         - Create Derived variables to define using data (KPI's)\n",
    "             - Using Ratios\n",
    "             - Using date/time variables\n",
    "             - Using string variables\n",
    "         - sample representing population or not?\t\n",
    "         - Identify variables with Near Zero variance?\t\n",
    "             - By looking at percentile distribution\n",
    "             - By looking at CV <0.05\n",
    "         - Identify variables required to do encoding (Label encoding/One hot encoding)\n",
    "        \n",
    "    "
   ]
  },
  {
   "cell_type": "markdown",
   "metadata": {},
   "source": [
    "## Model Building Steps - Modeling Stage"
   ]
  },
  {
   "cell_type": "markdown",
   "metadata": {},
   "source": [
    "### Data Preparation-1 (Process data based on data audit Report)\n",
    "\n",
    "- Handiling all the problems identififed in the data audit report\n",
    "    - Converting data types into appropriate manner\n",
    "    - Renaming variables as required (specially remove spaces, special characters from headers)\n",
    "    - Handlign missing values (Imputation of Missing values)\n",
    "        - Cross Sectional data \n",
    "            - Numerical - Impute with mean/median/Regression/KNN/MICE approach\n",
    "            - Categorical - Impute with mode/Regression/KNN/MICE approach\n",
    "        - Time Series data\n",
    "            - Impute with forward filling/backward filling/moving average/centered moving average\n",
    "    - Handling Outliers\n",
    "        - Cross sectional data\n",
    "            - Capping & floring with upper cap/lower cap\n",
    "                - P1, P99 or P5, P95\n",
    "                - mean+/-3std\n",
    "                - Q1-1.5*IQR, Q3+1.5*IQR\n",
    "        - Time Series Data\n",
    "            - Correct the peaks/slumps based on business understanding\n",
    "            - Add dummy variable for that period of time if you are unable to address the reasons\n",
    "            - MA (Yearly data) +/- 2.5/3*STd(with in Year)\n",
    "            \n",
    "     - Converting categorical variables into numercal variables\n",
    "            - Ordinal variables (Label encoding)\n",
    "            - Nominal Variables (One-Hot encoding)\n",
    "     - Creating derived variables (Using KPI's/Using Date variabels/Split the existing ariables etc)\n",
    "     \n",
    "### Data Preparation-2 (Assumptions of the techniques)   \n",
    "        - Linear Regression (Normality/Linearity/No outliers/No Multicollinieirty/Homoscedasticity)\n",
    "        - Logistic Regression (Linearity/No outliers/No Multicollinieirty)\n",
    "        - KMeans/KNN (data should be scaled/standardized/No outliers)\n",
    "        - Forecasting (no missings)\n",
    "        etc.\n",
    "        \n",
    "### Data Preparation-3 (Feature selection/Feature engineering/Feature identification)\n",
    "    - Based on the data, you may drop variables based on below reasons\n",
    "        - If the variable have lots of missings (>25%)\n",
    "        - if categorical Variable with lots categories(>20)\n",
    "        - Variable with near zero variance (CV<0.05)\n",
    "        - Unique variables/Keys/Names/Emaiid's/Phone number\n",
    "        - Using Business Logic (By keeping in implementation perspective\n",
    "    - Variable Selection/Reduction using relationships\n",
    "        - Supervised Learning (Based on Y & X Relationships)\n",
    "            - Using statistical methods\n",
    "            - Univariate Regression (F- Regression)\n",
    "            - RFE (Recursive Feature Elimination)\n",
    "            - SelectKBest\n",
    "            - DT/RF\n",
    "            - Regularization\n",
    "            - WOE (relationship between Y & Log(odds) - Binary Classification\n",
    "        - Any technique (Based on relationship with in X's variables)\n",
    "            - Correlation metrics\n",
    "            - PCA/SVD\n",
    "            - VIF (Variance Inflation factor >5)\n",
    "\n",
    "### Data Preparation-4\n",
    "    - Splitting the data into train & Test\n",
    "        - Cross Sectional data - Random sample of split (70:30)\n",
    "        - Time Series Data - Based on time index (Most recent data will be test)       \n"
   ]
  },
  {
   "cell_type": "markdown",
   "metadata": {},
   "source": [
    "### Modeling steps - Building Model\n",
    "\n",
    "Build the models Using the techniques what we selected as part of problem solving\n",
    "\n",
    "#### Linear Regression\n",
    "    - variable significance\n",
    "    - final mathematical equation\n",
    "    - Important Drivers (positive/negative)\n",
    "    - Check the driver's signs with orignal correlations with Y\n",
    "- Metrics\n",
    "    - R-square/Adj Square\n",
    "    - MSE/RMSE/MAPE/RMSPE\n",
    "    - Corr(Actual, pred)\n",
    "    - Decile Analysis (Rank Ordering)\n",
    "- Checks\n",
    "    - Errors should follow normal distribution\n",
    "    - Corr(Actual, Errors) ~0\n",
    "    - no multicollineirity on final list of variables\n",
    "    \n",
    "#### Logistic Regression\n",
    "    - variable significance\n",
    "    - final mathematical equation\n",
    "    - Drivers (Positive/Negative)\n",
    "\n",
    "Metrics\n",
    "- Metrics Based on the probability (only for binary classification)\n",
    "    - AUC, Somerce D/Gini\n",
    "\n",
    "- Get the right cut-off (only for binary classification)\n",
    "    - %1's in the data\n",
    "    - Maximum of Senstivity+ Specicity\n",
    "    - Maximum of accuracy\n",
    "    - Decile Analysis - Using KS Value\n",
    "\n",
    "- Metrics Based on category as output (after cut-off) - (applicable to both binary & multinomial classification)\n",
    "    - Confusion metrics\n",
    "    - Precision\n",
    "    - Recall - sensitivity, specicity, accuracy\n",
    "    - F1-score\n",
    "\n",
    "#### Segmentation\n",
    "- Iterative process different values of K\n",
    "- Identifying segmentation is good or not\n",
    "- Best value of K\n",
    "    - Based SC Score/Pseduo F-value\n",
    "    - Based on Segment Distribution\n",
    "    - Based on Profiling\n",
    "    - Identifying segment characteristics from profiling\n",
    "    \n",
    "#### Forecasting\n",
    "- Decomposition - Irregular compoent should be low (close to 1 for multiplicative decomposition)\n",
    "- ARIMA\n",
    "- Identifying best values of (p,d,q)(P,D,Q)\n",
    "- using get_prediction() method, calculating training accuracy\n",
    "    - MAPE/MSE/RMSE/RMSPE\n",
    "    \n",
    "#### Machine Learning\n",
    "- Find the right hyperparameters to tune using GridsearchCV\n",
    "    - Perform Gridsearch\n",
    "    - Identify best model with best parameters\n",
    "    - Finalize the model\n",
    "- Metrics are same as similar to linear regression/logistic regression\n",
    "- Relative importance of variables\n",
    "    - Not possible to identify significance of variables\n",
    "    - Not possible to identify the drivers's signs\n",
    "    \n",
    "### Model Validation\n",
    "- Supervised Learning\n",
    "    - Score the data using finalized model on train data \n",
    "        - Predicting values/forecasting values for test data\n",
    "    - Calculate all the metrics related to different types of techniques on validation data\n",
    "    - Check the problems related to Overfitting/Underfitting\n",
    "    - Finalize model based on low overfitting & low underfitting\n",
    "\n",
    "- Unsupervised Learning (Segmentation)\n",
    "    - Predict the segments for test data using centroids\n",
    "    - Business validation by comparing charateristics\n",
    "    - Calculate SC score for test data, compare it with train data's SC Score"
   ]
  },
  {
   "cell_type": "markdown",
   "metadata": {},
   "source": [
    "## Modeling Steps - Post Modeling"
   ]
  },
  {
   "cell_type": "markdown",
   "metadata": {},
   "source": [
    "Deployment code /Implementation code\n",
    "    - Preprocessing code as similar to preprocessing steps followed in train data\n",
    "    - Apply the model to predict the values for new data\n",
    "Deployment of application/WebGUI/Excel\n",
    "\n",
    "Documentation\n",
    "- Presentation/Word Document/Excel Document\n",
    "- Business Problem\n",
    "- Which technique considered\n",
    "- Which data you considered?\n",
    "- Definitions of new variables\n",
    "- What transformation applied & why?\n",
    "- What imputations done & why?\n",
    "- Train & test split data proportions\n",
    "- Model metrics for all the models you tried for train & test\n",
    "- Which model finalized & why?\n",
    "    - Final list of variables considered\n",
    "    - Checks you have done it?\n",
    "    - Detailed audit report\n",
    "    - Iterations & how the improvement?\n",
    "    - Assumptions of data\n",
    "    - Waterfall chart of variable reduction\n",
    "    - Finalize the mathematical equation\n",
    "        - Mathematical relation ship - Y = B1X1+B2X2+B3*X3+C\n",
    "        - Model object (Pickle)\n",
    "    - Pros & Cons of the model\n",
    "- Quantify the model output in terms KPI's\n",
    "- Model tracking system/Model Maintanance"
   ]
  },
  {
   "cell_type": "markdown",
   "metadata": {},
   "source": [
    "### Importing Packages for building classification models using Machine Learning"
   ]
  },
  {
   "cell_type": "code",
   "execution_count": 1,
   "metadata": {
    "scrolled": true
   },
   "outputs": [
    {
     "name": "stderr",
     "output_type": "stream",
     "text": [
      "C:\\ProgramData\\Anaconda3\\lib\\site-packages\\sklearn\\externals\\joblib\\__init__.py:15: DeprecationWarning: sklearn.externals.joblib is deprecated in 0.21 and will be removed in 0.23. Please import this functionality directly from joblib, which can be installed with: pip install joblib. If this warning is raised when loading pickled models, you may need to re-serialize those models with scikit-learn 0.21+.\n",
      "  warnings.warn(msg, category=DeprecationWarning)\n"
     ]
    },
    {
     "data": {
      "text/plain": [
       "<Figure size 432x216 with 0 Axes>"
      ]
     },
     "metadata": {},
     "output_type": "display_data"
    }
   ],
   "source": [
    "#Packages related to general operating system & warnings\n",
    "import os \n",
    "import warnings\n",
    "warnings.filterwarnings('ignore')\n",
    "\n",
    "#Packages related to data importing, manipulation, exploratory data analysis, data understanding\n",
    "import numpy as np\n",
    "import pandas as pd\n",
    "from pandas import Series, DataFrame\n",
    "import pandas_profiling\n",
    "import scipy.stats as stats\n",
    "\n",
    "#Packages related to data visualizaiton\n",
    "import seaborn as sns\n",
    "import matplotlib.pyplot as plt\n",
    "%matplotlib inline\n",
    "\n",
    "#Setting plot sizes and type of plot\n",
    "plt.rc(\"font\", size=14)\n",
    "plt.rcParams['axes.grid'] = True\n",
    "plt.figure(figsize=(6,3))\n",
    "plt.gray()\n",
    "\n",
    "from matplotlib.backends.backend_pdf import PdfPages\n",
    "\n",
    "#Modules related to split the data & gridsearch\n",
    "from sklearn.model_selection import train_test_split, GridSearchCV\n",
    "\n",
    "#Module related to calculation of metrics\n",
    "from sklearn import metrics\n",
    "\n",
    "#Module related to VIF \n",
    "from statsmodels.stats.outliers_influence import variance_inflation_factor\n",
    "\n",
    "#Modules related to preprocessing (Imputation of missings, standardiszation, new features creation, converting categorical to numerical)\n",
    "from sklearn.impute import MissingIndicator, SimpleImputer\n",
    "from sklearn.preprocessing import Imputer, PolynomialFeatures, KBinsDiscretizer, FunctionTransformer\n",
    "from sklearn.preprocessing import StandardScaler, MinMaxScaler, MaxAbsScaler\n",
    "from sklearn.preprocessing import LabelEncoder, OneHotEncoder, LabelBinarizer, OrdinalEncoder\n",
    "\n",
    "#Moudles related to feature selection\n",
    "from sklearn.feature_selection import RFE, RFECV, SelectKBest, chi2, SelectPercentile, f_classif, mutual_info_classif, f_regression, VarianceThreshold, SelectFromModel, mutual_info_classif, mutual_info_regression, SelectFpr, SelectFdr, SelectFwe\n",
    "\n",
    "\n",
    "#Modules related to pipe line creation for faster processing\n",
    "from sklearn.pipeline import Pipeline\n",
    "from sklearn.pipeline import FeatureUnion\n",
    "#from sklearn.features.transformers import DataFrameSelector\n",
    "\n",
    "#Modules related to saving python objects permanantly\n",
    "from sklearn.externals import joblib\n",
    "\n",
    "#Dumping model into current directory: joblib.dump(model_xg,\"my_model.pkl\") \n",
    "#Loading model: my_model_loaded=joblib.load(\"my_model.pkl\")\n",
    "\n",
    "#Modules related key techniques of supervised learning \n",
    "import statsmodels.formula.api as smf\n",
    "from sklearn.metrics import classification_report\n",
    "from sklearn.linear_model import LogisticRegression, LinearRegression, ElasticNet, Lasso, Ridge\n",
    "from sklearn.neighbors import KNeighborsClassifier, KNeighborsRegressor\n",
    "from sklearn.tree import DecisionTreeClassifier, DecisionTreeRegressor, export_graphviz, export\n",
    "from sklearn.ensemble import BaggingClassifier, BaggingRegressor,RandomForestClassifier,RandomForestRegressor\n",
    "from sklearn.ensemble import GradientBoostingClassifier,GradientBoostingRegressor, AdaBoostClassifier, AdaBoostRegressor \n",
    "from xgboost import XGBClassifier, XGBRegressor\n",
    "from sklearn.naive_bayes import BernoulliNB, MultinomialNB, GaussianNB\n",
    "from sklearn.svm import LinearSVC, LinearSVR, SVC, SVR\n",
    "from sklearn.neural_network import MLPClassifier, MLPRegressor"
   ]
  },
  {
   "cell_type": "code",
   "execution_count": 2,
   "metadata": {},
   "outputs": [],
   "source": [
    "test_data = pd.read_table('Test.txt',sep=\",\")"
   ]
  },
  {
   "cell_type": "code",
   "execution_count": 3,
   "metadata": {},
   "outputs": [
    {
     "data": {
      "text/html": [
       "<div>\n",
       "<style scoped>\n",
       "    .dataframe tbody tr th:only-of-type {\n",
       "        vertical-align: middle;\n",
       "    }\n",
       "\n",
       "    .dataframe tbody tr th {\n",
       "        vertical-align: top;\n",
       "    }\n",
       "\n",
       "    .dataframe thead th {\n",
       "        text-align: right;\n",
       "    }\n",
       "</style>\n",
       "<table border=\"1\" class=\"dataframe\">\n",
       "  <thead>\n",
       "    <tr style=\"text-align: right;\">\n",
       "      <th></th>\n",
       "      <th>0</th>\n",
       "      <th>tcp</th>\n",
       "      <th>private</th>\n",
       "      <th>REJ</th>\n",
       "      <th>0.1</th>\n",
       "      <th>0.2</th>\n",
       "      <th>0.3</th>\n",
       "      <th>0.4</th>\n",
       "      <th>0.5</th>\n",
       "      <th>0.6</th>\n",
       "      <th>...</th>\n",
       "      <th>0.04.1</th>\n",
       "      <th>0.06.1</th>\n",
       "      <th>0.00.3</th>\n",
       "      <th>0.00.4</th>\n",
       "      <th>0.00.5</th>\n",
       "      <th>0.00.6</th>\n",
       "      <th>1.00.2</th>\n",
       "      <th>1.00.3</th>\n",
       "      <th>neptune</th>\n",
       "      <th>21</th>\n",
       "    </tr>\n",
       "  </thead>\n",
       "  <tbody>\n",
       "    <tr>\n",
       "      <td>0</td>\n",
       "      <td>0</td>\n",
       "      <td>tcp</td>\n",
       "      <td>private</td>\n",
       "      <td>REJ</td>\n",
       "      <td>0</td>\n",
       "      <td>0</td>\n",
       "      <td>0</td>\n",
       "      <td>0</td>\n",
       "      <td>0</td>\n",
       "      <td>0</td>\n",
       "      <td>...</td>\n",
       "      <td>0.00</td>\n",
       "      <td>0.06</td>\n",
       "      <td>0.00</td>\n",
       "      <td>0.00</td>\n",
       "      <td>0.0</td>\n",
       "      <td>0.0</td>\n",
       "      <td>1.0</td>\n",
       "      <td>1.0</td>\n",
       "      <td>neptune</td>\n",
       "      <td>21</td>\n",
       "    </tr>\n",
       "    <tr>\n",
       "      <td>1</td>\n",
       "      <td>2</td>\n",
       "      <td>tcp</td>\n",
       "      <td>ftp_data</td>\n",
       "      <td>SF</td>\n",
       "      <td>12983</td>\n",
       "      <td>0</td>\n",
       "      <td>0</td>\n",
       "      <td>0</td>\n",
       "      <td>0</td>\n",
       "      <td>0</td>\n",
       "      <td>...</td>\n",
       "      <td>0.61</td>\n",
       "      <td>0.04</td>\n",
       "      <td>0.61</td>\n",
       "      <td>0.02</td>\n",
       "      <td>0.0</td>\n",
       "      <td>0.0</td>\n",
       "      <td>0.0</td>\n",
       "      <td>0.0</td>\n",
       "      <td>normal</td>\n",
       "      <td>21</td>\n",
       "    </tr>\n",
       "  </tbody>\n",
       "</table>\n",
       "<p>2 rows × 43 columns</p>\n",
       "</div>"
      ],
      "text/plain": [
       "   0  tcp   private  REJ    0.1  0.2  0.3  0.4  0.5  0.6  ...  0.04.1  0.06.1  \\\n",
       "0  0  tcp   private  REJ      0    0    0    0    0    0  ...    0.00    0.06   \n",
       "1  2  tcp  ftp_data   SF  12983    0    0    0    0    0  ...    0.61    0.04   \n",
       "\n",
       "   0.00.3  0.00.4  0.00.5  0.00.6  1.00.2  1.00.3  neptune  21  \n",
       "0    0.00    0.00     0.0     0.0     1.0     1.0  neptune  21  \n",
       "1    0.61    0.02     0.0     0.0     0.0     0.0   normal  21  \n",
       "\n",
       "[2 rows x 43 columns]"
      ]
     },
     "execution_count": 3,
     "metadata": {},
     "output_type": "execute_result"
    }
   ],
   "source": [
    "test_data.head(2)"
   ]
  },
  {
   "cell_type": "code",
   "execution_count": 4,
   "metadata": {},
   "outputs": [],
   "source": [
    "train_data= pd.read_table('Train.txt',sep=\",\")"
   ]
  },
  {
   "cell_type": "code",
   "execution_count": 5,
   "metadata": {},
   "outputs": [
    {
     "data": {
      "text/html": [
       "<div>\n",
       "<style scoped>\n",
       "    .dataframe tbody tr th:only-of-type {\n",
       "        vertical-align: middle;\n",
       "    }\n",
       "\n",
       "    .dataframe tbody tr th {\n",
       "        vertical-align: top;\n",
       "    }\n",
       "\n",
       "    .dataframe thead th {\n",
       "        text-align: right;\n",
       "    }\n",
       "</style>\n",
       "<table border=\"1\" class=\"dataframe\">\n",
       "  <thead>\n",
       "    <tr style=\"text-align: right;\">\n",
       "      <th></th>\n",
       "      <th>0</th>\n",
       "      <th>tcp</th>\n",
       "      <th>ftp_data</th>\n",
       "      <th>SF</th>\n",
       "      <th>491</th>\n",
       "      <th>0.1</th>\n",
       "      <th>0.2</th>\n",
       "      <th>0.3</th>\n",
       "      <th>0.4</th>\n",
       "      <th>0.5</th>\n",
       "      <th>...</th>\n",
       "      <th>0.17.1</th>\n",
       "      <th>0.03</th>\n",
       "      <th>0.17.2</th>\n",
       "      <th>0.00.6</th>\n",
       "      <th>0.00.7</th>\n",
       "      <th>0.00.8</th>\n",
       "      <th>0.05</th>\n",
       "      <th>0.00.9</th>\n",
       "      <th>normal</th>\n",
       "      <th>20</th>\n",
       "    </tr>\n",
       "  </thead>\n",
       "  <tbody>\n",
       "    <tr>\n",
       "      <td>0</td>\n",
       "      <td>0</td>\n",
       "      <td>udp</td>\n",
       "      <td>other</td>\n",
       "      <td>SF</td>\n",
       "      <td>146</td>\n",
       "      <td>0</td>\n",
       "      <td>0</td>\n",
       "      <td>0</td>\n",
       "      <td>0</td>\n",
       "      <td>0</td>\n",
       "      <td>...</td>\n",
       "      <td>0.0</td>\n",
       "      <td>0.60</td>\n",
       "      <td>0.88</td>\n",
       "      <td>0.0</td>\n",
       "      <td>0.0</td>\n",
       "      <td>0.0</td>\n",
       "      <td>0.0</td>\n",
       "      <td>0.0</td>\n",
       "      <td>normal</td>\n",
       "      <td>15</td>\n",
       "    </tr>\n",
       "    <tr>\n",
       "      <td>1</td>\n",
       "      <td>0</td>\n",
       "      <td>tcp</td>\n",
       "      <td>private</td>\n",
       "      <td>S0</td>\n",
       "      <td>0</td>\n",
       "      <td>0</td>\n",
       "      <td>0</td>\n",
       "      <td>0</td>\n",
       "      <td>0</td>\n",
       "      <td>0</td>\n",
       "      <td>...</td>\n",
       "      <td>0.1</td>\n",
       "      <td>0.05</td>\n",
       "      <td>0.00</td>\n",
       "      <td>0.0</td>\n",
       "      <td>1.0</td>\n",
       "      <td>1.0</td>\n",
       "      <td>0.0</td>\n",
       "      <td>0.0</td>\n",
       "      <td>neptune</td>\n",
       "      <td>19</td>\n",
       "    </tr>\n",
       "  </tbody>\n",
       "</table>\n",
       "<p>2 rows × 43 columns</p>\n",
       "</div>"
      ],
      "text/plain": [
       "   0  tcp ftp_data  SF  491  0.1  0.2  0.3  0.4  0.5  ...  0.17.1  0.03  \\\n",
       "0  0  udp    other  SF  146    0    0    0    0    0  ...     0.0  0.60   \n",
       "1  0  tcp  private  S0    0    0    0    0    0    0  ...     0.1  0.05   \n",
       "\n",
       "   0.17.2  0.00.6  0.00.7  0.00.8  0.05  0.00.9   normal  20  \n",
       "0    0.88     0.0     0.0     0.0   0.0     0.0   normal  15  \n",
       "1    0.00     0.0     1.0     1.0   0.0     0.0  neptune  19  \n",
       "\n",
       "[2 rows x 43 columns]"
      ]
     },
     "execution_count": 5,
     "metadata": {},
     "output_type": "execute_result"
    }
   ],
   "source": [
    "train_data.head(2)"
   ]
  },
  {
   "cell_type": "code",
   "execution_count": 6,
   "metadata": {},
   "outputs": [],
   "source": [
    "test_data.columns=[\"duration\",\"protocol_type\",\"service\",\"flag\",\"src_bytes\",\"dst_bytes\",\"land\", \"wrong_fragment\",\"urgent\",\"hot\",\"num_failed_logins\"\n",
    " ,\"logged_in\", \"num_compromised\",\"root_shell\",\"su_attempted\",\"num_root\",\"num_file_creations\", \"num_shells\",\"num_access_files\",\n",
    " \"num_outbound_cmds\",\"is_host_login\", \"is_guest_login\",\"count\",\"srv_count\",\"serror_rate\",\"srv_serror_rate\", \"rerror_rate\",\n",
    " \"srv_rerror_rate\",\"same_srv_rate\", \"diff_srv_rate\",\"srv_diff_host_rate\",\"dst_host_count\",\"dst_host_srv_count\",\n",
    " \"dst_host_same_srv_rate\", \"dst_host_diff_srv_rate\",\"dst_host_same_src_port_rate\", \"dst_host_srv_diff_host_rate\",\n",
    " \"dst_host_serror_rate\",\"dst_host_srv_serror_rate\", \"dst_host_rerror_rate\",\"dst_host_srv_rerror_rate\",\"attack\", \"last_flag\"]"
   ]
  },
  {
   "cell_type": "code",
   "execution_count": 7,
   "metadata": {},
   "outputs": [
    {
     "data": {
      "text/html": [
       "<div>\n",
       "<style scoped>\n",
       "    .dataframe tbody tr th:only-of-type {\n",
       "        vertical-align: middle;\n",
       "    }\n",
       "\n",
       "    .dataframe tbody tr th {\n",
       "        vertical-align: top;\n",
       "    }\n",
       "\n",
       "    .dataframe thead th {\n",
       "        text-align: right;\n",
       "    }\n",
       "</style>\n",
       "<table border=\"1\" class=\"dataframe\">\n",
       "  <thead>\n",
       "    <tr style=\"text-align: right;\">\n",
       "      <th></th>\n",
       "      <th>duration</th>\n",
       "      <th>protocol_type</th>\n",
       "      <th>service</th>\n",
       "      <th>flag</th>\n",
       "      <th>src_bytes</th>\n",
       "      <th>dst_bytes</th>\n",
       "      <th>land</th>\n",
       "      <th>wrong_fragment</th>\n",
       "      <th>urgent</th>\n",
       "      <th>hot</th>\n",
       "      <th>...</th>\n",
       "      <th>dst_host_same_srv_rate</th>\n",
       "      <th>dst_host_diff_srv_rate</th>\n",
       "      <th>dst_host_same_src_port_rate</th>\n",
       "      <th>dst_host_srv_diff_host_rate</th>\n",
       "      <th>dst_host_serror_rate</th>\n",
       "      <th>dst_host_srv_serror_rate</th>\n",
       "      <th>dst_host_rerror_rate</th>\n",
       "      <th>dst_host_srv_rerror_rate</th>\n",
       "      <th>attack</th>\n",
       "      <th>last_flag</th>\n",
       "    </tr>\n",
       "  </thead>\n",
       "  <tbody>\n",
       "    <tr>\n",
       "      <td>0</td>\n",
       "      <td>0</td>\n",
       "      <td>tcp</td>\n",
       "      <td>private</td>\n",
       "      <td>REJ</td>\n",
       "      <td>0</td>\n",
       "      <td>0</td>\n",
       "      <td>0</td>\n",
       "      <td>0</td>\n",
       "      <td>0</td>\n",
       "      <td>0</td>\n",
       "      <td>...</td>\n",
       "      <td>0.00</td>\n",
       "      <td>0.06</td>\n",
       "      <td>0.00</td>\n",
       "      <td>0.00</td>\n",
       "      <td>0.0</td>\n",
       "      <td>0.0</td>\n",
       "      <td>1.0</td>\n",
       "      <td>1.0</td>\n",
       "      <td>neptune</td>\n",
       "      <td>21</td>\n",
       "    </tr>\n",
       "    <tr>\n",
       "      <td>1</td>\n",
       "      <td>2</td>\n",
       "      <td>tcp</td>\n",
       "      <td>ftp_data</td>\n",
       "      <td>SF</td>\n",
       "      <td>12983</td>\n",
       "      <td>0</td>\n",
       "      <td>0</td>\n",
       "      <td>0</td>\n",
       "      <td>0</td>\n",
       "      <td>0</td>\n",
       "      <td>...</td>\n",
       "      <td>0.61</td>\n",
       "      <td>0.04</td>\n",
       "      <td>0.61</td>\n",
       "      <td>0.02</td>\n",
       "      <td>0.0</td>\n",
       "      <td>0.0</td>\n",
       "      <td>0.0</td>\n",
       "      <td>0.0</td>\n",
       "      <td>normal</td>\n",
       "      <td>21</td>\n",
       "    </tr>\n",
       "  </tbody>\n",
       "</table>\n",
       "<p>2 rows × 43 columns</p>\n",
       "</div>"
      ],
      "text/plain": [
       "   duration protocol_type   service flag  src_bytes  dst_bytes  land  \\\n",
       "0         0           tcp   private  REJ          0          0     0   \n",
       "1         2           tcp  ftp_data   SF      12983          0     0   \n",
       "\n",
       "   wrong_fragment  urgent  hot  ...  dst_host_same_srv_rate  \\\n",
       "0               0       0    0  ...                    0.00   \n",
       "1               0       0    0  ...                    0.61   \n",
       "\n",
       "   dst_host_diff_srv_rate  dst_host_same_src_port_rate  \\\n",
       "0                    0.06                         0.00   \n",
       "1                    0.04                         0.61   \n",
       "\n",
       "   dst_host_srv_diff_host_rate  dst_host_serror_rate  \\\n",
       "0                         0.00                   0.0   \n",
       "1                         0.02                   0.0   \n",
       "\n",
       "   dst_host_srv_serror_rate  dst_host_rerror_rate  dst_host_srv_rerror_rate  \\\n",
       "0                       0.0                   1.0                       1.0   \n",
       "1                       0.0                   0.0                       0.0   \n",
       "\n",
       "    attack  last_flag  \n",
       "0  neptune         21  \n",
       "1   normal         21  \n",
       "\n",
       "[2 rows x 43 columns]"
      ]
     },
     "execution_count": 7,
     "metadata": {},
     "output_type": "execute_result"
    }
   ],
   "source": [
    "test_data.head(2)"
   ]
  },
  {
   "cell_type": "code",
   "execution_count": 8,
   "metadata": {},
   "outputs": [
    {
     "data": {
      "text/plain": [
       "Index(['duration', 'protocol_type', 'service', 'flag', 'src_bytes',\n",
       "       'dst_bytes', 'land', 'wrong_fragment', 'urgent', 'hot',\n",
       "       'num_failed_logins', 'logged_in', 'num_compromised', 'root_shell',\n",
       "       'su_attempted', 'num_root', 'num_file_creations', 'num_shells',\n",
       "       'num_access_files', 'num_outbound_cmds', 'is_host_login',\n",
       "       'is_guest_login', 'count', 'srv_count', 'serror_rate',\n",
       "       'srv_serror_rate', 'rerror_rate', 'srv_rerror_rate', 'same_srv_rate',\n",
       "       'diff_srv_rate', 'srv_diff_host_rate', 'dst_host_count',\n",
       "       'dst_host_srv_count', 'dst_host_same_srv_rate',\n",
       "       'dst_host_diff_srv_rate', 'dst_host_same_src_port_rate',\n",
       "       'dst_host_srv_diff_host_rate', 'dst_host_serror_rate',\n",
       "       'dst_host_srv_serror_rate', 'dst_host_rerror_rate',\n",
       "       'dst_host_srv_rerror_rate', 'attack', 'last_flag'],\n",
       "      dtype='object')"
      ]
     },
     "execution_count": 8,
     "metadata": {},
     "output_type": "execute_result"
    }
   ],
   "source": [
    "test_data.columns"
   ]
  },
  {
   "cell_type": "code",
   "execution_count": 9,
   "metadata": {},
   "outputs": [
    {
     "data": {
      "text/plain": [
       "(22543, 43)"
      ]
     },
     "execution_count": 9,
     "metadata": {},
     "output_type": "execute_result"
    }
   ],
   "source": [
    "test_data.shape"
   ]
  },
  {
   "cell_type": "code",
   "execution_count": 10,
   "metadata": {},
   "outputs": [],
   "source": [
    "train_data.columns=[\"duration\",\"protocol_type\",\"service\",\"flag\",\"src_bytes\",\"dst_bytes\",\"land\", \"wrong_fragment\",\"urgent\",\"hot\",\"num_failed_logins\"\n",
    " ,\"logged_in\", \"num_compromised\",\"root_shell\",\"su_attempted\",\"num_root\",\"num_file_creations\", \"num_shells\",\"num_access_files\",\n",
    " \"num_outbound_cmds\",\"is_host_login\", \"is_guest_login\",\"count\",\"srv_count\",\"serror_rate\",\"srv_serror_rate\", \"rerror_rate\",\n",
    " \"srv_rerror_rate\",\"same_srv_rate\", \"diff_srv_rate\",\"srv_diff_host_rate\",\"dst_host_count\",\"dst_host_srv_count\",\n",
    " \"dst_host_same_srv_rate\", \"dst_host_diff_srv_rate\",\"dst_host_same_src_port_rate\", \"dst_host_srv_diff_host_rate\",\n",
    " \"dst_host_serror_rate\",\"dst_host_srv_serror_rate\", \"dst_host_rerror_rate\",\"dst_host_srv_rerror_rate\",\"attack\", \"last_flag\"]"
   ]
  },
  {
   "cell_type": "code",
   "execution_count": 11,
   "metadata": {},
   "outputs": [
    {
     "data": {
      "text/html": [
       "<div>\n",
       "<style scoped>\n",
       "    .dataframe tbody tr th:only-of-type {\n",
       "        vertical-align: middle;\n",
       "    }\n",
       "\n",
       "    .dataframe tbody tr th {\n",
       "        vertical-align: top;\n",
       "    }\n",
       "\n",
       "    .dataframe thead th {\n",
       "        text-align: right;\n",
       "    }\n",
       "</style>\n",
       "<table border=\"1\" class=\"dataframe\">\n",
       "  <thead>\n",
       "    <tr style=\"text-align: right;\">\n",
       "      <th></th>\n",
       "      <th>duration</th>\n",
       "      <th>protocol_type</th>\n",
       "      <th>service</th>\n",
       "      <th>flag</th>\n",
       "      <th>src_bytes</th>\n",
       "      <th>dst_bytes</th>\n",
       "      <th>land</th>\n",
       "      <th>wrong_fragment</th>\n",
       "      <th>urgent</th>\n",
       "      <th>hot</th>\n",
       "      <th>...</th>\n",
       "      <th>dst_host_same_srv_rate</th>\n",
       "      <th>dst_host_diff_srv_rate</th>\n",
       "      <th>dst_host_same_src_port_rate</th>\n",
       "      <th>dst_host_srv_diff_host_rate</th>\n",
       "      <th>dst_host_serror_rate</th>\n",
       "      <th>dst_host_srv_serror_rate</th>\n",
       "      <th>dst_host_rerror_rate</th>\n",
       "      <th>dst_host_srv_rerror_rate</th>\n",
       "      <th>attack</th>\n",
       "      <th>last_flag</th>\n",
       "    </tr>\n",
       "  </thead>\n",
       "  <tbody>\n",
       "    <tr>\n",
       "      <td>0</td>\n",
       "      <td>0</td>\n",
       "      <td>udp</td>\n",
       "      <td>other</td>\n",
       "      <td>SF</td>\n",
       "      <td>146</td>\n",
       "      <td>0</td>\n",
       "      <td>0</td>\n",
       "      <td>0</td>\n",
       "      <td>0</td>\n",
       "      <td>0</td>\n",
       "      <td>...</td>\n",
       "      <td>0.0</td>\n",
       "      <td>0.60</td>\n",
       "      <td>0.88</td>\n",
       "      <td>0.0</td>\n",
       "      <td>0.0</td>\n",
       "      <td>0.0</td>\n",
       "      <td>0.0</td>\n",
       "      <td>0.0</td>\n",
       "      <td>normal</td>\n",
       "      <td>15</td>\n",
       "    </tr>\n",
       "    <tr>\n",
       "      <td>1</td>\n",
       "      <td>0</td>\n",
       "      <td>tcp</td>\n",
       "      <td>private</td>\n",
       "      <td>S0</td>\n",
       "      <td>0</td>\n",
       "      <td>0</td>\n",
       "      <td>0</td>\n",
       "      <td>0</td>\n",
       "      <td>0</td>\n",
       "      <td>0</td>\n",
       "      <td>...</td>\n",
       "      <td>0.1</td>\n",
       "      <td>0.05</td>\n",
       "      <td>0.00</td>\n",
       "      <td>0.0</td>\n",
       "      <td>1.0</td>\n",
       "      <td>1.0</td>\n",
       "      <td>0.0</td>\n",
       "      <td>0.0</td>\n",
       "      <td>neptune</td>\n",
       "      <td>19</td>\n",
       "    </tr>\n",
       "  </tbody>\n",
       "</table>\n",
       "<p>2 rows × 43 columns</p>\n",
       "</div>"
      ],
      "text/plain": [
       "   duration protocol_type  service flag  src_bytes  dst_bytes  land  \\\n",
       "0         0           udp    other   SF        146          0     0   \n",
       "1         0           tcp  private   S0          0          0     0   \n",
       "\n",
       "   wrong_fragment  urgent  hot  ...  dst_host_same_srv_rate  \\\n",
       "0               0       0    0  ...                     0.0   \n",
       "1               0       0    0  ...                     0.1   \n",
       "\n",
       "   dst_host_diff_srv_rate  dst_host_same_src_port_rate  \\\n",
       "0                    0.60                         0.88   \n",
       "1                    0.05                         0.00   \n",
       "\n",
       "   dst_host_srv_diff_host_rate  dst_host_serror_rate  \\\n",
       "0                          0.0                   0.0   \n",
       "1                          0.0                   1.0   \n",
       "\n",
       "   dst_host_srv_serror_rate  dst_host_rerror_rate  dst_host_srv_rerror_rate  \\\n",
       "0                       0.0                   0.0                       0.0   \n",
       "1                       1.0                   0.0                       0.0   \n",
       "\n",
       "    attack  last_flag  \n",
       "0   normal         15  \n",
       "1  neptune         19  \n",
       "\n",
       "[2 rows x 43 columns]"
      ]
     },
     "execution_count": 11,
     "metadata": {},
     "output_type": "execute_result"
    }
   ],
   "source": [
    "train_data.head(2)"
   ]
  },
  {
   "cell_type": "code",
   "execution_count": 12,
   "metadata": {},
   "outputs": [
    {
     "data": {
      "text/plain": [
       "Index(['duration', 'protocol_type', 'service', 'flag', 'src_bytes',\n",
       "       'dst_bytes', 'land', 'wrong_fragment', 'urgent', 'hot',\n",
       "       'num_failed_logins', 'logged_in', 'num_compromised', 'root_shell',\n",
       "       'su_attempted', 'num_root', 'num_file_creations', 'num_shells',\n",
       "       'num_access_files', 'num_outbound_cmds', 'is_host_login',\n",
       "       'is_guest_login', 'count', 'srv_count', 'serror_rate',\n",
       "       'srv_serror_rate', 'rerror_rate', 'srv_rerror_rate', 'same_srv_rate',\n",
       "       'diff_srv_rate', 'srv_diff_host_rate', 'dst_host_count',\n",
       "       'dst_host_srv_count', 'dst_host_same_srv_rate',\n",
       "       'dst_host_diff_srv_rate', 'dst_host_same_src_port_rate',\n",
       "       'dst_host_srv_diff_host_rate', 'dst_host_serror_rate',\n",
       "       'dst_host_srv_serror_rate', 'dst_host_rerror_rate',\n",
       "       'dst_host_srv_rerror_rate', 'attack', 'last_flag'],\n",
       "      dtype='object')"
      ]
     },
     "execution_count": 12,
     "metadata": {},
     "output_type": "execute_result"
    }
   ],
   "source": [
    "train_data.columns"
   ]
  },
  {
   "cell_type": "code",
   "execution_count": 13,
   "metadata": {},
   "outputs": [
    {
     "data": {
      "text/plain": [
       "(125972, 43)"
      ]
     },
     "execution_count": 13,
     "metadata": {},
     "output_type": "execute_result"
    }
   ],
   "source": [
    "train_data.shape"
   ]
  },
  {
   "cell_type": "code",
   "execution_count": null,
   "metadata": {},
   "outputs": [],
   "source": []
  },
  {
   "cell_type": "code",
   "execution_count": 14,
   "metadata": {
    "scrolled": true
   },
   "outputs": [
    {
     "data": {
      "text/plain": [
       "normal             67342\n",
       "neptune            41214\n",
       "satan               3633\n",
       "ipsweep             3599\n",
       "portsweep           2931\n",
       "smurf               2646\n",
       "nmap                1493\n",
       "back                 956\n",
       "teardrop             892\n",
       "warezclient          890\n",
       "pod                  201\n",
       "guess_passwd          53\n",
       "buffer_overflow       30\n",
       "warezmaster           20\n",
       "land                  18\n",
       "imap                  11\n",
       "rootkit               10\n",
       "loadmodule             9\n",
       "ftp_write              8\n",
       "multihop               7\n",
       "phf                    4\n",
       "perl                   3\n",
       "spy                    2\n",
       "Name: attack, dtype: int64"
      ]
     },
     "execution_count": 14,
     "metadata": {},
     "output_type": "execute_result"
    }
   ],
   "source": [
    "# Checking Y variable attack\n",
    "train_data.attack.value_counts()"
   ]
  },
  {
   "cell_type": "code",
   "execution_count": 15,
   "metadata": {},
   "outputs": [],
   "source": [
    "from numpy import where as IF"
   ]
  },
  {
   "cell_type": "code",
   "execution_count": 16,
   "metadata": {},
   "outputs": [],
   "source": [
    "# Creating  a column for multinomial classification using binning for train\n",
    "train_data['attack_types']=IF(train_data.attack=='normal','normal',\n",
    "   IF((train_data.attack=='back')|(train_data.attack=='land')|(train_data.attack=='neptune')|(train_data.attack=='pod')|(train_data.attack=='smurf')|(train_data.attack=='teardrop')|(train_data.attack=='apache2')|(train_data.attack=='udpstorm')|(train_data.attack=='processtable')|(train_data.attack=='worm'),'DOS',\n",
    "     IF((train_data.attack=='satan')|(train_data.attack=='ipsweep')|(train_data.attack=='nmap')|(train_data.attack=='portsweep')|(train_data.attack=='mscan')|(train_data.attack=='saint'),'PROBE',\n",
    "       IF((train_data.attack=='guess_passwd')|(train_data.attack=='ftp_write')|(train_data.attack=='imap')|(train_data.attack=='phf')|(train_data.attack=='multihop')|(train_data.attack=='warezmaster')|(train_data.attack=='warezclient')|(train_data.attack=='spy')|(train_data.attack=='xlock')|(train_data.attack=='xsnoop')|(train_data.attack=='snmpguess')|(train_data.attack=='snmpgetattack')|(train_data.attack=='httptunnel')|(train_data.attack=='sendmail')|(train_data.attack=='named'),'R2L',\n",
    "         IF((train_data.attack=='buffer_overflow')|(train_data.attack=='loadmodule')|(train_data.attack=='rootkit')|(train_data.attack=='perl')|(train_data.attack=='sqlattack')|(train_data.attack=='xterm')|(train_data.attack=='ps'),'U2R','others')))))"
   ]
  },
  {
   "cell_type": "code",
   "execution_count": 17,
   "metadata": {},
   "outputs": [
    {
     "data": {
      "text/plain": [
       "normal    67342\n",
       "DOS       45927\n",
       "PROBE     11656\n",
       "R2L         995\n",
       "U2R          52\n",
       "Name: attack_types, dtype: int64"
      ]
     },
     "execution_count": 17,
     "metadata": {},
     "output_type": "execute_result"
    }
   ],
   "source": [
    "train_data.attack_types.value_counts()"
   ]
  },
  {
   "cell_type": "code",
   "execution_count": 18,
   "metadata": {},
   "outputs": [],
   "source": [
    "# Creating Y_MC variable for multinomial classification using encoding for train\n",
    "train_data['Y_Multi']=IF(train_data.attack_types=='normal',0,\n",
    "   IF(train_data.attack_types=='DOS',1,\n",
    "     IF(train_data.attack_types=='PROBE',2,\n",
    "       IF(train_data.attack_types=='R2L',3,\n",
    "         IF(train_data.attack_types=='U2R',4,5)))))"
   ]
  },
  {
   "cell_type": "code",
   "execution_count": 19,
   "metadata": {},
   "outputs": [
    {
     "data": {
      "text/plain": [
       "0    67342\n",
       "1    45927\n",
       "2    11656\n",
       "3      995\n",
       "4       52\n",
       "Name: Y_Multi, dtype: int64"
      ]
     },
     "execution_count": 19,
     "metadata": {},
     "output_type": "execute_result"
    }
   ],
   "source": [
    "train_data.Y_Multi.value_counts()"
   ]
  },
  {
   "cell_type": "code",
   "execution_count": 20,
   "metadata": {},
   "outputs": [],
   "source": [
    "# Creating  a column for multinomial classification using binning for test\n",
    "test_data['attack_types']=IF(test_data.attack=='normal','normal',\n",
    "   IF((test_data.attack=='back')|(test_data.attack=='land')|(test_data.attack=='neptune')|(test_data.attack=='pod')|(test_data.attack=='smurf')|(test_data.attack=='teardrop')|(test_data.attack=='apache2')|(test_data.attack=='udpstorm')|(test_data.attack=='processtable')|(test_data.attack=='worm'),'DOS',\n",
    "     IF((test_data.attack=='satan')|(test_data.attack=='ipsweep')|(test_data.attack=='nmap')|(test_data.attack=='portsweep')|(test_data.attack=='mscan')|(test_data.attack=='saint'),'PROBE',\n",
    "       IF((test_data.attack=='guess_passwd')|(test_data.attack=='ftp_write')|(test_data.attack=='imap')|(test_data.attack=='phf')|(test_data.attack=='multihop')|(test_data.attack=='warezmaster')|(test_data.attack=='warezclient')|(test_data.attack=='spy')|(test_data.attack=='xlock')|(test_data.attack=='xsnoop')|(test_data.attack=='snmpguess')|(test_data.attack=='snmpgetattack')|(test_data.attack=='httptunnel')|(test_data.attack=='sendmail')|(test_data.attack=='named'),'R2L',\n",
    "         IF((test_data.attack=='buffer_overflow')|(test_data.attack=='loadmodule')|(test_data.attack=='rootkit')|(test_data.attack=='perl')|(test_data.attack=='sqlattack')|(test_data.attack=='xterm')|(test_data.attack=='ps'),'U2R','others')))))"
   ]
  },
  {
   "cell_type": "code",
   "execution_count": 21,
   "metadata": {},
   "outputs": [
    {
     "data": {
      "text/plain": [
       "normal    9711\n",
       "DOS       7166\n",
       "R2L       2885\n",
       "PROBE     2421\n",
       "others     293\n",
       "U2R         67\n",
       "Name: attack_types, dtype: int64"
      ]
     },
     "execution_count": 21,
     "metadata": {},
     "output_type": "execute_result"
    }
   ],
   "source": [
    "test_data.attack_types.value_counts()"
   ]
  },
  {
   "cell_type": "code",
   "execution_count": 22,
   "metadata": {},
   "outputs": [],
   "source": [
    "# Creating Y_MC variable for multinomial classification using encoding for test\n",
    "test_data['Y_Multi']=IF(test_data.attack_types=='normal',0,\n",
    "   IF(test_data.attack_types=='DOS',1,\n",
    "     IF(test_data.attack_types=='PROBE',2,\n",
    "       IF(test_data.attack_types=='R2L',3,\n",
    "         IF(test_data.attack_types=='U2R',4,5)))))"
   ]
  },
  {
   "cell_type": "code",
   "execution_count": 23,
   "metadata": {},
   "outputs": [
    {
     "data": {
      "text/plain": [
       "0    9711\n",
       "1    7166\n",
       "3    2885\n",
       "2    2421\n",
       "5     293\n",
       "4      67\n",
       "Name: Y_Multi, dtype: int64"
      ]
     },
     "execution_count": 23,
     "metadata": {},
     "output_type": "execute_result"
    }
   ],
   "source": [
    "test_data.Y_Multi.value_counts()"
   ]
  },
  {
   "cell_type": "code",
   "execution_count": 24,
   "metadata": {},
   "outputs": [
    {
     "data": {
      "text/plain": [
       "duration                         int64\n",
       "protocol_type                   object\n",
       "service                         object\n",
       "flag                            object\n",
       "src_bytes                        int64\n",
       "dst_bytes                        int64\n",
       "land                             int64\n",
       "wrong_fragment                   int64\n",
       "urgent                           int64\n",
       "hot                              int64\n",
       "num_failed_logins                int64\n",
       "logged_in                        int64\n",
       "num_compromised                  int64\n",
       "root_shell                       int64\n",
       "su_attempted                     int64\n",
       "num_root                         int64\n",
       "num_file_creations               int64\n",
       "num_shells                       int64\n",
       "num_access_files                 int64\n",
       "num_outbound_cmds                int64\n",
       "is_host_login                    int64\n",
       "is_guest_login                   int64\n",
       "count                            int64\n",
       "srv_count                        int64\n",
       "serror_rate                    float64\n",
       "srv_serror_rate                float64\n",
       "rerror_rate                    float64\n",
       "srv_rerror_rate                float64\n",
       "same_srv_rate                  float64\n",
       "diff_srv_rate                  float64\n",
       "srv_diff_host_rate             float64\n",
       "dst_host_count                   int64\n",
       "dst_host_srv_count               int64\n",
       "dst_host_same_srv_rate         float64\n",
       "dst_host_diff_srv_rate         float64\n",
       "dst_host_same_src_port_rate    float64\n",
       "dst_host_srv_diff_host_rate    float64\n",
       "dst_host_serror_rate           float64\n",
       "dst_host_srv_serror_rate       float64\n",
       "dst_host_rerror_rate           float64\n",
       "dst_host_srv_rerror_rate       float64\n",
       "attack                          object\n",
       "last_flag                        int64\n",
       "attack_types                    object\n",
       "Y_Multi                          int32\n",
       "dtype: object"
      ]
     },
     "execution_count": 24,
     "metadata": {},
     "output_type": "execute_result"
    }
   ],
   "source": [
    "train_data.dtypes # Train Data Types are KKK"
   ]
  },
  {
   "cell_type": "code",
   "execution_count": 25,
   "metadata": {},
   "outputs": [
    {
     "data": {
      "text/plain": [
       "duration                         int64\n",
       "protocol_type                   object\n",
       "service                         object\n",
       "flag                            object\n",
       "src_bytes                        int64\n",
       "dst_bytes                        int64\n",
       "land                             int64\n",
       "wrong_fragment                   int64\n",
       "urgent                           int64\n",
       "hot                              int64\n",
       "num_failed_logins                int64\n",
       "logged_in                        int64\n",
       "num_compromised                  int64\n",
       "root_shell                       int64\n",
       "su_attempted                     int64\n",
       "num_root                         int64\n",
       "num_file_creations               int64\n",
       "num_shells                       int64\n",
       "num_access_files                 int64\n",
       "num_outbound_cmds                int64\n",
       "is_host_login                    int64\n",
       "is_guest_login                   int64\n",
       "count                            int64\n",
       "srv_count                        int64\n",
       "serror_rate                    float64\n",
       "srv_serror_rate                float64\n",
       "rerror_rate                    float64\n",
       "srv_rerror_rate                float64\n",
       "same_srv_rate                  float64\n",
       "diff_srv_rate                  float64\n",
       "srv_diff_host_rate             float64\n",
       "dst_host_count                   int64\n",
       "dst_host_srv_count               int64\n",
       "dst_host_same_srv_rate         float64\n",
       "dst_host_diff_srv_rate         float64\n",
       "dst_host_same_src_port_rate    float64\n",
       "dst_host_srv_diff_host_rate    float64\n",
       "dst_host_serror_rate           float64\n",
       "dst_host_srv_serror_rate       float64\n",
       "dst_host_rerror_rate           float64\n",
       "dst_host_srv_rerror_rate       float64\n",
       "attack                          object\n",
       "last_flag                        int64\n",
       "attack_types                    object\n",
       "Y_Multi                          int32\n",
       "dtype: object"
      ]
     },
     "execution_count": 25,
     "metadata": {},
     "output_type": "execute_result"
    }
   ],
   "source": [
    "test_data.dtypes # Test datatypes are KKKK"
   ]
  },
  {
   "cell_type": "markdown",
   "metadata": {},
   "source": [
    "#### Exploratory Analysis"
   ]
  },
  {
   "cell_type": "markdown",
   "metadata": {},
   "source": [
    "#### identifying relationships (between Y & numerical independent variables by comparing means)"
   ]
  },
  {
   "cell_type": "code",
   "execution_count": 26,
   "metadata": {
    "scrolled": true
   },
   "outputs": [
    {
     "data": {
      "text/plain": [
       "0    67342\n",
       "1    45927\n",
       "2    11656\n",
       "3      995\n",
       "4       52\n",
       "Name: Y_Multi, dtype: int64"
      ]
     },
     "execution_count": 26,
     "metadata": {},
     "output_type": "execute_result"
    }
   ],
   "source": [
    "# Distribution of Y\n",
    "train_data.Y_Multi.value_counts()"
   ]
  },
  {
   "cell_type": "code",
   "execution_count": 27,
   "metadata": {},
   "outputs": [
    {
     "data": {
      "text/plain": [
       "0    0.534579\n",
       "1    0.364581\n",
       "2    0.092528\n",
       "3    0.007899\n",
       "4    0.000413\n",
       "Name: Y_Multi, dtype: float64"
      ]
     },
     "execution_count": 27,
     "metadata": {},
     "output_type": "execute_result"
    }
   ],
   "source": [
    "# Percentage of types of values in Y variable\n",
    "train_data.Y_Multi.value_counts()/train_data.Y_Multi.count()"
   ]
  },
  {
   "cell_type": "code",
   "execution_count": 28,
   "metadata": {},
   "outputs": [
    {
     "data": {
      "image/png": "[encoded data removed]",
      "text/plain": [
       "<Figure size 432x288 with 1 Axes>"
      ]
     },
     "metadata": {
      "needs_background": "light"
     },
     "output_type": "display_data"
    }
   ],
   "source": [
    "sns.countplot(x=\"Y_Multi\", data=train_data)\n",
    "plt.show()\n"
   ]
  },
  {
   "cell_type": "code",
   "execution_count": 29,
   "metadata": {},
   "outputs": [
    {
     "data": {
      "text/html": [
       "<div>\n",
       "<style scoped>\n",
       "    .dataframe tbody tr th:only-of-type {\n",
       "        vertical-align: middle;\n",
       "    }\n",
       "\n",
       "    .dataframe tbody tr th {\n",
       "        vertical-align: top;\n",
       "    }\n",
       "\n",
       "    .dataframe thead th {\n",
       "        text-align: right;\n",
       "    }\n",
       "</style>\n",
       "<table border=\"1\" class=\"dataframe\">\n",
       "  <thead>\n",
       "    <tr style=\"text-align: right;\">\n",
       "      <th></th>\n",
       "      <th>duration</th>\n",
       "      <th>src_bytes</th>\n",
       "      <th>dst_bytes</th>\n",
       "      <th>land</th>\n",
       "      <th>wrong_fragment</th>\n",
       "      <th>urgent</th>\n",
       "      <th>hot</th>\n",
       "      <th>num_failed_logins</th>\n",
       "      <th>logged_in</th>\n",
       "      <th>num_compromised</th>\n",
       "      <th>...</th>\n",
       "      <th>dst_host_srv_count</th>\n",
       "      <th>dst_host_same_srv_rate</th>\n",
       "      <th>dst_host_diff_srv_rate</th>\n",
       "      <th>dst_host_same_src_port_rate</th>\n",
       "      <th>dst_host_srv_diff_host_rate</th>\n",
       "      <th>dst_host_serror_rate</th>\n",
       "      <th>dst_host_srv_serror_rate</th>\n",
       "      <th>dst_host_rerror_rate</th>\n",
       "      <th>dst_host_srv_rerror_rate</th>\n",
       "      <th>last_flag</th>\n",
       "    </tr>\n",
       "    <tr>\n",
       "      <th>Y_Multi</th>\n",
       "      <th></th>\n",
       "      <th></th>\n",
       "      <th></th>\n",
       "      <th></th>\n",
       "      <th></th>\n",
       "      <th></th>\n",
       "      <th></th>\n",
       "      <th></th>\n",
       "      <th></th>\n",
       "      <th></th>\n",
       "      <th></th>\n",
       "      <th></th>\n",
       "      <th></th>\n",
       "      <th></th>\n",
       "      <th></th>\n",
       "      <th></th>\n",
       "      <th></th>\n",
       "      <th></th>\n",
       "      <th></th>\n",
       "      <th></th>\n",
       "      <th></th>\n",
       "    </tr>\n",
       "  </thead>\n",
       "  <tbody>\n",
       "    <tr>\n",
       "      <td>0</td>\n",
       "      <td>168.589899</td>\n",
       "      <td>13133.467064</td>\n",
       "      <td>4329.749517</td>\n",
       "      <td>0.000104</td>\n",
       "      <td>0.000000</td>\n",
       "      <td>0.000148</td>\n",
       "      <td>0.230658</td>\n",
       "      <td>0.001381</td>\n",
       "      <td>0.710656</td>\n",
       "      <td>0.507083</td>\n",
       "      <td>...</td>\n",
       "      <td>190.288215</td>\n",
       "      <td>0.811885</td>\n",
       "      <td>0.040134</td>\n",
       "      <td>0.121725</td>\n",
       "      <td>0.025996</td>\n",
       "      <td>0.013930</td>\n",
       "      <td>0.006117</td>\n",
       "      <td>0.046589</td>\n",
       "      <td>0.044699</td>\n",
       "      <td>20.315925</td>\n",
       "    </tr>\n",
       "    <tr>\n",
       "      <td>1</td>\n",
       "      <td>0.006227</td>\n",
       "      <td>1176.321162</td>\n",
       "      <td>169.201537</td>\n",
       "      <td>0.000392</td>\n",
       "      <td>0.062229</td>\n",
       "      <td>0.000000</td>\n",
       "      <td>0.039889</td>\n",
       "      <td>0.000000</td>\n",
       "      <td>0.020837</td>\n",
       "      <td>0.019226</td>\n",
       "      <td>...</td>\n",
       "      <td>26.524005</td>\n",
       "      <td>0.123423</td>\n",
       "      <td>0.066333</td>\n",
       "      <td>0.049492</td>\n",
       "      <td>0.001647</td>\n",
       "      <td>0.747922</td>\n",
       "      <td>0.744434</td>\n",
       "      <td>0.157569</td>\n",
       "      <td>0.151286</td>\n",
       "      <td>19.311560</td>\n",
       "    </tr>\n",
       "    <tr>\n",
       "      <td>2</td>\n",
       "      <td>2074.858185</td>\n",
       "      <td>385679.838367</td>\n",
       "      <td>181074.911805</td>\n",
       "      <td>0.000000</td>\n",
       "      <td>0.000000</td>\n",
       "      <td>0.000000</td>\n",
       "      <td>0.001630</td>\n",
       "      <td>0.000343</td>\n",
       "      <td>0.007121</td>\n",
       "      <td>0.000601</td>\n",
       "      <td>...</td>\n",
       "      <td>42.367193</td>\n",
       "      <td>0.390825</td>\n",
       "      <td>0.401263</td>\n",
       "      <td>0.651840</td>\n",
       "      <td>0.187343</td>\n",
       "      <td>0.044757</td>\n",
       "      <td>0.039799</td>\n",
       "      <td>0.389717</td>\n",
       "      <td>0.441030</td>\n",
       "      <td>16.461050</td>\n",
       "    </tr>\n",
       "    <tr>\n",
       "      <td>3</td>\n",
       "      <td>633.417085</td>\n",
       "      <td>307727.300503</td>\n",
       "      <td>81822.026131</td>\n",
       "      <td>0.000000</td>\n",
       "      <td>0.000000</td>\n",
       "      <td>0.003015</td>\n",
       "      <td>8.334673</td>\n",
       "      <td>0.056281</td>\n",
       "      <td>0.913568</td>\n",
       "      <td>0.077387</td>\n",
       "      <td>...</td>\n",
       "      <td>42.440201</td>\n",
       "      <td>0.727377</td>\n",
       "      <td>0.021307</td>\n",
       "      <td>0.596915</td>\n",
       "      <td>0.085739</td>\n",
       "      <td>0.023849</td>\n",
       "      <td>0.015960</td>\n",
       "      <td>0.051116</td>\n",
       "      <td>0.047367</td>\n",
       "      <td>9.878392</td>\n",
       "    </tr>\n",
       "    <tr>\n",
       "      <td>4</td>\n",
       "      <td>80.942308</td>\n",
       "      <td>906.230769</td>\n",
       "      <td>5141.961538</td>\n",
       "      <td>0.000000</td>\n",
       "      <td>0.000000</td>\n",
       "      <td>0.019231</td>\n",
       "      <td>1.403846</td>\n",
       "      <td>0.019231</td>\n",
       "      <td>0.884615</td>\n",
       "      <td>1.211538</td>\n",
       "      <td>...</td>\n",
       "      <td>9.884615</td>\n",
       "      <td>0.781154</td>\n",
       "      <td>0.040000</td>\n",
       "      <td>0.568269</td>\n",
       "      <td>0.081154</td>\n",
       "      <td>0.000000</td>\n",
       "      <td>0.004808</td>\n",
       "      <td>0.039615</td>\n",
       "      <td>0.019038</td>\n",
       "      <td>4.403846</td>\n",
       "    </tr>\n",
       "  </tbody>\n",
       "</table>\n",
       "<p>5 rows × 39 columns</p>\n",
       "</div>"
      ],
      "text/plain": [
       "            duration      src_bytes      dst_bytes      land  wrong_fragment  \\\n",
       "Y_Multi                                                                        \n",
       "0         168.589899   13133.467064    4329.749517  0.000104        0.000000   \n",
       "1           0.006227    1176.321162     169.201537  0.000392        0.062229   \n",
       "2        2074.858185  385679.838367  181074.911805  0.000000        0.000000   \n",
       "3         633.417085  307727.300503   81822.026131  0.000000        0.000000   \n",
       "4          80.942308     906.230769    5141.961538  0.000000        0.000000   \n",
       "\n",
       "           urgent       hot  num_failed_logins  logged_in  num_compromised  \\\n",
       "Y_Multi                                                                      \n",
       "0        0.000148  0.230658           0.001381   0.710656         0.507083   \n",
       "1        0.000000  0.039889           0.000000   0.020837         0.019226   \n",
       "2        0.000000  0.001630           0.000343   0.007121         0.000601   \n",
       "3        0.003015  8.334673           0.056281   0.913568         0.077387   \n",
       "4        0.019231  1.403846           0.019231   0.884615         1.211538   \n",
       "\n",
       "         ...  dst_host_srv_count  dst_host_same_srv_rate  \\\n",
       "Y_Multi  ...                                               \n",
       "0        ...          190.288215                0.811885   \n",
       "1        ...           26.524005                0.123423   \n",
       "2        ...           42.367193                0.390825   \n",
       "3        ...           42.440201                0.727377   \n",
       "4        ...            9.884615                0.781154   \n",
       "\n",
       "         dst_host_diff_srv_rate  dst_host_same_src_port_rate  \\\n",
       "Y_Multi                                                        \n",
       "0                      0.040134                     0.121725   \n",
       "1                      0.066333                     0.049492   \n",
       "2                      0.401263                     0.651840   \n",
       "3                      0.021307                     0.596915   \n",
       "4                      0.040000                     0.568269   \n",
       "\n",
       "         dst_host_srv_diff_host_rate  dst_host_serror_rate  \\\n",
       "Y_Multi                                                      \n",
       "0                           0.025996              0.013930   \n",
       "1                           0.001647              0.747922   \n",
       "2                           0.187343              0.044757   \n",
       "3                           0.085739              0.023849   \n",
       "4                           0.081154              0.000000   \n",
       "\n",
       "         dst_host_srv_serror_rate  dst_host_rerror_rate  \\\n",
       "Y_Multi                                                   \n",
       "0                        0.006117              0.046589   \n",
       "1                        0.744434              0.157569   \n",
       "2                        0.039799              0.389717   \n",
       "3                        0.015960              0.051116   \n",
       "4                        0.004808              0.039615   \n",
       "\n",
       "         dst_host_srv_rerror_rate  last_flag  \n",
       "Y_Multi                                       \n",
       "0                        0.044699  20.315925  \n",
       "1                        0.151286  19.311560  \n",
       "2                        0.441030  16.461050  \n",
       "3                        0.047367   9.878392  \n",
       "4                        0.019038   4.403846  \n",
       "\n",
       "[5 rows x 39 columns]"
      ]
     },
     "execution_count": 29,
     "metadata": {},
     "output_type": "execute_result"
    }
   ],
   "source": [
    "train_data.groupby('Y_Multi').mean()"
   ]
  },
  {
   "cell_type": "code",
   "execution_count": 30,
   "metadata": {},
   "outputs": [],
   "source": [
    "# Profile Report using pandas profiling \n",
    "#profile_report_multi = pandas_profiling.ProfileReport(train_data)"
   ]
  },
  {
   "cell_type": "code",
   "execution_count": 31,
   "metadata": {},
   "outputs": [],
   "source": [
    "#profile_report_multi.to_file('profile_report_multi.html')"
   ]
  },
  {
   "cell_type": "code",
   "execution_count": 32,
   "metadata": {
    "scrolled": true
   },
   "outputs": [
    {
     "data": {
      "text/plain": [
       "(125972, 45)"
      ]
     },
     "execution_count": 32,
     "metadata": {},
     "output_type": "execute_result"
    }
   ],
   "source": [
    "train_data.shape"
   ]
  },
  {
   "cell_type": "code",
   "execution_count": 33,
   "metadata": {},
   "outputs": [
    {
     "data": {
      "text/plain": [
       "Index(['duration', 'protocol_type', 'service', 'flag', 'src_bytes',\n",
       "       'dst_bytes', 'land', 'wrong_fragment', 'urgent', 'hot',\n",
       "       'num_failed_logins', 'logged_in', 'num_compromised', 'root_shell',\n",
       "       'su_attempted', 'num_root', 'num_file_creations', 'num_shells',\n",
       "       'num_access_files', 'num_outbound_cmds', 'is_host_login',\n",
       "       'is_guest_login', 'count', 'srv_count', 'serror_rate',\n",
       "       'srv_serror_rate', 'rerror_rate', 'srv_rerror_rate', 'same_srv_rate',\n",
       "       'diff_srv_rate', 'srv_diff_host_rate', 'dst_host_count',\n",
       "       'dst_host_srv_count', 'dst_host_same_srv_rate',\n",
       "       'dst_host_diff_srv_rate', 'dst_host_same_src_port_rate',\n",
       "       'dst_host_srv_diff_host_rate', 'dst_host_serror_rate',\n",
       "       'dst_host_srv_serror_rate', 'dst_host_rerror_rate',\n",
       "       'dst_host_srv_rerror_rate', 'attack', 'last_flag', 'attack_types',\n",
       "       'Y_Multi'],\n",
       "      dtype='object')"
      ]
     },
     "execution_count": 33,
     "metadata": {},
     "output_type": "execute_result"
    }
   ],
   "source": [
    "train_data.columns"
   ]
  },
  {
   "cell_type": "code",
   "execution_count": 34,
   "metadata": {},
   "outputs": [
    {
     "data": {
      "text/plain": [
       "False    125972\n",
       "dtype: int64"
      ]
     },
     "execution_count": 34,
     "metadata": {},
     "output_type": "execute_result"
    }
   ],
   "source": [
    "#checking duplicate values \n",
    "train_data.duplicated().value_counts()# no duplicateds"
   ]
  },
  {
   "cell_type": "code",
   "execution_count": 35,
   "metadata": {},
   "outputs": [
    {
     "data": {
      "text/plain": [
       "False    45\n",
       "dtype: int64"
      ]
     },
     "execution_count": 35,
     "metadata": {},
     "output_type": "execute_result"
    }
   ],
   "source": [
    "#Checking for missing values\n",
    "train_data.isnull().any().value_counts() "
   ]
  },
  {
   "cell_type": "code",
   "execution_count": 36,
   "metadata": {},
   "outputs": [
    {
     "data": {
      "text/plain": [
       "Series([], dtype: float64)"
      ]
     },
     "execution_count": 36,
     "metadata": {},
     "output_type": "execute_result"
    }
   ],
   "source": [
    "#Checking the columns & respective missing values in them\n",
    "null_columns=train_data.columns[train_data.isnull().any()]\n",
    "train_data[null_columns].isnull().sum()"
   ]
  },
  {
   "cell_type": "code",
   "execution_count": 37,
   "metadata": {},
   "outputs": [],
   "source": [
    "# Dropping columns due to:\n",
    "    # Having only one value:'num_outbound_cmds'\n",
    "    # High co-relation:'dst_host_srv_serror_rate','dst_host_srv_rerror_rate','dst_host_rerror_rate','num_root'\n",
    "    # 'rerror_rate','serror_rate','srv_rerror_rate','srv_serror_rate'\n",
    "train_data.drop(['num_outbound_cmds', 'dst_host_srv_serror_rate','dst_host_srv_rerror_rate','num_root','rerror_rate','serror_rate','srv_rerror_rate','srv_serror_rate'], axis=1, inplace=True)"
   ]
  },
  {
   "cell_type": "code",
   "execution_count": 38,
   "metadata": {
    "scrolled": true
   },
   "outputs": [
    {
     "data": {
      "text/plain": [
       "(125972, 37)"
      ]
     },
     "execution_count": 38,
     "metadata": {},
     "output_type": "execute_result"
    }
   ],
   "source": [
    "train_data.shape"
   ]
  },
  {
   "cell_type": "code",
   "execution_count": 39,
   "metadata": {},
   "outputs": [
    {
     "name": "stdout",
     "output_type": "stream",
     "text": [
      "['duration', 'src_bytes', 'dst_bytes', 'land', 'wrong_fragment', 'urgent', 'hot', 'num_failed_logins', 'logged_in', 'num_compromised', 'root_shell', 'su_attempted', 'num_file_creations', 'num_shells', 'num_access_files', 'is_host_login', 'is_guest_login', 'count', 'srv_count', 'same_srv_rate', 'diff_srv_rate', 'srv_diff_host_rate', 'dst_host_count', 'dst_host_srv_count', 'dst_host_same_srv_rate', 'dst_host_diff_srv_rate', 'dst_host_same_src_port_rate', 'dst_host_srv_diff_host_rate', 'dst_host_serror_rate', 'dst_host_rerror_rate', 'last_flag', 'Y_Multi']\n",
      "['protocol_type', 'service', 'flag', 'attack', 'attack_types']\n"
     ]
    }
   ],
   "source": [
    "#Seperating numerical columns & catagorical columns\n",
    "numeric_var_names=[key for key in dict(train_data.dtypes) if dict(train_data.dtypes)[key] in ['float64', 'int64', 'float32', 'int32']]\n",
    "cat_var_names=[key for key in dict(train_data.dtypes) if dict(train_data.dtypes)[key] in ['object']]\n",
    "print(numeric_var_names)\n",
    "print(cat_var_names)"
   ]
  },
  {
   "cell_type": "code",
   "execution_count": 40,
   "metadata": {},
   "outputs": [],
   "source": [
    "train_data_num = train_data[numeric_var_names]\n",
    "train_data_cat = train_data[cat_var_names]"
   ]
  },
  {
   "cell_type": "code",
   "execution_count": 41,
   "metadata": {},
   "outputs": [],
   "source": [
    "# Outlier & Missing treatment\n",
    "def missing_num(x):\n",
    "    x=x.fillna(x.median())\n",
    "    return x\n",
    "def missing_cat(x):\n",
    "    x = x.fillna(x.mode().iloc[0])\n",
    "    return x\n",
    "def outlier_capping(x):\n",
    "    x=x.clip_upper(x.quantile(0.99))\n",
    "    x=x.clip_lower(x.quantile(0.01))\n",
    "    return x"
   ]
  },
  {
   "cell_type": "code",
   "execution_count": 42,
   "metadata": {},
   "outputs": [],
   "source": [
    "train_data_cat=train_data_cat.apply(missing_cat)\n",
    "train_data_num=train_data_num.apply(missing_num)\n",
    "train_data_num=train_data_num.apply(outlier_capping)"
   ]
  },
  {
   "cell_type": "code",
   "execution_count": 43,
   "metadata": {},
   "outputs": [],
   "source": [
    "train_data_cat_new = pd.get_dummies(train_data_cat, drop_first=True)"
   ]
  },
  {
   "cell_type": "code",
   "execution_count": 44,
   "metadata": {},
   "outputs": [],
   "source": [
    "train_data_new=pd.concat([train_data_num,train_data_cat_new],axis=1)"
   ]
  },
  {
   "cell_type": "code",
   "execution_count": 45,
   "metadata": {},
   "outputs": [
    {
     "data": {
      "text/plain": [
       "(125972, 139)"
      ]
     },
     "execution_count": 45,
     "metadata": {},
     "output_type": "execute_result"
    }
   ],
   "source": [
    "train_data_new.shape"
   ]
  },
  {
   "cell_type": "code",
   "execution_count": 46,
   "metadata": {},
   "outputs": [
    {
     "data": {
      "text/plain": [
       "<matplotlib.axes._subplots.AxesSubplot at 0xd9be588>"
      ]
     },
     "execution_count": 46,
     "metadata": {},
     "output_type": "execute_result"
    },
    {
     "data": {
      "image/png": "[encoded data removed]",
      "text/plain": [
       "<Figure size 432x288 with 2 Axes>"
      ]
     },
     "metadata": {
      "needs_background": "light"
     },
     "output_type": "display_data"
    }
   ],
   "source": [
    "# visualize correlation matrix in Seaborn using a heatmap\n",
    "sns.heatmap(train_data_num.corr())"
   ]
  },
  {
   "cell_type": "code",
   "execution_count": 48,
   "metadata": {},
   "outputs": [],
   "source": [
    "#corr_multi= train_data_num.corr()\n",
    "#corr_multi.to_csv('corr_multi.csv')"
   ]
  },
  {
   "cell_type": "code",
   "execution_count": 49,
   "metadata": {},
   "outputs": [],
   "source": [
    "X = train_data_new[train_data_new.columns.difference(['Y_Multi'])]"
   ]
  },
  {
   "cell_type": "code",
   "execution_count": 55,
   "metadata": {},
   "outputs": [],
   "source": [
    "# My final list after variable reduction in binominal "
   ]
  },
  {
   "cell_type": "code",
   "execution_count": 50,
   "metadata": {},
   "outputs": [],
   "source": [
    "Final_List=['attack_normal',\n",
    "'dst_bytes',\n",
    "'src_bytes',\n",
    "'service_private',\n",
    "'diff_srv_rate',\n",
    "'flag_SF',\n",
    "'dst_host_srv_count',\n",
    "'dst_host_same_src_port_rate',\n",
    "'service_http',\n",
    "'count',\n",
    "'dst_host_srv_diff_host_rate',\n",
    "'attack_warezclient',\n",
    "'dst_host_diff_srv_rate',\n",
    "'srv_count',\n",
    "'dst_host_same_srv_rate',\n",
    "'dst_host_serror_rate',\n",
    "'attack_neptune',\n",
    "'same_srv_rate',\n",
    "'attack_smurf',\n",
    "'logged_in',\n",
    "'dst_host_count']"
   ]
  },
  {
   "cell_type": "code",
   "execution_count": 51,
   "metadata": {},
   "outputs": [
    {
     "data": {
      "text/plain": [
       "['attack_normal',\n",
       " 'dst_bytes',\n",
       " 'src_bytes',\n",
       " 'service_private',\n",
       " 'diff_srv_rate',\n",
       " 'flag_SF',\n",
       " 'dst_host_srv_count',\n",
       " 'dst_host_same_src_port_rate',\n",
       " 'service_http',\n",
       " 'count',\n",
       " 'dst_host_srv_diff_host_rate',\n",
       " 'attack_warezclient',\n",
       " 'dst_host_diff_srv_rate',\n",
       " 'srv_count',\n",
       " 'dst_host_same_srv_rate',\n",
       " 'dst_host_serror_rate',\n",
       " 'attack_neptune',\n",
       " 'same_srv_rate',\n",
       " 'attack_smurf',\n",
       " 'logged_in',\n",
       " 'dst_host_count']"
      ]
     },
     "execution_count": 51,
     "metadata": {},
     "output_type": "execute_result"
    }
   ],
   "source": [
    "Final_List"
   ]
  },
  {
   "cell_type": "code",
   "execution_count": 52,
   "metadata": {},
   "outputs": [],
   "source": [
    "features = X[Final_List]\n",
    "target =train_data_new[['Y_Multi']]"
   ]
  },
  {
   "cell_type": "code",
   "execution_count": 53,
   "metadata": {},
   "outputs": [
    {
     "data": {
      "text/plain": [
       "(125972, 1)"
      ]
     },
     "execution_count": 53,
     "metadata": {},
     "output_type": "execute_result"
    }
   ],
   "source": [
    "target.shape"
   ]
  },
  {
   "cell_type": "code",
   "execution_count": 54,
   "metadata": {},
   "outputs": [
    {
     "data": {
      "text/plain": [
       "(125972, 21)"
      ]
     },
     "execution_count": 54,
     "metadata": {},
     "output_type": "execute_result"
    }
   ],
   "source": [
    "features.shape"
   ]
  },
  {
   "cell_type": "markdown",
   "metadata": {},
   "source": [
    "### Splitting the data into train & test "
   ]
  },
  {
   "cell_type": "code",
   "execution_count": 56,
   "metadata": {},
   "outputs": [],
   "source": [
    "train_X, test_X, train_y, test_y = train_test_split(features,target, test_size=0.3, random_state=123)"
   ]
  },
  {
   "cell_type": "code",
   "execution_count": 57,
   "metadata": {},
   "outputs": [],
   "source": [
    "#Build the model\n",
    "model = LogisticRegression()\n",
    "model = model.fit(train_X, train_y)"
   ]
  },
  {
   "cell_type": "code",
   "execution_count": 58,
   "metadata": {},
   "outputs": [],
   "source": [
    "train_X['pred_prob'] = pd.DataFrame(model.predict_proba(train_X), index=train_X.index)[1]"
   ]
  },
  {
   "cell_type": "code",
   "execution_count": 59,
   "metadata": {},
   "outputs": [],
   "source": [
    "test_X['pred_prob'] = pd.DataFrame(model.predict_proba(test_X),index=test_X.index)[1]"
   ]
  },
  {
   "cell_type": "code",
   "execution_count": 60,
   "metadata": {},
   "outputs": [],
   "source": [
    "train = pd.concat([train_X, train_y], axis=1)"
   ]
  },
  {
   "cell_type": "code",
   "execution_count": 61,
   "metadata": {},
   "outputs": [],
   "source": [
    "test = pd.concat([test_X, test_y], axis=1)"
   ]
  },
  {
   "cell_type": "code",
   "execution_count": 62,
   "metadata": {},
   "outputs": [],
   "source": [
    "# From decile analysis & as per KS value\n",
    "train['pred'] = np.where(train.pred_prob>0.32, 1,0)\n",
    "test['pred'] = np.where(test.pred_prob>0.32, 1,0)"
   ]
  },
  {
   "cell_type": "code",
   "execution_count": 63,
   "metadata": {
    "scrolled": true
   },
   "outputs": [
    {
     "data": {
      "text/plain": [
       "(88180, 24)"
      ]
     },
     "execution_count": 63,
     "metadata": {},
     "output_type": "execute_result"
    }
   ],
   "source": [
    "train.shape"
   ]
  },
  {
   "cell_type": "code",
   "execution_count": 64,
   "metadata": {},
   "outputs": [
    {
     "data": {
      "text/plain": [
       "(37792, 24)"
      ]
     },
     "execution_count": 64,
     "metadata": {},
     "output_type": "execute_result"
    }
   ],
   "source": [
    "test.shape"
   ]
  },
  {
   "cell_type": "code",
   "execution_count": 65,
   "metadata": {},
   "outputs": [
    {
     "name": "stdout",
     "output_type": "stream",
     "text": [
      "[[47229    12     0]\n",
      " [  219 31835     0]\n",
      " [ 8696   189     0]]\n"
     ]
    }
   ],
   "source": [
    "from sklearn.metrics import confusion_matrix\n",
    "confusion_matrix = confusion_matrix(train.Y_Multi, train.pred)\n",
    "print(confusion_matrix)"
   ]
  },
  {
   "cell_type": "code",
   "execution_count": 66,
   "metadata": {},
   "outputs": [
    {
     "name": "stdout",
     "output_type": "stream",
     "text": [
      "              precision    recall  f1-score   support\n",
      "\n",
      "           0       0.84      1.00      0.91     47241\n",
      "           1       0.99      0.99      0.99     32054\n",
      "           2       0.00      0.00      0.00      8885\n",
      "\n",
      "    accuracy                           0.90     88180\n",
      "   macro avg       0.61      0.66      0.64     88180\n",
      "weighted avg       0.81      0.90      0.85     88180\n",
      "\n"
     ]
    }
   ],
   "source": [
    "print(metrics.classification_report(train.Y_Multi, train.pred))"
   ]
  },
  {
   "cell_type": "code",
   "execution_count": 67,
   "metadata": {},
   "outputs": [
    {
     "name": "stdout",
     "output_type": "stream",
     "text": [
      "              precision    recall  f1-score   support\n",
      "\n",
      "           0       0.84      1.00      0.91     20101\n",
      "           1       0.99      0.99      0.99     13873\n",
      "           2       0.00      0.00      0.00      3818\n",
      "\n",
      "    accuracy                           0.90     37792\n",
      "   macro avg       0.61      0.66      0.64     37792\n",
      "weighted avg       0.81      0.90      0.85     37792\n",
      "\n"
     ]
    }
   ],
   "source": [
    "print(metrics.classification_report(test.Y_Multi, test.pred))"
   ]
  },
  {
   "cell_type": "markdown",
   "metadata": {},
   "source": [
    "#### Performing logistic Regression using K-Fold validation manually"
   ]
  },
  {
   "cell_type": "code",
   "execution_count": 68,
   "metadata": {},
   "outputs": [
    {
     "name": "stdout",
     "output_type": "stream",
     "text": [
      "10-fold cross validation average accuracy: 0.995\n"
     ]
    }
   ],
   "source": [
    "from sklearn.model_selection import cross_val_score, KFold\n",
    "kfold = KFold(n_splits=10, random_state=7)\n",
    "modelCV = LogisticRegression()\n",
    "scoring = 'accuracy'\n",
    "results = cross_val_score(modelCV, train_X, train_y, cv=kfold, scoring=scoring)\n",
    "print(\"10-fold cross validation average accuracy: %.3f\" % (results.mean()))"
   ]
  },
  {
   "cell_type": "code",
   "execution_count": 69,
   "metadata": {},
   "outputs": [
    {
     "data": {
      "text/plain": [
       "array([0.99455659, 0.99501021, 0.99523702, 0.99444318, 0.99569063,\n",
       "       0.99410297, 0.99421638, 0.99557723, 0.99081424, 0.99557723])"
      ]
     },
     "execution_count": 69,
     "metadata": {},
     "output_type": "execute_result"
    }
   ],
   "source": [
    "results"
   ]
  },
  {
   "cell_type": "markdown",
   "metadata": {},
   "source": [
    "### Decision Tree Classifier"
   ]
  },
  {
   "cell_type": "code",
   "execution_count": 70,
   "metadata": {},
   "outputs": [
    {
     "data": {
      "text/plain": [
       "DecisionTreeClassifier(class_weight=None, criterion='gini', max_depth=5,\n",
       "                       max_features=None, max_leaf_nodes=10,\n",
       "                       min_impurity_decrease=0.0, min_impurity_split=None,\n",
       "                       min_samples_leaf=1, min_samples_split=2,\n",
       "                       min_weight_fraction_leaf=0.0, presort=False,\n",
       "                       random_state=None, splitter='best')"
      ]
     },
     "execution_count": 70,
     "metadata": {},
     "output_type": "execute_result"
    }
   ],
   "source": [
    "\n",
    "#Decision Tree Classifier\n",
    "dt_model = DecisionTreeClassifier(max_depth=5, max_leaf_nodes=10)\n",
    "dt_model.fit(train_X, train_y)"
   ]
  },
  {
   "cell_type": "code",
   "execution_count": 71,
   "metadata": {},
   "outputs": [],
   "source": [
    "train_pred = np.where(pd.DataFrame(dt_model.predict_proba(train_X))[1]>0.10, 1, 0)\n",
    "test_pred = np.where(pd.DataFrame(dt_model.predict_proba(test_X))[1]>0.10, 1, 0)"
   ]
  },
  {
   "cell_type": "code",
   "execution_count": 72,
   "metadata": {},
   "outputs": [
    {
     "name": "stdout",
     "output_type": "stream",
     "text": [
      "              precision    recall  f1-score   support\n",
      "\n",
      "           0       0.84      1.00      0.91     47241\n",
      "           1       1.00      1.00      1.00     32054\n",
      "           2       0.00      0.00      0.00      8885\n",
      "\n",
      "    accuracy                           0.90     88180\n",
      "   macro avg       0.61      0.67      0.64     88180\n",
      "weighted avg       0.81      0.90      0.85     88180\n",
      "\n"
     ]
    }
   ],
   "source": [
    "print(metrics.classification_report(train_y, train_pred))"
   ]
  },
  {
   "cell_type": "code",
   "execution_count": 73,
   "metadata": {},
   "outputs": [
    {
     "name": "stdout",
     "output_type": "stream",
     "text": [
      "              precision    recall  f1-score   support\n",
      "\n",
      "           0       0.84      1.00      0.91     20101\n",
      "           1       1.00      1.00      1.00     13873\n",
      "           2       0.00      0.00      0.00      3818\n",
      "\n",
      "    accuracy                           0.90     37792\n",
      "   macro avg       0.61      0.67      0.64     37792\n",
      "weighted avg       0.81      0.90      0.85     37792\n",
      "\n"
     ]
    }
   ],
   "source": [
    "print(metrics.classification_report(test_y, test_pred))"
   ]
  },
  {
   "cell_type": "code",
   "execution_count": 74,
   "metadata": {
    "scrolled": true
   },
   "outputs": [
    {
     "data": {
      "text/plain": [
       "Index(['attack_normal', 'dst_bytes', 'src_bytes', 'service_private',\n",
       "       'diff_srv_rate', 'flag_SF', 'dst_host_srv_count',\n",
       "       'dst_host_same_src_port_rate', 'service_http', 'count',\n",
       "       'dst_host_srv_diff_host_rate', 'attack_warezclient',\n",
       "       'dst_host_diff_srv_rate', 'srv_count', 'dst_host_same_srv_rate',\n",
       "       'dst_host_serror_rate', 'attack_neptune', 'same_srv_rate',\n",
       "       'attack_smurf', 'logged_in', 'dst_host_count', 'pred_prob'],\n",
       "      dtype='object')"
      ]
     },
     "execution_count": 74,
     "metadata": {},
     "output_type": "execute_result"
    }
   ],
   "source": [
    "train_X.columns"
   ]
  },
  {
   "cell_type": "code",
   "execution_count": 75,
   "metadata": {},
   "outputs": [
    {
     "data": {
      "text/plain": [
       "array([7.27613582e-01, 0.00000000e+00, 4.04992729e-03, 0.00000000e+00,\n",
       "       0.00000000e+00, 0.00000000e+00, 0.00000000e+00, 0.00000000e+00,\n",
       "       0.00000000e+00, 5.12073833e-04, 0.00000000e+00, 0.00000000e+00,\n",
       "       1.40711350e-03, 0.00000000e+00, 0.00000000e+00, 0.00000000e+00,\n",
       "       0.00000000e+00, 0.00000000e+00, 0.00000000e+00, 1.55370535e-03,\n",
       "       0.00000000e+00, 2.64863598e-01])"
      ]
     },
     "execution_count": 75,
     "metadata": {},
     "output_type": "execute_result"
    }
   ],
   "source": [
    "#Decision tree is also used for to see importance features \n",
    "dt_model.feature_importances_"
   ]
  },
  {
   "cell_type": "code",
   "execution_count": 76,
   "metadata": {},
   "outputs": [],
   "source": [
    "feature_improtance = pd.concat([pd.Series(train_X.columns), pd.Series(dt_model.feature_importances_)], axis=1)"
   ]
  },
  {
   "cell_type": "code",
   "execution_count": 77,
   "metadata": {},
   "outputs": [],
   "source": [
    "feature_improtance.columns = ['feature', 'importance']"
   ]
  },
  {
   "cell_type": "code",
   "execution_count": 78,
   "metadata": {},
   "outputs": [
    {
     "data": {
      "text/html": [
       "<div>\n",
       "<style scoped>\n",
       "    .dataframe tbody tr th:only-of-type {\n",
       "        vertical-align: middle;\n",
       "    }\n",
       "\n",
       "    .dataframe tbody tr th {\n",
       "        vertical-align: top;\n",
       "    }\n",
       "\n",
       "    .dataframe thead th {\n",
       "        text-align: right;\n",
       "    }\n",
       "</style>\n",
       "<table border=\"1\" class=\"dataframe\">\n",
       "  <thead>\n",
       "    <tr style=\"text-align: right;\">\n",
       "      <th></th>\n",
       "      <th>feature</th>\n",
       "      <th>importance</th>\n",
       "    </tr>\n",
       "  </thead>\n",
       "  <tbody>\n",
       "    <tr>\n",
       "      <td>0</td>\n",
       "      <td>attack_normal</td>\n",
       "      <td>0.727614</td>\n",
       "    </tr>\n",
       "    <tr>\n",
       "      <td>21</td>\n",
       "      <td>pred_prob</td>\n",
       "      <td>0.264864</td>\n",
       "    </tr>\n",
       "    <tr>\n",
       "      <td>2</td>\n",
       "      <td>src_bytes</td>\n",
       "      <td>0.004050</td>\n",
       "    </tr>\n",
       "    <tr>\n",
       "      <td>19</td>\n",
       "      <td>logged_in</td>\n",
       "      <td>0.001554</td>\n",
       "    </tr>\n",
       "    <tr>\n",
       "      <td>12</td>\n",
       "      <td>dst_host_diff_srv_rate</td>\n",
       "      <td>0.001407</td>\n",
       "    </tr>\n",
       "    <tr>\n",
       "      <td>9</td>\n",
       "      <td>count</td>\n",
       "      <td>0.000512</td>\n",
       "    </tr>\n",
       "    <tr>\n",
       "      <td>5</td>\n",
       "      <td>flag_SF</td>\n",
       "      <td>0.000000</td>\n",
       "    </tr>\n",
       "    <tr>\n",
       "      <td>14</td>\n",
       "      <td>dst_host_same_srv_rate</td>\n",
       "      <td>0.000000</td>\n",
       "    </tr>\n",
       "    <tr>\n",
       "      <td>20</td>\n",
       "      <td>dst_host_count</td>\n",
       "      <td>0.000000</td>\n",
       "    </tr>\n",
       "    <tr>\n",
       "      <td>4</td>\n",
       "      <td>diff_srv_rate</td>\n",
       "      <td>0.000000</td>\n",
       "    </tr>\n",
       "    <tr>\n",
       "      <td>18</td>\n",
       "      <td>attack_smurf</td>\n",
       "      <td>0.000000</td>\n",
       "    </tr>\n",
       "    <tr>\n",
       "      <td>17</td>\n",
       "      <td>same_srv_rate</td>\n",
       "      <td>0.000000</td>\n",
       "    </tr>\n",
       "    <tr>\n",
       "      <td>16</td>\n",
       "      <td>attack_neptune</td>\n",
       "      <td>0.000000</td>\n",
       "    </tr>\n",
       "    <tr>\n",
       "      <td>15</td>\n",
       "      <td>dst_host_serror_rate</td>\n",
       "      <td>0.000000</td>\n",
       "    </tr>\n",
       "    <tr>\n",
       "      <td>13</td>\n",
       "      <td>srv_count</td>\n",
       "      <td>0.000000</td>\n",
       "    </tr>\n",
       "  </tbody>\n",
       "</table>\n",
       "</div>"
      ],
      "text/plain": [
       "                   feature  importance\n",
       "0            attack_normal    0.727614\n",
       "21               pred_prob    0.264864\n",
       "2                src_bytes    0.004050\n",
       "19               logged_in    0.001554\n",
       "12  dst_host_diff_srv_rate    0.001407\n",
       "9                    count    0.000512\n",
       "5                  flag_SF    0.000000\n",
       "14  dst_host_same_srv_rate    0.000000\n",
       "20          dst_host_count    0.000000\n",
       "4            diff_srv_rate    0.000000\n",
       "18            attack_smurf    0.000000\n",
       "17           same_srv_rate    0.000000\n",
       "16          attack_neptune    0.000000\n",
       "15    dst_host_serror_rate    0.000000\n",
       "13               srv_count    0.000000"
      ]
     },
     "execution_count": 78,
     "metadata": {},
     "output_type": "execute_result"
    }
   ],
   "source": [
    "feature_importance1 = feature_improtance.sort_values(by='importance', ascending=False)\n",
    "feature_importance1.head(15)"
   ]
  },
  {
   "cell_type": "code",
   "execution_count": 79,
   "metadata": {},
   "outputs": [
    {
     "data": {
      "text/plain": [
       "GridSearchCV(cv=10, error_score='raise-deprecating',\n",
       "             estimator=DecisionTreeClassifier(class_weight=None,\n",
       "                                              criterion='gini', max_depth=None,\n",
       "                                              max_features=None,\n",
       "                                              max_leaf_nodes=None,\n",
       "                                              min_impurity_decrease=0.0,\n",
       "                                              min_impurity_split=None,\n",
       "                                              min_samples_leaf=1,\n",
       "                                              min_samples_split=2,\n",
       "                                              min_weight_fraction_leaf=0.0,\n",
       "                                              presort=False, random_state=None,\n",
       "                                              splitter='best'),\n",
       "             iid='warn', n_jobs=None,\n",
       "             param_grid={'max_depth': [3, 4, 5, 6],\n",
       "                         'max_leaf_nodes': [5, 6, 7, 8, 9, 10]},\n",
       "             pre_dispatch='2*n_jobs', refit=True, return_train_score=False,\n",
       "             scoring='f1_weighted', verbose=0)"
      ]
     },
     "execution_count": 79,
     "metadata": {},
     "output_type": "execute_result"
    }
   ],
   "source": [
    "#Using Hyperparameters\n",
    "param_grid = {'max_depth': [3,4,5,6], 'max_leaf_nodes': [5,6,7,8,9,10]}\n",
    "\n",
    "dt_GCV_model = GridSearchCV(DecisionTreeClassifier(), param_grid, cv=10, scoring='f1_weighted')\n",
    "dt_GCV_model.fit(train_X, train_y)"
   ]
  },
  {
   "cell_type": "code",
   "execution_count": 80,
   "metadata": {},
   "outputs": [
    {
     "data": {
      "text/plain": [
       "{'max_depth': 6, 'max_leaf_nodes': 10}"
      ]
     },
     "execution_count": 80,
     "metadata": {},
     "output_type": "execute_result"
    }
   ],
   "source": [
    "dt_GCV_model.best_params_"
   ]
  },
  {
   "cell_type": "code",
   "execution_count": 81,
   "metadata": {},
   "outputs": [
    {
     "data": {
      "text/plain": [
       "0.9983336538376252"
      ]
     },
     "execution_count": 81,
     "metadata": {},
     "output_type": "execute_result"
    }
   ],
   "source": [
    "dt_GCV_model.best_score_"
   ]
  },
  {
   "cell_type": "markdown",
   "metadata": {},
   "source": [
    "### Random Forest"
   ]
  },
  {
   "cell_type": "code",
   "execution_count": 82,
   "metadata": {},
   "outputs": [
    {
     "data": {
      "text/plain": [
       "RandomForestClassifier(bootstrap=True, class_weight=None, criterion='gini',\n",
       "                       max_depth=None, max_features=6, max_leaf_nodes=None,\n",
       "                       min_impurity_decrease=0.0, min_impurity_split=None,\n",
       "                       min_samples_leaf=1, min_samples_split=2,\n",
       "                       min_weight_fraction_leaf=0.0, n_estimators=100,\n",
       "                       n_jobs=-1, oob_score=True, random_state=None, verbose=0,\n",
       "                       warm_start=False)"
      ]
     },
     "execution_count": 82,
     "metadata": {},
     "output_type": "execute_result"
    }
   ],
   "source": [
    "from sklearn.ensemble import RandomForestClassifier\n",
    "\n",
    "radm_clf = RandomForestClassifier(oob_score=True,n_estimators=100 , max_features=6, n_jobs=-1)\n",
    "radm_clf.fit( train_X, train_y )"
   ]
  },
  {
   "cell_type": "code",
   "execution_count": 83,
   "metadata": {},
   "outputs": [],
   "source": [
    "radm_clf.feature_importances_\n",
    "\n",
    "indices = np.argsort(radm_clf.feature_importances_)[::-1]"
   ]
  },
  {
   "cell_type": "code",
   "execution_count": 84,
   "metadata": {},
   "outputs": [],
   "source": [
    "import seaborn as sn"
   ]
  },
  {
   "cell_type": "code",
   "execution_count": 85,
   "metadata": {},
   "outputs": [
    {
     "data": {
      "text/plain": [
       "<matplotlib.axes._subplots.AxesSubplot at 0x5425188>"
      ]
     },
     "execution_count": 85,
     "metadata": {},
     "output_type": "execute_result"
    },
    {
     "data": {
      "image/png": "[encoded data removed]",
      "text/plain": [
       "<Figure size 432x288 with 1 Axes>"
      ]
     },
     "metadata": {
      "needs_background": "light"
     },
     "output_type": "display_data"
    }
   ],
   "source": [
    "indices = np.argsort(radm_clf.feature_importances_)[::-1]\n",
    "feature_rank = pd.DataFrame( columns = ['rank', 'feature', 'importance'] )\n",
    "for f in range(train_X.shape[1]):\n",
    "  feature_rank.loc[f] = [f+1,\n",
    "                         train_X.columns[indices[f]],\n",
    "                         radm_clf.feature_importances_[indices[f]]]\n",
    "sn.barplot( y = 'feature', x = 'importance', data = feature_rank )"
   ]
  },
  {
   "cell_type": "code",
   "execution_count": 86,
   "metadata": {},
   "outputs": [],
   "source": [
    "import itertools"
   ]
  },
  {
   "cell_type": "code",
   "execution_count": 87,
   "metadata": {
    "scrolled": true
   },
   "outputs": [],
   "source": [
    "rf_feature = [(i,v) for i, v in itertools.zip_longest(train_X.columns,radm_clf.feature_importances_)]"
   ]
  },
  {
   "cell_type": "code",
   "execution_count": 88,
   "metadata": {
    "scrolled": true
   },
   "outputs": [
    {
     "data": {
      "text/plain": [
       "[('attack_normal', 0.25794982202388117),\n",
       " ('dst_bytes', 0.02364501836907481),\n",
       " ('src_bytes', 0.11622550017695885),\n",
       " ('service_private', 0.0031727113209243487),\n",
       " ('diff_srv_rate', 0.041882131491924074),\n",
       " ('flag_SF', 0.015748407861102633),\n",
       " ('dst_host_srv_count', 0.006431940905373312),\n",
       " ('dst_host_same_src_port_rate', 0.02110743080733271),\n",
       " ('service_http', 0.0019387710890872664),\n",
       " ('count', 0.028181107598017924),\n",
       " ('dst_host_srv_diff_host_rate', 0.007540319400294204),\n",
       " ('attack_warezclient', 0.004300744138820236),\n",
       " ('dst_host_diff_srv_rate', 0.01155513218213878),\n",
       " ('srv_count', 0.008173886699628406),\n",
       " ('dst_host_same_srv_rate', 0.00756699074723701),\n",
       " ('dst_host_serror_rate', 0.009915313246735892),\n",
       " ('attack_neptune', 0.10843118046939805),\n",
       " ('same_srv_rate', 0.040041844071261344),\n",
       " ('attack_smurf', 0.006539957785819684),\n",
       " ('logged_in', 0.001026579897708304),\n",
       " ('dst_host_count', 0.004103858375934579),\n",
       " ('pred_prob', 0.2745213513413465)]"
      ]
     },
     "execution_count": 88,
     "metadata": {},
     "output_type": "execute_result"
    }
   ],
   "source": [
    "rf_feature"
   ]
  },
  {
   "cell_type": "code",
   "execution_count": 89,
   "metadata": {
    "scrolled": true
   },
   "outputs": [
    {
     "data": {
      "text/html": [
       "<div>\n",
       "<style scoped>\n",
       "    .dataframe tbody tr th:only-of-type {\n",
       "        vertical-align: middle;\n",
       "    }\n",
       "\n",
       "    .dataframe tbody tr th {\n",
       "        vertical-align: top;\n",
       "    }\n",
       "\n",
       "    .dataframe thead th {\n",
       "        text-align: right;\n",
       "    }\n",
       "</style>\n",
       "<table border=\"1\" class=\"dataframe\">\n",
       "  <thead>\n",
       "    <tr style=\"text-align: right;\">\n",
       "      <th></th>\n",
       "      <th>feature</th>\n",
       "      <th>importance</th>\n",
       "    </tr>\n",
       "  </thead>\n",
       "  <tbody>\n",
       "    <tr>\n",
       "      <td>21</td>\n",
       "      <td>pred_prob</td>\n",
       "      <td>0.274521</td>\n",
       "    </tr>\n",
       "    <tr>\n",
       "      <td>0</td>\n",
       "      <td>attack_normal</td>\n",
       "      <td>0.257950</td>\n",
       "    </tr>\n",
       "    <tr>\n",
       "      <td>2</td>\n",
       "      <td>src_bytes</td>\n",
       "      <td>0.116226</td>\n",
       "    </tr>\n",
       "    <tr>\n",
       "      <td>16</td>\n",
       "      <td>attack_neptune</td>\n",
       "      <td>0.108431</td>\n",
       "    </tr>\n",
       "    <tr>\n",
       "      <td>4</td>\n",
       "      <td>diff_srv_rate</td>\n",
       "      <td>0.041882</td>\n",
       "    </tr>\n",
       "    <tr>\n",
       "      <td>17</td>\n",
       "      <td>same_srv_rate</td>\n",
       "      <td>0.040042</td>\n",
       "    </tr>\n",
       "    <tr>\n",
       "      <td>9</td>\n",
       "      <td>count</td>\n",
       "      <td>0.028181</td>\n",
       "    </tr>\n",
       "    <tr>\n",
       "      <td>1</td>\n",
       "      <td>dst_bytes</td>\n",
       "      <td>0.023645</td>\n",
       "    </tr>\n",
       "    <tr>\n",
       "      <td>7</td>\n",
       "      <td>dst_host_same_src_port_rate</td>\n",
       "      <td>0.021107</td>\n",
       "    </tr>\n",
       "    <tr>\n",
       "      <td>5</td>\n",
       "      <td>flag_SF</td>\n",
       "      <td>0.015748</td>\n",
       "    </tr>\n",
       "    <tr>\n",
       "      <td>12</td>\n",
       "      <td>dst_host_diff_srv_rate</td>\n",
       "      <td>0.011555</td>\n",
       "    </tr>\n",
       "    <tr>\n",
       "      <td>15</td>\n",
       "      <td>dst_host_serror_rate</td>\n",
       "      <td>0.009915</td>\n",
       "    </tr>\n",
       "    <tr>\n",
       "      <td>13</td>\n",
       "      <td>srv_count</td>\n",
       "      <td>0.008174</td>\n",
       "    </tr>\n",
       "    <tr>\n",
       "      <td>14</td>\n",
       "      <td>dst_host_same_srv_rate</td>\n",
       "      <td>0.007567</td>\n",
       "    </tr>\n",
       "    <tr>\n",
       "      <td>10</td>\n",
       "      <td>dst_host_srv_diff_host_rate</td>\n",
       "      <td>0.007540</td>\n",
       "    </tr>\n",
       "  </tbody>\n",
       "</table>\n",
       "</div>"
      ],
      "text/plain": [
       "                        feature  importance\n",
       "21                    pred_prob    0.274521\n",
       "0                 attack_normal    0.257950\n",
       "2                     src_bytes    0.116226\n",
       "16               attack_neptune    0.108431\n",
       "4                 diff_srv_rate    0.041882\n",
       "17                same_srv_rate    0.040042\n",
       "9                         count    0.028181\n",
       "1                     dst_bytes    0.023645\n",
       "7   dst_host_same_src_port_rate    0.021107\n",
       "5                       flag_SF    0.015748\n",
       "12       dst_host_diff_srv_rate    0.011555\n",
       "15         dst_host_serror_rate    0.009915\n",
       "13                    srv_count    0.008174\n",
       "14       dst_host_same_srv_rate    0.007567\n",
       "10  dst_host_srv_diff_host_rate    0.007540"
      ]
     },
     "execution_count": 89,
     "metadata": {},
     "output_type": "execute_result"
    }
   ],
   "source": [
    "rf_feature_import = pd.DataFrame(rf_feature, columns=['feature','importance'])\n",
    "rf_feature_import.sort_values('importance',inplace = True,ascending=False)\n",
    "rf_feature_import.head(15)"
   ]
  },
  {
   "cell_type": "code",
   "execution_count": null,
   "metadata": {},
   "outputs": [],
   "source": []
  },
  {
   "cell_type": "markdown",
   "metadata": {},
   "source": [
    "### Tuning parameters"
   ]
  },
  {
   "cell_type": "code",
   "execution_count": 90,
   "metadata": {},
   "outputs": [],
   "source": [
    "pargrid_ada = {'n_estimators': [50, 60, 70, 80, 90, 100],\n",
    "                'max_features': [5,6,7,8,9,10,11,12]}\n",
    "gscv_Rf = GridSearchCV(estimator=RandomForestClassifier(), \n",
    "                        param_grid=pargrid_ada, \n",
    "                        cv=5,\n",
    "                        verbose=True, n_jobs=-1)"
   ]
  },
  {
   "cell_type": "code",
   "execution_count": 91,
   "metadata": {},
   "outputs": [
    {
     "name": "stdout",
     "output_type": "stream",
     "text": [
      "Fitting 5 folds for each of 48 candidates, totalling 240 fits\n"
     ]
    },
    {
     "name": "stderr",
     "output_type": "stream",
     "text": [
      "[Parallel(n_jobs=-1)]: Using backend LokyBackend with 4 concurrent workers.\n",
      "[Parallel(n_jobs=-1)]: Done  42 tasks      | elapsed:  2.1min\n",
      "[Parallel(n_jobs=-1)]: Done 192 tasks      | elapsed:  9.7min\n",
      "[Parallel(n_jobs=-1)]: Done 240 out of 240 | elapsed: 12.5min finished\n"
     ]
    },
    {
     "data": {
      "text/plain": [
       "0.9999319573599456"
      ]
     },
     "execution_count": 91,
     "metadata": {},
     "output_type": "execute_result"
    }
   ],
   "source": [
    "gscv_results = gscv_Rf.fit(train_X, train_y)\n",
    "gscv_results.best_score_"
   ]
  },
  {
   "cell_type": "code",
   "execution_count": 92,
   "metadata": {},
   "outputs": [
    {
     "data": {
      "text/plain": [
       "{'max_features': 5, 'n_estimators': 80}"
      ]
     },
     "execution_count": 92,
     "metadata": {},
     "output_type": "execute_result"
    }
   ],
   "source": [
    "gscv_results.best_params_"
   ]
  },
  {
   "cell_type": "code",
   "execution_count": 93,
   "metadata": {},
   "outputs": [
    {
     "data": {
      "text/plain": [
       "array([1, 0, 0, ..., 0, 0, 1], dtype=int64)"
      ]
     },
     "execution_count": 93,
     "metadata": {},
     "output_type": "execute_result"
    }
   ],
   "source": [
    "gscv_results.predict(train_X)"
   ]
  },
  {
   "cell_type": "code",
   "execution_count": 94,
   "metadata": {},
   "outputs": [],
   "source": [
    "import pickle"
   ]
  },
  {
   "cell_type": "code",
   "execution_count": 95,
   "metadata": {},
   "outputs": [],
   "source": [
    "# now you can save it to a file\n",
    "with open('RF_Model.pkl', 'wb') as f:\n",
    "    pickle.dump(gscv_results, f)"
   ]
  },
  {
   "cell_type": "code",
   "execution_count": null,
   "metadata": {},
   "outputs": [],
   "source": []
  },
  {
   "cell_type": "markdown",
   "metadata": {},
   "source": [
    "### Boosting"
   ]
  },
  {
   "cell_type": "markdown",
   "metadata": {},
   "source": [
    "### XGBOOST"
   ]
  },
  {
   "cell_type": "markdown",
   "metadata": {},
   "source": [
    "##### Important Tuning Parameters for XGBOOST: \n",
    "- learning_rate - Boosting Learning rate.\n",
    "- criterion - measure for quality of a split\n",
    "- max_depth - The maximum depth of the tree.\n",
    "- max_leaf_nodes - Number of features to consider when looking for the best split\n",
    "- min_samples_leaf - The minimum number of samples required to be a leaf node. This may have effect of smoothing the model.\n",
    "- min_sample_split - The minimum number of samples required to split an internal node.\n",
    "- n_estimators - The number of trees in the forest\n",
    "- max_features - Number of features to consider when looking for the best split\n",
    "- gamma - Minimum loss reduction required to make a further partition on a leaf node of the tree.\n",
    "- subsample - Denotes the fraction of observations to be randomly samples for each tree.\n",
    "- colsample_bytree - It is the subsample ratio of columns when constructing each tree. Subsampling occurs once for every tree constructed.\n",
    "- reg_alpa - L1 regularization term on weights. Increasing this value will make model more conservative. \n",
    "- reg_lambda - L2 regularization term on weights. Increasing this value will make model more conservative.\n",
    "- scale_pos_weight - Control the balance of positive and negative weights, useful for unbalanced classes. A typical value to consider: sum(negative instances) / sum(positive instances)."
   ]
  },
  {
   "cell_type": "code",
   "execution_count": 96,
   "metadata": {},
   "outputs": [],
   "source": [
    "from xgboost import XGBClassifier"
   ]
  },
  {
   "cell_type": "code",
   "execution_count": 97,
   "metadata": {},
   "outputs": [],
   "source": [
    "XGBClassifier?"
   ]
  },
  {
   "cell_type": "code",
   "execution_count": 98,
   "metadata": {},
   "outputs": [],
   "source": [
    "#All Columns\n",
    "xgb_estimator = XGBClassifier(n_estimators=200,\n",
    "                         random_state = 42,\n",
    "                        n_jobs=-1,\n",
    "                        verbose=1)\n"
   ]
  },
  {
   "cell_type": "code",
   "execution_count": 99,
   "metadata": {
    "scrolled": true
   },
   "outputs": [],
   "source": [
    "train_data_xg=xgb_estimator.fit(train_X, train_y)"
   ]
  },
  {
   "cell_type": "code",
   "execution_count": 100,
   "metadata": {},
   "outputs": [
    {
     "data": {
      "text/plain": [
       "array([1, 0, 0, ..., 0, 0, 1], dtype=int64)"
      ]
     },
     "execution_count": 100,
     "metadata": {},
     "output_type": "execute_result"
    }
   ],
   "source": [
    "train_data_xg.predict(train_X)\n"
   ]
  },
  {
   "cell_type": "code",
   "execution_count": 101,
   "metadata": {},
   "outputs": [],
   "source": [
    "test_data_xg=xgb_estimator.fit(test_X, test_y)"
   ]
  },
  {
   "cell_type": "code",
   "execution_count": 102,
   "metadata": {},
   "outputs": [
    {
     "data": {
      "text/plain": [
       "array([0, 1, 1, ..., 1, 2, 2], dtype=int64)"
      ]
     },
     "execution_count": 102,
     "metadata": {},
     "output_type": "execute_result"
    }
   ],
   "source": [
    "test_data_xg.predict(test_X)"
   ]
  },
  {
   "cell_type": "code",
   "execution_count": 103,
   "metadata": {},
   "outputs": [
    {
     "name": "stdout",
     "output_type": "stream",
     "text": [
      "              precision    recall  f1-score   support\n",
      "\n",
      "           0       1.00      1.00      1.00     47241\n",
      "           1       1.00      1.00      1.00     32054\n",
      "           2       1.00      1.00      1.00      8885\n",
      "\n",
      "    accuracy                           1.00     88180\n",
      "   macro avg       1.00      1.00      1.00     88180\n",
      "weighted avg       1.00      1.00      1.00     88180\n",
      "\n"
     ]
    }
   ],
   "source": [
    "print(metrics.classification_report(train_y, xgb_estimator.predict(train_X)))\n"
   ]
  },
  {
   "cell_type": "code",
   "execution_count": 104,
   "metadata": {},
   "outputs": [
    {
     "name": "stdout",
     "output_type": "stream",
     "text": [
      "              precision    recall  f1-score   support\n",
      "\n",
      "           0       1.00      1.00      1.00     20101\n",
      "           1       1.00      1.00      1.00     13873\n",
      "           2       1.00      1.00      1.00      3818\n",
      "\n",
      "    accuracy                           1.00     37792\n",
      "   macro avg       1.00      1.00      1.00     37792\n",
      "weighted avg       1.00      1.00      1.00     37792\n",
      "\n"
     ]
    }
   ],
   "source": [
    "print(metrics.classification_report(test_y, xgb_estimator.predict(test_X)))"
   ]
  },
  {
   "cell_type": "code",
   "execution_count": null,
   "metadata": {},
   "outputs": [],
   "source": []
  },
  {
   "cell_type": "markdown",
   "metadata": {},
   "source": [
    "#### with all tuning parameters"
   ]
  },
  {
   "cell_type": "code",
   "execution_count": 105,
   "metadata": {},
   "outputs": [],
   "source": [
    "xgb_estimator1 = XGBClassifier( learning_rate=0.01,\n",
    "                               n_estimators=1000,\n",
    "                               max_depth=5,\n",
    "                               min_child_weight=1,\n",
    "                               gamma=1,\n",
    "                               subsample=0.8,\n",
    "                               colsample_bytree=0.8,\n",
    "                               n_jobs=-1,\n",
    "                               reg_alpa=1,\n",
    "                               scale_pos_weight=1,\n",
    "                               random_state=42,\n",
    "                               verbose=1)"
   ]
  },
  {
   "cell_type": "code",
   "execution_count": 106,
   "metadata": {},
   "outputs": [
    {
     "data": {
      "text/plain": [
       "XGBClassifier(base_score=0.5, booster='gbtree', colsample_bylevel=1,\n",
       "              colsample_bynode=1, colsample_bytree=0.8, gamma=1,\n",
       "              learning_rate=0.01, max_delta_step=0, max_depth=5,\n",
       "              min_child_weight=1, missing=None, n_estimators=1000, n_jobs=-1,\n",
       "              nthread=None, objective='multi:softprob', random_state=42,\n",
       "              reg_alpa=1, reg_alpha=0, reg_lambda=1, scale_pos_weight=1,\n",
       "              seed=None, silent=None, subsample=0.8, verbose=1, verbosity=1)"
      ]
     },
     "execution_count": 106,
     "metadata": {},
     "output_type": "execute_result"
    }
   ],
   "source": [
    "xgb_estimator1.fit(train_X, train_y)"
   ]
  },
  {
   "cell_type": "code",
   "execution_count": null,
   "metadata": {},
   "outputs": [],
   "source": [
    "xgb_estimator1.fit(test_X, test_y)"
   ]
  },
  {
   "cell_type": "code",
   "execution_count": 108,
   "metadata": {},
   "outputs": [
    {
     "name": "stdout",
     "output_type": "stream",
     "text": [
      "              precision    recall  f1-score   support\n",
      "\n",
      "           0       1.00      1.00      1.00     47241\n",
      "           1       1.00      1.00      1.00     32054\n",
      "           2       1.00      1.00      1.00      8885\n",
      "\n",
      "    accuracy                           1.00     88180\n",
      "   macro avg       1.00      1.00      1.00     88180\n",
      "weighted avg       1.00      1.00      1.00     88180\n",
      "\n",
      "              precision    recall  f1-score   support\n",
      "\n",
      "           0       1.00      1.00      1.00     20101\n",
      "           1       1.00      1.00      1.00     13873\n",
      "           2       1.00      1.00      1.00      3818\n",
      "\n",
      "    accuracy                           1.00     37792\n",
      "   macro avg       1.00      1.00      1.00     37792\n",
      "weighted avg       1.00      1.00      1.00     37792\n",
      "\n"
     ]
    }
   ],
   "source": [
    "print(metrics.classification_report(train_y, xgb_estimator1.predict(train_X)))\n",
    "\n",
    "print(metrics.classification_report(test_y, xgb_estimator1.predict(test_X)))"
   ]
  },
  {
   "cell_type": "markdown",
   "metadata": {},
   "source": [
    "#### Naive Bayes"
   ]
  },
  {
   "cell_type": "code",
   "execution_count": 109,
   "metadata": {},
   "outputs": [
    {
     "data": {
      "text/plain": [
       "GaussianNB(priors=None, var_smoothing=1e-09)"
      ]
     },
     "execution_count": 109,
     "metadata": {},
     "output_type": "execute_result"
    }
   ],
   "source": [
    "nb_clf = GaussianNB()\n",
    "nb_clf.fit(train_X, train_y)\n",
    "nb_clf.fit(test_X, test_y)"
   ]
  },
  {
   "cell_type": "code",
   "execution_count": 110,
   "metadata": {},
   "outputs": [
    {
     "data": {
      "text/plain": [
       "array([[46965,    20,   256],\n",
       "       [  644, 30738,   672],\n",
       "       [   66,    59,  8760]], dtype=int64)"
      ]
     },
     "execution_count": 110,
     "metadata": {},
     "output_type": "execute_result"
    }
   ],
   "source": [
    "metrics.confusion_matrix( train_y,nb_clf.predict( train_X) )"
   ]
  },
  {
   "cell_type": "code",
   "execution_count": 111,
   "metadata": {},
   "outputs": [
    {
     "data": {
      "text/plain": [
       "0.9805284645044228"
      ]
     },
     "execution_count": 111,
     "metadata": {},
     "output_type": "execute_result"
    }
   ],
   "source": [
    "metrics.accuracy_score( train_y, nb_clf.predict( train_X ) )"
   ]
  },
  {
   "cell_type": "code",
   "execution_count": 112,
   "metadata": {},
   "outputs": [
    {
     "data": {
      "text/plain": [
       "array([[19971,    15,   115],\n",
       "       [  291, 13284,   298],\n",
       "       [   28,    33,  3757]], dtype=int64)"
      ]
     },
     "execution_count": 112,
     "metadata": {},
     "output_type": "execute_result"
    }
   ],
   "source": [
    "metrics.confusion_matrix( test_y,nb_clf.predict( test_X) )"
   ]
  },
  {
   "cell_type": "code",
   "execution_count": 113,
   "metadata": {},
   "outputs": [
    {
     "data": {
      "text/plain": [
       "0.9793607112616427"
      ]
     },
     "execution_count": 113,
     "metadata": {},
     "output_type": "execute_result"
    }
   ],
   "source": [
    "metrics.accuracy_score( test_y, nb_clf.predict( test_X ) )"
   ]
  },
  {
   "cell_type": "code",
   "execution_count": null,
   "metadata": {},
   "outputs": [],
   "source": []
  },
  {
   "cell_type": "markdown",
   "metadata": {},
   "source": [
    "## Artificial Neural Networks (ANN) using sklearn"
   ]
  },
  {
   "cell_type": "markdown",
   "metadata": {},
   "source": [
    "##### Important Tuning Parameters for ANN using SKLearn: \n",
    "- hidden_layer_size - The number of neurons in the hidden layer.\n",
    "- learning_rate - option to use different learning rate for weight updates.\n",
    "- max_iter - maximum number of iterations. This will decide  when to stop the solver, either the solver converges or this maximum number of iterations.\n",
    "- momentum - momentum for gradient descent update. This will try to avoid trap the local minimum.\n",
    "- solver - The option to choose different algorithm for weight optimization.\n",
    "- batch_size - size of minibatches for stochastic optimizer. This is the option that will decide how much samples will be used in online learning\n",
    "- alpha - This parameter controls the regularization which help avoiding Overfitting.\n",
    "- activation - This is to define different activation functions."
   ]
  },
  {
   "cell_type": "code",
   "execution_count": 114,
   "metadata": {},
   "outputs": [
    {
     "data": {
      "text/plain": [
       "StandardScaler(copy=True, with_mean=True, with_std=True)"
      ]
     },
     "execution_count": 114,
     "metadata": {},
     "output_type": "execute_result"
    }
   ],
   "source": [
    "from sklearn.preprocessing import StandardScaler\n",
    "scaler = StandardScaler()\n",
    "# Fit only to the training data\n",
    "scaler.fit(train_X)"
   ]
  },
  {
   "cell_type": "code",
   "execution_count": 115,
   "metadata": {},
   "outputs": [],
   "source": [
    "# Now apply the transformations to the data:\n",
    "train_X = scaler.transform(train_X)\n",
    "test_X = scaler.transform(test_X)"
   ]
  },
  {
   "cell_type": "code",
   "execution_count": 116,
   "metadata": {},
   "outputs": [],
   "source": [
    "from sklearn.neural_network import MLPClassifier"
   ]
  },
  {
   "cell_type": "code",
   "execution_count": 117,
   "metadata": {},
   "outputs": [],
   "source": [
    "mlp = MLPClassifier(hidden_layer_sizes=(30,30,30))"
   ]
  },
  {
   "cell_type": "code",
   "execution_count": 118,
   "metadata": {},
   "outputs": [
    {
     "data": {
      "text/plain": [
       "MLPClassifier(activation='relu', alpha=0.0001, batch_size='auto', beta_1=0.9,\n",
       "              beta_2=0.999, early_stopping=False, epsilon=1e-08,\n",
       "              hidden_layer_sizes=(30, 30, 30), learning_rate='constant',\n",
       "              learning_rate_init=0.001, max_iter=200, momentum=0.9,\n",
       "              n_iter_no_change=10, nesterovs_momentum=True, power_t=0.5,\n",
       "              random_state=None, shuffle=True, solver='adam', tol=0.0001,\n",
       "              validation_fraction=0.1, verbose=False, warm_start=False)"
      ]
     },
     "execution_count": 118,
     "metadata": {},
     "output_type": "execute_result"
    }
   ],
   "source": [
    "mlp.fit(train_X,train_y)"
   ]
  },
  {
   "cell_type": "code",
   "execution_count": 119,
   "metadata": {},
   "outputs": [],
   "source": [
    "predictions = mlp.predict(test_X)"
   ]
  },
  {
   "cell_type": "code",
   "execution_count": 120,
   "metadata": {},
   "outputs": [
    {
     "data": {
      "text/plain": [
       "(37792, 22)"
      ]
     },
     "execution_count": 120,
     "metadata": {},
     "output_type": "execute_result"
    }
   ],
   "source": [
    "test_X.shape"
   ]
  },
  {
   "cell_type": "code",
   "execution_count": 121,
   "metadata": {},
   "outputs": [
    {
     "name": "stdout",
     "output_type": "stream",
     "text": [
      "[[20101     0     0]\n",
      " [    0 13870     3]\n",
      " [    0     3  3815]]\n"
     ]
    }
   ],
   "source": [
    "from sklearn.metrics import classification_report,confusion_matrix\n",
    "print(confusion_matrix(test_y,predictions))"
   ]
  },
  {
   "cell_type": "code",
   "execution_count": 122,
   "metadata": {},
   "outputs": [
    {
     "name": "stdout",
     "output_type": "stream",
     "text": [
      "              precision    recall  f1-score   support\n",
      "\n",
      "           0       1.00      1.00      1.00     20101\n",
      "           1       1.00      1.00      1.00     13873\n",
      "           2       1.00      1.00      1.00      3818\n",
      "\n",
      "    accuracy                           1.00     37792\n",
      "   macro avg       1.00      1.00      1.00     37792\n",
      "weighted avg       1.00      1.00      1.00     37792\n",
      "\n"
     ]
    }
   ],
   "source": [
    "print(classification_report(test_y,predictions))"
   ]
  },
  {
   "cell_type": "code",
   "execution_count": 123,
   "metadata": {},
   "outputs": [
    {
     "data": {
      "text/plain": [
       "[array([[-1.40205848e-02, -2.18090552e-01,  2.68355368e-01,\n",
       "         -8.61859981e-02, -4.91984226e-01, -1.04089031e-01,\n",
       "         -3.87478455e-01,  3.15323738e-01, -1.51845957e-01,\n",
       "          1.50135413e-01,  5.08464764e-01,  5.24853828e-01,\n",
       "         -7.51393861e-02, -5.11892168e-01,  1.75669365e-01,\n",
       "          5.60217375e-01,  5.45717779e-01,  4.55719281e-02,\n",
       "          4.17506209e-01,  1.47628790e-01, -1.66357870e-01,\n",
       "          4.82811267e-01, -5.52206023e-01, -1.31910019e-01,\n",
       "         -1.59714503e-01,  4.81730601e-01, -2.10168531e-01,\n",
       "         -3.06472391e-01,  1.42901984e-01, -1.40976998e-01],\n",
       "        [ 2.64285010e-01,  1.11319550e-01,  5.99148519e-02,\n",
       "         -3.06588284e-02,  4.13407632e-02,  1.01621723e-01,\n",
       "         -2.60996913e-01, -1.29432426e-02,  3.76478410e-01,\n",
       "         -2.80235659e-01,  4.23620189e-01,  1.40689504e-01,\n",
       "          4.01296339e-01,  1.64417214e-01, -2.88174044e-01,\n",
       "         -3.01715188e-01,  4.74802613e-02, -1.88605473e-01,\n",
       "          9.12491923e-02, -3.88617545e-01,  2.56850170e-01,\n",
       "          2.17366378e-01, -3.72244237e-02, -1.23301259e-01,\n",
       "          4.49836512e-01,  3.66974126e-01,  1.53405382e-01,\n",
       "          5.60815230e-02, -4.20037351e-03,  2.58965185e-01],\n",
       "        [ 3.49515452e-01, -1.08927713e+00, -1.03063479e+00,\n",
       "         -1.69022373e+00,  3.22577115e-01,  6.68074742e-02,\n",
       "         -1.75655133e-01,  8.43658880e-02, -2.82335425e-01,\n",
       "          4.04542225e-01, -5.88074499e-01,  1.37220837e-01,\n",
       "         -6.59580319e-01, -1.58082205e+00, -2.79038889e+00,\n",
       "          2.02011629e-01,  3.32056274e-01,  2.40901581e-01,\n",
       "         -9.07521527e-02, -5.47111674e-02,  3.19010612e-01,\n",
       "         -8.32872601e-01,  4.16649753e-01, -2.06802197e-01,\n",
       "          3.92719780e-01,  6.09768741e-01, -6.57671232e-01,\n",
       "          4.55126280e-01,  6.70648054e-01,  9.36529228e-02],\n",
       "        [-7.10584037e-02, -4.28170216e-01, -3.37664138e-02,\n",
       "          1.29219040e-01, -2.86307696e-01,  2.56421964e-01,\n",
       "          3.70018704e-01,  1.15528783e-01, -5.56657614e-02,\n",
       "         -3.71644592e-01,  1.27893563e-01, -3.59772238e-02,\n",
       "          2.64470740e-01, -1.94427934e-01, -3.23647640e-01,\n",
       "         -3.17997271e-01, -1.76125965e-01,  2.67229135e-01,\n",
       "         -3.23248386e-01,  2.62290154e-01,  2.52082790e-01,\n",
       "          2.66746338e-02, -2.43348247e-02, -2.11500311e-01,\n",
       "          1.39688167e-02,  2.95292974e-01, -6.45348976e-02,\n",
       "         -2.22761977e-01, -1.66749470e-01, -6.34426700e-02],\n",
       "        [ 2.58546839e-01, -3.42800276e-01, -6.97906284e-02,\n",
       "         -3.55592933e-01, -1.90095633e-01, -4.13186521e-01,\n",
       "         -3.14184659e-01, -2.52967729e-01,  2.85818457e-01,\n",
       "          3.25494173e-01,  7.45591422e-02,  1.90128616e-01,\n",
       "          4.00933143e-01,  2.63468009e-02,  1.37840989e-01,\n",
       "          3.25422581e-02,  7.83962515e-02,  8.03200945e-02,\n",
       "          2.81760551e-01, -1.42339060e-01, -2.83688316e-01,\n",
       "         -2.33187719e-03,  2.33847690e-01,  5.98468321e-02,\n",
       "          7.42847185e-02,  5.16367580e-02,  4.25921416e-02,\n",
       "         -1.38863731e-01, -1.81364857e-01,  1.21384557e-01],\n",
       "        [-3.26044197e-01, -1.42886669e-01,  1.13914533e-01,\n",
       "         -1.91762682e-01, -1.50322899e-01,  2.77421313e-01,\n",
       "         -1.27382461e-01,  3.32568165e-01,  2.94595202e-01,\n",
       "         -1.00345453e-01, -2.86637436e-01, -1.50837183e-01,\n",
       "         -1.11046570e-01,  3.11840422e-01,  8.39346720e-02,\n",
       "          1.34013429e-01,  1.42781725e-01, -3.91064859e-01,\n",
       "         -4.60569158e-01,  5.17423990e-02,  6.86335491e-02,\n",
       "          1.34418452e-01, -2.10483263e-02, -3.72835365e-01,\n",
       "          1.13119604e-01, -1.74441837e-01, -3.57883528e-01,\n",
       "          1.09803178e-01, -4.42749613e-02, -3.53929745e-01],\n",
       "        [ 1.89470793e-01,  3.07287375e-01,  3.41208238e-01,\n",
       "         -4.67771342e-01,  2.62173581e-01,  9.21500652e-02,\n",
       "          2.08356507e-01,  2.46397456e-01,  4.80907803e-01,\n",
       "          1.92963185e-01,  1.38337332e-01, -3.78672674e-01,\n",
       "          1.20623135e-01,  6.43060840e-02,  2.65523528e-01,\n",
       "          7.91398379e-02,  1.39480159e-01, -1.91655532e-01,\n",
       "         -9.37588204e-02,  2.08416004e-01,  4.23578579e-02,\n",
       "         -1.64573486e-01,  6.69798666e-02, -8.01087181e-02,\n",
       "         -5.04432491e-01, -2.83928070e-02, -3.16301454e-01,\n",
       "          4.40648564e-01, -8.60477716e-03,  3.66586132e-01],\n",
       "        [-2.02818401e-01, -2.10451006e-01,  1.36864308e-01,\n",
       "          3.98475422e-01, -4.85692927e-02, -7.06443754e-01,\n",
       "         -3.76119853e-01, -3.79927483e-02,  2.57356158e-01,\n",
       "          5.31450560e-01,  1.78072852e-02,  4.02438860e-02,\n",
       "          1.18318856e-01, -5.04944191e-02, -1.54333880e-01,\n",
       "         -4.99367813e-01,  2.69041048e-01,  2.96043724e-01,\n",
       "         -3.94058090e-01, -2.33587967e-01, -2.76929806e-01,\n",
       "         -8.58659878e-02, -7.87162991e-02, -6.10449413e-01,\n",
       "          3.93929223e-01, -9.78730414e-03, -2.71961860e-01,\n",
       "          3.36387656e-02,  3.14426753e-01, -2.72288425e-01],\n",
       "        [-1.92446318e-01, -1.34866574e-01,  1.50343341e-01,\n",
       "          7.76332258e-02,  6.32426338e-02, -3.19645607e-01,\n",
       "         -5.32919283e-02,  1.03552472e-01,  3.42041434e-01,\n",
       "         -1.27388582e-01, -2.07457077e-01,  2.13235313e-01,\n",
       "          2.71261396e-01, -8.64004956e-02,  2.22369659e-01,\n",
       "         -2.42204847e-01,  2.97987467e-01,  4.55468473e-03,\n",
       "          3.24766581e-01, -3.39536599e-01,  1.65599435e-02,\n",
       "         -1.77481733e-01, -2.72722245e-01, -3.53080781e-01,\n",
       "         -2.09632777e-01, -3.88950653e-01,  7.21706668e-02,\n",
       "          1.09428205e-01,  2.27494151e-01,  3.70152677e-01],\n",
       "        [-2.95183117e-01, -1.33955486e-01, -1.96362994e-01,\n",
       "          1.72436296e-01,  2.06583310e-01,  2.72317936e-01,\n",
       "          3.38577379e-01, -4.18676185e-02, -8.60455597e-02,\n",
       "          1.65233809e-01, -1.55736805e-01, -1.96174708e-01,\n",
       "         -1.50837940e-01, -1.50798549e-01, -3.85569745e-01,\n",
       "         -1.56368580e-01, -9.72715678e-02,  2.96317186e-01,\n",
       "          8.79541819e-02,  5.72209531e-01,  1.60585606e-01,\n",
       "         -3.68769424e-01,  7.31531475e-02,  1.29724867e-01,\n",
       "         -2.05592509e-02, -3.57607151e-01, -3.12595253e-01,\n",
       "         -3.07792945e-01, -4.57059278e-02,  2.89714001e-01],\n",
       "        [ 3.77355733e-01,  1.57067737e-01,  8.90763799e-02,\n",
       "         -2.60794394e-01,  2.03719666e-01, -3.77068583e-01,\n",
       "         -3.19582695e-01,  1.52064579e-01,  4.53429542e-02,\n",
       "         -3.53007072e-01,  1.26709648e-01,  2.92975733e-01,\n",
       "          4.74043348e-02,  3.15200447e-01,  5.88188070e-02,\n",
       "         -3.36758723e-02, -3.44471193e-01, -7.44147613e-02,\n",
       "         -1.81170574e-01, -2.33425130e-01, -6.41746757e-02,\n",
       "          1.94057815e-01,  1.64177318e-02,  4.88579332e-02,\n",
       "         -4.60817076e-01, -7.34565427e-04, -2.04846859e-01,\n",
       "         -1.75264831e-01,  2.35177744e-01, -1.99263173e-01],\n",
       "        [ 2.69061535e-01,  4.44391497e-01, -3.47710584e-01,\n",
       "         -1.29018865e-01,  2.35855788e-01,  1.37118043e-01,\n",
       "          1.30960615e-01,  1.79281326e-01,  1.04490211e-01,\n",
       "          1.14340990e-01, -2.66293675e-01, -2.10245099e-01,\n",
       "          2.72325755e-01, -8.37853107e-02,  7.20950451e-02,\n",
       "         -2.28117425e-01, -1.74284314e-02,  3.10970342e-01,\n",
       "         -2.38848933e-01, -1.69307186e-01, -1.43234323e-01,\n",
       "         -9.11618369e-03,  1.79349551e-01, -3.33843220e-01,\n",
       "          1.46318312e-01,  1.30214840e-01,  1.96015923e-01,\n",
       "         -2.03421079e-01, -1.20845340e-01, -1.69251841e-02],\n",
       "        [ 1.43662653e-01,  1.43759640e-01,  2.49175577e-02,\n",
       "         -4.07945934e-01,  3.13001920e-01,  1.70686447e-01,\n",
       "         -3.50682838e-02, -7.77680360e-02, -3.51846715e-01,\n",
       "          2.45880855e-01,  1.28298390e-01,  6.47554630e-02,\n",
       "         -5.63350028e-02, -1.16040564e-01, -3.74228096e-01,\n",
       "         -3.31872957e-01,  8.76115594e-02,  4.98027126e-02,\n",
       "          1.02340203e-01,  1.96070893e-01,  2.97412658e-01,\n",
       "         -3.03607930e-01, -1.12979570e-01, -4.36074104e-01,\n",
       "          3.20300040e-01, -1.75822310e-01,  1.75712739e-01,\n",
       "         -6.62725431e-03, -2.95768389e-02, -2.39570994e-01],\n",
       "        [ 2.41513728e-01,  9.61167914e-02,  6.57843620e-01,\n",
       "         -2.24321481e-01,  1.26370440e-01,  3.84486922e-01,\n",
       "         -2.16429763e-02,  5.02236272e-01,  2.62730426e-01,\n",
       "          1.48980456e-03,  6.67037429e-01, -5.23956850e-01,\n",
       "         -3.36909684e-01,  4.45547213e-01,  9.40152229e-02,\n",
       "         -3.44159235e-01, -1.06639910e-01,  2.44002988e-01,\n",
       "          5.72200799e-02,  3.63404555e-01,  3.89703010e-01,\n",
       "         -4.48968062e-02, -2.32606429e-01,  3.69990655e-01,\n",
       "         -6.53543434e-02, -3.22050676e-01, -6.81432104e-01,\n",
       "         -2.81871430e-01, -3.22669551e-01,  3.57610021e-01],\n",
       "        [-1.65744431e-03, -2.54784712e-01, -1.21926885e-01,\n",
       "         -3.17127608e-01,  2.96477005e-01,  4.28345249e-01,\n",
       "         -1.38662919e-01,  6.73940780e-02, -3.18673303e-02,\n",
       "          1.70219851e-02,  9.23754542e-02,  1.50500123e-01,\n",
       "         -2.64468206e-01,  5.76501476e-01, -7.20359893e-02,\n",
       "          2.96194468e-01,  1.91953613e-01, -1.71233252e-01,\n",
       "         -2.59729108e-01,  2.87714342e-01,  1.26180173e-01,\n",
       "          6.48552750e-02,  1.35133639e-02, -4.63558278e-01,\n",
       "          4.77207048e-02,  9.37558622e-03, -2.91351222e-01,\n",
       "          2.49915617e-01,  3.34057676e-01, -1.31805484e-01],\n",
       "        [ 2.78395744e-01,  4.19695573e-02, -2.39817164e-01,\n",
       "          4.99222964e-02,  2.28663241e-01, -4.57316912e-02,\n",
       "         -1.97550897e-01, -4.46705753e-01, -1.06324222e-01,\n",
       "         -4.31517184e-01,  9.00730925e-02,  3.10479727e-01,\n",
       "          1.20699602e-01,  8.64068525e-02, -1.78995758e-01,\n",
       "          2.11960265e-01,  1.88769173e-01, -1.49534225e-01,\n",
       "          2.77801897e-01,  2.53855348e-01, -1.00444451e-01,\n",
       "         -1.92035319e-01, -5.40980759e-02,  3.09151162e-01,\n",
       "          1.93722387e-01, -3.39557903e-02,  8.76449885e-02,\n",
       "         -5.28641416e-03,  3.22959305e-01, -2.84456649e-01],\n",
       "        [-7.89749437e-04, -1.49195399e-01,  1.89152650e-01,\n",
       "         -6.06430699e-02,  8.08136723e-02,  2.82497760e-01,\n",
       "         -1.90615636e-01, -2.99272600e-01, -3.04100589e-01,\n",
       "         -1.45331257e-01, -1.20435936e-02,  3.02757311e-01,\n",
       "         -1.95125713e-01, -2.38655603e-01,  1.14125568e-01,\n",
       "         -4.36345680e-01, -1.38243094e-01,  4.83768371e-01,\n",
       "         -7.41574162e-02, -7.06467059e-02,  4.19670240e-01,\n",
       "         -2.89153361e-01,  3.08973125e-01,  3.65850927e-01,\n",
       "          2.20422411e-01,  1.37494185e-01, -3.50420360e-01,\n",
       "         -7.10059887e-02,  1.87998917e-01, -1.75924311e-01],\n",
       "        [-1.36620407e-01,  6.43169338e-02, -9.94836357e-02,\n",
       "         -3.14918079e-01, -3.01706283e-01, -2.25843104e-01,\n",
       "          1.77814365e-01,  4.03284121e-01,  2.88945949e-02,\n",
       "          2.00268070e-01,  9.80300023e-03, -6.87318644e-02,\n",
       "          1.52292156e-01, -4.06897102e-01,  2.47345202e-01,\n",
       "         -1.12280390e-01, -5.34304231e-02, -3.36723787e-01,\n",
       "          1.11421292e-01, -1.16565797e-01,  2.71279263e-01,\n",
       "         -3.70987793e-01,  3.02411812e-01,  1.06673881e-01,\n",
       "          1.91580776e-01,  1.10086445e-01, -3.48038546e-01,\n",
       "          3.45766600e-01, -2.75878917e-01, -4.75557008e-01],\n",
       "        [-8.97928755e-03, -2.05547723e-01, -1.56594532e-01,\n",
       "          2.84974944e-01,  3.32280561e-01, -2.52663258e-01,\n",
       "          2.04295535e-01,  2.85487310e-01,  2.20272149e-01,\n",
       "         -3.29096811e-01, -3.21162192e-01,  4.09491021e-01,\n",
       "         -2.86887757e-02, -2.66700633e-01, -4.15963813e-01,\n",
       "          1.26380798e-01, -2.34649281e-01,  3.48378061e-01,\n",
       "         -2.02118503e-01, -9.96900791e-02,  2.18919835e-01,\n",
       "          6.44679274e-02,  2.67940458e-01, -2.61679817e-01,\n",
       "         -1.11645356e-01, -7.46113507e-02,  1.22435364e-01,\n",
       "          7.62706526e-02,  3.38231437e-01,  2.87114597e-01],\n",
       "        [-2.73867097e-01,  4.07758901e-01,  3.10187235e-01,\n",
       "         -1.98300228e-01,  1.91606314e-03, -2.24286205e-01,\n",
       "         -1.11454249e-01, -1.69062145e-01,  3.72071874e-01,\n",
       "         -1.61556703e-01,  1.02115974e-01,  6.07248524e-02,\n",
       "          2.14582066e-01,  3.29270440e-02,  1.32931160e-01,\n",
       "         -2.39084439e-01, -2.20732755e-01,  1.67747516e-01,\n",
       "          3.81366753e-01, -6.57374628e-02,  7.05987534e-02,\n",
       "          5.27322797e-01, -1.86311489e-01, -3.11461677e-01,\n",
       "         -4.46320125e-02, -1.05330005e-01,  2.06097751e-02,\n",
       "         -7.40668955e-02,  9.14331860e-02,  2.77730298e-01],\n",
       "        [ 3.67923396e-01,  4.13844617e-01, -1.89710903e-01,\n",
       "         -6.13593596e-02,  4.37377209e-02,  2.59917629e-01,\n",
       "          1.18937499e-01, -6.10343839e-02,  2.30699204e-01,\n",
       "          5.90127226e-01,  1.71999032e-03,  3.18549733e-02,\n",
       "          1.76336992e-01,  1.57184591e-01, -1.04404194e-01,\n",
       "          6.68776913e-03,  1.18440012e-02, -1.28579656e-01,\n",
       "         -3.46001216e-01, -4.98664747e-02,  3.08429563e-02,\n",
       "         -1.32469482e-01, -2.67492367e-01, -3.78199648e-01,\n",
       "          2.95353841e-01, -1.00082435e-02, -3.86234692e-02,\n",
       "         -1.91127510e-01, -1.60543733e-01,  2.20635855e-02],\n",
       "        [ 2.53685576e-01, -9.66468479e-02, -2.01516385e-01,\n",
       "         -3.15671576e-01,  2.06612786e-01,  2.77739290e-01,\n",
       "          4.23344231e-01,  1.90729359e-01,  2.49180372e-01,\n",
       "         -4.57756640e-01, -8.19191059e-03,  1.34276334e-01,\n",
       "         -5.44343967e-01, -2.50739989e-01, -3.65260528e-01,\n",
       "          8.16076901e-02, -3.63365481e-01,  3.61614539e-01,\n",
       "          2.66843426e-01,  5.61444245e-01,  5.35129446e-01,\n",
       "          1.14634655e-01, -1.87096471e-01,  2.60464610e-01,\n",
       "         -2.05484137e-01, -6.50415862e-01, -3.31297183e-01,\n",
       "         -1.36134437e-01, -1.43040133e-01,  2.29566170e-01]]),\n",
       " array([[-1.64928413e-01,  1.59241368e-02, -1.58050045e-01,\n",
       "         -2.63861872e-02,  1.50623519e-01, -1.01095495e-01,\n",
       "         -6.91752040e-02,  3.69050187e-01, -1.59784187e-01,\n",
       "         -8.00080968e-02, -7.55075951e-02,  2.42917063e-01,\n",
       "          1.12755674e-01, -1.57888269e-01, -2.21711276e-02,\n",
       "          4.14625539e-01,  1.87472838e-01,  3.46536408e-04,\n",
       "         -2.31284386e-01,  1.60135029e-01, -3.69231834e-02,\n",
       "         -7.81344067e-02, -1.04877894e-01, -3.29156103e-13,\n",
       "         -1.02712577e-01, -9.39450244e-02,  3.14578779e-01,\n",
       "         -2.80225805e-01, -4.67844063e-01,  2.27926308e-01],\n",
       "        [ 8.21225524e-02, -2.19095219e-01, -1.33949833e-01,\n",
       "         -4.93527401e-01, -1.48390951e-01,  3.59570742e-01,\n",
       "          4.18979900e-01, -7.26283180e-01,  3.39556058e-01,\n",
       "         -1.86926529e-01,  3.32009841e-01,  3.97146747e-01,\n",
       "         -1.69901998e-02,  5.63759075e-01, -1.38423673e-01,\n",
       "          4.96403194e-01, -5.38161692e-02,  1.42967852e-01,\n",
       "          1.35029106e-01,  4.74383783e-01, -1.43020045e-01,\n",
       "         -1.30042645e-01, -1.03817905e-01,  3.54598983e-73,\n",
       "          4.08581273e-01, -7.42163362e-02,  1.58755228e-01,\n",
       "         -2.37772311e-01, -6.06738652e-02,  8.46197437e-02],\n",
       "        [ 1.58274481e-01, -2.57819436e-01, -2.53060699e-01,\n",
       "          1.29516944e-01, -7.86073674e-02,  2.56671312e-01,\n",
       "          2.82160690e-01, -2.42340601e-01, -1.70047375e-01,\n",
       "          3.72287571e-02,  4.87067275e-01, -4.64751723e-02,\n",
       "          3.33481080e-01,  3.30608742e-01, -4.87585556e-02,\n",
       "          2.83396948e-01, -1.79026852e-01,  4.09688296e-01,\n",
       "          1.35156667e-01,  5.03624540e-02, -2.29964883e-01,\n",
       "         -3.95898331e-02, -4.64963007e-02,  8.79114956e-54,\n",
       "          2.92550421e-01,  2.90041914e-01,  3.16139602e-01,\n",
       "         -2.45503278e-01,  2.29875577e-01,  2.79369712e-01],\n",
       "        [-4.53970161e-01,  1.44973017e-01,  1.95920739e-01,\n",
       "         -1.99787894e-01, -3.06300249e-01,  3.90744394e-01,\n",
       "          2.68094769e-01,  3.30803172e-01, -3.75766290e-01,\n",
       "         -3.04528085e-01,  7.33956426e-02,  2.10287449e-01,\n",
       "         -4.43030187e-02,  4.12769803e-01,  1.67885892e-01,\n",
       "          2.83620848e-01,  1.57819857e-01,  4.29684969e-01,\n",
       "          3.21865919e-01, -5.55578015e-02,  6.30627699e-02,\n",
       "         -4.59493232e-02, -1.78835415e-01,  3.16277002e-04,\n",
       "         -4.97234350e-01, -5.71489067e-01,  3.78557891e-01,\n",
       "         -1.87963066e-01, -4.09611993e-01, -5.92930280e-02],\n",
       "        [ 2.35469827e-01,  3.39806019e-01, -1.66003639e-01,\n",
       "          1.35517881e-01,  1.23269505e-01,  7.42929685e-02,\n",
       "         -1.83233438e-01, -1.65697803e-01, -1.42660167e-01,\n",
       "          2.41638433e-01, -1.28009251e-01, -1.48332735e-02,\n",
       "          1.82470290e-01,  5.18460121e-02, -2.57097448e-01,\n",
       "          2.66198353e-01,  7.59973124e-03, -3.84587620e-01,\n",
       "         -3.83291089e-02, -1.81829980e-01,  3.18028904e-01,\n",
       "          2.42321763e-01, -3.36410008e-02, -1.17555818e-75,\n",
       "          1.22234438e-02,  3.76872920e-01,  8.77558548e-02,\n",
       "          3.45746790e-02, -5.34250110e-03,  3.13771787e-01],\n",
       "        [ 2.30914089e-07,  3.71883456e-01,  2.38262152e-01,\n",
       "          4.07747799e-01,  4.08487857e-01, -1.63855025e-01,\n",
       "         -3.42639281e-01,  7.24852606e-02,  1.73539796e-01,\n",
       "          7.71159529e-03,  9.91153839e-02,  6.01428549e-03,\n",
       "         -2.59414270e-01,  2.83691138e-02,  4.91127091e-03,\n",
       "         -2.59126424e-01, -9.34874822e-02, -1.24431339e-02,\n",
       "          9.28676055e-02,  2.07255542e-02, -1.14410613e-01,\n",
       "          1.70753124e-01,  3.06447900e-01,  2.28853042e-69,\n",
       "          1.57669189e-01,  4.21671297e-01, -2.07246703e-01,\n",
       "          7.90024131e-02,  8.89483909e-02, -2.41568085e-01],\n",
       "        [-4.65063900e-08,  3.16918653e-01, -6.79007622e-02,\n",
       "          1.72402036e-01,  2.81163180e-01,  3.82922645e-01,\n",
       "         -7.80956627e-02, -3.13132856e-02,  2.89347397e-01,\n",
       "          7.08856238e-03, -2.80064228e-01,  1.10853566e-01,\n",
       "         -3.96301743e-01, -3.77937051e-01, -4.27763349e-01,\n",
       "          3.28797539e-01,  2.87348132e-02, -1.90331809e-01,\n",
       "         -2.60357962e-01, -3.92285825e-01,  2.89006353e-02,\n",
       "          2.81611537e-01,  2.10266891e-01, -1.08592963e-13,\n",
       "          3.83827523e-02,  1.13404581e-01, -4.16092402e-02,\n",
       "          2.59266895e-01,  2.44340862e-01,  1.38026799e-01],\n",
       "        [ 6.98175634e-02,  9.72592084e-03, -3.75182986e-01,\n",
       "          2.52407223e-01,  2.37050787e-01, -1.47998350e-01,\n",
       "          3.25561274e-01, -1.08006322e-01,  8.70094029e-02,\n",
       "          2.89887909e-01, -5.79864654e-02,  2.33234366e-01,\n",
       "          2.59954372e-01, -3.53766320e-02,  2.77691401e-01,\n",
       "         -2.23986074e-01,  2.70562402e-02,  6.69945271e-02,\n",
       "          4.12713377e-01, -5.33597267e-01, -2.88004225e-01,\n",
       "          3.41216058e-01,  8.84952355e-02,  8.02072273e-25,\n",
       "         -3.92188793e-02, -9.68470443e-02,  2.43508719e-01,\n",
       "          2.20682627e-01,  2.47161130e-02, -2.80087869e-02],\n",
       "        [ 1.96317148e-02, -1.31474385e-01, -1.10134029e-01,\n",
       "          3.47974213e-01,  2.82921883e-01, -2.89971939e-01,\n",
       "         -2.02278509e-01,  2.79370719e-01,  7.88544312e-02,\n",
       "         -1.26038914e-01, -3.17935843e-01, -4.15186258e-04,\n",
       "         -1.90007094e-01,  2.21298641e-01, -6.84342347e-02,\n",
       "          3.35402132e-01,  1.23402049e-01,  3.10669467e-01,\n",
       "          3.05879508e-01, -1.17123433e-02,  1.08735359e-01,\n",
       "         -2.25501816e-02,  2.73911530e-01,  5.30091257e-09,\n",
       "          1.56373651e-01, -3.15553863e-01,  2.51797041e-01,\n",
       "          5.60120386e-02,  1.77203968e-01, -2.18220684e-01],\n",
       "        [-3.03441633e-02,  9.79057103e-02, -3.54587322e-01,\n",
       "         -3.11066865e-01,  1.00242144e-01, -5.68038200e-01,\n",
       "          1.10106232e-01,  1.38235824e-02,  3.66584288e-01,\n",
       "         -5.58337666e-01,  7.60281127e-02,  4.02839196e-02,\n",
       "         -1.37838347e-01, -5.59872863e-03,  4.94261435e-02,\n",
       "          2.11940980e-01,  1.48761225e-01,  3.99741143e-01,\n",
       "          2.27707490e-01,  3.68305469e-01, -1.41411200e-01,\n",
       "          1.17893023e-01,  3.07167209e-01, -7.73657678e-07,\n",
       "          3.61609672e-01, -1.56653235e-01, -1.54963840e-01,\n",
       "          1.60317497e-01,  2.38202416e-02, -5.93323705e-02],\n",
       "        [-2.42475619e-01, -3.39244207e-01, -1.32289133e-02,\n",
       "         -1.93654238e-02, -5.97793282e-02,  3.15832696e-01,\n",
       "          3.85021164e-01, -3.30555215e-01, -2.21484786e-02,\n",
       "         -3.79487968e-01,  3.09504155e-01,  1.86373427e-01,\n",
       "         -2.37961821e-02,  1.03679580e-01,  3.03342439e-01,\n",
       "          3.11809107e-01, -1.28258572e-01,  5.35757651e-01,\n",
       "          2.44917370e-01,  2.77091397e-01, -2.17123657e-01,\n",
       "         -4.18501551e-01, -2.88006178e-02, -2.98818692e-23,\n",
       "          1.31717109e-01,  2.37539032e-02, -3.72188883e-02,\n",
       "         -4.40693350e-01, -1.02900603e-01,  1.64311696e-02],\n",
       "        [ 2.20242028e-01,  2.22770303e-01,  2.71117237e-01,\n",
       "          3.23500923e-01,  3.83739438e-01, -5.34898771e-01,\n",
       "         -1.96520953e-01,  2.57986698e-01,  2.95439145e-01,\n",
       "          1.46906096e-01,  3.43710958e-01, -4.15673071e-01,\n",
       "         -4.39280184e-01,  2.04662874e-02, -6.41615969e-05,\n",
       "         -2.46967103e-01, -2.82434671e-01,  4.06767378e-01,\n",
       "          2.50752636e-01,  6.09553002e-02, -8.87265413e-02,\n",
       "          5.39842882e-02,  2.44661353e-01,  5.95893288e-10,\n",
       "          3.50520658e-01, -4.03927732e-02, -7.59789453e-02,\n",
       "          2.95652650e-01, -6.89620700e-02, -5.08301706e-01],\n",
       "        [-7.89349201e-02, -3.28753253e-01, -2.29360284e-01,\n",
       "          7.59300901e-02, -2.39790915e-01, -4.83277666e-02,\n",
       "          1.83175165e-01, -1.26074810e-01, -1.14375642e-01,\n",
       "         -2.35441773e-01,  5.03551177e-02,  2.76096646e-01,\n",
       "          3.46872918e-02,  2.20381124e-01,  1.18490270e-02,\n",
       "          3.35738330e-01,  2.85155411e-01, -6.22749417e-02,\n",
       "          2.63385360e-01, -9.82047702e-02,  8.62136134e-02,\n",
       "          1.28783767e-01, -2.60320879e-03, -2.73464138e-09,\n",
       "          4.78278897e-02, -1.95122247e-01,  2.08002338e-01,\n",
       "          5.48417029e-02,  2.24635072e-01, -2.60381622e-01],\n",
       "        [ 1.62147140e-01, -5.73728199e-02,  1.44503848e-01,\n",
       "         -7.77221120e-02, -1.65788625e-02,  3.60319095e-01,\n",
       "          2.44793531e-01,  4.91142923e-03, -2.18542205e-01,\n",
       "          8.14796695e-02, -4.06235532e-01,  3.63544375e-01,\n",
       "          2.86954359e-01,  3.21908051e-01,  3.22223364e-02,\n",
       "          3.87047172e-02,  5.22583954e-01,  1.08443128e-01,\n",
       "          1.62613004e-01, -1.94181041e-01, -9.21163171e-02,\n",
       "         -9.29998037e-02, -4.90123455e-01,  1.94337876e-18,\n",
       "         -2.17270874e-02, -3.39733908e-01,  3.27000075e-01,\n",
       "         -8.19004879e-01, -7.48626752e-01,  4.01465885e-01],\n",
       "        [-4.55021022e-01, -8.88775228e-01,  1.93289575e-01,\n",
       "         -4.10894818e-01, -1.02222966e+00,  1.04425680e+00,\n",
       "          7.08027523e-01, -8.35986554e-01, -4.82079332e-01,\n",
       "          2.77081963e-01,  4.09831587e-01,  1.19848012e-01,\n",
       "          4.37708634e-01,  1.37846171e-01,  6.21146835e-01,\n",
       "          4.91901024e-01,  2.91761931e-01,  2.99327245e-01,\n",
       "          4.28129493e-01,  5.82202474e-02, -3.29342575e-01,\n",
       "         -1.05391055e+00,  2.70704053e-01, -1.08347967e-15,\n",
       "          7.50253171e-02, -3.45931489e-01,  3.32591638e-01,\n",
       "          5.46928998e-02,  1.74903388e-01,  3.79615895e-01],\n",
       "        [-3.28703876e-03, -3.81728133e-01,  1.56183681e-01,\n",
       "         -8.03263213e-02,  4.11387735e-02,  2.65003720e-01,\n",
       "          4.53054481e-01, -3.62810454e-01,  6.14902920e-02,\n",
       "         -2.81794746e-01,  3.85377852e-01,  3.94077343e-03,\n",
       "         -5.59045112e-02, -3.64788420e-01,  7.39250161e-01,\n",
       "         -2.95632392e-01,  1.40311191e-01,  4.69785414e-01,\n",
       "          1.50451703e-01,  3.40005102e-01, -2.90143299e-01,\n",
       "          1.42808901e-01, -2.06464382e-01, -2.94728723e-19,\n",
       "          2.08144743e-01,  1.22759863e-01,  2.85453350e-01,\n",
       "          4.30920445e-02, -1.01260053e-01, -8.97601518e-02],\n",
       "        [-3.97640270e-04,  4.18475076e-01,  1.48201638e-01,\n",
       "         -2.92245301e-02, -2.59360657e-02, -3.93726710e-01,\n",
       "         -1.84853636e-01, -1.08441860e-01, -5.25717057e-02,\n",
       "          1.45976637e-02,  3.94765966e-01, -2.52540599e-01,\n",
       "         -3.89930355e-01, -1.50252091e-01,  2.33533840e-01,\n",
       "         -1.43025928e-01, -5.00460342e-01,  4.42880585e-01,\n",
       "          2.64411130e-01,  1.36683890e-01,  2.24501287e-01,\n",
       "         -4.79102480e-02,  4.61020588e-01, -3.22224250e-20,\n",
       "          3.35768862e-01,  6.61701118e-03, -3.81243321e-01,\n",
       "         -2.91199605e-01, -3.44852215e-02, -3.08147015e-02],\n",
       "        [ 2.22172358e-03, -1.72204653e-01, -9.91561373e-02,\n",
       "          2.09078653e-01,  2.65010901e-01, -1.33069808e-01,\n",
       "         -8.58174162e-02,  2.84903979e-01,  1.51016003e-02,\n",
       "          3.77146865e-01, -2.09625034e-01, -2.04376795e-01,\n",
       "         -1.77306342e-01,  1.22542168e-01,  3.66800200e-03,\n",
       "          3.30297907e-01,  2.22914798e-01, -1.64745501e-01,\n",
       "         -9.93936347e-02, -1.40899205e-01,  8.00891148e-02,\n",
       "         -5.26794539e-01, -3.88925230e-02, -1.37145051e-10,\n",
       "         -2.42013978e-01, -1.94833102e-01,  2.86915326e-01,\n",
       "          1.88030485e-01, -2.73496184e-01,  1.87451686e-01],\n",
       "        [ 6.31008570e-04,  2.62590715e-01, -5.60411258e-02,\n",
       "         -1.15649555e-01, -1.33586864e-01, -2.06577015e-01,\n",
       "          1.68514869e-01,  1.29280228e-01,  1.01318054e-01,\n",
       "         -5.78038225e-02,  1.64697422e-01, -4.48772540e-01,\n",
       "         -1.19324081e-01, -3.26432048e-01,  2.28768889e-01,\n",
       "         -1.73773586e-01, -2.48839244e-01, -2.89266055e-02,\n",
       "          5.03583324e-03, -3.55490133e-02,  1.65295953e-01,\n",
       "         -2.88524590e-01,  1.10568184e-01, -2.01032728e-08,\n",
       "         -7.65309633e-02, -1.40368070e-01,  2.22690340e-01,\n",
       "          1.69042918e-01,  3.72585680e-01, -9.65490432e-02],\n",
       "        [ 2.10161247e-04,  2.42542258e-01,  1.33746462e-01,\n",
       "         -3.69093313e-02,  6.96463902e-02, -3.65157462e-01,\n",
       "          1.19502983e-01, -9.94237001e-02, -1.90082692e-01,\n",
       "          4.09575358e-01,  1.60613743e-02, -5.57574152e-02,\n",
       "         -1.84998124e-01, -3.80211051e-01, -9.68509571e-02,\n",
       "         -2.83171619e-01, -1.64613321e-01,  3.95931826e-01,\n",
       "          1.31603228e-01, -1.87600032e-02,  6.13817223e-02,\n",
       "         -1.90781723e-01,  4.14822736e-01, -2.77810864e-48,\n",
       "         -1.00169026e-01,  3.03678191e-01, -2.81380736e-01,\n",
       "          2.30478479e-01,  9.40036699e-02, -3.75235180e-01],\n",
       "        [-1.66743969e-01,  1.70612474e-01, -6.88696182e-02,\n",
       "          2.46593064e-01,  3.16248783e-02, -9.50899879e-02,\n",
       "          1.78736345e-01, -1.64668495e-01, -6.35581301e-02,\n",
       "          1.05969037e-01,  7.33131831e-02,  1.43395429e-01,\n",
       "          1.21605954e-01,  3.14255639e-02,  6.69948137e-02,\n",
       "         -8.56061958e-02,  3.23118690e-01, -2.41355683e-01,\n",
       "         -3.62256929e-02,  2.83690348e-01, -1.94104756e-01,\n",
       "          1.34796435e-01,  6.12745271e-02,  2.24512429e-29,\n",
       "         -2.97177717e-01, -4.93625341e-02, -5.63162281e-02,\n",
       "          9.56568527e-02,  1.90522070e-01,  1.73190124e-01],\n",
       "        [-2.87638379e-01,  1.11376321e-01, -9.63649407e-02,\n",
       "         -2.17034511e-01, -1.75571926e-03,  1.71573688e-01,\n",
       "          4.00269746e-01,  3.03124206e-02,  1.92924173e-01,\n",
       "         -2.67564554e-01,  3.80020423e-01,  5.78111879e-02,\n",
       "         -1.11768093e-01,  1.45791143e-02,  2.27378488e-01,\n",
       "          3.99052456e-01, -1.90355659e-02,  7.05288000e-01,\n",
       "          1.29954908e-01, -3.41177545e-01,  1.38456159e-02,\n",
       "         -4.12430388e-01, -2.43242560e-01,  1.71920002e-38,\n",
       "          9.20302783e-03, -9.76676030e-02, -2.61102903e-01,\n",
       "         -3.71744062e-01, -1.94082599e-01,  3.00875280e-01],\n",
       "        [-2.18129423e-01,  5.13881117e-02, -1.44509089e-01,\n",
       "          1.98852316e-02,  2.42810378e-01,  2.78158757e-01,\n",
       "         -3.21973755e-01,  6.80263950e-02, -2.10499709e-01,\n",
       "          2.52305109e-01, -5.13064396e-01,  2.16239855e-01,\n",
       "         -1.59724488e-01, -2.41526814e-01, -3.33827439e-01,\n",
       "          8.16431396e-02, -8.35614475e-02, -5.82981010e-01,\n",
       "         -9.31338632e-02,  2.03288171e-02, -1.06892823e-01,\n",
       "          6.06234784e-02, -1.43991121e-01, -1.27241397e-04,\n",
       "         -1.92064467e-02, -7.29560306e-02, -2.86214871e-01,\n",
       "          3.07303043e-01,  2.15067816e-01,  2.12055376e-01],\n",
       "        [ 1.02508371e-02,  2.86724610e-01,  1.05471947e-01,\n",
       "          1.12783510e-01,  4.50845663e-01, -2.24965337e-01,\n",
       "         -2.31465493e-01,  3.07826324e-01,  1.84764424e-01,\n",
       "          3.86201776e-01,  9.13545673e-02, -2.67062502e-01,\n",
       "         -1.65873838e-01,  5.23139266e-02, -2.63929859e-01,\n",
       "         -6.67042889e-01, -1.08261064e-02, -5.07406030e-02,\n",
       "         -6.34602462e-01, -2.22230311e-01,  4.83402829e-02,\n",
       "         -9.08997319e-03,  6.23991068e-01,  1.01515509e-04,\n",
       "          1.20759974e-01,  5.03222545e-01, -4.25366843e-01,\n",
       "          5.71516659e-01,  2.82195580e-01, -1.22110843e-01],\n",
       "        [-3.49514004e-05, -2.69931633e-01,  3.88164391e-02,\n",
       "         -1.27563734e-01, -1.33498366e-01, -1.56660654e-01,\n",
       "          3.30661713e-01, -4.68571070e-01, -2.95797329e-02,\n",
       "         -5.70470620e-02,  2.73907836e-01,  4.34937358e-01,\n",
       "         -2.85089505e-02,  1.50998315e-01, -2.09295188e-01,\n",
       "         -9.07484231e-02,  2.86145019e-01, -1.08368497e-02,\n",
       "         -3.06150384e-01,  1.60315897e-01,  2.40701283e-01,\n",
       "          1.32100251e-02, -4.36138406e-01,  9.99657090e-32,\n",
       "         -2.75769433e-01,  1.67240914e-01,  1.47762517e-01,\n",
       "         -1.99163466e-01, -4.03800467e-02,  4.90056194e-02],\n",
       "        [-6.61277918e-04, -4.23940671e-01,  1.36944248e-02,\n",
       "         -1.93588528e-01, -2.25934012e-01, -2.87745772e-02,\n",
       "          1.91687139e-01, -3.13429313e-01,  2.96152872e-01,\n",
       "          7.66251028e-03,  5.26039974e-01,  2.18452075e-01,\n",
       "         -2.27489743e-01, -1.87358838e-01,  3.58235236e-01,\n",
       "          3.23439289e-01, -2.64260785e-01,  3.10554861e-01,\n",
       "         -2.85401763e-01,  2.94147553e-01, -1.15857953e-01,\n",
       "         -3.16712618e-01,  1.91495594e-02,  2.04570190e-13,\n",
       "         -7.29797095e-02, -3.68255657e-02, -7.36611974e-02,\n",
       "         -5.10435397e-02,  4.18170141e-02,  2.60785033e-01],\n",
       "        [-2.32977769e-01, -3.69198244e-01, -4.83366621e-02,\n",
       "         -2.53869361e-01, -4.49782453e-01,  4.03202372e-01,\n",
       "         -1.99405987e-01, -1.48798066e-01, -2.91566093e-01,\n",
       "          2.83520542e-01, -2.16905917e-01,  3.71604100e-02,\n",
       "          3.54226759e-01,  2.54210051e-01, -5.56843482e-02,\n",
       "          2.35975774e-01,  4.49333918e-01,  3.06407002e-01,\n",
       "          3.37947437e-01,  2.15335453e-02,  1.04847414e-01,\n",
       "         -4.08035335e-01, -3.28381891e-01,  2.11932425e-04,\n",
       "         -4.65280257e-02,  8.59044478e-02,  3.91443119e-01,\n",
       "         -1.07678676e-01, -2.72030991e-01,  1.79175120e-01],\n",
       "        [-1.93933070e-01,  2.32320579e-01, -7.55636690e-02,\n",
       "         -7.87875363e-02, -1.17928723e-01,  2.10269032e-01,\n",
       "          2.46033382e-01,  5.31287585e-02,  1.68089399e-01,\n",
       "         -3.67858851e-01, -4.11590691e-01, -2.15857159e-01,\n",
       "         -2.80994520e-01, -6.50479382e-02,  3.11258960e-01,\n",
       "         -5.12689932e-02,  2.27246743e-01, -2.38759166e-01,\n",
       "         -2.79396731e-01, -2.01312597e-01,  1.30751402e-01,\n",
       "          1.36792462e-01,  1.96366165e-01, -2.23353037e-04,\n",
       "          1.61822371e-02,  1.93422487e-02,  9.24788247e-02,\n",
       "         -2.34059921e-01,  2.13317773e-01, -5.81422226e-02],\n",
       "        [ 2.11334173e-01,  2.64874652e-01,  1.11110709e-01,\n",
       "          2.13557590e-01, -2.25680463e-01, -2.99887150e-01,\n",
       "         -2.74589968e-01,  3.40502482e-01,  2.72388859e-01,\n",
       "          2.62697863e-01, -2.30777863e-02, -1.89582540e-02,\n",
       "          2.15205119e-01, -9.32677467e-03, -2.05455898e-01,\n",
       "         -3.09707583e-01, -3.59589178e-02, -7.31654615e-02,\n",
       "         -4.02007098e-02,  1.24507251e-01, -1.65876026e-03,\n",
       "          2.70194070e-01,  1.77051668e-01, -1.15682974e-08,\n",
       "          2.02154072e-01, -6.44686334e-01,  1.80846175e-01,\n",
       "         -3.39904254e-01, -3.79531222e-01,  3.60885921e-03],\n",
       "        [ 6.33196406e-05,  8.52872035e-02,  8.13702470e-02,\n",
       "          8.04084003e-02,  1.26423401e-01, -1.38777441e-01,\n",
       "          9.21032337e-02, -3.26441293e-01,  7.38916471e-03,\n",
       "          7.69902689e-02, -4.86977134e-02, -1.91713761e-01,\n",
       "         -3.18177470e-02, -9.88440405e-02,  1.28737857e-03,\n",
       "         -7.13575554e-02, -1.19024735e-01,  4.60829484e-01,\n",
       "          3.21878990e-02,  2.34222797e-01, -1.51895815e-02,\n",
       "          2.17821887e-01,  1.63301092e-01,  2.23948383e-12,\n",
       "          1.96360877e-02, -1.65594287e-01, -1.51979949e-01,\n",
       "         -2.97927445e-01, -3.39203265e-01, -4.82258294e-02]]),\n",
       " array([[-1.60072494e-001,  6.50089239e-002,  9.48144607e-002,\n",
       "         -2.02784783e-003, -9.43886384e-002,  2.16953281e-001,\n",
       "         -7.29086721e-002,  4.02011163e-001, -2.07053731e-002,\n",
       "         -2.17639354e-001, -1.21991562e-001, -9.80826326e-002,\n",
       "         -1.71373998e-001, -1.37197369e-006, -1.10738909e-001,\n",
       "          4.89633360e-002, -1.33141025e-001,  9.48889392e-002,\n",
       "         -2.55249600e-001, -2.67133736e-002,  3.47515815e-003,\n",
       "          5.13103210e-002,  5.07798311e-003,  4.08999910e-002,\n",
       "         -7.19876572e-002, -3.18282398e-003,  8.35812187e-317,\n",
       "         -2.48941370e-002,  3.97926654e-002, -8.91212834e-003],\n",
       "        [ 1.43703148e-001,  9.03506974e-002, -2.41131459e-001,\n",
       "         -1.67144838e-001,  1.64237018e-001,  4.84709464e-001,\n",
       "         -3.09795406e-001,  3.59900860e-001, -1.41281975e-001,\n",
       "         -3.13782544e-001, -3.63026137e-001,  2.29203229e-002,\n",
       "          3.33913008e-001, -9.49660571e-005, -7.97025454e-004,\n",
       "          5.74494322e-002,  3.79512593e-001,  1.76600248e-003,\n",
       "         -5.47719066e-002,  1.27265489e-001,  7.00601305e-002,\n",
       "         -8.98489070e-002, -3.34642217e-002, -1.97018657e-001,\n",
       "          3.94344415e-001, -3.86051107e-001, -4.37842201e-316,\n",
       "         -5.80587786e-002,  2.96914899e-001, -2.12592181e-002],\n",
       "        [-2.83292804e-001, -4.46251988e-001,  1.92543196e-001,\n",
       "          1.52390315e-001,  2.25649716e-001, -9.39572973e-002,\n",
       "         -9.26894834e-002, -2.29854371e-001, -3.03089502e-002,\n",
       "          1.45744197e-001, -4.65535382e-001, -1.09130390e-001,\n",
       "         -3.39422561e-001, -4.41615470e-011, -7.21065703e-002,\n",
       "          2.31577477e-001,  2.57924262e-002,  7.67130308e-002,\n",
       "         -1.70941542e-001,  2.13961439e-001,  7.88821197e-002,\n",
       "          8.66431461e-002, -8.42907458e-002, -1.62175811e-001,\n",
       "          5.48872600e-002,  2.85227390e-001, -3.21510128e-315,\n",
       "          6.00643502e-002, -8.14288202e-002, -1.19474652e-002],\n",
       "        [-2.39758849e-001, -1.49289653e-001,  2.91852336e-001,\n",
       "         -1.69034710e-001,  1.71150215e-001,  8.11234885e-002,\n",
       "         -1.36208342e-001,  4.55716458e-001, -1.00309362e-001,\n",
       "         -6.29324153e-002,  2.17495897e-003, -9.76745913e-002,\n",
       "          3.39907736e-001, -5.14146911e-004, -2.62904811e-001,\n",
       "         -1.66114435e-001,  4.33042537e-002,  2.14068151e-001,\n",
       "          1.52091121e-001,  8.71170977e-002, -1.42438674e-001,\n",
       "          8.61603431e-002,  1.59383506e-002,  2.13235726e-001,\n",
       "          2.32377940e-001, -2.14868558e-001,  1.02409544e-315,\n",
       "         -4.68210401e-001,  5.06070102e-002,  5.88278376e-002],\n",
       "        [-2.81761900e-001,  4.12271710e-002, -9.33074034e-002,\n",
       "          1.02124043e-001,  1.49898999e-001,  3.28052018e-001,\n",
       "         -2.96104293e-001,  5.34531367e-001, -7.30464098e-002,\n",
       "         -5.45565008e-001, -3.60548716e-001, -3.53473567e-001,\n",
       "          8.86543459e-002,  1.11085574e-003, -7.31819142e-002,\n",
       "         -2.20242625e-001,  4.32563322e-001, -1.22608581e-001,\n",
       "         -4.86138916e-001,  4.52465076e-001, -5.96309386e-002,\n",
       "          2.06576109e-001, -8.10056073e-002, -3.52542665e-001,\n",
       "          1.83990435e-002, -3.84549529e-002, -4.52360417e-315,\n",
       "         -4.65839331e-001,  7.66685178e-003, -2.95482829e-003],\n",
       "        [ 3.21581474e-001, -5.23579708e-001,  2.51008212e-001,\n",
       "          4.44362789e-001,  4.98646935e-001,  1.22331943e-001,\n",
       "          2.24761579e-001, -2.87519532e-001,  8.70818258e-002,\n",
       "          4.46571291e-001,  5.22235846e-001,  1.23057228e-001,\n",
       "         -3.40687964e-001,  1.65195490e-005, -3.09217974e-001,\n",
       "          4.05004641e-001, -6.01008280e-001,  1.92852823e-001,\n",
       "          5.11294672e-001, -3.93722897e-001, -3.66571501e-001,\n",
       "         -3.97244921e-001,  9.68760631e-003, -4.90154737e-002,\n",
       "         -2.15686983e-001,  3.94933444e-002, -3.14066980e-315,\n",
       "          1.56635512e-001, -1.69933743e-001, -2.54509446e-002],\n",
       "        [ 4.20553149e-001,  1.33251980e-001,  4.44196105e-001,\n",
       "          5.10322878e-002,  2.58649260e-001,  9.08351991e-002,\n",
       "          2.00367145e-001,  1.13436800e-001,  2.20370777e-001,\n",
       "          1.95410768e-001, -3.71780428e-002,  7.44151983e-002,\n",
       "          2.12572045e-001, -2.57202571e-004,  3.28671285e-001,\n",
       "          9.29842593e-002, -1.23079234e-001,  1.81821327e-001,\n",
       "          2.69556123e-001, -3.13329748e-001,  3.13749187e-001,\n",
       "          1.93460561e-001,  2.54797088e-001, -2.09520050e-001,\n",
       "         -2.89118880e-001,  3.66746196e-001, -1.81253737e-315,\n",
       "          1.64958245e-001, -1.52217579e-001, -2.22643911e-002],\n",
       "        [-1.24435928e-002,  1.95571207e-001, -4.44723878e-001,\n",
       "          1.21577604e-001,  1.29118658e-001,  3.70289461e-001,\n",
       "         -2.73398084e-001,  2.90779961e-001, -1.12077881e-001,\n",
       "         -1.72359695e-001, -4.53610407e-001, -9.47894892e-002,\n",
       "          1.21746705e-001,  8.55148948e-006,  1.04792009e-001,\n",
       "          4.32391443e-002,  4.98009805e-001, -1.29859280e-001,\n",
       "          3.68662230e-002,  1.90356773e-001, -2.75317613e-002,\n",
       "          4.89369705e-004, -8.77726088e-002,  3.12957206e-002,\n",
       "         -1.84779698e-002,  1.29626011e-001,  4.44705889e-315,\n",
       "         -1.43526461e-001, -9.73113834e-002, -1.77555223e-002],\n",
       "        [-1.18675386e-002,  5.05808416e-001, -2.28578061e-001,\n",
       "         -2.63384323e-002,  1.24303772e-002,  1.75815498e-001,\n",
       "          3.64624543e-001, -2.85630577e-002,  5.44534448e-002,\n",
       "          1.85204717e-001, -4.14058868e-002, -8.40997106e-002,\n",
       "          3.85082114e-001, -1.29859363e-006,  3.08859987e-001,\n",
       "         -2.92924185e-001,  1.90754555e-001,  2.91720405e-001,\n",
       "         -2.57606872e-001, -1.70699523e-001,  1.12024560e-001,\n",
       "          4.90657682e-001, -2.87018620e-002,  1.17179715e-001,\n",
       "          1.57911963e-001,  1.58094952e-001, -2.81268419e-315,\n",
       "         -9.47348624e-003,  2.68193370e-001, -3.39649031e-002],\n",
       "        [-1.56090200e-001, -3.84508551e-002, -3.88125169e-002,\n",
       "         -1.35357249e-001, -2.14118814e-001,  2.61362254e-001,\n",
       "          1.18966007e-001,  1.90362486e-001,  2.05533473e-002,\n",
       "         -2.65717932e-001,  5.24625805e-002, -1.35705532e-001,\n",
       "          4.88393281e-001,  2.66881084e-003, -3.08856305e-001,\n",
       "         -2.32838718e-001, -4.43413811e-003,  6.65870880e-002,\n",
       "          1.55617124e-001,  4.12430040e-001, -2.90012682e-001,\n",
       "          1.27406295e-001,  2.68410352e-002, -1.12652603e-001,\n",
       "          1.38319608e-001, -3.18319712e-002, -1.34167745e-316,\n",
       "         -1.15429332e-001,  3.35708782e-001, -6.61931040e-002],\n",
       "        [ 1.74071087e-001,  4.39742218e-001, -1.32670752e-001,\n",
       "          5.32449497e-001, -4.11054484e-001, -3.51071079e-001,\n",
       "          3.63935689e-001, -1.98651317e-001,  3.55696213e-001,\n",
       "         -8.59980797e-002, -4.10602646e-002,  3.67154789e-001,\n",
       "         -2.67066118e-001,  5.90966176e-012,  3.73240489e-001,\n",
       "         -2.01005446e-001,  9.00810842e-002,  3.91686696e-002,\n",
       "         -2.07984369e-001, -2.59709692e-001,  3.32544355e-001,\n",
       "         -3.15177849e-001, -8.58572073e-002,  3.20287279e-001,\n",
       "         -5.56929854e-002,  1.86462012e-001, -1.65860245e-315,\n",
       "          1.19259480e+000, -3.36116111e-001, -1.58312738e-003],\n",
       "        [ 2.95691322e-001, -1.50701494e-002, -3.91376514e-002,\n",
       "          1.23752825e-001, -1.02336364e-001,  3.79215092e-001,\n",
       "         -9.07072256e-002, -2.86743899e-001, -2.91147504e-001,\n",
       "          1.86846551e-001,  2.23937079e-001, -3.32860076e-001,\n",
       "         -2.97397549e-001, -3.49017384e-004, -1.19021860e-001,\n",
       "          3.25272427e-001,  2.24572698e-001, -1.25775403e-001,\n",
       "          3.75936057e-001,  1.38230646e-001,  9.89418586e-002,\n",
       "          5.07248372e-002,  1.32227435e-001, -4.97175671e-002,\n",
       "          1.48942760e-001,  1.08571587e-002, -4.47259824e-315,\n",
       "         -4.72219138e-001, -2.97194205e-003, -4.66754961e-002],\n",
       "        [ 6.56500915e-002,  9.32234840e-002,  9.18449129e-002,\n",
       "         -6.57434679e-002,  2.85739351e-001,  1.41704410e-001,\n",
       "         -8.65621556e-002, -2.73443800e-001,  9.71047317e-003,\n",
       "          3.44624220e-001, -8.65294126e-002, -1.60415732e-002,\n",
       "         -2.85133592e-001, -3.49382749e-022, -2.27511595e-001,\n",
       "          1.79920280e-001,  1.25229069e-001, -2.52063382e-001,\n",
       "          8.64708614e-002, -2.86950878e-001,  1.86267010e-004,\n",
       "          9.46535203e-002,  1.84874713e-001, -1.37330149e-002,\n",
       "          2.08882063e-001, -1.73873144e-001,  1.81813502e-315,\n",
       "         -3.48488580e-002, -4.87557139e-002, -1.88559205e-005],\n",
       "        [ 2.38890291e-001, -3.45971083e-001, -1.70388376e-001,\n",
       "         -2.31507524e-001,  1.07684584e-001,  8.28814901e-002,\n",
       "          2.42577493e-002,  2.81805052e-001, -6.08484100e-002,\n",
       "          2.42929829e-001, -5.31520149e-002, -3.21455220e-002,\n",
       "         -3.81222046e-001, -9.42635165e-005,  1.45239550e-001,\n",
       "          1.77428419e-001, -1.92803867e-001,  1.35634915e-001,\n",
       "         -4.60097960e-002,  7.77329510e-002,  1.19780530e-002,\n",
       "         -4.85071898e-001, -8.90463347e-002,  4.55285339e-002,\n",
       "          1.38524095e-001, -3.23173227e-001,  1.33866638e-315,\n",
       "         -2.42539347e-001, -2.12896652e-001, -1.16940774e-001],\n",
       "        [ 4.49784654e-001, -5.64754055e-002,  3.07960954e-001,\n",
       "          4.92691678e-001,  1.89784991e-001, -4.12847842e-002,\n",
       "          3.10389975e-001,  2.85118224e-001,  3.27460139e-001,\n",
       "         -1.70949298e-001,  5.37198072e-002,  2.22824685e-001,\n",
       "         -2.15203474e-001,  7.32246071e-012,  1.47156290e-001,\n",
       "          6.91616202e-002,  2.31256749e-001, -1.51116521e-001,\n",
       "          1.86173259e-001, -2.32082871e-001,  8.69191533e-002,\n",
       "          1.36402928e-001, -1.94112875e-001, -2.97358251e-002,\n",
       "         -3.27941610e-001,  4.25135137e-001, -4.54431260e-316,\n",
       "          4.97258311e-001, -1.91191970e-001,  3.78238374e-002],\n",
       "        [ 3.86818215e-001, -2.15762832e-001,  4.78982975e-001,\n",
       "          1.78846355e-001,  2.40392288e-001,  5.77564234e-002,\n",
       "          3.58725598e-001, -1.61129412e-001, -5.59403159e-002,\n",
       "          2.77472529e-001,  2.02901141e-001,  1.06214685e-001,\n",
       "         -4.32099972e-001,  5.61275241e-003, -1.72945373e-001,\n",
       "          3.61942324e-001, -4.20594583e-001, -2.03024110e-001,\n",
       "          3.43181567e-001, -4.09227851e-001, -9.77329984e-003,\n",
       "          9.13277063e-003,  2.31261235e-001,  3.37716685e-001,\n",
       "         -2.20391294e-001,  2.76149854e-001, -8.61961451e-317,\n",
       "         -6.18785985e-003, -3.13164632e-002, -5.68954859e-002],\n",
       "        [-7.19533839e-002, -2.31622585e-001,  1.78470558e-001,\n",
       "         -4.72227582e-001,  3.98355126e-002,  4.35041888e-001,\n",
       "          1.87526740e-001, -7.31870438e-002, -4.00826984e-001,\n",
       "          3.95072308e-001,  2.27939098e-001, -3.64514353e-001,\n",
       "          1.06021842e-001,  5.52802972e-004, -3.16771406e-001,\n",
       "          1.23894714e-001, -1.36081027e-001, -5.35306321e-002,\n",
       "          3.88519820e-001,  1.57419540e-001, -4.19214169e-001,\n",
       "         -9.20456543e-002, -1.59738257e-001,  4.45533543e-002,\n",
       "          2.92611164e-002, -4.16108501e-001, -2.28777166e-315,\n",
       "         -4.65267612e-001, -6.84756593e-002, -8.33432765e-005],\n",
       "        [ 2.86344179e-001, -3.88812948e-001,  3.04652191e-001,\n",
       "          7.46740960e-001,  8.13852857e-002, -5.91780687e-001,\n",
       "          5.79881729e-001, -2.57993032e-001,  3.37707904e-001,\n",
       "          6.02255681e-001,  4.51654754e-001,  4.30256513e-001,\n",
       "         -8.44465121e-001, -1.63560761e-003,  1.21807167e-001,\n",
       "         -2.09734279e-001, -6.52040367e-002,  6.25056870e-001,\n",
       "          6.31569006e-001, -7.27055040e-001,  9.66806779e-002,\n",
       "         -2.63293278e-001,  6.30350659e-002,  1.84449594e-001,\n",
       "         -3.56110700e-001,  6.05246216e-001, -2.31770013e-315,\n",
       "          9.38535353e-001, -6.92231087e-001, -7.16794123e-003],\n",
       "        [ 2.50491073e-001,  9.68150465e-002, -6.74328670e-002,\n",
       "          8.95221277e-002, -1.14410972e-001,  1.20221797e-001,\n",
       "         -3.14966377e-002, -2.78355992e-001,  1.61759228e-001,\n",
       "          3.80720145e-001,  2.44602292e-001,  2.60046738e-001,\n",
       "         -2.08094899e-001,  1.16927409e-004,  2.64852087e-002,\n",
       "          2.44754470e-001, -7.51264112e-002,  2.41897855e-001,\n",
       "          1.44309039e-001,  1.73195230e-001, -3.73491229e-002,\n",
       "         -3.65384104e-001,  4.66404879e-002, -2.13915318e-001,\n",
       "         -2.94308854e-001,  3.97103831e-002,  1.66227409e-315,\n",
       "          2.45871056e-001,  2.91993258e-001, -2.03245245e-002],\n",
       "        [ 5.41015413e-001, -1.31640546e-001,  6.37604572e-001,\n",
       "          3.11335895e-002,  6.98913091e-002, -3.66158288e-001,\n",
       "          3.80081312e-001, -5.61977470e-001,  7.04424079e-002,\n",
       "          4.37706101e-001,  5.88204453e-001,  1.89142194e-001,\n",
       "         -1.06391549e-001,  3.25437889e-009,  1.30101604e-001,\n",
       "          1.32107330e-001, -1.02982076e-001,  3.43010376e-001,\n",
       "          4.94603240e-001, -2.20858049e-001, -2.62561209e-002,\n",
       "         -5.40687419e-001,  4.44934159e-002,  3.22561685e-001,\n",
       "         -5.89226860e-002, -1.90604235e-002, -3.91515854e-316,\n",
       "          1.62065813e-001, -2.39860044e-001, -1.47111066e-004],\n",
       "        [ 7.48857950e-002, -1.51243653e-001, -2.62625684e-001,\n",
       "         -1.05106019e-001,  6.46637640e-002,  3.38315872e-002,\n",
       "         -2.05918027e-001,  1.60810296e-001, -1.54152417e-001,\n",
       "          1.58637014e-001,  2.72554027e-002, -2.21396237e-002,\n",
       "         -1.51581087e-001, -3.13879397e-003, -2.29692103e-001,\n",
       "          3.59506137e-001,  2.37189686e-002, -3.53280564e-001,\n",
       "          1.65790603e-001,  1.85857939e-001,  1.55052672e-001,\n",
       "         -4.47194636e-002,  1.70109381e-001,  1.48516630e-001,\n",
       "          2.49318295e-001,  8.29479714e-002,  3.43611748e-315,\n",
       "         -1.68344699e-001,  2.42846154e-001, -4.34766590e-003],\n",
       "        [-3.62802313e-001,  2.88218073e-001, -1.64974497e-001,\n",
       "         -1.45967320e-001,  7.54640480e-002,  3.90813586e-001,\n",
       "         -6.31494879e-001,  1.72259205e-001, -1.28514500e-001,\n",
       "         -4.71288179e-003, -2.33411316e-001, -1.09373279e-001,\n",
       "          2.99996055e-001, -2.20745004e-007,  3.81900398e-001,\n",
       "          2.00720981e-001,  4.50347608e-001, -7.26471808e-002,\n",
       "         -8.71254020e-002,  3.88267642e-001,  2.61603059e-001,\n",
       "          5.60213315e-002, -1.42674358e-001,  5.65175843e-004,\n",
       "         -3.71027519e-002,  6.60129721e-003, -2.76908864e-315,\n",
       "          8.09842539e-003,  6.82987431e-002, -5.97800273e-003],\n",
       "        [-2.76520487e-001,  4.49295171e-001, -1.96829834e-001,\n",
       "          3.38454763e-001, -7.65080727e-002,  5.72229796e-001,\n",
       "          3.03667843e-001,  7.13393941e-001,  4.39855463e-002,\n",
       "         -6.59422216e-001, -2.10095552e-001,  5.00098284e-002,\n",
       "          5.72068698e-001, -2.46142963e-003, -5.87502593e-002,\n",
       "         -1.67053541e-002,  6.78919029e-001, -1.04976703e-001,\n",
       "         -6.40771067e-001,  3.82751240e-001,  1.98203868e-001,\n",
       "          2.91614673e-001, -4.47176169e-002, -4.11222052e-001,\n",
       "          2.84274884e-001,  1.30140720e-001, -4.76935565e-315,\n",
       "          7.85238951e-002,  3.93577254e-001, -2.35790685e-002],\n",
       "        [ 3.81078198e-015,  1.29713637e-043,  3.44615138e-066,\n",
       "          3.93010712e-043, -7.94017309e-033,  4.07783431e-035,\n",
       "         -9.09405361e-028, -1.19556821e-013,  1.07333468e-044,\n",
       "          3.58691507e-012,  1.03072577e-012,  1.06664847e-026,\n",
       "          3.89147007e-014, -2.83311057e-126,  1.17725844e-029,\n",
       "         -1.29164780e-036, -3.77867735e-084,  3.56949508e-035,\n",
       "         -1.83377161e-014,  9.50575316e-013, -5.70381995e-075,\n",
       "          1.17124902e-082,  1.12435733e-082,  2.07171091e-053,\n",
       "         -5.90442050e-049,  3.32242844e-115, -7.76427754e-316,\n",
       "         -1.36273789e-101, -2.72842209e-030, -1.34650110e-141],\n",
       "        [ 1.28790959e-001,  8.13584192e-002, -1.65569127e-001,\n",
       "         -1.29454374e-001, -2.68520359e-001,  1.54389102e-001,\n",
       "          2.90993833e-001,  1.08376559e-001, -3.78172601e-002,\n",
       "         -1.73909564e-001,  3.84319122e-002,  1.54839873e-001,\n",
       "          2.52423753e-001, -6.66216002e-004,  4.10059187e-001,\n",
       "         -1.45338025e-001,  1.21870991e-001, -7.27349925e-002,\n",
       "         -2.13165673e-001,  1.48239729e-001,  1.35294001e-001,\n",
       "          2.54248478e-001, -3.10408066e-002,  3.29222355e-001,\n",
       "         -2.49826336e-001,  3.13269959e-002,  1.42761573e-315,\n",
       "          1.94415243e-001,  1.47155283e-001,  5.16230617e-002],\n",
       "        [ 7.67408369e-002,  2.35206569e-003,  8.97600356e-002,\n",
       "         -2.62971352e-001,  6.10272462e-003,  1.31060021e-001,\n",
       "         -1.95839478e-001,  6.04029297e-001, -2.65342653e-002,\n",
       "         -7.54432202e-002, -1.45487251e-001, -6.16428777e-003,\n",
       "          4.80526390e-001, -1.07334701e-016,  1.93302447e-001,\n",
       "          1.01500626e-002,  4.68949804e-001,  4.90929423e-002,\n",
       "         -2.50229161e-001,  3.49098175e-001, -3.53582308e-002,\n",
       "          5.95582992e-001,  1.85654436e-002,  1.12309435e-002,\n",
       "          3.73389618e-001, -1.70456949e-001,  1.96170761e-315,\n",
       "         -2.75078136e-002,  4.43516406e-001, -1.67706764e-002],\n",
       "        [ 4.76545764e-002,  1.95499386e-001,  1.75114868e-003,\n",
       "         -1.58539090e-001,  2.68682624e-001,  3.46475662e-001,\n",
       "          4.96136976e-002, -1.76943269e-001,  1.59390268e-001,\n",
       "          1.65788036e-001,  2.77710424e-001,  8.28124595e-002,\n",
       "          9.36130112e-002, -1.43864422e-002, -2.11868785e-001,\n",
       "          2.93934964e-001, -3.83485221e-001, -1.79979365e-001,\n",
       "         -7.26561978e-002, -7.00808282e-002, -3.25715651e-001,\n",
       "         -2.75114106e-001, -4.94541628e-002, -9.01634078e-002,\n",
       "          1.95476367e-001, -2.58521965e-002, -2.58018784e-315,\n",
       "         -8.20243960e-002, -8.43238207e-003,  8.78975303e-003],\n",
       "        [-6.96984228e-002, -7.52108911e-002, -4.64258013e-001,\n",
       "         -3.54017005e-002,  1.01921543e-001,  2.43264578e-001,\n",
       "         -3.21357750e-001,  1.94556092e-001,  1.30449089e-002,\n",
       "          6.33724776e-002, -5.81607219e-002, -9.13067832e-002,\n",
       "          4.44045770e-001,  7.62416428e-003,  3.01857552e-001,\n",
       "          1.62292042e-001,  2.38828982e-001, -4.42193741e-001,\n",
       "         -2.77681800e-001,  2.22211411e-001,  6.14654966e-002,\n",
       "          4.06608803e-001, -1.80583059e-001,  8.48632731e-003,\n",
       "          3.62188858e-001, -2.32060161e-001,  6.52263287e-316,\n",
       "         -2.89434236e-001,  3.55155433e-001,  2.86024780e-002],\n",
       "        [ 1.45796086e-001,  4.95840102e-001, -1.38163432e-001,\n",
       "         -2.31086674e-001,  6.87807792e-003,  2.43677376e-001,\n",
       "         -2.76588116e-001,  3.10559590e-001,  7.46181583e-002,\n",
       "         -1.51564131e-001, -3.02552132e-001, -4.12815046e-002,\n",
       "          3.78704151e-002, -6.46860962e-005, -1.29298950e-001,\n",
       "         -5.83332301e-002,  1.47339621e-001,  2.07606193e-001,\n",
       "         -3.98928806e-001,  3.17592838e-001,  2.62723246e-001,\n",
       "          4.99318272e-001, -6.61304558e-002, -1.22407694e-001,\n",
       "         -8.40067928e-002, -3.46442379e-002,  2.88464225e-315,\n",
       "          7.35393243e-003,  8.30691524e-003, -1.50511285e-002],\n",
       "        [-2.78854225e-002, -1.53804884e-001,  2.93193097e-001,\n",
       "          6.65734377e-002,  1.26561656e-001,  7.35282852e-003,\n",
       "          3.98843476e-001,  2.24090665e-001, -1.83731391e-003,\n",
       "         -7.38584354e-002,  1.62458471e-001,  4.83141304e-003,\n",
       "         -3.14406739e-002, -1.17149628e-008, -2.24926891e-001,\n",
       "         -6.73862226e-002,  2.12515158e-001, -2.66660506e-001,\n",
       "          3.21750923e-001, -1.43143715e-001, -1.38484640e-001,\n",
       "         -6.92102244e-002,  7.50377151e-002,  1.91335179e-001,\n",
       "         -5.17558715e-002, -3.86625536e-002,  1.03344196e-315,\n",
       "          9.51936869e-002,  3.00258465e-001,  1.23639899e-003]]),\n",
       " array([[ 2.02513229e-001, -4.40785998e-001,  4.63735964e-001],\n",
       "        [-9.74454470e-002,  2.30405830e-001, -9.10845390e-001],\n",
       "        [-4.25342073e-002, -3.39082681e-001,  5.52030207e-001],\n",
       "        [ 5.78502777e-001, -7.21423407e-001, -3.22897244e-001],\n",
       "        [-6.27117195e-001,  2.22444671e-001,  3.83723595e-001],\n",
       "        [-1.77016054e+000,  4.98188514e-001,  1.93738305e-001],\n",
       "        [ 1.79171138e-001, -5.12430131e-001,  3.08031956e-001],\n",
       "        [-1.70926490e-001,  5.50503948e-001, -4.90118610e-001],\n",
       "        [ 2.44858172e-001, -3.74291098e-001, -2.75869860e-001],\n",
       "        [-4.24494636e-001, -7.07120289e-001,  7.61935080e-001],\n",
       "        [-2.61447193e-002, -6.00784502e-001,  6.43375883e-001],\n",
       "        [ 6.04711935e-001, -3.18504662e-001, -4.69151571e-001],\n",
       "        [-2.04127632e-001,  4.88563393e-001, -6.55455504e-001],\n",
       "        [ 6.51086504e-003, -3.02240089e-002, -8.42229277e-003],\n",
       "        [ 4.31351917e-001,  1.33938287e-001, -6.10507322e-001],\n",
       "        [-6.15540607e-001, -4.51309021e-002,  1.49493059e-001],\n",
       "        [ 1.29904220e-001,  6.02189691e-001, -3.41999708e-001],\n",
       "        [ 2.38202502e-001, -4.92978691e-001, -1.53841716e-001],\n",
       "        [-3.04257154e-001, -3.43749899e-001,  7.43206910e-001],\n",
       "        [-4.42403812e-002,  5.58007602e-001, -5.17702362e-001],\n",
       "        [ 4.55800404e-001,  4.17173384e-001,  1.47493085e-001],\n",
       "        [-2.45674130e-001,  5.95401070e-001, -6.20380588e-001],\n",
       "        [ 1.99749798e-002,  1.56839059e-001,  1.79780160e-001],\n",
       "        [ 1.44228823e-001, -3.24260385e-001,  1.92716577e-001],\n",
       "        [-1.75725881e-001,  2.23303887e-001, -5.44073085e-003],\n",
       "        [ 5.31340170e-001, -5.62131516e-001, -1.67894726e-001],\n",
       "        [-2.48417693e-315, -3.83731966e-315,  3.44993034e-315],\n",
       "        [ 1.27760660e+000, -4.80714215e-001, -1.15422549e+000],\n",
       "        [-2.51010159e-001,  5.21014734e-001,  2.40035967e-001],\n",
       "        [-2.24454766e-002,  4.17757907e-002,  4.08884980e-002]])]"
      ]
     },
     "execution_count": 123,
     "metadata": {},
     "output_type": "execute_result"
    }
   ],
   "source": [
    "mlp.coefs_"
   ]
  },
  {
   "cell_type": "code",
   "execution_count": 124,
   "metadata": {},
   "outputs": [
    {
     "data": {
      "text/plain": [
       "4"
      ]
     },
     "execution_count": 124,
     "metadata": {},
     "output_type": "execute_result"
    }
   ],
   "source": [
    "len(mlp.coefs_)"
   ]
  },
  {
   "cell_type": "code",
   "execution_count": 125,
   "metadata": {},
   "outputs": [
    {
     "data": {
      "text/plain": [
       "22"
      ]
     },
     "execution_count": 125,
     "metadata": {},
     "output_type": "execute_result"
    }
   ],
   "source": [
    "len(mlp.coefs_[0])"
   ]
  },
  {
   "cell_type": "code",
   "execution_count": 126,
   "metadata": {},
   "outputs": [
    {
     "data": {
      "text/plain": [
       "30"
      ]
     },
     "execution_count": 126,
     "metadata": {},
     "output_type": "execute_result"
    }
   ],
   "source": [
    "len(mlp.intercepts_[0])"
   ]
  },
  {
   "cell_type": "markdown",
   "metadata": {},
   "source": [
    "-------------------------------------------------------------------------------------"
   ]
  },
  {
   "cell_type": "code",
   "execution_count": null,
   "metadata": {},
   "outputs": [],
   "source": []
  },
  {
   "cell_type": "code",
   "execution_count": null,
   "metadata": {},
   "outputs": [],
   "source": []
  }
 ],
 "metadata": {
  "kernelspec": {
   "display_name": "Python 3",
   "language": "python",
   "name": "python3"
  },
  "language_info": {
   "codemirror_mode": {
    "name": "ipython",
    "version": 3
   },
   "file_extension": ".py",
   "mimetype": "text/x-python",
   "name": "python",
   "nbconvert_exporter": "python",
   "pygments_lexer": "ipython3",
   "version": "3.7.4"
  }
 },
 "nbformat": 4,
 "nbformat_minor": 2
}
